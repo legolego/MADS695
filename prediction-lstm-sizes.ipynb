{
 "cells": [
  {
   "cell_type": "markdown",
   "source": "# Libraries",
   "metadata": {
    "tags": [],
    "is_collapsed": false,
    "cell_id": "00000-76cf0734-c4e0-45ba-ae2f-c84c8fcca1ef",
    "deepnote_cell_type": "text-cell-h1"
   }
  },
  {
   "cell_type": "markdown",
   "source": "Data manipulation",
   "metadata": {
    "tags": [],
    "is_collapsed": false,
    "cell_id": "00001-3a639b58-67a4-4ee3-98b0-5a8015d03bfe",
    "deepnote_cell_type": "text-cell-p"
   }
  },
  {
   "cell_type": "code",
   "metadata": {
    "tags": [],
    "deepnote_to_be_reexecuted": false,
    "source_hash": "214ac897",
    "execution_start": 1632709660180,
    "execution_millis": 1,
    "cell_id": "00002-d07ce947-4bce-453c-b945-eb3ec7c031c8",
    "deepnote_cell_type": "code"
   },
   "source": "import numpy as np\nimport pandas as pd\nimport itertools\nimport random as rn",
   "outputs": [],
   "execution_count": null
  },
  {
   "cell_type": "markdown",
   "source": "Data visualization libraries",
   "metadata": {
    "tags": [],
    "is_collapsed": false,
    "cell_id": "00003-54f22f06-3078-4f51-81d4-b459d48e2d58",
    "deepnote_cell_type": "text-cell-p"
   }
  },
  {
   "cell_type": "code",
   "metadata": {
    "tags": [],
    "deepnote_to_be_reexecuted": false,
    "source_hash": "1466c9e2",
    "execution_start": 1632709660181,
    "execution_millis": 1473,
    "cell_id": "00004-4bcf215f-36be-4cbe-8b38-a856bb745899",
    "deepnote_cell_type": "code"
   },
   "source": "from matplotlib import pyplot as plt\nimport seaborn as sns",
   "outputs": [],
   "execution_count": null
  },
  {
   "cell_type": "markdown",
   "source": "Data preparation and models",
   "metadata": {
    "tags": [],
    "is_collapsed": false,
    "cell_id": "00005-3c6061c0-df27-4f54-bb08-9b508c3f6f35",
    "deepnote_cell_type": "text-cell-p"
   }
  },
  {
   "cell_type": "code",
   "metadata": {
    "tags": [],
    "deepnote_to_be_reexecuted": false,
    "source_hash": "98e66eae",
    "execution_start": 1632709661664,
    "execution_millis": 5383,
    "cell_id": "00006-38c478b6-0ccd-4be0-8c9f-aabba2351aad",
    "deepnote_cell_type": "code"
   },
   "source": "from sklearn.preprocessing import MinMaxScaler\n\nimport tensorflow as tf\nfrom tensorflow import keras\nfrom tensorflow.keras.models import Sequential\nfrom tensorflow.keras.optimizers import Adam\nfrom tensorflow.keras.layers import Dense, LSTM, LeakyReLU, Dropout\n\nnp.random.seed(42)\nrn.seed(42)\ntf.random.set_seed(42)",
   "outputs": [
    {
     "name": "stderr",
     "text": "2021-09-27 02:27:41.945297: W tensorflow/stream_executor/platform/default/dso_loader.cc:60] Could not load dynamic library 'libcudart.so.11.0'; dlerror: libcudart.so.11.0: cannot open shared object file: No such file or directory\n2021-09-27 02:27:41.945366: I tensorflow/stream_executor/cuda/cudart_stub.cc:29] Ignore above cudart dlerror if you do not have a GPU set up on your machine.\n",
     "output_type": "stream"
    }
   ],
   "execution_count": null
  },
  {
   "cell_type": "markdown",
   "source": "# Data Manipulation",
   "metadata": {
    "tags": [],
    "is_collapsed": false,
    "cell_id": "00007-9f3764fa-07be-48c9-a20c-dc6f1f2f03ba",
    "deepnote_cell_type": "text-cell-h1"
   }
  },
  {
   "cell_type": "markdown",
   "source": "### Data exploration",
   "metadata": {
    "tags": [],
    "is_collapsed": false,
    "cell_id": "00008-98dbf340-ec4e-4b78-8be7-25f997e02d76",
    "deepnote_cell_type": "text-cell-h3"
   }
  },
  {
   "cell_type": "markdown",
   "source": "Data source &amp; data collections ...",
   "metadata": {
    "tags": [],
    "is_collapsed": false,
    "cell_id": "00009-a1195d99-98c1-4bd5-a142-cf9c8e45a79b",
    "deepnote_cell_type": "text-cell-p"
   }
  },
  {
   "cell_type": "markdown",
   "source": "Focus on pre-recorded csv files",
   "metadata": {
    "tags": [],
    "is_collapsed": false,
    "cell_id": "00010-bc503c26-a65a-4b39-8be4-277cb5e94ae7",
    "deepnote_cell_type": "text-cell-p"
   }
  },
  {
   "cell_type": "code",
   "metadata": {
    "tags": [],
    "deepnote_to_be_reexecuted": false,
    "source_hash": "d776d6ec",
    "execution_start": 1632709667055,
    "execution_millis": 163,
    "cell_id": "00011-60acfd07-e0f6-4b97-b4d3-91bc677a59e8",
    "deepnote_cell_type": "code"
   },
   "source": "df = pd.read_csv('btc_cm_metrics_final.csv')\ncoin_name = \"BTC\"\n#df = pd.read_csv('eth_cm_metrics_final.csv')\n#coin_name = \"ETH\"\n#df = pd.read_csv('ltc_cm_metrics_final.csv')\n#coin_name = \"LTC\"\n#df = pd.read_csv('doge_cm_metrics_final.csv')\n#coin_name = \"DOGE\"\ndf.head()\n\n# slice to a few columns to start\ndf = df[['date', 'PriceUSD', 'TxCnt', 'FeeMeanUSD', 'CapMrktCurUSD']]\n\n# convert date attribute to datetime \ndf.date = pd.to_datetime(df.date)#.dt.strftime('%Y-%m-%d')\n\n# sort the dataset based on dates\ndf = df.sort_values('date')",
   "outputs": [],
   "execution_count": null
  },
  {
   "cell_type": "code",
   "metadata": {
    "tags": [],
    "deepnote_to_be_reexecuted": false,
    "source_hash": "c085b6ba",
    "execution_start": 1632709667248,
    "execution_millis": 39,
    "cell_id": "00012-d7e4525d-ea07-4e36-bbf5-c48c2c4270c0",
    "deepnote_cell_type": "code"
   },
   "source": "df.head()",
   "outputs": [
    {
     "output_type": "execute_result",
     "execution_count": 5,
     "data": {
      "application/vnd.deepnote.dataframe.v2+json": {
       "row_count": 5,
       "column_count": 5,
       "columns": [
        {
         "name": "date",
         "dtype": "datetime64[ns, UTC]",
         "stats": {
          "unique_count": 5,
          "nan_count": 0,
          "min": "2010-01-01 00:00:00+00:00",
          "max": "2010-01-05 00:00:00+00:00",
          "histogram": [
           {
            "bin_start": 1262304000000000000,
            "bin_end": 1262338560000000000,
            "count": 1
           },
           {
            "bin_start": 1262338560000000000,
            "bin_end": 1262373120000000000,
            "count": 0
           },
           {
            "bin_start": 1262373120000000000,
            "bin_end": 1262407680000000000,
            "count": 1
           },
           {
            "bin_start": 1262407680000000000,
            "bin_end": 1262442240000000000,
            "count": 0
           },
           {
            "bin_start": 1262442240000000000,
            "bin_end": 1262476800000000000,
            "count": 0
           },
           {
            "bin_start": 1262476800000000000,
            "bin_end": 1262511360000000000,
            "count": 1
           },
           {
            "bin_start": 1262511360000000000,
            "bin_end": 1262545920000000000,
            "count": 0
           },
           {
            "bin_start": 1262545920000000000,
            "bin_end": 1262580480000000000,
            "count": 1
           },
           {
            "bin_start": 1262580480000000000,
            "bin_end": 1262615040000000000,
            "count": 0
           },
           {
            "bin_start": 1262615040000000000,
            "bin_end": 1262649600000000000,
            "count": 1
           }
          ]
         }
        },
        {
         "name": "PriceUSD",
         "dtype": "float64",
         "stats": {
          "unique_count": 0,
          "nan_count": 5,
          "min": null,
          "max": null,
          "histogram": [
           {
            "bin_start": 0,
            "bin_end": 0.1,
            "count": 0
           },
           {
            "bin_start": 0.1,
            "bin_end": 0.2,
            "count": 0
           },
           {
            "bin_start": 0.2,
            "bin_end": 0.30000000000000004,
            "count": 0
           },
           {
            "bin_start": 0.30000000000000004,
            "bin_end": 0.4,
            "count": 0
           },
           {
            "bin_start": 0.4,
            "bin_end": 0.5,
            "count": 0
           },
           {
            "bin_start": 0.5,
            "bin_end": 0.6000000000000001,
            "count": 0
           },
           {
            "bin_start": 0.6000000000000001,
            "bin_end": 0.7000000000000001,
            "count": 0
           },
           {
            "bin_start": 0.7000000000000001,
            "bin_end": 0.8,
            "count": 0
           },
           {
            "bin_start": 0.8,
            "bin_end": 0.9,
            "count": 0
           },
           {
            "bin_start": 0.9,
            "bin_end": 1,
            "count": 0
           }
          ]
         }
        },
        {
         "name": "TxCnt",
         "dtype": "float64",
         "stats": {
          "unique_count": 2,
          "nan_count": 0,
          "min": "0.0",
          "max": "2.0",
          "histogram": [
           {
            "bin_start": 0,
            "bin_end": 0.2,
            "count": 3
           },
           {
            "bin_start": 0.2,
            "bin_end": 0.4,
            "count": 0
           },
           {
            "bin_start": 0.4,
            "bin_end": 0.6000000000000001,
            "count": 0
           },
           {
            "bin_start": 0.6000000000000001,
            "bin_end": 0.8,
            "count": 0
           },
           {
            "bin_start": 0.8,
            "bin_end": 1,
            "count": 0
           },
           {
            "bin_start": 1,
            "bin_end": 1.2000000000000002,
            "count": 0
           },
           {
            "bin_start": 1.2000000000000002,
            "bin_end": 1.4000000000000001,
            "count": 0
           },
           {
            "bin_start": 1.4000000000000001,
            "bin_end": 1.6,
            "count": 0
           },
           {
            "bin_start": 1.6,
            "bin_end": 1.8,
            "count": 0
           },
           {
            "bin_start": 1.8,
            "bin_end": 2,
            "count": 2
           }
          ]
         }
        },
        {
         "name": "FeeMeanUSD",
         "dtype": "float64",
         "stats": {
          "unique_count": 0,
          "nan_count": 5,
          "min": null,
          "max": null,
          "histogram": [
           {
            "bin_start": 0,
            "bin_end": 0.1,
            "count": 0
           },
           {
            "bin_start": 0.1,
            "bin_end": 0.2,
            "count": 0
           },
           {
            "bin_start": 0.2,
            "bin_end": 0.30000000000000004,
            "count": 0
           },
           {
            "bin_start": 0.30000000000000004,
            "bin_end": 0.4,
            "count": 0
           },
           {
            "bin_start": 0.4,
            "bin_end": 0.5,
            "count": 0
           },
           {
            "bin_start": 0.5,
            "bin_end": 0.6000000000000001,
            "count": 0
           },
           {
            "bin_start": 0.6000000000000001,
            "bin_end": 0.7000000000000001,
            "count": 0
           },
           {
            "bin_start": 0.7000000000000001,
            "bin_end": 0.8,
            "count": 0
           },
           {
            "bin_start": 0.8,
            "bin_end": 0.9,
            "count": 0
           },
           {
            "bin_start": 0.9,
            "bin_end": 1,
            "count": 0
           }
          ]
         }
        },
        {
         "name": "CapMrktCurUSD",
         "dtype": "float64",
         "stats": {
          "unique_count": 0,
          "nan_count": 5,
          "min": null,
          "max": null,
          "histogram": [
           {
            "bin_start": 0,
            "bin_end": 0.1,
            "count": 0
           },
           {
            "bin_start": 0.1,
            "bin_end": 0.2,
            "count": 0
           },
           {
            "bin_start": 0.2,
            "bin_end": 0.30000000000000004,
            "count": 0
           },
           {
            "bin_start": 0.30000000000000004,
            "bin_end": 0.4,
            "count": 0
           },
           {
            "bin_start": 0.4,
            "bin_end": 0.5,
            "count": 0
           },
           {
            "bin_start": 0.5,
            "bin_end": 0.6000000000000001,
            "count": 0
           },
           {
            "bin_start": 0.6000000000000001,
            "bin_end": 0.7000000000000001,
            "count": 0
           },
           {
            "bin_start": 0.7000000000000001,
            "bin_end": 0.8,
            "count": 0
           },
           {
            "bin_start": 0.8,
            "bin_end": 0.9,
            "count": 0
           },
           {
            "bin_start": 0.9,
            "bin_end": 1,
            "count": 0
           }
          ]
         }
        },
        {
         "name": "_deepnote_index_column",
         "dtype": "int64"
        }
       ],
       "rows_top": [
        {
         "date": "2010-01-01T00:00:00.000000",
         "PriceUSD": "nan",
         "TxCnt": 2,
         "FeeMeanUSD": "nan",
         "CapMrktCurUSD": "nan",
         "_deepnote_index_column": 0
        },
        {
         "date": "2010-01-02T00:00:00.000000",
         "PriceUSD": "nan",
         "TxCnt": 0,
         "FeeMeanUSD": "nan",
         "CapMrktCurUSD": "nan",
         "_deepnote_index_column": 1
        },
        {
         "date": "2010-01-03T00:00:00.000000",
         "PriceUSD": "nan",
         "TxCnt": 0,
         "FeeMeanUSD": "nan",
         "CapMrktCurUSD": "nan",
         "_deepnote_index_column": 2
        },
        {
         "date": "2010-01-04T00:00:00.000000",
         "PriceUSD": "nan",
         "TxCnt": 2,
         "FeeMeanUSD": "nan",
         "CapMrktCurUSD": "nan",
         "_deepnote_index_column": 3
        },
        {
         "date": "2010-01-05T00:00:00.000000",
         "PriceUSD": "nan",
         "TxCnt": 0,
         "FeeMeanUSD": "nan",
         "CapMrktCurUSD": "nan",
         "_deepnote_index_column": 4
        }
       ],
       "rows_bottom": null
      },
      "text/plain": "                       date  PriceUSD  TxCnt  FeeMeanUSD  CapMrktCurUSD\n0 2010-01-01 00:00:00+00:00       NaN    2.0         NaN            NaN\n1 2010-01-02 00:00:00+00:00       NaN    0.0         NaN            NaN\n2 2010-01-03 00:00:00+00:00       NaN    0.0         NaN            NaN\n3 2010-01-04 00:00:00+00:00       NaN    2.0         NaN            NaN\n4 2010-01-05 00:00:00+00:00       NaN    0.0         NaN            NaN",
      "text/html": "<div>\n<style scoped>\n    .dataframe tbody tr th:only-of-type {\n        vertical-align: middle;\n    }\n\n    .dataframe tbody tr th {\n        vertical-align: top;\n    }\n\n    .dataframe thead th {\n        text-align: right;\n    }\n</style>\n<table border=\"1\" class=\"dataframe\">\n  <thead>\n    <tr style=\"text-align: right;\">\n      <th></th>\n      <th>date</th>\n      <th>PriceUSD</th>\n      <th>TxCnt</th>\n      <th>FeeMeanUSD</th>\n      <th>CapMrktCurUSD</th>\n    </tr>\n  </thead>\n  <tbody>\n    <tr>\n      <th>0</th>\n      <td>2010-01-01 00:00:00+00:00</td>\n      <td>NaN</td>\n      <td>2.0</td>\n      <td>NaN</td>\n      <td>NaN</td>\n    </tr>\n    <tr>\n      <th>1</th>\n      <td>2010-01-02 00:00:00+00:00</td>\n      <td>NaN</td>\n      <td>0.0</td>\n      <td>NaN</td>\n      <td>NaN</td>\n    </tr>\n    <tr>\n      <th>2</th>\n      <td>2010-01-03 00:00:00+00:00</td>\n      <td>NaN</td>\n      <td>0.0</td>\n      <td>NaN</td>\n      <td>NaN</td>\n    </tr>\n    <tr>\n      <th>3</th>\n      <td>2010-01-04 00:00:00+00:00</td>\n      <td>NaN</td>\n      <td>2.0</td>\n      <td>NaN</td>\n      <td>NaN</td>\n    </tr>\n    <tr>\n      <th>4</th>\n      <td>2010-01-05 00:00:00+00:00</td>\n      <td>NaN</td>\n      <td>0.0</td>\n      <td>NaN</td>\n      <td>NaN</td>\n    </tr>\n  </tbody>\n</table>\n</div>"
     },
     "metadata": {}
    }
   ],
   "execution_count": null
  },
  {
   "cell_type": "code",
   "metadata": {
    "tags": [],
    "deepnote_to_be_reexecuted": false,
    "source_hash": "838c0c28",
    "execution_start": 1632709667287,
    "execution_millis": 34,
    "cell_id": "00013-d50218dd-f70b-4a8d-9e5c-d4a7b7bdf98c",
    "deepnote_cell_type": "code"
   },
   "source": "df.tail()",
   "outputs": [
    {
     "output_type": "execute_result",
     "execution_count": 6,
     "data": {
      "application/vnd.deepnote.dataframe.v2+json": {
       "row_count": 5,
       "column_count": 5,
       "columns": [
        {
         "name": "date",
         "dtype": "datetime64[ns, UTC]",
         "stats": {
          "unique_count": 5,
          "nan_count": 0,
          "min": "2021-09-17 00:00:00+00:00",
          "max": "2021-09-21 00:00:00+00:00",
          "histogram": [
           {
            "bin_start": 1631836800000000000,
            "bin_end": 1631871360000000000,
            "count": 1
           },
           {
            "bin_start": 1631871360000000000,
            "bin_end": 1631905920000000000,
            "count": 0
           },
           {
            "bin_start": 1631905920000000000,
            "bin_end": 1631940480000000000,
            "count": 1
           },
           {
            "bin_start": 1631940480000000000,
            "bin_end": 1631975040000000000,
            "count": 0
           },
           {
            "bin_start": 1631975040000000000,
            "bin_end": 1632009600000000000,
            "count": 0
           },
           {
            "bin_start": 1632009600000000000,
            "bin_end": 1632044160000000000,
            "count": 1
           },
           {
            "bin_start": 1632044160000000000,
            "bin_end": 1632078720000000000,
            "count": 0
           },
           {
            "bin_start": 1632078720000000000,
            "bin_end": 1632113280000000000,
            "count": 1
           },
           {
            "bin_start": 1632113280000000000,
            "bin_end": 1632147840000000000,
            "count": 0
           },
           {
            "bin_start": 1632147840000000000,
            "bin_end": 1632182400000000000,
            "count": 1
           }
          ]
         }
        },
        {
         "name": "PriceUSD",
         "dtype": "float64",
         "stats": {
          "unique_count": 5,
          "nan_count": 0,
          "min": "40526.4893760958",
          "max": "48204.0136519579",
          "histogram": [
           {
            "bin_start": 40526.4893760958,
            "bin_end": 41294.24180368201,
            "count": 1
           },
           {
            "bin_start": 41294.24180368201,
            "bin_end": 42061.99423126822,
            "count": 0
           },
           {
            "bin_start": 42061.99423126822,
            "bin_end": 42829.746658854434,
            "count": 0
           },
           {
            "bin_start": 42829.746658854434,
            "bin_end": 43597.49908644064,
            "count": 1
           },
           {
            "bin_start": 43597.49908644064,
            "bin_end": 44365.25151402685,
            "count": 0
           },
           {
            "bin_start": 44365.25151402685,
            "bin_end": 45133.00394161306,
            "count": 0
           },
           {
            "bin_start": 45133.00394161306,
            "bin_end": 45900.75636919927,
            "count": 0
           },
           {
            "bin_start": 45900.75636919927,
            "bin_end": 46668.508796785485,
            "count": 0
           },
           {
            "bin_start": 46668.508796785485,
            "bin_end": 47436.261224371694,
            "count": 2
           },
           {
            "bin_start": 47436.261224371694,
            "bin_end": 48204.0136519579,
            "count": 1
           }
          ]
         }
        },
        {
         "name": "TxCnt",
         "dtype": "float64",
         "stats": {
          "unique_count": 5,
          "nan_count": 0,
          "min": "199632.0",
          "max": "273808.0",
          "histogram": [
           {
            "bin_start": 199632,
            "bin_end": 207049.6,
            "count": 1
           },
           {
            "bin_start": 207049.6,
            "bin_end": 214467.2,
            "count": 0
           },
           {
            "bin_start": 214467.2,
            "bin_end": 221884.8,
            "count": 0
           },
           {
            "bin_start": 221884.8,
            "bin_end": 229302.4,
            "count": 1
           },
           {
            "bin_start": 229302.4,
            "bin_end": 236720,
            "count": 0
           },
           {
            "bin_start": 236720,
            "bin_end": 244137.6,
            "count": 0
           },
           {
            "bin_start": 244137.6,
            "bin_end": 251555.2,
            "count": 1
           },
           {
            "bin_start": 251555.2,
            "bin_end": 258972.8,
            "count": 0
           },
           {
            "bin_start": 258972.8,
            "bin_end": 266390.4,
            "count": 0
           },
           {
            "bin_start": 266390.4,
            "bin_end": 273808,
            "count": 2
           }
          ]
         }
        },
        {
         "name": "FeeMeanUSD",
         "dtype": "float64",
         "stats": {
          "unique_count": 5,
          "nan_count": 0,
          "min": "1.953428269234928",
          "max": "2.5877880562355107",
          "histogram": [
           {
            "bin_start": 1.953428269234928,
            "bin_end": 2.0168642479349863,
            "count": 1
           },
           {
            "bin_start": 2.0168642479349863,
            "bin_end": 2.0803002266350448,
            "count": 0
           },
           {
            "bin_start": 2.0803002266350448,
            "bin_end": 2.143736205335103,
            "count": 0
           },
           {
            "bin_start": 2.143736205335103,
            "bin_end": 2.2071721840351612,
            "count": 0
           },
           {
            "bin_start": 2.2071721840351612,
            "bin_end": 2.2706081627352193,
            "count": 1
           },
           {
            "bin_start": 2.2706081627352193,
            "bin_end": 2.3340441414352777,
            "count": 0
           },
           {
            "bin_start": 2.3340441414352777,
            "bin_end": 2.397480120135336,
            "count": 0
           },
           {
            "bin_start": 2.397480120135336,
            "bin_end": 2.460916098835394,
            "count": 2
           },
           {
            "bin_start": 2.460916098835394,
            "bin_end": 2.524352077535452,
            "count": 0
           },
           {
            "bin_start": 2.524352077535452,
            "bin_end": 2.5877880562355107,
            "count": 1
           }
          ]
         }
        },
        {
         "name": "CapMrktCurUSD",
         "dtype": "float64",
         "stats": {
          "unique_count": 5,
          "nan_count": 0,
          "min": "762806301935.1322",
          "max": "907181161197.6664",
          "histogram": [
           {
            "bin_start": 762806301935.1322,
            "bin_end": 777243787861.3856,
            "count": 1
           },
           {
            "bin_start": 777243787861.3856,
            "bin_end": 791681273787.639,
            "count": 0
           },
           {
            "bin_start": 791681273787.639,
            "bin_end": 806118759713.8925,
            "count": 0
           },
           {
            "bin_start": 806118759713.8925,
            "bin_end": 820556245640.1459,
            "count": 1
           },
           {
            "bin_start": 820556245640.1459,
            "bin_end": 834993731566.3993,
            "count": 0
           },
           {
            "bin_start": 834993731566.3993,
            "bin_end": 849431217492.6527,
            "count": 0
           },
           {
            "bin_start": 849431217492.6527,
            "bin_end": 863868703418.9061,
            "count": 0
           },
           {
            "bin_start": 863868703418.9061,
            "bin_end": 878306189345.1595,
            "count": 0
           },
           {
            "bin_start": 878306189345.1595,
            "bin_end": 892743675271.413,
            "count": 2
           },
           {
            "bin_start": 892743675271.413,
            "bin_end": 907181161197.6664,
            "count": 1
           }
          ]
         }
        },
        {
         "name": "_deepnote_index_column",
         "dtype": "int64"
        }
       ],
       "rows_top": [
        {
         "date": "2021-09-17T00:00:00.000000",
         "PriceUSD": 47213.7941294565,
         "TxCnt": 273808,
         "FeeMeanUSD": 2.5877880562355107,
         "CapMrktCurUSD": 888499868900.2491,
         "_deepnote_index_column": 4277
        },
        {
         "date": "2021-09-18T00:00:00.000000",
         "PriceUSD": 48204.0136519579,
         "TxCnt": 227894,
         "FeeMeanUSD": 2.445871652700344,
         "CapMrktCurUSD": 907181161197.6664,
         "_deepnote_index_column": 4278
        },
        {
         "date": "2021-09-19T00:00:00.000000",
         "PriceUSD": 47218.4739964933,
         "TxCnt": 199632,
         "FeeMeanUSD": 1.953428269234928,
         "CapMrktCurUSD": 888680899050.9407,
         "_deepnote_index_column": 4279
        },
        {
         "date": "2021-09-20T00:00:00.000000",
         "PriceUSD": 42855.5103448276,
         "TxCnt": 273371,
         "FeeMeanUSD": 2.219486880758621,
         "CapMrktCurUSD": 806611150255.1008,
         "_deepnote_index_column": 4280
        },
        {
         "date": "2021-09-21T00:00:00.000000",
         "PriceUSD": 40526.4893760958,
         "TxCnt": 245996,
         "FeeMeanUSD": 2.422268270009246,
         "CapMrktCurUSD": 762806301935.1322,
         "_deepnote_index_column": 4281
        }
       ],
       "rows_bottom": null
      },
      "text/plain": "                          date      PriceUSD     TxCnt  FeeMeanUSD  \\\n4277 2021-09-17 00:00:00+00:00  47213.794129  273808.0    2.587788   \n4278 2021-09-18 00:00:00+00:00  48204.013652  227894.0    2.445872   \n4279 2021-09-19 00:00:00+00:00  47218.473996  199632.0    1.953428   \n4280 2021-09-20 00:00:00+00:00  42855.510345  273371.0    2.219487   \n4281 2021-09-21 00:00:00+00:00  40526.489376  245996.0    2.422268   \n\n      CapMrktCurUSD  \n4277   8.884999e+11  \n4278   9.071812e+11  \n4279   8.886809e+11  \n4280   8.066112e+11  \n4281   7.628063e+11  ",
      "text/html": "<div>\n<style scoped>\n    .dataframe tbody tr th:only-of-type {\n        vertical-align: middle;\n    }\n\n    .dataframe tbody tr th {\n        vertical-align: top;\n    }\n\n    .dataframe thead th {\n        text-align: right;\n    }\n</style>\n<table border=\"1\" class=\"dataframe\">\n  <thead>\n    <tr style=\"text-align: right;\">\n      <th></th>\n      <th>date</th>\n      <th>PriceUSD</th>\n      <th>TxCnt</th>\n      <th>FeeMeanUSD</th>\n      <th>CapMrktCurUSD</th>\n    </tr>\n  </thead>\n  <tbody>\n    <tr>\n      <th>4277</th>\n      <td>2021-09-17 00:00:00+00:00</td>\n      <td>47213.794129</td>\n      <td>273808.0</td>\n      <td>2.587788</td>\n      <td>8.884999e+11</td>\n    </tr>\n    <tr>\n      <th>4278</th>\n      <td>2021-09-18 00:00:00+00:00</td>\n      <td>48204.013652</td>\n      <td>227894.0</td>\n      <td>2.445872</td>\n      <td>9.071812e+11</td>\n    </tr>\n    <tr>\n      <th>4279</th>\n      <td>2021-09-19 00:00:00+00:00</td>\n      <td>47218.473996</td>\n      <td>199632.0</td>\n      <td>1.953428</td>\n      <td>8.886809e+11</td>\n    </tr>\n    <tr>\n      <th>4280</th>\n      <td>2021-09-20 00:00:00+00:00</td>\n      <td>42855.510345</td>\n      <td>273371.0</td>\n      <td>2.219487</td>\n      <td>8.066112e+11</td>\n    </tr>\n    <tr>\n      <th>4281</th>\n      <td>2021-09-21 00:00:00+00:00</td>\n      <td>40526.489376</td>\n      <td>245996.0</td>\n      <td>2.422268</td>\n      <td>7.628063e+11</td>\n    </tr>\n  </tbody>\n</table>\n</div>"
     },
     "metadata": {}
    }
   ],
   "execution_count": null
  },
  {
   "cell_type": "code",
   "metadata": {
    "tags": [],
    "deepnote_to_be_reexecuted": false,
    "source_hash": "f88152d9",
    "execution_start": 1632709667318,
    "execution_millis": 59,
    "cell_id": "00014-302ea275-04db-42a7-9971-8a28540aed34",
    "deepnote_cell_type": "code"
   },
   "source": "df.describe()",
   "outputs": [
    {
     "output_type": "execute_result",
     "execution_count": 7,
     "data": {
      "application/vnd.deepnote.dataframe.v2+json": {
       "row_count": 8,
       "column_count": 4,
       "columns": [
        {
         "name": "PriceUSD",
         "dtype": "float64",
         "stats": {
          "unique_count": 8,
          "nan_count": 0,
          "min": "0.050540618351841",
          "max": "63445.638314436",
          "histogram": [
           {
            "bin_start": 0.050540618351841,
            "bin_end": 6344.609318000117,
            "count": 5
           },
           {
            "bin_start": 6344.609318000117,
            "bin_end": 12689.168095381881,
            "count": 2
           },
           {
            "bin_start": 12689.168095381881,
            "bin_end": 19033.726872763647,
            "count": 0
           },
           {
            "bin_start": 19033.726872763647,
            "bin_end": 25378.28565014541,
            "count": 0
           },
           {
            "bin_start": 25378.28565014541,
            "bin_end": 31722.844427527176,
            "count": 0
           },
           {
            "bin_start": 31722.844427527176,
            "bin_end": 38067.403204908944,
            "count": 0
           },
           {
            "bin_start": 38067.403204908944,
            "bin_end": 44411.961982290704,
            "count": 0
           },
           {
            "bin_start": 44411.961982290704,
            "bin_end": 50756.52075967247,
            "count": 0
           },
           {
            "bin_start": 50756.52075967247,
            "bin_end": 57101.07953705424,
            "count": 0
           },
           {
            "bin_start": 57101.07953705424,
            "bin_end": 63445.638314436,
            "count": 1
           }
          ]
         }
        },
        {
         "name": "TxCnt",
         "dtype": "float64",
         "stats": {
          "unique_count": 8,
          "nan_count": 0,
          "min": "0.0",
          "max": "498142.0",
          "histogram": [
           {
            "bin_start": 0,
            "bin_end": 49814.2,
            "count": 3
           },
           {
            "bin_start": 49814.2,
            "bin_end": 99628.4,
            "count": 0
           },
           {
            "bin_start": 99628.4,
            "bin_end": 149442.59999999998,
            "count": 1
           },
           {
            "bin_start": 149442.59999999998,
            "bin_end": 199256.8,
            "count": 2
           },
           {
            "bin_start": 199256.8,
            "bin_end": 249071,
            "count": 0
           },
           {
            "bin_start": 249071,
            "bin_end": 298885.19999999995,
            "count": 1
           },
           {
            "bin_start": 298885.19999999995,
            "bin_end": 348699.39999999997,
            "count": 0
           },
           {
            "bin_start": 348699.39999999997,
            "bin_end": 398513.6,
            "count": 0
           },
           {
            "bin_start": 398513.6,
            "bin_end": 448327.8,
            "count": 0
           },
           {
            "bin_start": 448327.8,
            "bin_end": 498142,
            "count": 1
           }
          ]
         }
        },
        {
         "name": "FeeMeanUSD",
         "dtype": "float64",
         "stats": {
          "unique_count": 8,
          "nan_count": 0,
          "min": "0.0",
          "max": "4084.0",
          "histogram": [
           {
            "bin_start": 0,
            "bin_end": 408.4,
            "count": 7
           },
           {
            "bin_start": 408.4,
            "bin_end": 816.8,
            "count": 0
           },
           {
            "bin_start": 816.8,
            "bin_end": 1225.1999999999998,
            "count": 0
           },
           {
            "bin_start": 1225.1999999999998,
            "bin_end": 1633.6,
            "count": 0
           },
           {
            "bin_start": 1633.6,
            "bin_end": 2042,
            "count": 0
           },
           {
            "bin_start": 2042,
            "bin_end": 2450.3999999999996,
            "count": 0
           },
           {
            "bin_start": 2450.3999999999996,
            "bin_end": 2858.7999999999997,
            "count": 0
           },
           {
            "bin_start": 2858.7999999999997,
            "bin_end": 3267.2,
            "count": 0
           },
           {
            "bin_start": 3267.2,
            "bin_end": 3675.6,
            "count": 0
           },
           {
            "bin_start": 3675.6,
            "bin_end": 4084,
            "count": 1
           }
          ]
         }
        },
        {
         "name": "CapMrktCurUSD",
         "dtype": "float64",
         "stats": {
          "unique_count": 8,
          "nan_count": 0,
          "min": "4084.0",
          "max": "1185278789468.1714",
          "histogram": [
           {
            "bin_start": 4084,
            "bin_end": 118527882622.41714,
            "count": 5
           },
           {
            "bin_start": 118527882622.41714,
            "bin_end": 237055761160.8343,
            "count": 2
           },
           {
            "bin_start": 237055761160.8343,
            "bin_end": 355583639699.25146,
            "count": 0
           },
           {
            "bin_start": 355583639699.25146,
            "bin_end": 474111518237.6686,
            "count": 0
           },
           {
            "bin_start": 474111518237.6686,
            "bin_end": 592639396776.0857,
            "count": 0
           },
           {
            "bin_start": 592639396776.0857,
            "bin_end": 711167275314.5029,
            "count": 0
           },
           {
            "bin_start": 711167275314.5029,
            "bin_end": 829695153852.92,
            "count": 0
           },
           {
            "bin_start": 829695153852.92,
            "bin_end": 948223032391.3372,
            "count": 0
           },
           {
            "bin_start": 948223032391.3372,
            "bin_end": 1066750910929.7543,
            "count": 0
           },
           {
            "bin_start": 1066750910929.7543,
            "bin_end": 1185278789468.1714,
            "count": 1
           }
          ]
         }
        },
        {
         "name": "_deepnote_index_column",
         "dtype": "object"
        }
       ],
       "rows_top": [
        {
         "PriceUSD": 4084,
         "TxCnt": 4282,
         "FeeMeanUSD": 4084,
         "CapMrktCurUSD": 4084,
         "_deepnote_index_column": "count"
        },
        {
         "PriceUSD": 5709.288371061798,
         "TxCnt": 156825.54320411023,
         "FeeMeanUSD": 1.9209991324027955,
         "CapMrktCurUSD": 103438156434.12447,
         "_deepnote_index_column": "mean"
        },
        {
         "PriceUSD": 11332.736962370418,
         "TxCnt": 124831.8992027682,
         "FeeMeanUSD": 5.343191264670371,
         "CapMrktCurUSD": 211661103232.4188,
         "_deepnote_index_column": "std"
        },
        {
         "PriceUSD": 0.050540618351841,
         "TxCnt": 0,
         "FeeMeanUSD": 0,
         "CapMrktCurUSD": 177670.48975406183,
         "_deepnote_index_column": "min"
        },
        {
         "PriceUSD": 92.6775758328463,
         "TxCnt": 37143,
         "FeeMeanUSD": 0.0352961262880656,
         "CapMrktCurUSD": 1047621583.7516509,
         "_deepnote_index_column": "25%"
        },
        {
         "PriceUSD": 600.7394118936295,
         "TxCnt": 153396.5,
         "FeeMeanUSD": 0.14536087300572048,
         "CapMrktCurUSD": 8213094545.708206,
         "_deepnote_index_column": "50%"
        },
        {
         "PriceUSD": 7236.009424678552,
         "TxCnt": 273103.25,
         "FeeMeanUSD": 1.113889267566587,
         "CapMrktCurUSD": 128031103028.7215,
         "_deepnote_index_column": "75%"
        },
        {
         "PriceUSD": 63445.638314436,
         "TxCnt": 498142,
         "FeeMeanUSD": 60.94996787899139,
         "CapMrktCurUSD": 1185278789468.1714,
         "_deepnote_index_column": "max"
        }
       ],
       "rows_bottom": null
      },
      "text/plain": "           PriceUSD          TxCnt   FeeMeanUSD  CapMrktCurUSD\ncount   4084.000000    4282.000000  4084.000000   4.084000e+03\nmean    5709.288371  156825.543204     1.920999   1.034382e+11\nstd    11332.736962  124831.899203     5.343191   2.116611e+11\nmin        0.050541       0.000000     0.000000   1.776705e+05\n25%       92.677576   37143.000000     0.035296   1.047622e+09\n50%      600.739412  153396.500000     0.145361   8.213095e+09\n75%     7236.009425  273103.250000     1.113889   1.280311e+11\nmax    63445.638314  498142.000000    60.949968   1.185279e+12",
      "text/html": "<div>\n<style scoped>\n    .dataframe tbody tr th:only-of-type {\n        vertical-align: middle;\n    }\n\n    .dataframe tbody tr th {\n        vertical-align: top;\n    }\n\n    .dataframe thead th {\n        text-align: right;\n    }\n</style>\n<table border=\"1\" class=\"dataframe\">\n  <thead>\n    <tr style=\"text-align: right;\">\n      <th></th>\n      <th>PriceUSD</th>\n      <th>TxCnt</th>\n      <th>FeeMeanUSD</th>\n      <th>CapMrktCurUSD</th>\n    </tr>\n  </thead>\n  <tbody>\n    <tr>\n      <th>count</th>\n      <td>4084.000000</td>\n      <td>4282.000000</td>\n      <td>4084.000000</td>\n      <td>4.084000e+03</td>\n    </tr>\n    <tr>\n      <th>mean</th>\n      <td>5709.288371</td>\n      <td>156825.543204</td>\n      <td>1.920999</td>\n      <td>1.034382e+11</td>\n    </tr>\n    <tr>\n      <th>std</th>\n      <td>11332.736962</td>\n      <td>124831.899203</td>\n      <td>5.343191</td>\n      <td>2.116611e+11</td>\n    </tr>\n    <tr>\n      <th>min</th>\n      <td>0.050541</td>\n      <td>0.000000</td>\n      <td>0.000000</td>\n      <td>1.776705e+05</td>\n    </tr>\n    <tr>\n      <th>25%</th>\n      <td>92.677576</td>\n      <td>37143.000000</td>\n      <td>0.035296</td>\n      <td>1.047622e+09</td>\n    </tr>\n    <tr>\n      <th>50%</th>\n      <td>600.739412</td>\n      <td>153396.500000</td>\n      <td>0.145361</td>\n      <td>8.213095e+09</td>\n    </tr>\n    <tr>\n      <th>75%</th>\n      <td>7236.009425</td>\n      <td>273103.250000</td>\n      <td>1.113889</td>\n      <td>1.280311e+11</td>\n    </tr>\n    <tr>\n      <th>max</th>\n      <td>63445.638314</td>\n      <td>498142.000000</td>\n      <td>60.949968</td>\n      <td>1.185279e+12</td>\n    </tr>\n  </tbody>\n</table>\n</div>"
     },
     "metadata": {}
    }
   ],
   "execution_count": null
  },
  {
   "cell_type": "markdown",
   "source": "Visualization of historical price",
   "metadata": {
    "tags": [],
    "is_collapsed": false,
    "cell_id": "00015-611a95d1-de12-445c-93ba-b6693d8569d6",
    "deepnote_cell_type": "text-cell-p"
   }
  },
  {
   "cell_type": "code",
   "metadata": {
    "tags": [],
    "deepnote_to_be_reexecuted": false,
    "source_hash": "9588aa97",
    "execution_start": 1632709667375,
    "execution_millis": 9,
    "cell_id": "00016-f2203ef8-2d34-4937-9f78-25389b877a11",
    "deepnote_cell_type": "code"
   },
   "source": "# Focus on price column, which is the target variable to predict\nprice = df[['date', 'PriceUSD']]",
   "outputs": [],
   "execution_count": null
  },
  {
   "cell_type": "code",
   "metadata": {
    "tags": [],
    "deepnote_to_be_reexecuted": false,
    "source_hash": "517a015c",
    "execution_start": 1632709667403,
    "execution_millis": 79,
    "cell_id": "00017-cd65dfeb-be83-4ed9-8967-b9295551868c",
    "deepnote_cell_type": "code"
   },
   "source": "price",
   "outputs": [
    {
     "output_type": "execute_result",
     "execution_count": 9,
     "data": {
      "application/vnd.deepnote.dataframe.v2+json": {
       "row_count": 4282,
       "column_count": 2,
       "columns": [
        {
         "name": "date",
         "dtype": "datetime64[ns, UTC]",
         "stats": {
          "unique_count": 4282,
          "nan_count": 0,
          "min": "2010-01-01 00:00:00+00:00",
          "max": "2021-09-21 00:00:00+00:00",
          "histogram": [
           {
            "bin_start": 1262304000000000000,
            "bin_end": 1299291840000000000,
            "count": 429
           },
           {
            "bin_start": 1299291840000000000,
            "bin_end": 1336279680000000000,
            "count": 428
           },
           {
            "bin_start": 1336279680000000000,
            "bin_end": 1373267520000000000,
            "count": 428
           },
           {
            "bin_start": 1373267520000000000,
            "bin_end": 1410255360000000000,
            "count": 428
           },
           {
            "bin_start": 1410255360000000000,
            "bin_end": 1447243200000000000,
            "count": 428
           },
           {
            "bin_start": 1447243200000000000,
            "bin_end": 1484231040000000000,
            "count": 428
           },
           {
            "bin_start": 1484231040000000000,
            "bin_end": 1521218880000000000,
            "count": 428
           },
           {
            "bin_start": 1521218880000000000,
            "bin_end": 1558206720000000000,
            "count": 428
           },
           {
            "bin_start": 1558206720000000000,
            "bin_end": 1595194560000000000,
            "count": 428
           },
           {
            "bin_start": 1595194560000000000,
            "bin_end": 1632182400000000000,
            "count": 429
           }
          ]
         }
        },
        {
         "name": "PriceUSD",
         "dtype": "float64",
         "stats": {
          "unique_count": 4061,
          "nan_count": 198,
          "min": "0.050540618351841",
          "max": "63445.638314436",
          "histogram": [
           {
            "bin_start": 0.050540618351841,
            "bin_end": 6344.609318000117,
            "count": 2895
           },
           {
            "bin_start": 6344.609318000117,
            "bin_end": 12689.168095381881,
            "count": 810
           },
           {
            "bin_start": 12689.168095381881,
            "bin_end": 19033.726872763647,
            "count": 87
           },
           {
            "bin_start": 19033.726872763647,
            "bin_end": 25378.28565014541,
            "count": 22
           },
           {
            "bin_start": 25378.28565014541,
            "bin_end": 31722.844427527176,
            "count": 17
           },
           {
            "bin_start": 31722.844427527176,
            "bin_end": 38067.403204908944,
            "count": 79
           },
           {
            "bin_start": 38067.403204908944,
            "bin_end": 44411.961982290704,
            "count": 34
           },
           {
            "bin_start": 44411.961982290704,
            "bin_end": 50756.52075967247,
            "count": 67
           },
           {
            "bin_start": 50756.52075967247,
            "bin_end": 57101.07953705424,
            "count": 37
           },
           {
            "bin_start": 57101.07953705424,
            "bin_end": 63445.638314436,
            "count": 36
           }
          ]
         }
        },
        {
         "name": "_deepnote_index_column",
         "dtype": "int64"
        }
       ],
       "rows_top": [
        {
         "date": "2010-01-01T00:00:00.000000",
         "PriceUSD": "nan",
         "_deepnote_index_column": 0
        },
        {
         "date": "2010-01-02T00:00:00.000000",
         "PriceUSD": "nan",
         "_deepnote_index_column": 1
        },
        {
         "date": "2010-01-03T00:00:00.000000",
         "PriceUSD": "nan",
         "_deepnote_index_column": 2
        },
        {
         "date": "2010-01-04T00:00:00.000000",
         "PriceUSD": "nan",
         "_deepnote_index_column": 3
        },
        {
         "date": "2010-01-05T00:00:00.000000",
         "PriceUSD": "nan",
         "_deepnote_index_column": 4
        },
        {
         "date": "2010-01-06T00:00:00.000000",
         "PriceUSD": "nan",
         "_deepnote_index_column": 5
        },
        {
         "date": "2010-01-07T00:00:00.000000",
         "PriceUSD": "nan",
         "_deepnote_index_column": 6
        },
        {
         "date": "2010-01-08T00:00:00.000000",
         "PriceUSD": "nan",
         "_deepnote_index_column": 7
        },
        {
         "date": "2010-01-09T00:00:00.000000",
         "PriceUSD": "nan",
         "_deepnote_index_column": 8
        },
        {
         "date": "2010-01-10T00:00:00.000000",
         "PriceUSD": "nan",
         "_deepnote_index_column": 9
        },
        {
         "date": "2010-01-11T00:00:00.000000",
         "PriceUSD": "nan",
         "_deepnote_index_column": 10
        },
        {
         "date": "2010-01-12T00:00:00.000000",
         "PriceUSD": "nan",
         "_deepnote_index_column": 11
        },
        {
         "date": "2010-01-13T00:00:00.000000",
         "PriceUSD": "nan",
         "_deepnote_index_column": 12
        },
        {
         "date": "2010-01-14T00:00:00.000000",
         "PriceUSD": "nan",
         "_deepnote_index_column": 13
        },
        {
         "date": "2010-01-15T00:00:00.000000",
         "PriceUSD": "nan",
         "_deepnote_index_column": 14
        },
        {
         "date": "2010-01-16T00:00:00.000000",
         "PriceUSD": "nan",
         "_deepnote_index_column": 15
        },
        {
         "date": "2010-01-17T00:00:00.000000",
         "PriceUSD": "nan",
         "_deepnote_index_column": 16
        },
        {
         "date": "2010-01-18T00:00:00.000000",
         "PriceUSD": "nan",
         "_deepnote_index_column": 17
        },
        {
         "date": "2010-01-19T00:00:00.000000",
         "PriceUSD": "nan",
         "_deepnote_index_column": 18
        },
        {
         "date": "2010-01-20T00:00:00.000000",
         "PriceUSD": "nan",
         "_deepnote_index_column": 19
        },
        {
         "date": "2010-01-21T00:00:00.000000",
         "PriceUSD": "nan",
         "_deepnote_index_column": 20
        },
        {
         "date": "2010-01-22T00:00:00.000000",
         "PriceUSD": "nan",
         "_deepnote_index_column": 21
        },
        {
         "date": "2010-01-23T00:00:00.000000",
         "PriceUSD": "nan",
         "_deepnote_index_column": 22
        },
        {
         "date": "2010-01-24T00:00:00.000000",
         "PriceUSD": "nan",
         "_deepnote_index_column": 23
        },
        {
         "date": "2010-01-25T00:00:00.000000",
         "PriceUSD": "nan",
         "_deepnote_index_column": 24
        },
        {
         "date": "2010-01-26T00:00:00.000000",
         "PriceUSD": "nan",
         "_deepnote_index_column": 25
        },
        {
         "date": "2010-01-27T00:00:00.000000",
         "PriceUSD": "nan",
         "_deepnote_index_column": 26
        },
        {
         "date": "2010-01-28T00:00:00.000000",
         "PriceUSD": "nan",
         "_deepnote_index_column": 27
        },
        {
         "date": "2010-01-29T00:00:00.000000",
         "PriceUSD": "nan",
         "_deepnote_index_column": 28
        },
        {
         "date": "2010-01-30T00:00:00.000000",
         "PriceUSD": "nan",
         "_deepnote_index_column": 29
        },
        {
         "date": "2010-01-31T00:00:00.000000",
         "PriceUSD": "nan",
         "_deepnote_index_column": 30
        },
        {
         "date": "2010-02-01T00:00:00.000000",
         "PriceUSD": "nan",
         "_deepnote_index_column": 31
        },
        {
         "date": "2010-02-02T00:00:00.000000",
         "PriceUSD": "nan",
         "_deepnote_index_column": 32
        },
        {
         "date": "2010-02-03T00:00:00.000000",
         "PriceUSD": "nan",
         "_deepnote_index_column": 33
        },
        {
         "date": "2010-02-04T00:00:00.000000",
         "PriceUSD": "nan",
         "_deepnote_index_column": 34
        },
        {
         "date": "2010-02-05T00:00:00.000000",
         "PriceUSD": "nan",
         "_deepnote_index_column": 35
        },
        {
         "date": "2010-02-06T00:00:00.000000",
         "PriceUSD": "nan",
         "_deepnote_index_column": 36
        },
        {
         "date": "2010-02-07T00:00:00.000000",
         "PriceUSD": "nan",
         "_deepnote_index_column": 37
        },
        {
         "date": "2010-02-08T00:00:00.000000",
         "PriceUSD": "nan",
         "_deepnote_index_column": 38
        },
        {
         "date": "2010-02-09T00:00:00.000000",
         "PriceUSD": "nan",
         "_deepnote_index_column": 39
        },
        {
         "date": "2010-02-10T00:00:00.000000",
         "PriceUSD": "nan",
         "_deepnote_index_column": 40
        },
        {
         "date": "2010-02-11T00:00:00.000000",
         "PriceUSD": "nan",
         "_deepnote_index_column": 41
        },
        {
         "date": "2010-02-12T00:00:00.000000",
         "PriceUSD": "nan",
         "_deepnote_index_column": 42
        },
        {
         "date": "2010-02-13T00:00:00.000000",
         "PriceUSD": "nan",
         "_deepnote_index_column": 43
        },
        {
         "date": "2010-02-14T00:00:00.000000",
         "PriceUSD": "nan",
         "_deepnote_index_column": 44
        },
        {
         "date": "2010-02-15T00:00:00.000000",
         "PriceUSD": "nan",
         "_deepnote_index_column": 45
        },
        {
         "date": "2010-02-16T00:00:00.000000",
         "PriceUSD": "nan",
         "_deepnote_index_column": 46
        },
        {
         "date": "2010-02-17T00:00:00.000000",
         "PriceUSD": "nan",
         "_deepnote_index_column": 47
        },
        {
         "date": "2010-02-18T00:00:00.000000",
         "PriceUSD": "nan",
         "_deepnote_index_column": 48
        },
        {
         "date": "2010-02-19T00:00:00.000000",
         "PriceUSD": "nan",
         "_deepnote_index_column": 49
        },
        {
         "date": "2010-02-20T00:00:00.000000",
         "PriceUSD": "nan",
         "_deepnote_index_column": 50
        },
        {
         "date": "2010-02-21T00:00:00.000000",
         "PriceUSD": "nan",
         "_deepnote_index_column": 51
        },
        {
         "date": "2010-02-22T00:00:00.000000",
         "PriceUSD": "nan",
         "_deepnote_index_column": 52
        },
        {
         "date": "2010-02-23T00:00:00.000000",
         "PriceUSD": "nan",
         "_deepnote_index_column": 53
        },
        {
         "date": "2010-02-24T00:00:00.000000",
         "PriceUSD": "nan",
         "_deepnote_index_column": 54
        },
        {
         "date": "2010-02-25T00:00:00.000000",
         "PriceUSD": "nan",
         "_deepnote_index_column": 55
        },
        {
         "date": "2010-02-26T00:00:00.000000",
         "PriceUSD": "nan",
         "_deepnote_index_column": 56
        },
        {
         "date": "2010-02-27T00:00:00.000000",
         "PriceUSD": "nan",
         "_deepnote_index_column": 57
        },
        {
         "date": "2010-02-28T00:00:00.000000",
         "PriceUSD": "nan",
         "_deepnote_index_column": 58
        },
        {
         "date": "2010-03-01T00:00:00.000000",
         "PriceUSD": "nan",
         "_deepnote_index_column": 59
        },
        {
         "date": "2010-03-02T00:00:00.000000",
         "PriceUSD": "nan",
         "_deepnote_index_column": 60
        },
        {
         "date": "2010-03-03T00:00:00.000000",
         "PriceUSD": "nan",
         "_deepnote_index_column": 61
        },
        {
         "date": "2010-03-04T00:00:00.000000",
         "PriceUSD": "nan",
         "_deepnote_index_column": 62
        },
        {
         "date": "2010-03-05T00:00:00.000000",
         "PriceUSD": "nan",
         "_deepnote_index_column": 63
        },
        {
         "date": "2010-03-06T00:00:00.000000",
         "PriceUSD": "nan",
         "_deepnote_index_column": 64
        },
        {
         "date": "2010-03-07T00:00:00.000000",
         "PriceUSD": "nan",
         "_deepnote_index_column": 65
        },
        {
         "date": "2010-03-08T00:00:00.000000",
         "PriceUSD": "nan",
         "_deepnote_index_column": 66
        },
        {
         "date": "2010-03-09T00:00:00.000000",
         "PriceUSD": "nan",
         "_deepnote_index_column": 67
        },
        {
         "date": "2010-03-10T00:00:00.000000",
         "PriceUSD": "nan",
         "_deepnote_index_column": 68
        },
        {
         "date": "2010-03-11T00:00:00.000000",
         "PriceUSD": "nan",
         "_deepnote_index_column": 69
        },
        {
         "date": "2010-03-12T00:00:00.000000",
         "PriceUSD": "nan",
         "_deepnote_index_column": 70
        },
        {
         "date": "2010-03-13T00:00:00.000000",
         "PriceUSD": "nan",
         "_deepnote_index_column": 71
        },
        {
         "date": "2010-03-14T00:00:00.000000",
         "PriceUSD": "nan",
         "_deepnote_index_column": 72
        },
        {
         "date": "2010-03-15T00:00:00.000000",
         "PriceUSD": "nan",
         "_deepnote_index_column": 73
        },
        {
         "date": "2010-03-16T00:00:00.000000",
         "PriceUSD": "nan",
         "_deepnote_index_column": 74
        },
        {
         "date": "2010-03-17T00:00:00.000000",
         "PriceUSD": "nan",
         "_deepnote_index_column": 75
        },
        {
         "date": "2010-03-18T00:00:00.000000",
         "PriceUSD": "nan",
         "_deepnote_index_column": 76
        },
        {
         "date": "2010-03-19T00:00:00.000000",
         "PriceUSD": "nan",
         "_deepnote_index_column": 77
        },
        {
         "date": "2010-03-20T00:00:00.000000",
         "PriceUSD": "nan",
         "_deepnote_index_column": 78
        },
        {
         "date": "2010-03-21T00:00:00.000000",
         "PriceUSD": "nan",
         "_deepnote_index_column": 79
        },
        {
         "date": "2010-03-22T00:00:00.000000",
         "PriceUSD": "nan",
         "_deepnote_index_column": 80
        },
        {
         "date": "2010-03-23T00:00:00.000000",
         "PriceUSD": "nan",
         "_deepnote_index_column": 81
        },
        {
         "date": "2010-03-24T00:00:00.000000",
         "PriceUSD": "nan",
         "_deepnote_index_column": 82
        },
        {
         "date": "2010-03-25T00:00:00.000000",
         "PriceUSD": "nan",
         "_deepnote_index_column": 83
        },
        {
         "date": "2010-03-26T00:00:00.000000",
         "PriceUSD": "nan",
         "_deepnote_index_column": 84
        },
        {
         "date": "2010-03-27T00:00:00.000000",
         "PriceUSD": "nan",
         "_deepnote_index_column": 85
        },
        {
         "date": "2010-03-28T00:00:00.000000",
         "PriceUSD": "nan",
         "_deepnote_index_column": 86
        },
        {
         "date": "2010-03-29T00:00:00.000000",
         "PriceUSD": "nan",
         "_deepnote_index_column": 87
        },
        {
         "date": "2010-03-30T00:00:00.000000",
         "PriceUSD": "nan",
         "_deepnote_index_column": 88
        },
        {
         "date": "2010-03-31T00:00:00.000000",
         "PriceUSD": "nan",
         "_deepnote_index_column": 89
        },
        {
         "date": "2010-04-01T00:00:00.000000",
         "PriceUSD": "nan",
         "_deepnote_index_column": 90
        },
        {
         "date": "2010-04-02T00:00:00.000000",
         "PriceUSD": "nan",
         "_deepnote_index_column": 91
        },
        {
         "date": "2010-04-03T00:00:00.000000",
         "PriceUSD": "nan",
         "_deepnote_index_column": 92
        },
        {
         "date": "2010-04-04T00:00:00.000000",
         "PriceUSD": "nan",
         "_deepnote_index_column": 93
        },
        {
         "date": "2010-04-05T00:00:00.000000",
         "PriceUSD": "nan",
         "_deepnote_index_column": 94
        },
        {
         "date": "2010-04-06T00:00:00.000000",
         "PriceUSD": "nan",
         "_deepnote_index_column": 95
        },
        {
         "date": "2010-04-07T00:00:00.000000",
         "PriceUSD": "nan",
         "_deepnote_index_column": 96
        },
        {
         "date": "2010-04-08T00:00:00.000000",
         "PriceUSD": "nan",
         "_deepnote_index_column": 97
        },
        {
         "date": "2010-04-09T00:00:00.000000",
         "PriceUSD": "nan",
         "_deepnote_index_column": 98
        },
        {
         "date": "2010-04-10T00:00:00.000000",
         "PriceUSD": "nan",
         "_deepnote_index_column": 99
        },
        {
         "date": "2010-04-11T00:00:00.000000",
         "PriceUSD": "nan",
         "_deepnote_index_column": 100
        },
        {
         "date": "2010-04-12T00:00:00.000000",
         "PriceUSD": "nan",
         "_deepnote_index_column": 101
        },
        {
         "date": "2010-04-13T00:00:00.000000",
         "PriceUSD": "nan",
         "_deepnote_index_column": 102
        },
        {
         "date": "2010-04-14T00:00:00.000000",
         "PriceUSD": "nan",
         "_deepnote_index_column": 103
        },
        {
         "date": "2010-04-15T00:00:00.000000",
         "PriceUSD": "nan",
         "_deepnote_index_column": 104
        },
        {
         "date": "2010-04-16T00:00:00.000000",
         "PriceUSD": "nan",
         "_deepnote_index_column": 105
        },
        {
         "date": "2010-04-17T00:00:00.000000",
         "PriceUSD": "nan",
         "_deepnote_index_column": 106
        },
        {
         "date": "2010-04-18T00:00:00.000000",
         "PriceUSD": "nan",
         "_deepnote_index_column": 107
        },
        {
         "date": "2010-04-19T00:00:00.000000",
         "PriceUSD": "nan",
         "_deepnote_index_column": 108
        },
        {
         "date": "2010-04-20T00:00:00.000000",
         "PriceUSD": "nan",
         "_deepnote_index_column": 109
        },
        {
         "date": "2010-04-21T00:00:00.000000",
         "PriceUSD": "nan",
         "_deepnote_index_column": 110
        },
        {
         "date": "2010-04-22T00:00:00.000000",
         "PriceUSD": "nan",
         "_deepnote_index_column": 111
        },
        {
         "date": "2010-04-23T00:00:00.000000",
         "PriceUSD": "nan",
         "_deepnote_index_column": 112
        },
        {
         "date": "2010-04-24T00:00:00.000000",
         "PriceUSD": "nan",
         "_deepnote_index_column": 113
        },
        {
         "date": "2010-04-25T00:00:00.000000",
         "PriceUSD": "nan",
         "_deepnote_index_column": 114
        },
        {
         "date": "2010-04-26T00:00:00.000000",
         "PriceUSD": "nan",
         "_deepnote_index_column": 115
        },
        {
         "date": "2010-04-27T00:00:00.000000",
         "PriceUSD": "nan",
         "_deepnote_index_column": 116
        },
        {
         "date": "2010-04-28T00:00:00.000000",
         "PriceUSD": "nan",
         "_deepnote_index_column": 117
        },
        {
         "date": "2010-04-29T00:00:00.000000",
         "PriceUSD": "nan",
         "_deepnote_index_column": 118
        },
        {
         "date": "2010-04-30T00:00:00.000000",
         "PriceUSD": "nan",
         "_deepnote_index_column": 119
        },
        {
         "date": "2010-05-01T00:00:00.000000",
         "PriceUSD": "nan",
         "_deepnote_index_column": 120
        },
        {
         "date": "2010-05-02T00:00:00.000000",
         "PriceUSD": "nan",
         "_deepnote_index_column": 121
        },
        {
         "date": "2010-05-03T00:00:00.000000",
         "PriceUSD": "nan",
         "_deepnote_index_column": 122
        },
        {
         "date": "2010-05-04T00:00:00.000000",
         "PriceUSD": "nan",
         "_deepnote_index_column": 123
        },
        {
         "date": "2010-05-05T00:00:00.000000",
         "PriceUSD": "nan",
         "_deepnote_index_column": 124
        },
        {
         "date": "2010-05-06T00:00:00.000000",
         "PriceUSD": "nan",
         "_deepnote_index_column": 125
        },
        {
         "date": "2010-05-07T00:00:00.000000",
         "PriceUSD": "nan",
         "_deepnote_index_column": 126
        },
        {
         "date": "2010-05-08T00:00:00.000000",
         "PriceUSD": "nan",
         "_deepnote_index_column": 127
        },
        {
         "date": "2010-05-09T00:00:00.000000",
         "PriceUSD": "nan",
         "_deepnote_index_column": 128
        },
        {
         "date": "2010-05-10T00:00:00.000000",
         "PriceUSD": "nan",
         "_deepnote_index_column": 129
        },
        {
         "date": "2010-05-11T00:00:00.000000",
         "PriceUSD": "nan",
         "_deepnote_index_column": 130
        },
        {
         "date": "2010-05-12T00:00:00.000000",
         "PriceUSD": "nan",
         "_deepnote_index_column": 131
        },
        {
         "date": "2010-05-13T00:00:00.000000",
         "PriceUSD": "nan",
         "_deepnote_index_column": 132
        },
        {
         "date": "2010-05-14T00:00:00.000000",
         "PriceUSD": "nan",
         "_deepnote_index_column": 133
        },
        {
         "date": "2010-05-15T00:00:00.000000",
         "PriceUSD": "nan",
         "_deepnote_index_column": 134
        },
        {
         "date": "2010-05-16T00:00:00.000000",
         "PriceUSD": "nan",
         "_deepnote_index_column": 135
        },
        {
         "date": "2010-05-17T00:00:00.000000",
         "PriceUSD": "nan",
         "_deepnote_index_column": 136
        },
        {
         "date": "2010-05-18T00:00:00.000000",
         "PriceUSD": "nan",
         "_deepnote_index_column": 137
        },
        {
         "date": "2010-05-19T00:00:00.000000",
         "PriceUSD": "nan",
         "_deepnote_index_column": 138
        },
        {
         "date": "2010-05-20T00:00:00.000000",
         "PriceUSD": "nan",
         "_deepnote_index_column": 139
        },
        {
         "date": "2010-05-21T00:00:00.000000",
         "PriceUSD": "nan",
         "_deepnote_index_column": 140
        },
        {
         "date": "2010-05-22T00:00:00.000000",
         "PriceUSD": "nan",
         "_deepnote_index_column": 141
        },
        {
         "date": "2010-05-23T00:00:00.000000",
         "PriceUSD": "nan",
         "_deepnote_index_column": 142
        },
        {
         "date": "2010-05-24T00:00:00.000000",
         "PriceUSD": "nan",
         "_deepnote_index_column": 143
        },
        {
         "date": "2010-05-25T00:00:00.000000",
         "PriceUSD": "nan",
         "_deepnote_index_column": 144
        },
        {
         "date": "2010-05-26T00:00:00.000000",
         "PriceUSD": "nan",
         "_deepnote_index_column": 145
        },
        {
         "date": "2010-05-27T00:00:00.000000",
         "PriceUSD": "nan",
         "_deepnote_index_column": 146
        },
        {
         "date": "2010-05-28T00:00:00.000000",
         "PriceUSD": "nan",
         "_deepnote_index_column": 147
        },
        {
         "date": "2010-05-29T00:00:00.000000",
         "PriceUSD": "nan",
         "_deepnote_index_column": 148
        },
        {
         "date": "2010-05-30T00:00:00.000000",
         "PriceUSD": "nan",
         "_deepnote_index_column": 149
        },
        {
         "date": "2010-05-31T00:00:00.000000",
         "PriceUSD": "nan",
         "_deepnote_index_column": 150
        },
        {
         "date": "2010-06-01T00:00:00.000000",
         "PriceUSD": "nan",
         "_deepnote_index_column": 151
        },
        {
         "date": "2010-06-02T00:00:00.000000",
         "PriceUSD": "nan",
         "_deepnote_index_column": 152
        },
        {
         "date": "2010-06-03T00:00:00.000000",
         "PriceUSD": "nan",
         "_deepnote_index_column": 153
        },
        {
         "date": "2010-06-04T00:00:00.000000",
         "PriceUSD": "nan",
         "_deepnote_index_column": 154
        },
        {
         "date": "2010-06-05T00:00:00.000000",
         "PriceUSD": "nan",
         "_deepnote_index_column": 155
        },
        {
         "date": "2010-06-06T00:00:00.000000",
         "PriceUSD": "nan",
         "_deepnote_index_column": 156
        },
        {
         "date": "2010-06-07T00:00:00.000000",
         "PriceUSD": "nan",
         "_deepnote_index_column": 157
        },
        {
         "date": "2010-06-08T00:00:00.000000",
         "PriceUSD": "nan",
         "_deepnote_index_column": 158
        },
        {
         "date": "2010-06-09T00:00:00.000000",
         "PriceUSD": "nan",
         "_deepnote_index_column": 159
        },
        {
         "date": "2010-06-10T00:00:00.000000",
         "PriceUSD": "nan",
         "_deepnote_index_column": 160
        },
        {
         "date": "2010-06-11T00:00:00.000000",
         "PriceUSD": "nan",
         "_deepnote_index_column": 161
        },
        {
         "date": "2010-06-12T00:00:00.000000",
         "PriceUSD": "nan",
         "_deepnote_index_column": 162
        },
        {
         "date": "2010-06-13T00:00:00.000000",
         "PriceUSD": "nan",
         "_deepnote_index_column": 163
        },
        {
         "date": "2010-06-14T00:00:00.000000",
         "PriceUSD": "nan",
         "_deepnote_index_column": 164
        },
        {
         "date": "2010-06-15T00:00:00.000000",
         "PriceUSD": "nan",
         "_deepnote_index_column": 165
        },
        {
         "date": "2010-06-16T00:00:00.000000",
         "PriceUSD": "nan",
         "_deepnote_index_column": 166
        },
        {
         "date": "2010-06-17T00:00:00.000000",
         "PriceUSD": "nan",
         "_deepnote_index_column": 167
        },
        {
         "date": "2010-06-18T00:00:00.000000",
         "PriceUSD": "nan",
         "_deepnote_index_column": 168
        },
        {
         "date": "2010-06-19T00:00:00.000000",
         "PriceUSD": "nan",
         "_deepnote_index_column": 169
        },
        {
         "date": "2010-06-20T00:00:00.000000",
         "PriceUSD": "nan",
         "_deepnote_index_column": 170
        },
        {
         "date": "2010-06-21T00:00:00.000000",
         "PriceUSD": "nan",
         "_deepnote_index_column": 171
        },
        {
         "date": "2010-06-22T00:00:00.000000",
         "PriceUSD": "nan",
         "_deepnote_index_column": 172
        },
        {
         "date": "2010-06-23T00:00:00.000000",
         "PriceUSD": "nan",
         "_deepnote_index_column": 173
        },
        {
         "date": "2010-06-24T00:00:00.000000",
         "PriceUSD": "nan",
         "_deepnote_index_column": 174
        },
        {
         "date": "2010-06-25T00:00:00.000000",
         "PriceUSD": "nan",
         "_deepnote_index_column": 175
        },
        {
         "date": "2010-06-26T00:00:00.000000",
         "PriceUSD": "nan",
         "_deepnote_index_column": 176
        },
        {
         "date": "2010-06-27T00:00:00.000000",
         "PriceUSD": "nan",
         "_deepnote_index_column": 177
        },
        {
         "date": "2010-06-28T00:00:00.000000",
         "PriceUSD": "nan",
         "_deepnote_index_column": 178
        },
        {
         "date": "2010-06-29T00:00:00.000000",
         "PriceUSD": "nan",
         "_deepnote_index_column": 179
        },
        {
         "date": "2010-06-30T00:00:00.000000",
         "PriceUSD": "nan",
         "_deepnote_index_column": 180
        },
        {
         "date": "2010-07-01T00:00:00.000000",
         "PriceUSD": "nan",
         "_deepnote_index_column": 181
        },
        {
         "date": "2010-07-02T00:00:00.000000",
         "PriceUSD": "nan",
         "_deepnote_index_column": 182
        },
        {
         "date": "2010-07-03T00:00:00.000000",
         "PriceUSD": "nan",
         "_deepnote_index_column": 183
        },
        {
         "date": "2010-07-04T00:00:00.000000",
         "PriceUSD": "nan",
         "_deepnote_index_column": 184
        },
        {
         "date": "2010-07-05T00:00:00.000000",
         "PriceUSD": "nan",
         "_deepnote_index_column": 185
        },
        {
         "date": "2010-07-06T00:00:00.000000",
         "PriceUSD": "nan",
         "_deepnote_index_column": 186
        },
        {
         "date": "2010-07-07T00:00:00.000000",
         "PriceUSD": "nan",
         "_deepnote_index_column": 187
        },
        {
         "date": "2010-07-08T00:00:00.000000",
         "PriceUSD": "nan",
         "_deepnote_index_column": 188
        },
        {
         "date": "2010-07-09T00:00:00.000000",
         "PriceUSD": "nan",
         "_deepnote_index_column": 189
        },
        {
         "date": "2010-07-10T00:00:00.000000",
         "PriceUSD": "nan",
         "_deepnote_index_column": 190
        },
        {
         "date": "2010-07-11T00:00:00.000000",
         "PriceUSD": "nan",
         "_deepnote_index_column": 191
        },
        {
         "date": "2010-07-12T00:00:00.000000",
         "PriceUSD": "nan",
         "_deepnote_index_column": 192
        },
        {
         "date": "2010-07-13T00:00:00.000000",
         "PriceUSD": "nan",
         "_deepnote_index_column": 193
        },
        {
         "date": "2010-07-14T00:00:00.000000",
         "PriceUSD": "nan",
         "_deepnote_index_column": 194
        },
        {
         "date": "2010-07-15T00:00:00.000000",
         "PriceUSD": "nan",
         "_deepnote_index_column": 195
        },
        {
         "date": "2010-07-16T00:00:00.000000",
         "PriceUSD": "nan",
         "_deepnote_index_column": 196
        },
        {
         "date": "2010-07-17T00:00:00.000000",
         "PriceUSD": "nan",
         "_deepnote_index_column": 197
        },
        {
         "date": "2010-07-18T00:00:00.000000",
         "PriceUSD": 0.08584,
         "_deepnote_index_column": 198
        },
        {
         "date": "2010-07-19T00:00:00.000000",
         "PriceUSD": 0.0808,
         "_deepnote_index_column": 199
        },
        {
         "date": "2010-07-20T00:00:00.000000",
         "PriceUSD": 0.0747357288135593,
         "_deepnote_index_column": 200
        },
        {
         "date": "2010-07-21T00:00:00.000000",
         "PriceUSD": 0.0791928626534191,
         "_deepnote_index_column": 201
        },
        {
         "date": "2010-07-22T00:00:00.000000",
         "PriceUSD": 0.0584697603740503,
         "_deepnote_index_column": 202
        },
        {
         "date": "2010-07-23T00:00:00.000000",
         "PriceUSD": 0.0605928696668615,
         "_deepnote_index_column": 203
        },
        {
         "date": "2010-07-24T00:00:00.000000",
         "PriceUSD": 0.05454,
         "_deepnote_index_column": 204
        },
        {
         "date": "2010-07-25T00:00:00.000000",
         "PriceUSD": 0.050540618351841,
         "_deepnote_index_column": 205
        },
        {
         "date": "2010-07-26T00:00:00.000000",
         "PriceUSD": 0.056,
         "_deepnote_index_column": 206
        },
        {
         "date": "2010-07-27T00:00:00.000000",
         "PriceUSD": 0.058622016364699,
         "_deepnote_index_column": 207
        },
        {
         "date": "2010-07-28T00:00:00.000000",
         "PriceUSD": 0.0589110987726476,
         "_deepnote_index_column": 208
        },
        {
         "date": "2010-07-29T00:00:00.000000",
         "PriceUSD": 0.0699,
         "_deepnote_index_column": 209
        },
        {
         "date": "2010-07-30T00:00:00.000000",
         "PriceUSD": 0.064657381648159,
         "_deepnote_index_column": 210
        },
        {
         "date": "2010-07-31T00:00:00.000000",
         "PriceUSD": 0.0675457989479836,
         "_deepnote_index_column": 211
        },
        {
         "date": "2010-08-01T00:00:00.000000",
         "PriceUSD": 0.0611,
         "_deepnote_index_column": 212
        },
        {
         "date": "2010-08-02T00:00:00.000000",
         "PriceUSD": 0.06,
         "_deepnote_index_column": 213
        },
        {
         "date": "2010-08-03T00:00:00.000000",
         "PriceUSD": 0.0600121507890123,
         "_deepnote_index_column": 214
        },
        {
         "date": "2010-08-04T00:00:00.000000",
         "PriceUSD": 0.0570157802454705,
         "_deepnote_index_column": 215
        },
        {
         "date": "2010-08-05T00:00:00.000000",
         "PriceUSD": 0.061,
         "_deepnote_index_column": 216
        },
        {
         "date": "2010-08-06T00:00:00.000000",
         "PriceUSD": 0.0616713150204559,
         "_deepnote_index_column": 217
        },
        {
         "date": "2010-08-07T00:00:00.000000",
         "PriceUSD": 0.0590039450613676,
         "_deepnote_index_column": 218
        },
        {
         "date": "2010-08-08T00:00:00.000000",
         "PriceUSD": 0.0609,
         "_deepnote_index_column": 219
        },
        {
         "date": "2010-08-09T00:00:00.000000",
         "PriceUSD": 0.0704,
         "_deepnote_index_column": 220
        },
        {
         "date": "2010-08-10T00:00:00.000000",
         "PriceUSD": 0.0693387288135593,
         "_deepnote_index_column": 221
        },
        {
         "date": "2010-08-11T00:00:00.000000",
         "PriceUSD": 0.067,
         "_deepnote_index_column": 222
        },
        {
         "date": "2010-08-12T00:00:00.000000",
         "PriceUSD": 0.07,
         "_deepnote_index_column": 223
        },
        {
         "date": "2010-08-13T00:00:00.000000",
         "PriceUSD": 0.0645,
         "_deepnote_index_column": 224
        },
        {
         "date": "2010-08-14T00:00:00.000000",
         "PriceUSD": 0.0669964336645237,
         "_deepnote_index_column": 225
        },
        {
         "date": "2010-08-15T00:00:00.000000",
         "PriceUSD": 0.0651179322033898,
         "_deepnote_index_column": 226
        },
        {
         "date": "2010-08-16T00:00:00.000000",
         "PriceUSD": 0.0655,
         "_deepnote_index_column": 227
        },
        {
         "date": "2010-08-17T00:00:00.000000",
         "PriceUSD": 0.07,
         "_deepnote_index_column": 228
        },
        {
         "date": "2010-08-18T00:00:00.000000",
         "PriceUSD": 0.068,
         "_deepnote_index_column": 229
        },
        {
         "date": "2010-08-19T00:00:00.000000",
         "PriceUSD": 0.0667,
         "_deepnote_index_column": 230
        },
        {
         "date": "2010-08-20T00:00:00.000000",
         "PriceUSD": 0.0655,
         "_deepnote_index_column": 231
        },
        {
         "date": "2010-08-21T00:00:00.000000",
         "PriceUSD": 0.0664,
         "_deepnote_index_column": 232
        },
        {
         "date": "2010-08-22T00:00:00.000000",
         "PriceUSD": 0.0659289888953828,
         "_deepnote_index_column": 233
        },
        {
         "date": "2010-08-23T00:00:00.000000",
         "PriceUSD": 0.06491,
         "_deepnote_index_column": 234
        },
        {
         "date": "2010-08-24T00:00:00.000000",
         "PriceUSD": 0.065,
         "_deepnote_index_column": 235
        },
        {
         "date": "2010-08-25T00:00:00.000000",
         "PriceUSD": 0.0648,
         "_deepnote_index_column": 236
        },
        {
         "date": "2010-08-26T00:00:00.000000",
         "PriceUSD": 0.0640751139684395,
         "_deepnote_index_column": 237
        },
        {
         "date": "2010-08-27T00:00:00.000000",
         "PriceUSD": 0.065,
         "_deepnote_index_column": 238
        },
        {
         "date": "2010-08-28T00:00:00.000000",
         "PriceUSD": 0.0646,
         "_deepnote_index_column": 239
        },
        {
         "date": "2010-08-29T00:00:00.000000",
         "PriceUSD": 0.064,
         "_deepnote_index_column": 240
        },
        {
         "date": "2010-08-30T00:00:00.000000",
         "PriceUSD": 0.06497,
         "_deepnote_index_column": 241
        },
        {
         "date": "2010-08-31T00:00:00.000000",
         "PriceUSD": 0.06,
         "_deepnote_index_column": 242
        },
        {
         "date": "2010-09-01T00:00:00.000000",
         "PriceUSD": 0.0620248275862069,
         "_deepnote_index_column": 243
        },
        {
         "date": "2010-09-02T00:00:00.000000",
         "PriceUSD": 0.0634,
         "_deepnote_index_column": 244
        },
        {
         "date": "2010-09-03T00:00:00.000000",
         "PriceUSD": 0.06085,
         "_deepnote_index_column": 245
        },
        {
         "date": "2010-09-04T00:00:00.000000",
         "PriceUSD": 0.062178275862069,
         "_deepnote_index_column": 246
        },
        {
         "date": "2010-09-05T00:00:00.000000",
         "PriceUSD": 0.06165,
         "_deepnote_index_column": 247
        },
        {
         "date": "2010-09-06T00:00:00.000000",
         "PriceUSD": 0.0616,
         "_deepnote_index_column": 248
        },
        {
         "date": "2010-09-07T00:00:00.000000",
         "PriceUSD": 0.0612391180596142,
         "_deepnote_index_column": 249
        }
       ],
       "rows_bottom": [
        {
         "date": "2021-01-15T00:00:00.000000",
         "PriceUSD": 36710.3174248977,
         "_deepnote_index_column": 4032
        },
        {
         "date": "2021-01-16T00:00:00.000000",
         "PriceUSD": 36177.2610970193,
         "_deepnote_index_column": 4033
        },
        {
         "date": "2021-01-17T00:00:00.000000",
         "PriceUSD": 36069.939466803,
         "_deepnote_index_column": 4034
        },
        {
         "date": "2021-01-18T00:00:00.000000",
         "PriceUSD": 36594.2964018118,
         "_deepnote_index_column": 4035
        },
        {
         "date": "2021-01-19T00:00:00.000000",
         "PriceUSD": 36250.1461893629,
         "_deepnote_index_column": 4036
        },
        {
         "date": "2021-01-20T00:00:00.000000",
         "PriceUSD": 35515.480012858,
         "_deepnote_index_column": 4037
        },
        {
         "date": "2021-01-21T00:00:00.000000",
         "PriceUSD": 31022.9510280538,
         "_deepnote_index_column": 4038
        },
        {
         "date": "2021-01-22T00:00:00.000000",
         "PriceUSD": 32986.4357568673,
         "_deepnote_index_column": 4039
        },
        {
         "date": "2021-01-23T00:00:00.000000",
         "PriceUSD": 32036.2822723553,
         "_deepnote_index_column": 4040
        },
        {
         "date": "2021-01-24T00:00:00.000000",
         "PriceUSD": 32216.1042904734,
         "_deepnote_index_column": 4041
        },
        {
         "date": "2021-01-25T00:00:00.000000",
         "PriceUSD": 32419.7059462303,
         "_deepnote_index_column": 4042
        },
        {
         "date": "2021-01-26T00:00:00.000000",
         "PriceUSD": 32640.6391426067,
         "_deepnote_index_column": 4043
        },
        {
         "date": "2021-01-27T00:00:00.000000",
         "PriceUSD": 30358.9347235535,
         "_deepnote_index_column": 4044
        },
        {
         "date": "2021-01-28T00:00:00.000000",
         "PriceUSD": 33511.287595149,
         "_deepnote_index_column": 4045
        },
        {
         "date": "2021-01-29T00:00:00.000000",
         "PriceUSD": 34166.1494259497,
         "_deepnote_index_column": 4046
        },
        {
         "date": "2021-01-30T00:00:00.000000",
         "PriceUSD": 34349.9170952659,
         "_deepnote_index_column": 4047
        },
        {
         "date": "2021-01-31T00:00:00.000000",
         "PriceUSD": 33157.8325745178,
         "_deepnote_index_column": 4048
        },
        {
         "date": "2021-02-01T00:00:00.000000",
         "PriceUSD": 33570.2718468732,
         "_deepnote_index_column": 4049
        },
        {
         "date": "2021-02-02T00:00:00.000000",
         "PriceUSD": 35596.1489094097,
         "_deepnote_index_column": 4050
        },
        {
         "date": "2021-02-03T00:00:00.000000",
         "PriceUSD": 37578.3732068966,
         "_deepnote_index_column": 4051
        },
        {
         "date": "2021-02-04T00:00:00.000000",
         "PriceUSD": 37129.2029376972,
         "_deepnote_index_column": 4052
        },
        {
         "date": "2021-02-05T00:00:00.000000",
         "PriceUSD": 38045.4136084161,
         "_deepnote_index_column": 4053
        },
        {
         "date": "2021-02-06T00:00:00.000000",
         "PriceUSD": 39341.727081239,
         "_deepnote_index_column": 4054
        },
        {
         "date": "2021-02-07T00:00:00.000000",
         "PriceUSD": 39003.0121817651,
         "_deepnote_index_column": 4055
        },
        {
         "date": "2021-02-08T00:00:00.000000",
         "PriceUSD": 46121.9340724722,
         "_deepnote_index_column": 4056
        },
        {
         "date": "2021-02-09T00:00:00.000000",
         "PriceUSD": 46548.1619912332,
         "_deepnote_index_column": 4057
        },
        {
         "date": "2021-02-10T00:00:00.000000",
         "PriceUSD": 45078.128350263,
         "_deepnote_index_column": 4058
        },
        {
         "date": "2021-02-11T00:00:00.000000",
         "PriceUSD": 47892.8409181765,
         "_deepnote_index_column": 4059
        },
        {
         "date": "2021-02-12T00:00:00.000000",
         "PriceUSD": 47525.2091431911,
         "_deepnote_index_column": 4060
        },
        {
         "date": "2021-02-13T00:00:00.000000",
         "PriceUSD": 47208.6250270602,
         "_deepnote_index_column": 4061
        },
        {
         "date": "2021-02-14T00:00:00.000000",
         "PriceUSD": 48829.8275096435,
         "_deepnote_index_column": 4062
        },
        {
         "date": "2021-02-15T00:00:00.000000",
         "PriceUSD": 48110.2417334892,
         "_deepnote_index_column": 4063
        },
        {
         "date": "2021-02-16T00:00:00.000000",
         "PriceUSD": 49140.3826578024,
         "_deepnote_index_column": 4064
        },
        {
         "date": "2021-02-17T00:00:00.000000",
         "PriceUSD": 52224.9391139684,
         "_deepnote_index_column": 4065
        },
        {
         "date": "2021-02-18T00:00:00.000000",
         "PriceUSD": 51650.0699485681,
         "_deepnote_index_column": 4066
        },
        {
         "date": "2021-02-19T00:00:00.000000",
         "PriceUSD": 55820.5044038574,
         "_deepnote_index_column": 4067
        },
        {
         "date": "2021-02-20T00:00:00.000000",
         "PriceUSD": 55861.8205670953,
         "_deepnote_index_column": 4068
        },
        {
         "date": "2021-02-21T00:00:00.000000",
         "PriceUSD": 57500.7161102864,
         "_deepnote_index_column": 4069
        },
        {
         "date": "2021-02-22T00:00:00.000000",
         "PriceUSD": 53952.1533386324,
         "_deepnote_index_column": 4070
        },
        {
         "date": "2021-02-23T00:00:00.000000",
         "PriceUSD": 48560.4890350672,
         "_deepnote_index_column": 4071
        },
        {
         "date": "2021-02-24T00:00:00.000000",
         "PriceUSD": 49567.3456890707,
         "_deepnote_index_column": 4072
        },
        {
         "date": "2021-02-25T00:00:00.000000",
         "PriceUSD": 47568.131170076,
         "_deepnote_index_column": 4073
        },
        {
         "date": "2021-02-26T00:00:00.000000",
         "PriceUSD": 46231.7675784921,
         "_deepnote_index_column": 4074
        },
        {
         "date": "2021-02-27T00:00:00.000000",
         "PriceUSD": 45834.5133611923,
         "_deepnote_index_column": 4075
        },
        {
         "date": "2021-02-28T00:00:00.000000",
         "PriceUSD": 45359.4641642314,
         "_deepnote_index_column": 4076
        },
        {
         "date": "2021-03-01T00:00:00.000000",
         "PriceUSD": 49634.4471092928,
         "_deepnote_index_column": 4077
        },
        {
         "date": "2021-03-02T00:00:00.000000",
         "PriceUSD": 48304.7054879018,
         "_deepnote_index_column": 4078
        },
        {
         "date": "2021-03-03T00:00:00.000000",
         "PriceUSD": 50690.4671835184,
         "_deepnote_index_column": 4079
        },
        {
         "date": "2021-03-04T00:00:00.000000",
         "PriceUSD": 48472.7954751607,
         "_deepnote_index_column": 4080
        },
        {
         "date": "2021-03-05T00:00:00.000000",
         "PriceUSD": 48800.8173594389,
         "_deepnote_index_column": 4081
        },
        {
         "date": "2021-03-06T00:00:00.000000",
         "PriceUSD": 48970.5244868498,
         "_deepnote_index_column": 4082
        },
        {
         "date": "2021-03-07T00:00:00.000000",
         "PriceUSD": 51086.4681794272,
         "_deepnote_index_column": 4083
        },
        {
         "date": "2021-03-08T00:00:00.000000",
         "PriceUSD": 52088.475131502,
         "_deepnote_index_column": 4084
        },
        {
         "date": "2021-03-09T00:00:00.000000",
         "PriceUSD": 54739.1352542373,
         "_deepnote_index_column": 4085
        },
        {
         "date": "2021-03-10T00:00:00.000000",
         "PriceUSD": 56116.040912332,
         "_deepnote_index_column": 4086
        },
        {
         "date": "2021-03-11T00:00:00.000000",
         "PriceUSD": 57847.2549357101,
         "_deepnote_index_column": 4087
        },
        {
         "date": "2021-03-12T00:00:00.000000",
         "PriceUSD": 57334.641534775,
         "_deepnote_index_column": 4088
        },
        {
         "date": "2021-03-13T00:00:00.000000",
         "PriceUSD": 61288.7941276447,
         "_deepnote_index_column": 4089
        },
        {
         "date": "2021-03-14T00:00:00.000000",
         "PriceUSD": 59905.6184704851,
         "_deepnote_index_column": 4090
        },
        {
         "date": "2021-03-15T00:00:00.000000",
         "PriceUSD": 56121.121924021,
         "_deepnote_index_column": 4091
        },
        {
         "date": "2021-03-16T00:00:00.000000",
         "PriceUSD": 56500.4460257159,
         "_deepnote_index_column": 4092
        },
        {
         "date": "2021-03-17T00:00:00.000000",
         "PriceUSD": 58683.0659824664,
         "_deepnote_index_column": 4093
        },
        {
         "date": "2021-03-18T00:00:00.000000",
         "PriceUSD": 57731.4798410871,
         "_deepnote_index_column": 4094
        },
        {
         "date": "2021-03-19T00:00:00.000000",
         "PriceUSD": 58168.1219222677,
         "_deepnote_index_column": 4095
        },
        {
         "date": "2021-03-20T00:00:00.000000",
         "PriceUSD": 58247.8847066043,
         "_deepnote_index_column": 4096
        },
        {
         "date": "2021-03-21T00:00:00.000000",
         "PriceUSD": 57447.9330198714,
         "_deepnote_index_column": 4097
        },
        {
         "date": "2021-03-22T00:00:00.000000",
         "PriceUSD": 54453.1373508475,
         "_deepnote_index_column": 4098
        },
        {
         "date": "2021-03-23T00:00:00.000000",
         "PriceUSD": 54563.6119458211,
         "_deepnote_index_column": 4099
        },
        {
         "date": "2021-03-24T00:00:00.000000",
         "PriceUSD": 52595.4113237873,
         "_deepnote_index_column": 4100
        },
        {
         "date": "2021-03-25T00:00:00.000000",
         "PriceUSD": 51547.1248953828,
         "_deepnote_index_column": 4101
        },
        {
         "date": "2021-03-26T00:00:00.000000",
         "PriceUSD": 54817.8571122151,
         "_deepnote_index_column": 4102
        },
        {
         "date": "2021-03-27T00:00:00.000000",
         "PriceUSD": 56019.8373055523,
         "_deepnote_index_column": 4103
        },
        {
         "date": "2021-03-28T00:00:00.000000",
         "PriceUSD": 55713.0381396844,
         "_deepnote_index_column": 4104
        },
        {
         "date": "2021-03-29T00:00:00.000000",
         "PriceUSD": 57571.2333477498,
         "_deepnote_index_column": 4105
        },
        {
         "date": "2021-03-30T00:00:00.000000",
         "PriceUSD": 58684.5483921683,
         "_deepnote_index_column": 4106
        },
        {
         "date": "2021-03-31T00:00:00.000000",
         "PriceUSD": 58792.1948275862,
         "_deepnote_index_column": 4107
        },
        {
         "date": "2021-04-01T00:00:00.000000",
         "PriceUSD": 58818.9770985973,
         "_deepnote_index_column": 4108
        },
        {
         "date": "2021-04-02T00:00:00.000000",
         "PriceUSD": 59031.5340192285,
         "_deepnote_index_column": 4109
        },
        {
         "date": "2021-04-03T00:00:00.000000",
         "PriceUSD": 57282.3896247808,
         "_deepnote_index_column": 4110
        },
        {
         "date": "2021-04-04T00:00:00.000000",
         "PriceUSD": 58202.199391993,
         "_deepnote_index_column": 4111
        },
        {
         "date": "2021-04-05T00:00:00.000000",
         "PriceUSD": 58755.8525295149,
         "_deepnote_index_column": 4112
        },
        {
         "date": "2021-04-06T00:00:00.000000",
         "PriceUSD": 58084.0664231444,
         "_deepnote_index_column": 4113
        },
        {
         "date": "2021-04-07T00:00:00.000000",
         "PriceUSD": 56266.8346762127,
         "_deepnote_index_column": 4114
        },
        {
         "date": "2021-04-08T00:00:00.000000",
         "PriceUSD": 57963.3445994155,
         "_deepnote_index_column": 4115
        },
        {
         "date": "2021-04-09T00:00:00.000000",
         "PriceUSD": 58051.7625563998,
         "_deepnote_index_column": 4116
        },
        {
         "date": "2021-04-10T00:00:00.000000",
         "PriceUSD": 59651.5589877265,
         "_deepnote_index_column": 4117
        },
        {
         "date": "2021-04-11T00:00:00.000000",
         "PriceUSD": 59932.9306469901,
         "_deepnote_index_column": 4118
        },
        {
         "date": "2021-04-12T00:00:00.000000",
         "PriceUSD": 59905.9363744594,
         "_deepnote_index_column": 4119
        },
        {
         "date": "2021-04-13T00:00:00.000000",
         "PriceUSD": 63445.638314436,
         "_deepnote_index_column": 4120
        },
        {
         "date": "2021-04-14T00:00:00.000000",
         "PriceUSD": 62869.4955873758,
         "_deepnote_index_column": 4121
        },
        {
         "date": "2021-04-15T00:00:00.000000",
         "PriceUSD": 63231.162987142,
         "_deepnote_index_column": 4122
        },
        {
         "date": "2021-04-16T00:00:00.000000",
         "PriceUSD": 61571.1100905903,
         "_deepnote_index_column": 4123
        },
        {
         "date": "2021-04-17T00:00:00.000000",
         "PriceUSD": 60280.8761758036,
         "_deepnote_index_column": 4124
        },
        {
         "date": "2021-04-18T00:00:00.000000",
         "PriceUSD": 56389.5579812975,
         "_deepnote_index_column": 4125
        },
        {
         "date": "2021-04-19T00:00:00.000000",
         "PriceUSD": 55798.1370771479,
         "_deepnote_index_column": 4126
        },
        {
         "date": "2021-04-20T00:00:00.000000",
         "PriceUSD": 56474.3737586207,
         "_deepnote_index_column": 4127
        },
        {
         "date": "2021-04-21T00:00:00.000000",
         "PriceUSD": 54025.7995745178,
         "_deepnote_index_column": 4128
        },
        {
         "date": "2021-04-22T00:00:00.000000",
         "PriceUSD": 51882.0598106371,
         "_deepnote_index_column": 4129
        },
        {
         "date": "2021-04-23T00:00:00.000000",
         "PriceUSD": 50954.9100607832,
         "_deepnote_index_column": 4130
        },
        {
         "date": "2021-04-24T00:00:00.000000",
         "PriceUSD": 50279.9484464056,
         "_deepnote_index_column": 4131
        },
        {
         "date": "2021-04-25T00:00:00.000000",
         "PriceUSD": 48946.9407428404,
         "_deepnote_index_column": 4132
        },
        {
         "date": "2021-04-26T00:00:00.000000",
         "PriceUSD": 53943.3499783752,
         "_deepnote_index_column": 4133
        },
        {
         "date": "2021-04-27T00:00:00.000000",
         "PriceUSD": 55027.0309848042,
         "_deepnote_index_column": 4134
        },
        {
         "date": "2021-04-28T00:00:00.000000",
         "PriceUSD": 54787.3787071888,
         "_deepnote_index_column": 4135
        },
        {
         "date": "2021-04-29T00:00:00.000000",
         "PriceUSD": 53567.0811938048,
         "_deepnote_index_column": 4136
        },
        {
         "date": "2021-04-30T00:00:00.000000",
         "PriceUSD": 57741.44441654,
         "_deepnote_index_column": 4137
        },
        {
         "date": "2021-05-01T00:00:00.000000",
         "PriceUSD": 57863.5903927528,
         "_deepnote_index_column": 4138
        },
        {
         "date": "2021-05-02T00:00:00.000000",
         "PriceUSD": 56572.5968410286,
         "_deepnote_index_column": 4139
        },
        {
         "date": "2021-05-03T00:00:00.000000",
         "PriceUSD": 57243.0416054939,
         "_deepnote_index_column": 4140
        },
        {
         "date": "2021-05-04T00:00:00.000000",
         "PriceUSD": 53724.10892519,
         "_deepnote_index_column": 4141
        },
        {
         "date": "2021-05-05T00:00:00.000000",
         "PriceUSD": 57342.0256616014,
         "_deepnote_index_column": 4142
        },
        {
         "date": "2021-05-06T00:00:00.000000",
         "PriceUSD": 56527.3529789597,
         "_deepnote_index_column": 4143
        },
        {
         "date": "2021-05-07T00:00:00.000000",
         "PriceUSD": 57341.0684549386,
         "_deepnote_index_column": 4144
        },
        {
         "date": "2021-05-08T00:00:00.000000",
         "PriceUSD": 58736.1258950906,
         "_deepnote_index_column": 4145
        },
        {
         "date": "2021-05-09T00:00:00.000000",
         "PriceUSD": 58288.4256303916,
         "_deepnote_index_column": 4146
        },
        {
         "date": "2021-05-10T00:00:00.000000",
         "PriceUSD": 55902.9277399182,
         "_deepnote_index_column": 4147
        },
        {
         "date": "2021-05-11T00:00:00.000000",
         "PriceUSD": 56612.1026487434,
         "_deepnote_index_column": 4148
        },
        {
         "date": "2021-05-12T00:00:00.000000",
         "PriceUSD": 50972.355081239,
         "_deepnote_index_column": 4149
        },
        {
         "date": "2021-05-13T00:00:00.000000",
         "PriceUSD": 49368.6144739918,
         "_deepnote_index_column": 4150
        },
        {
         "date": "2021-05-14T00:00:00.000000",
         "PriceUSD": 49997.3959011105,
         "_deepnote_index_column": 4151
        },
        {
         "date": "2021-05-15T00:00:00.000000",
         "PriceUSD": 47047.9633331385,
         "_deepnote_index_column": 4152
        },
        {
         "date": "2021-05-16T00:00:00.000000",
         "PriceUSD": 46022.5037090006,
         "_deepnote_index_column": 4153
        },
        {
         "date": "2021-05-17T00:00:00.000000",
         "PriceUSD": 43492.3954833431,
         "_deepnote_index_column": 4154
        },
        {
         "date": "2021-05-18T00:00:00.000000",
         "PriceUSD": 42789.8093921683,
         "_deepnote_index_column": 4155
        },
        {
         "date": "2021-05-19T00:00:00.000000",
         "PriceUSD": 37642.5200017534,
         "_deepnote_index_column": 4156
        },
        {
         "date": "2021-05-20T00:00:00.000000",
         "PriceUSD": 40799.4021475745,
         "_deepnote_index_column": 4157
        },
        {
         "date": "2021-05-21T00:00:00.000000",
         "PriceUSD": 37174.3311014027,
         "_deepnote_index_column": 4158
        },
        {
         "date": "2021-05-22T00:00:00.000000",
         "PriceUSD": 37643.4197983635,
         "_deepnote_index_column": 4159
        },
        {
         "date": "2021-05-23T00:00:00.000000",
         "PriceUSD": 34774.207221917,
         "_deepnote_index_column": 4160
        },
        {
         "date": "2021-05-24T00:00:00.000000",
         "PriceUSD": 38630.4091186441,
         "_deepnote_index_column": 4161
        },
        {
         "date": "2021-05-25T00:00:00.000000",
         "PriceUSD": 38269.7710747516,
         "_deepnote_index_column": 4162
        },
        {
         "date": "2021-05-26T00:00:00.000000",
         "PriceUSD": 39194.8588980129,
         "_deepnote_index_column": 4163
        },
        {
         "date": "2021-05-27T00:00:00.000000",
         "PriceUSD": 38510.8570417884,
         "_deepnote_index_column": 4164
        },
        {
         "date": "2021-05-28T00:00:00.000000",
         "PriceUSD": 35596.7179510228,
         "_deepnote_index_column": 4165
        },
        {
         "date": "2021-05-29T00:00:00.000000",
         "PriceUSD": 34681.8183670368,
         "_deepnote_index_column": 4166
        },
        {
         "date": "2021-05-30T00:00:00.000000",
         "PriceUSD": 35652.1687703098,
         "_deepnote_index_column": 4167
        },
        {
         "date": "2021-05-31T00:00:00.000000",
         "PriceUSD": 37312.9748970193,
         "_deepnote_index_column": 4168
        },
        {
         "date": "2021-06-01T00:00:00.000000",
         "PriceUSD": 36661.3781184687,
         "_deepnote_index_column": 4169
        },
        {
         "date": "2021-06-02T00:00:00.000000",
         "PriceUSD": 37639.4556732905,
         "_deepnote_index_column": 4170
        },
        {
         "date": "2021-06-03T00:00:00.000000",
         "PriceUSD": 39160.1504132086,
         "_deepnote_index_column": 4171
        },
        {
         "date": "2021-06-04T00:00:00.000000",
         "PriceUSD": 36884.3735551724,
         "_deepnote_index_column": 4172
        },
        {
         "date": "2021-06-05T00:00:00.000000",
         "PriceUSD": 35409.5672366452,
         "_deepnote_index_column": 4173
        },
        {
         "date": "2021-06-06T00:00:00.000000",
         "PriceUSD": 35720.6043546464,
         "_deepnote_index_column": 4174
        },
        {
         "date": "2021-06-07T00:00:00.000000",
         "PriceUSD": 33724.9077517826,
         "_deepnote_index_column": 4175
        },
        {
         "date": "2021-06-08T00:00:00.000000",
         "PriceUSD": 33475.0489234366,
         "_deepnote_index_column": 4176
        },
        {
         "date": "2021-06-09T00:00:00.000000",
         "PriceUSD": 37372.9888953828,
         "_deepnote_index_column": 4177
        },
        {
         "date": "2021-06-10T00:00:00.000000",
         "PriceUSD": 36826.0022185856,
         "_deepnote_index_column": 4178
        },
        {
         "date": "2021-06-11T00:00:00.000000",
         "PriceUSD": 37185.3931268264,
         "_deepnote_index_column": 4179
        },
        {
         "date": "2021-06-12T00:00:00.000000",
         "PriceUSD": 35669.1712817066,
         "_deepnote_index_column": 4180
        },
        {
         "date": "2021-06-13T00:00:00.000000",
         "PriceUSD": 38925.4194289889,
         "_deepnote_index_column": 4181
        },
        {
         "date": "2021-06-14T00:00:00.000000",
         "PriceUSD": 40455.5959833431,
         "_deepnote_index_column": 4182
        },
        {
         "date": "2021-06-15T00:00:00.000000",
         "PriceUSD": 40254.6514679135,
         "_deepnote_index_column": 4183
        },
        {
         "date": "2021-06-16T00:00:00.000000",
         "PriceUSD": 38265.5437726476,
         "_deepnote_index_column": 4184
        },
        {
         "date": "2021-06-17T00:00:00.000000",
         "PriceUSD": 38018.6432346581,
         "_deepnote_index_column": 4185
        },
        {
         "date": "2021-06-18T00:00:00.000000",
         "PriceUSD": 35714.3120787259,
         "_deepnote_index_column": 4186
        },
        {
         "date": "2021-06-19T00:00:00.000000",
         "PriceUSD": 35555.9763966686,
         "_deepnote_index_column": 4187
        },
        {
         "date": "2021-06-20T00:00:00.000000",
         "PriceUSD": 35599.9418784337,
         "_deepnote_index_column": 4188
        },
        {
         "date": "2021-06-21T00:00:00.000000",
         "PriceUSD": 31715.1598624196,
         "_deepnote_index_column": 4189
        },
        {
         "date": "2021-06-22T00:00:00.000000",
         "PriceUSD": 32394.5555949737,
         "_deepnote_index_column": 4190
        },
        {
         "date": "2021-06-23T00:00:00.000000",
         "PriceUSD": 33610.4968129749,
         "_deepnote_index_column": 4191
        },
        {
         "date": "2021-06-24T00:00:00.000000",
         "PriceUSD": 34658.972875979,
         "_deepnote_index_column": 4192
        },
        {
         "date": "2021-06-25T00:00:00.000000",
         "PriceUSD": 31683.5032004676,
         "_deepnote_index_column": 4193
        },
        {
         "date": "2021-06-26T00:00:00.000000",
         "PriceUSD": 31890.6764465225,
         "_deepnote_index_column": 4194
        },
        {
         "date": "2021-06-27T00:00:00.000000",
         "PriceUSD": 34506.4911975453,
         "_deepnote_index_column": 4195
        },
        {
         "date": "2021-06-28T00:00:00.000000",
         "PriceUSD": 34376.188538983,
         "_deepnote_index_column": 4196
        },
        {
         "date": "2021-06-29T00:00:00.000000",
         "PriceUSD": 35933.7782178843,
         "_deepnote_index_column": 4197
        },
        {
         "date": "2021-06-30T00:00:00.000000",
         "PriceUSD": 35065.4661533606,
         "_deepnote_index_column": 4198
        },
        {
         "date": "2021-07-01T00:00:00.000000",
         "PriceUSD": 33505.0804935126,
         "_deepnote_index_column": 4199
        },
        {
         "date": "2021-07-02T00:00:00.000000",
         "PriceUSD": 33782.9459464641,
         "_deepnote_index_column": 4200
        },
        {
         "date": "2021-07-03T00:00:00.000000",
         "PriceUSD": 34588.2242916423,
         "_deepnote_index_column": 4201
        },
        {
         "date": "2021-07-04T00:00:00.000000",
         "PriceUSD": 35355.6078883694,
         "_deepnote_index_column": 4202
        },
        {
         "date": "2021-07-05T00:00:00.000000",
         "PriceUSD": 33911.7538404442,
         "_deepnote_index_column": 4203
        },
        {
         "date": "2021-07-06T00:00:00.000000",
         "PriceUSD": 34123.9815680888,
         "_deepnote_index_column": 4204
        },
        {
         "date": "2021-07-07T00:00:00.000000",
         "PriceUSD": 33931.6186382233,
         "_deepnote_index_column": 4205
        },
        {
         "date": "2021-07-08T00:00:00.000000",
         "PriceUSD": 32819.6595312098,
         "_deepnote_index_column": 4206
        },
        {
         "date": "2021-07-09T00:00:00.000000",
         "PriceUSD": 33914.8810742256,
         "_deepnote_index_column": 4207
        },
        {
         "date": "2021-07-10T00:00:00.000000",
         "PriceUSD": 33610.9458386908,
         "_deepnote_index_column": 4208
        },
        {
         "date": "2021-07-11T00:00:00.000000",
         "PriceUSD": 34258.4413898305,
         "_deepnote_index_column": 4209
        },
        {
         "date": "2021-07-12T00:00:00.000000",
         "PriceUSD": 33135.2359117475,
         "_deepnote_index_column": 4210
        },
        {
         "date": "2021-07-13T00:00:00.000000",
         "PriceUSD": 32641.9759610169,
         "_deepnote_index_column": 4211
        },
        {
         "date": "2021-07-14T00:00:00.000000",
         "PriceUSD": 32798.2845189947,
         "_deepnote_index_column": 4212
        },
        {
         "date": "2021-07-15T00:00:00.000000",
         "PriceUSD": 31707.6900368206,
         "_deepnote_index_column": 4213
        },
        {
         "date": "2021-07-16T00:00:00.000000",
         "PriceUSD": 31455.7175818819,
         "_deepnote_index_column": 4214
        },
        {
         "date": "2021-07-17T00:00:00.000000",
         "PriceUSD": 31547.9511990064,
         "_deepnote_index_column": 4215
        },
        {
         "date": "2021-07-18T00:00:00.000000",
         "PriceUSD": 31707.7038527177,
         "_deepnote_index_column": 4216
        },
        {
         "date": "2021-07-19T00:00:00.000000",
         "PriceUSD": 30883.4697462303,
         "_deepnote_index_column": 4217
        },
        {
         "date": "2021-07-20T00:00:00.000000",
         "PriceUSD": 29766.6577182934,
         "_deepnote_index_column": 4218
        },
        {
         "date": "2021-07-21T00:00:00.000000",
         "PriceUSD": 32119.6572258328,
         "_deepnote_index_column": 4219
        },
        {
         "date": "2021-07-22T00:00:00.000000",
         "PriceUSD": 32306.9614285798,
         "_deepnote_index_column": 4220
        },
        {
         "date": "2021-07-23T00:00:00.000000",
         "PriceUSD": 33439.5957028638,
         "_deepnote_index_column": 4221
        },
        {
         "date": "2021-07-24T00:00:00.000000",
         "PriceUSD": 34166.914654588,
         "_deepnote_index_column": 4222
        },
        {
         "date": "2021-07-25T00:00:00.000000",
         "PriceUSD": 35119.9374360023,
         "_deepnote_index_column": 4223
        },
        {
         "date": "2021-07-26T00:00:00.000000",
         "PriceUSD": 37444.7825102279,
         "_deepnote_index_column": 4224
        },
        {
         "date": "2021-07-27T00:00:00.000000",
         "PriceUSD": 39126.5402881356,
         "_deepnote_index_column": 4225
        },
        {
         "date": "2021-07-28T00:00:00.000000",
         "PriceUSD": 39939.1940432495,
         "_deepnote_index_column": 4226
        },
        {
         "date": "2021-07-29T00:00:00.000000",
         "PriceUSD": 40086.1643950906,
         "_deepnote_index_column": 4227
        },
        {
         "date": "2021-07-30T00:00:00.000000",
         "PriceUSD": 41789.6670981882,
         "_deepnote_index_column": 4228
        },
        {
         "date": "2021-07-31T00:00:00.000000",
         "PriceUSD": 41793.3137481005,
         "_deepnote_index_column": 4229
        },
        {
         "date": "2021-08-01T00:00:00.000000",
         "PriceUSD": 39968.9689544126,
         "_deepnote_index_column": 4230
        },
        {
         "date": "2021-08-02T00:00:00.000000",
         "PriceUSD": 39304.1862835769,
         "_deepnote_index_column": 4231
        },
        {
         "date": "2021-08-03T00:00:00.000000",
         "PriceUSD": 38288.8253975453,
         "_deepnote_index_column": 4232
        },
        {
         "date": "2021-08-04T00:00:00.000000",
         "PriceUSD": 39773.9113489188,
         "_deepnote_index_column": 4233
        },
        {
         "date": "2021-08-05T00:00:00.000000",
         "PriceUSD": 40941.650434249,
         "_deepnote_index_column": 4234
        },
        {
         "date": "2021-08-06T00:00:00.000000",
         "PriceUSD": 42790.3573284629,
         "_deepnote_index_column": 4235
        },
        {
         "date": "2021-08-07T00:00:00.000000",
         "PriceUSD": 44484.9005862069,
         "_deepnote_index_column": 4236
        },
        {
         "date": "2021-08-08T00:00:00.000000",
         "PriceUSD": 43972.3010181181,
         "_deepnote_index_column": 4237
        },
        {
         "date": "2021-08-09T00:00:00.000000",
         "PriceUSD": 46265.6424564582,
         "_deepnote_index_column": 4238
        },
        {
         "date": "2021-08-10T00:00:00.000000",
         "PriceUSD": 45488.7912624196,
         "_deepnote_index_column": 4239
        },
        {
         "date": "2021-08-11T00:00:00.000000",
         "PriceUSD": 45676.3263611923,
         "_deepnote_index_column": 4240
        },
        {
         "date": "2021-08-12T00:00:00.000000",
         "PriceUSD": 44405.7483483343,
         "_deepnote_index_column": 4241
        },
        {
         "date": "2021-08-13T00:00:00.000000",
         "PriceUSD": 47717.4853559322,
         "_deepnote_index_column": 4242
        },
        {
         "date": "2021-08-14T00:00:00.000000",
         "PriceUSD": 47124.2050736411,
         "_deepnote_index_column": 4243
        },
        {
         "date": "2021-08-15T00:00:00.000000",
         "PriceUSD": 47074.370710111,
         "_deepnote_index_column": 4244
        },
        {
         "date": "2021-08-16T00:00:00.000000",
         "PriceUSD": 45984.7199070719,
         "_deepnote_index_column": 4245
        },
        {
         "date": "2021-08-17T00:00:00.000000",
         "PriceUSD": 44714.0967982466,
         "_deepnote_index_column": 4246
        },
        {
         "date": "2021-08-18T00:00:00.000000",
         "PriceUSD": 44954.3637469316,
         "_deepnote_index_column": 4247
        },
        {
         "date": "2021-08-19T00:00:00.000000",
         "PriceUSD": 46646.8615049679,
         "_deepnote_index_column": 4248
        },
        {
         "date": "2021-08-20T00:00:00.000000",
         "PriceUSD": 49240.8356049094,
         "_deepnote_index_column": 4249
        },
        {
         "date": "2021-08-21T00:00:00.000000",
         "PriceUSD": 49070.2409701929,
         "_deepnote_index_column": 4250
        },
        {
         "date": "2021-08-22T00:00:00.000000",
         "PriceUSD": 49363.3160952659,
         "_deepnote_index_column": 4251
        },
        {
         "date": "2021-08-23T00:00:00.000000",
         "PriceUSD": 49590.8763676213,
         "_deepnote_index_column": 4252
        },
        {
         "date": "2021-08-24T00:00:00.000000",
         "PriceUSD": 47925.8622127411,
         "_deepnote_index_column": 4253
        },
        {
         "date": "2021-08-25T00:00:00.000000",
         "PriceUSD": 49002.3166049094,
         "_deepnote_index_column": 4254
        },
        {
         "date": "2021-08-26T00:00:00.000000",
         "PriceUSD": 47190.3449929866,
         "_deepnote_index_column": 4255
        },
        {
         "date": "2021-08-27T00:00:00.000000",
         "PriceUSD": 49048.4755891292,
         "_deepnote_index_column": 4256
        },
        {
         "date": "2021-08-28T00:00:00.000000",
         "PriceUSD": 48852.4687995324,
         "_deepnote_index_column": 4257
        },
        {
         "date": "2021-08-29T00:00:00.000000",
         "PriceUSD": 48948.3479579193,
         "_deepnote_index_column": 4258
        },
        {
         "date": "2021-08-30T00:00:00.000000",
         "PriceUSD": 47125.7685189947,
         "_deepnote_index_column": 4259
        },
        {
         "date": "2021-08-31T00:00:00.000000",
         "PriceUSD": 47219.2443424898,
         "_deepnote_index_column": 4260
        },
        {
         "date": "2021-09-01T00:00:00.000000",
         "PriceUSD": 48688.5375572764,
         "_deepnote_index_column": 4261
        },
        {
         "date": "2021-09-02T00:00:00.000000",
         "PriceUSD": 49369.5862746932,
         "_deepnote_index_column": 4262
        },
        {
         "date": "2021-09-03T00:00:00.000000",
         "PriceUSD": 49860.5341635301,
         "_deepnote_index_column": 4263
        },
        {
         "date": "2021-09-04T00:00:00.000000",
         "PriceUSD": 49919.577563647,
         "_deepnote_index_column": 4264
        },
        {
         "date": "2021-09-05T00:00:00.000000",
         "PriceUSD": 51747.6438565167,
         "_deepnote_index_column": 4265
        },
        {
         "date": "2021-09-06T00:00:00.000000",
         "PriceUSD": 52640.5883740503,
         "_deepnote_index_column": 4266
        },
        {
         "date": "2021-09-07T00:00:00.000000",
         "PriceUSD": 46854.4006028638,
         "_deepnote_index_column": 4267
        },
        {
         "date": "2021-09-08T00:00:00.000000",
         "PriceUSD": 46187.9757306254,
         "_deepnote_index_column": 4268
        },
        {
         "date": "2021-09-09T00:00:00.000000",
         "PriceUSD": 46448.7748290473,
         "_deepnote_index_column": 4269
        },
        {
         "date": "2021-09-10T00:00:00.000000",
         "PriceUSD": 44765.2755762712,
         "_deepnote_index_column": 4270
        },
        {
         "date": "2021-09-11T00:00:00.000000",
         "PriceUSD": 45098.5916447691,
         "_deepnote_index_column": 4271
        },
        {
         "date": "2021-09-12T00:00:00.000000",
         "PriceUSD": 46180.6124563998,
         "_deepnote_index_column": 4272
        },
        {
         "date": "2021-09-13T00:00:00.000000",
         "PriceUSD": 44991.5221277031,
         "_deepnote_index_column": 4273
        },
        {
         "date": "2021-09-14T00:00:00.000000",
         "PriceUSD": 47022.6177597896,
         "_deepnote_index_column": 4274
        },
        {
         "date": "2021-09-15T00:00:00.000000",
         "PriceUSD": 48167.1893676213,
         "_deepnote_index_column": 4275
        },
        {
         "date": "2021-09-16T00:00:00.000000",
         "PriceUSD": 47797.3283237873,
         "_deepnote_index_column": 4276
        },
        {
         "date": "2021-09-17T00:00:00.000000",
         "PriceUSD": 47213.7941294565,
         "_deepnote_index_column": 4277
        },
        {
         "date": "2021-09-18T00:00:00.000000",
         "PriceUSD": 48204.0136519579,
         "_deepnote_index_column": 4278
        },
        {
         "date": "2021-09-19T00:00:00.000000",
         "PriceUSD": 47218.4739964933,
         "_deepnote_index_column": 4279
        },
        {
         "date": "2021-09-20T00:00:00.000000",
         "PriceUSD": 42855.5103448276,
         "_deepnote_index_column": 4280
        },
        {
         "date": "2021-09-21T00:00:00.000000",
         "PriceUSD": 40526.4893760958,
         "_deepnote_index_column": 4281
        }
       ]
      },
      "text/plain": "                          date      PriceUSD\n0    2010-01-01 00:00:00+00:00           NaN\n1    2010-01-02 00:00:00+00:00           NaN\n2    2010-01-03 00:00:00+00:00           NaN\n3    2010-01-04 00:00:00+00:00           NaN\n4    2010-01-05 00:00:00+00:00           NaN\n...                        ...           ...\n4277 2021-09-17 00:00:00+00:00  47213.794129\n4278 2021-09-18 00:00:00+00:00  48204.013652\n4279 2021-09-19 00:00:00+00:00  47218.473996\n4280 2021-09-20 00:00:00+00:00  42855.510345\n4281 2021-09-21 00:00:00+00:00  40526.489376\n\n[4282 rows x 2 columns]",
      "text/html": "<div>\n<style scoped>\n    .dataframe tbody tr th:only-of-type {\n        vertical-align: middle;\n    }\n\n    .dataframe tbody tr th {\n        vertical-align: top;\n    }\n\n    .dataframe thead th {\n        text-align: right;\n    }\n</style>\n<table border=\"1\" class=\"dataframe\">\n  <thead>\n    <tr style=\"text-align: right;\">\n      <th></th>\n      <th>date</th>\n      <th>PriceUSD</th>\n    </tr>\n  </thead>\n  <tbody>\n    <tr>\n      <th>0</th>\n      <td>2010-01-01 00:00:00+00:00</td>\n      <td>NaN</td>\n    </tr>\n    <tr>\n      <th>1</th>\n      <td>2010-01-02 00:00:00+00:00</td>\n      <td>NaN</td>\n    </tr>\n    <tr>\n      <th>2</th>\n      <td>2010-01-03 00:00:00+00:00</td>\n      <td>NaN</td>\n    </tr>\n    <tr>\n      <th>3</th>\n      <td>2010-01-04 00:00:00+00:00</td>\n      <td>NaN</td>\n    </tr>\n    <tr>\n      <th>4</th>\n      <td>2010-01-05 00:00:00+00:00</td>\n      <td>NaN</td>\n    </tr>\n    <tr>\n      <th>...</th>\n      <td>...</td>\n      <td>...</td>\n    </tr>\n    <tr>\n      <th>4277</th>\n      <td>2021-09-17 00:00:00+00:00</td>\n      <td>47213.794129</td>\n    </tr>\n    <tr>\n      <th>4278</th>\n      <td>2021-09-18 00:00:00+00:00</td>\n      <td>48204.013652</td>\n    </tr>\n    <tr>\n      <th>4279</th>\n      <td>2021-09-19 00:00:00+00:00</td>\n      <td>47218.473996</td>\n    </tr>\n    <tr>\n      <th>4280</th>\n      <td>2021-09-20 00:00:00+00:00</td>\n      <td>42855.510345</td>\n    </tr>\n    <tr>\n      <th>4281</th>\n      <td>2021-09-21 00:00:00+00:00</td>\n      <td>40526.489376</td>\n    </tr>\n  </tbody>\n</table>\n<p>4282 rows × 2 columns</p>\n</div>"
     },
     "metadata": {}
    }
   ],
   "execution_count": null
  },
  {
   "cell_type": "code",
   "metadata": {
    "tags": [],
    "deepnote_to_be_reexecuted": false,
    "source_hash": "5828b6c4",
    "execution_start": 1632709667475,
    "execution_millis": 2,
    "cell_id": "00018-95b5c257-aab9-4fa8-8918-2252a9363143",
    "deepnote_cell_type": "code"
   },
   "source": "price.info()",
   "outputs": [
    {
     "name": "stdout",
     "text": "<class 'pandas.core.frame.DataFrame'>\nInt64Index: 4282 entries, 0 to 4281\nData columns (total 2 columns):\n #   Column    Non-Null Count  Dtype              \n---  ------    --------------  -----              \n 0   date      4282 non-null   datetime64[ns, UTC]\n 1   PriceUSD  4084 non-null   float64            \ndtypes: datetime64[ns, UTC](1), float64(1)\nmemory usage: 100.4 KB\n",
     "output_type": "stream"
    }
   ],
   "execution_count": null
  },
  {
   "cell_type": "code",
   "metadata": {
    "tags": [],
    "deepnote_to_be_reexecuted": false,
    "source_hash": "37f22610",
    "execution_start": 1632709667528,
    "execution_millis": 880,
    "cell_id": "00019-67bca498-352b-4bd4-93e4-bf36c9222240",
    "deepnote_cell_type": "code"
   },
   "source": "# plot price for historical data\n\nplt.figure(figsize = (12, 5))\n#plt.plot(price['PriceUSD'])\nplt.plot(price['date'], price['PriceUSD'])\n#plt.xticks(range(0, df.shape[0], 180), df['date'].loc[::180], rotation=45)\n#plt.xticks(range(0, price.shape[0], 180), price['date'].loc[::180], rotation=45)\nplt.title('{} Historical Price'.format(coin_name), fontsize=14, fontweight='bold')\nplt.xlabel('Date', fontsize=14)\nplt.ylabel('Price in USD', fontsize=14)\n\n\ntime_index_split = int(np.round((len(price)*.90)))   \n\nplt.axvline(x=price.iloc[time_index_split]['date'] , color='r', label='axvline - full height')\n#plt.legend(['historical price', 'cutoff at 90%'])\n\n\narrow_start = price.iloc[time_index_split]['date'] #+ timedelta(days = 730)\ntext_start = price.iloc[time_index_split -2500]['date'] #+ timedelta() \n\nplt.annotate('end of 90% potential training set', xy=(arrow_start, price['PriceUSD'].max()/2), xytext=(text_start, price['PriceUSD'].max()/2),\n            arrowprops=dict(facecolor='black', shrink=0.05), fontsize = 14\n            )\n\n\n\nplt.grid()\nplt.show()",
   "outputs": [
    {
     "data": {
      "text/plain": "<Figure size 864x360 with 1 Axes>",
      "image/png": "[encoded data removed]"
     },
     "metadata": {
      "needs_background": "light",
      "image/png": {
       "width": 740,
       "height": 338
      }
     },
     "output_type": "display_data"
    }
   ],
   "execution_count": null
  },
  {
   "cell_type": "markdown",
   "source": "### Data preparation",
   "metadata": {
    "tags": [],
    "is_collapsed": false,
    "cell_id": "00020-8192daa0-04dc-439a-9187-6928bd0d4c30",
    "deepnote_cell_type": "text-cell-h3"
   }
  },
  {
   "cell_type": "markdown",
   "source": "Delete nan(s)",
   "metadata": {
    "tags": [],
    "is_collapsed": false,
    "cell_id": "00021-3c91bebb-a319-4c02-9610-8abc6d37892f",
    "deepnote_cell_type": "text-cell-p"
   }
  },
  {
   "cell_type": "code",
   "metadata": {
    "tags": [],
    "deepnote_to_be_reexecuted": false,
    "source_hash": "abb3d3e5",
    "execution_start": 1632709668405,
    "execution_millis": 93,
    "cell_id": "00022-4fa953b4-5ceb-4b0b-bcc3-41aae5bab7c4",
    "deepnote_cell_type": "code"
   },
   "source": "# note: might be better to remove nans from the master dataframe, but keep this for now\nprice = price.dropna()\nprice",
   "outputs": [
    {
     "output_type": "execute_result",
     "execution_count": 12,
     "data": {
      "application/vnd.deepnote.dataframe.v2+json": {
       "row_count": 4084,
       "column_count": 2,
       "columns": [
        {
         "name": "date",
         "dtype": "datetime64[ns, UTC]",
         "stats": {
          "unique_count": 4084,
          "nan_count": 0,
          "min": "2010-07-18 00:00:00+00:00",
          "max": "2021-09-21 00:00:00+00:00",
          "histogram": [
           {
            "bin_start": 1279411200000000000,
            "bin_end": 1314688320000000000,
            "count": 409
           },
           {
            "bin_start": 1314688320000000000,
            "bin_end": 1349965440000000000,
            "count": 408
           },
           {
            "bin_start": 1349965440000000000,
            "bin_end": 1385242560000000000,
            "count": 408
           },
           {
            "bin_start": 1385242560000000000,
            "bin_end": 1420519680000000000,
            "count": 409
           },
           {
            "bin_start": 1420519680000000000,
            "bin_end": 1455796800000000000,
            "count": 408
           },
           {
            "bin_start": 1455796800000000000,
            "bin_end": 1491073920000000000,
            "count": 408
           },
           {
            "bin_start": 1491073920000000000,
            "bin_end": 1526351040000000000,
            "count": 409
           },
           {
            "bin_start": 1526351040000000000,
            "bin_end": 1561628160000000000,
            "count": 408
           },
           {
            "bin_start": 1561628160000000000,
            "bin_end": 1596905280000000000,
            "count": 408
           },
           {
            "bin_start": 1596905280000000000,
            "bin_end": 1632182400000000000,
            "count": 409
           }
          ]
         }
        },
        {
         "name": "PriceUSD",
         "dtype": "float64",
         "stats": {
          "unique_count": 4061,
          "nan_count": 0,
          "min": "0.050540618351841",
          "max": "63445.638314436",
          "histogram": [
           {
            "bin_start": 0.050540618351841,
            "bin_end": 6344.609318000117,
            "count": 2895
           },
           {
            "bin_start": 6344.609318000117,
            "bin_end": 12689.168095381881,
            "count": 810
           },
           {
            "bin_start": 12689.168095381881,
            "bin_end": 19033.726872763647,
            "count": 87
           },
           {
            "bin_start": 19033.726872763647,
            "bin_end": 25378.28565014541,
            "count": 22
           },
           {
            "bin_start": 25378.28565014541,
            "bin_end": 31722.844427527176,
            "count": 17
           },
           {
            "bin_start": 31722.844427527176,
            "bin_end": 38067.403204908944,
            "count": 79
           },
           {
            "bin_start": 38067.403204908944,
            "bin_end": 44411.961982290704,
            "count": 34
           },
           {
            "bin_start": 44411.961982290704,
            "bin_end": 50756.52075967247,
            "count": 67
           },
           {
            "bin_start": 50756.52075967247,
            "bin_end": 57101.07953705424,
            "count": 37
           },
           {
            "bin_start": 57101.07953705424,
            "bin_end": 63445.638314436,
            "count": 36
           }
          ]
         }
        },
        {
         "name": "_deepnote_index_column",
         "dtype": "int64"
        }
       ],
       "rows_top": [
        {
         "date": "2010-07-18T00:00:00.000000",
         "PriceUSD": 0.08584,
         "_deepnote_index_column": 198
        },
        {
         "date": "2010-07-19T00:00:00.000000",
         "PriceUSD": 0.0808,
         "_deepnote_index_column": 199
        },
        {
         "date": "2010-07-20T00:00:00.000000",
         "PriceUSD": 0.0747357288135593,
         "_deepnote_index_column": 200
        },
        {
         "date": "2010-07-21T00:00:00.000000",
         "PriceUSD": 0.0791928626534191,
         "_deepnote_index_column": 201
        },
        {
         "date": "2010-07-22T00:00:00.000000",
         "PriceUSD": 0.0584697603740503,
         "_deepnote_index_column": 202
        },
        {
         "date": "2010-07-23T00:00:00.000000",
         "PriceUSD": 0.0605928696668615,
         "_deepnote_index_column": 203
        },
        {
         "date": "2010-07-24T00:00:00.000000",
         "PriceUSD": 0.05454,
         "_deepnote_index_column": 204
        },
        {
         "date": "2010-07-25T00:00:00.000000",
         "PriceUSD": 0.050540618351841,
         "_deepnote_index_column": 205
        },
        {
         "date": "2010-07-26T00:00:00.000000",
         "PriceUSD": 0.056,
         "_deepnote_index_column": 206
        },
        {
         "date": "2010-07-27T00:00:00.000000",
         "PriceUSD": 0.058622016364699,
         "_deepnote_index_column": 207
        },
        {
         "date": "2010-07-28T00:00:00.000000",
         "PriceUSD": 0.0589110987726476,
         "_deepnote_index_column": 208
        },
        {
         "date": "2010-07-29T00:00:00.000000",
         "PriceUSD": 0.0699,
         "_deepnote_index_column": 209
        },
        {
         "date": "2010-07-30T00:00:00.000000",
         "PriceUSD": 0.064657381648159,
         "_deepnote_index_column": 210
        },
        {
         "date": "2010-07-31T00:00:00.000000",
         "PriceUSD": 0.0675457989479836,
         "_deepnote_index_column": 211
        },
        {
         "date": "2010-08-01T00:00:00.000000",
         "PriceUSD": 0.0611,
         "_deepnote_index_column": 212
        },
        {
         "date": "2010-08-02T00:00:00.000000",
         "PriceUSD": 0.06,
         "_deepnote_index_column": 213
        },
        {
         "date": "2010-08-03T00:00:00.000000",
         "PriceUSD": 0.0600121507890123,
         "_deepnote_index_column": 214
        },
        {
         "date": "2010-08-04T00:00:00.000000",
         "PriceUSD": 0.0570157802454705,
         "_deepnote_index_column": 215
        },
        {
         "date": "2010-08-05T00:00:00.000000",
         "PriceUSD": 0.061,
         "_deepnote_index_column": 216
        },
        {
         "date": "2010-08-06T00:00:00.000000",
         "PriceUSD": 0.0616713150204559,
         "_deepnote_index_column": 217
        },
        {
         "date": "2010-08-07T00:00:00.000000",
         "PriceUSD": 0.0590039450613676,
         "_deepnote_index_column": 218
        },
        {
         "date": "2010-08-08T00:00:00.000000",
         "PriceUSD": 0.0609,
         "_deepnote_index_column": 219
        },
        {
         "date": "2010-08-09T00:00:00.000000",
         "PriceUSD": 0.0704,
         "_deepnote_index_column": 220
        },
        {
         "date": "2010-08-10T00:00:00.000000",
         "PriceUSD": 0.0693387288135593,
         "_deepnote_index_column": 221
        },
        {
         "date": "2010-08-11T00:00:00.000000",
         "PriceUSD": 0.067,
         "_deepnote_index_column": 222
        },
        {
         "date": "2010-08-12T00:00:00.000000",
         "PriceUSD": 0.07,
         "_deepnote_index_column": 223
        },
        {
         "date": "2010-08-13T00:00:00.000000",
         "PriceUSD": 0.0645,
         "_deepnote_index_column": 224
        },
        {
         "date": "2010-08-14T00:00:00.000000",
         "PriceUSD": 0.0669964336645237,
         "_deepnote_index_column": 225
        },
        {
         "date": "2010-08-15T00:00:00.000000",
         "PriceUSD": 0.0651179322033898,
         "_deepnote_index_column": 226
        },
        {
         "date": "2010-08-16T00:00:00.000000",
         "PriceUSD": 0.0655,
         "_deepnote_index_column": 227
        },
        {
         "date": "2010-08-17T00:00:00.000000",
         "PriceUSD": 0.07,
         "_deepnote_index_column": 228
        },
        {
         "date": "2010-08-18T00:00:00.000000",
         "PriceUSD": 0.068,
         "_deepnote_index_column": 229
        },
        {
         "date": "2010-08-19T00:00:00.000000",
         "PriceUSD": 0.0667,
         "_deepnote_index_column": 230
        },
        {
         "date": "2010-08-20T00:00:00.000000",
         "PriceUSD": 0.0655,
         "_deepnote_index_column": 231
        },
        {
         "date": "2010-08-21T00:00:00.000000",
         "PriceUSD": 0.0664,
         "_deepnote_index_column": 232
        },
        {
         "date": "2010-08-22T00:00:00.000000",
         "PriceUSD": 0.0659289888953828,
         "_deepnote_index_column": 233
        },
        {
         "date": "2010-08-23T00:00:00.000000",
         "PriceUSD": 0.06491,
         "_deepnote_index_column": 234
        },
        {
         "date": "2010-08-24T00:00:00.000000",
         "PriceUSD": 0.065,
         "_deepnote_index_column": 235
        },
        {
         "date": "2010-08-25T00:00:00.000000",
         "PriceUSD": 0.0648,
         "_deepnote_index_column": 236
        },
        {
         "date": "2010-08-26T00:00:00.000000",
         "PriceUSD": 0.0640751139684395,
         "_deepnote_index_column": 237
        },
        {
         "date": "2010-08-27T00:00:00.000000",
         "PriceUSD": 0.065,
         "_deepnote_index_column": 238
        },
        {
         "date": "2010-08-28T00:00:00.000000",
         "PriceUSD": 0.0646,
         "_deepnote_index_column": 239
        },
        {
         "date": "2010-08-29T00:00:00.000000",
         "PriceUSD": 0.064,
         "_deepnote_index_column": 240
        },
        {
         "date": "2010-08-30T00:00:00.000000",
         "PriceUSD": 0.06497,
         "_deepnote_index_column": 241
        },
        {
         "date": "2010-08-31T00:00:00.000000",
         "PriceUSD": 0.06,
         "_deepnote_index_column": 242
        },
        {
         "date": "2010-09-01T00:00:00.000000",
         "PriceUSD": 0.0620248275862069,
         "_deepnote_index_column": 243
        },
        {
         "date": "2010-09-02T00:00:00.000000",
         "PriceUSD": 0.0634,
         "_deepnote_index_column": 244
        },
        {
         "date": "2010-09-03T00:00:00.000000",
         "PriceUSD": 0.06085,
         "_deepnote_index_column": 245
        },
        {
         "date": "2010-09-04T00:00:00.000000",
         "PriceUSD": 0.062178275862069,
         "_deepnote_index_column": 246
        },
        {
         "date": "2010-09-05T00:00:00.000000",
         "PriceUSD": 0.06165,
         "_deepnote_index_column": 247
        },
        {
         "date": "2010-09-06T00:00:00.000000",
         "PriceUSD": 0.0616,
         "_deepnote_index_column": 248
        },
        {
         "date": "2010-09-07T00:00:00.000000",
         "PriceUSD": 0.0612391180596142,
         "_deepnote_index_column": 249
        },
        {
         "date": "2010-09-08T00:00:00.000000",
         "PriceUSD": 0.061,
         "_deepnote_index_column": 250
        },
        {
         "date": "2010-09-09T00:00:00.000000",
         "PriceUSD": 0.0611149707773232,
         "_deepnote_index_column": 251
        },
        {
         "date": "2010-09-10T00:00:00.000000",
         "PriceUSD": 0.0610115242548218,
         "_deepnote_index_column": 252
        },
        {
         "date": "2010-09-11T00:00:00.000000",
         "PriceUSD": 0.0636208649912332,
         "_deepnote_index_column": 253
        },
        {
         "date": "2010-09-12T00:00:00.000000",
         "PriceUSD": 0.0615,
         "_deepnote_index_column": 254
        },
        {
         "date": "2010-09-13T00:00:00.000000",
         "PriceUSD": 0.06218,
         "_deepnote_index_column": 255
        },
        {
         "date": "2010-09-14T00:00:00.000000",
         "PriceUSD": 0.06199,
         "_deepnote_index_column": 256
        },
        {
         "date": "2010-09-15T00:00:00.000000",
         "PriceUSD": 0.0604,
         "_deepnote_index_column": 257
        },
        {
         "date": "2010-09-16T00:00:00.000000",
         "PriceUSD": 0.0619,
         "_deepnote_index_column": 258
        },
        {
         "date": "2010-09-17T00:00:00.000000",
         "PriceUSD": 0.0600005260081823,
         "_deepnote_index_column": 259
        },
        {
         "date": "2010-09-18T00:00:00.000000",
         "PriceUSD": 0.061,
         "_deepnote_index_column": 260
        },
        {
         "date": "2010-09-19T00:00:00.000000",
         "PriceUSD": 0.0627,
         "_deepnote_index_column": 261
        },
        {
         "date": "2010-09-20T00:00:00.000000",
         "PriceUSD": 0.0621017358270018,
         "_deepnote_index_column": 262
        },
        {
         "date": "2010-09-21T00:00:00.000000",
         "PriceUSD": 0.06265,
         "_deepnote_index_column": 263
        },
        {
         "date": "2010-09-22T00:00:00.000000",
         "PriceUSD": 0.061881870251315,
         "_deepnote_index_column": 264
        },
        {
         "date": "2010-09-23T00:00:00.000000",
         "PriceUSD": 0.062153512565751,
         "_deepnote_index_column": 265
        },
        {
         "date": "2010-09-24T00:00:00.000000",
         "PriceUSD": 0.0622,
         "_deepnote_index_column": 266
        },
        {
         "date": "2010-09-25T00:00:00.000000",
         "PriceUSD": 0.06202,
         "_deepnote_index_column": 267
        },
        {
         "date": "2010-09-26T00:00:00.000000",
         "PriceUSD": 0.062,
         "_deepnote_index_column": 268
        },
        {
         "date": "2010-09-27T00:00:00.000000",
         "PriceUSD": 0.0622004418468732,
         "_deepnote_index_column": 269
        },
        {
         "date": "2010-09-28T00:00:00.000000",
         "PriceUSD": 0.0619038977206312,
         "_deepnote_index_column": 270
        },
        {
         "date": "2010-09-29T00:00:00.000000",
         "PriceUSD": 0.06191,
         "_deepnote_index_column": 271
        },
        {
         "date": "2010-09-30T00:00:00.000000",
         "PriceUSD": 0.0619,
         "_deepnote_index_column": 272
        },
        {
         "date": "2010-10-01T00:00:00.000000",
         "PriceUSD": 0.0619733138515488,
         "_deepnote_index_column": 273
        },
        {
         "date": "2010-10-02T00:00:00.000000",
         "PriceUSD": 0.0614,
         "_deepnote_index_column": 274
        },
        {
         "date": "2010-10-03T00:00:00.000000",
         "PriceUSD": 0.0610648684979544,
         "_deepnote_index_column": 275
        },
        {
         "date": "2010-10-04T00:00:00.000000",
         "PriceUSD": 0.0612944769140853,
         "_deepnote_index_column": 276
        },
        {
         "date": "2010-10-05T00:00:00.000000",
         "PriceUSD": 0.0614,
         "_deepnote_index_column": 277
        },
        {
         "date": "2010-10-06T00:00:00.000000",
         "PriceUSD": 0.06281,
         "_deepnote_index_column": 278
        },
        {
         "date": "2010-10-07T00:00:00.000000",
         "PriceUSD": 0.067,
         "_deepnote_index_column": 279
        },
        {
         "date": "2010-10-08T00:00:00.000000",
         "PriceUSD": 0.0844531081239041,
         "_deepnote_index_column": 280
        },
        {
         "date": "2010-10-09T00:00:00.000000",
         "PriceUSD": 0.0938,
         "_deepnote_index_column": 281
        },
        {
         "date": "2010-10-10T00:00:00.000000",
         "PriceUSD": 0.0971462010520164,
         "_deepnote_index_column": 282
        },
        {
         "date": "2010-10-11T00:00:00.000000",
         "PriceUSD": 0.095,
         "_deepnote_index_column": 283
        },
        {
         "date": "2010-10-12T00:00:00.000000",
         "PriceUSD": 0.0949,
         "_deepnote_index_column": 284
        },
        {
         "date": "2010-10-13T00:00:00.000000",
         "PriceUSD": 0.104865589129164,
         "_deepnote_index_column": 285
        },
        {
         "date": "2010-10-14T00:00:00.000000",
         "PriceUSD": 0.102,
         "_deepnote_index_column": 286
        },
        {
         "date": "2010-10-15T00:00:00.000000",
         "PriceUSD": 0.105,
         "_deepnote_index_column": 287
        },
        {
         "date": "2010-10-16T00:00:00.000000",
         "PriceUSD": 0.101,
         "_deepnote_index_column": 288
        },
        {
         "date": "2010-10-17T00:00:00.000000",
         "PriceUSD": 0.102,
         "_deepnote_index_column": 289
        },
        {
         "date": "2010-10-18T00:00:00.000000",
         "PriceUSD": 0.1024,
         "_deepnote_index_column": 290
        },
        {
         "date": "2010-10-19T00:00:00.000000",
         "PriceUSD": 0.0975448918760959,
         "_deepnote_index_column": 291
        },
        {
         "date": "2010-10-20T00:00:00.000000",
         "PriceUSD": 0.099,
         "_deepnote_index_column": 292
        },
        {
         "date": "2010-10-21T00:00:00.000000",
         "PriceUSD": 0.107,
         "_deepnote_index_column": 293
        },
        {
         "date": "2010-10-22T00:00:00.000000",
         "PriceUSD": 0.1025,
         "_deepnote_index_column": 294
        },
        {
         "date": "2010-10-23T00:00:00.000000",
         "PriceUSD": 0.104556424313267,
         "_deepnote_index_column": 295
        },
        {
         "date": "2010-10-24T00:00:00.000000",
         "PriceUSD": 0.11501,
         "_deepnote_index_column": 296
        },
        {
         "date": "2010-10-25T00:00:00.000000",
         "PriceUSD": 0.139118552893045,
         "_deepnote_index_column": 297
        },
        {
         "date": "2010-10-26T00:00:00.000000",
         "PriceUSD": 0.151,
         "_deepnote_index_column": 298
        },
        {
         "date": "2010-10-27T00:00:00.000000",
         "PriceUSD": 0.1877,
         "_deepnote_index_column": 299
        },
        {
         "date": "2010-10-28T00:00:00.000000",
         "PriceUSD": 0.1731,
         "_deepnote_index_column": 300
        },
        {
         "date": "2010-10-29T00:00:00.000000",
         "PriceUSD": 0.19,
         "_deepnote_index_column": 301
        },
        {
         "date": "2010-10-30T00:00:00.000000",
         "PriceUSD": 0.197610543541789,
         "_deepnote_index_column": 302
        },
        {
         "date": "2010-10-31T00:00:00.000000",
         "PriceUSD": 0.1925,
         "_deepnote_index_column": 303
        },
        {
         "date": "2010-11-01T00:00:00.000000",
         "PriceUSD": 0.194525061367621,
         "_deepnote_index_column": 304
        },
        {
         "date": "2010-11-02T00:00:00.000000",
         "PriceUSD": 0.1938,
         "_deepnote_index_column": 305
        },
        {
         "date": "2010-11-03T00:00:00.000000",
         "PriceUSD": 0.1931,
         "_deepnote_index_column": 306
        },
        {
         "date": "2010-11-04T00:00:00.000000",
         "PriceUSD": 0.229275160724722,
         "_deepnote_index_column": 307
        },
        {
         "date": "2010-11-05T00:00:00.000000",
         "PriceUSD": 0.259112413793104,
         "_deepnote_index_column": 308
        },
        {
         "date": "2010-11-06T00:00:00.000000",
         "PriceUSD": 0.400982302746932,
         "_deepnote_index_column": 309
        },
        {
         "date": "2010-11-07T00:00:00.000000",
         "PriceUSD": 0.34,
         "_deepnote_index_column": 310
        },
        {
         "date": "2010-11-08T00:00:00.000000",
         "PriceUSD": 0.243184628872005,
         "_deepnote_index_column": 311
        },
        {
         "date": "2010-11-09T00:00:00.000000",
         "PriceUSD": 0.217272694330801,
         "_deepnote_index_column": 312
        },
        {
         "date": "2010-11-10T00:00:00.000000",
         "PriceUSD": 0.229549731151373,
         "_deepnote_index_column": 313
        },
        {
         "date": "2010-11-11T00:00:00.000000",
         "PriceUSD": 0.2231,
         "_deepnote_index_column": 314
        },
        {
         "date": "2010-11-12T00:00:00.000000",
         "PriceUSD": 0.2682,
         "_deepnote_index_column": 315
        },
        {
         "date": "2010-11-13T00:00:00.000000",
         "PriceUSD": 0.276,
         "_deepnote_index_column": 316
        },
        {
         "date": "2010-11-14T00:00:00.000000",
         "PriceUSD": 0.27904,
         "_deepnote_index_column": 317
        },
        {
         "date": "2010-11-15T00:00:00.000000",
         "PriceUSD": 0.268464555815313,
         "_deepnote_index_column": 318
        },
        {
         "date": "2010-11-16T00:00:00.000000",
         "PriceUSD": 0.225,
         "_deepnote_index_column": 319
        },
        {
         "date": "2010-11-17T00:00:00.000000",
         "PriceUSD": 0.241939333722969,
         "_deepnote_index_column": 320
        },
        {
         "date": "2010-11-18T00:00:00.000000",
         "PriceUSD": 0.269057790765634,
         "_deepnote_index_column": 321
        },
        {
         "date": "2010-11-19T00:00:00.000000",
         "PriceUSD": 0.27829,
         "_deepnote_index_column": 322
        },
        {
         "date": "2010-11-20T00:00:00.000000",
         "PriceUSD": 0.283015964932788,
         "_deepnote_index_column": 323
        },
        {
         "date": "2010-11-21T00:00:00.000000",
         "PriceUSD": 0.27675,
         "_deepnote_index_column": 324
        },
        {
         "date": "2010-11-22T00:00:00.000000",
         "PriceUSD": 0.285,
         "_deepnote_index_column": 325
        },
        {
         "date": "2010-11-23T00:00:00.000000",
         "PriceUSD": 0.28295,
         "_deepnote_index_column": 326
        },
        {
         "date": "2010-11-24T00:00:00.000000",
         "PriceUSD": 0.282905736411455,
         "_deepnote_index_column": 327
        },
        {
         "date": "2010-11-25T00:00:00.000000",
         "PriceUSD": 0.28,
         "_deepnote_index_column": 328
        },
        {
         "date": "2010-11-26T00:00:00.000000",
         "PriceUSD": 0.2844,
         "_deepnote_index_column": 329
        },
        {
         "date": "2010-11-27T00:00:00.000000",
         "PriceUSD": 0.283,
         "_deepnote_index_column": 330
        },
        {
         "date": "2010-11-28T00:00:00.000000",
         "PriceUSD": 0.271358679135009,
         "_deepnote_index_column": 331
        },
        {
         "date": "2010-11-29T00:00:00.000000",
         "PriceUSD": 0.230559456458212,
         "_deepnote_index_column": 332
        },
        {
         "date": "2010-11-30T00:00:00.000000",
         "PriceUSD": 0.2082,
         "_deepnote_index_column": 333
        },
        {
         "date": "2010-12-01T00:00:00.000000",
         "PriceUSD": 0.2275,
         "_deepnote_index_column": 334
        },
        {
         "date": "2010-12-02T00:00:00.000000",
         "PriceUSD": 0.255,
         "_deepnote_index_column": 335
        },
        {
         "date": "2010-12-03T00:00:00.000000",
         "PriceUSD": 0.251060083576856,
         "_deepnote_index_column": 336
        },
        {
         "date": "2010-12-04T00:00:00.000000",
         "PriceUSD": 0.205000526008182,
         "_deepnote_index_column": 337
        },
        {
         "date": "2010-12-05T00:00:00.000000",
         "PriceUSD": 0.202850017533606,
         "_deepnote_index_column": 338
        },
        {
         "date": "2010-12-06T00:00:00.000000",
         "PriceUSD": 0.204,
         "_deepnote_index_column": 339
        },
        {
         "date": "2010-12-07T00:00:00.000000",
         "PriceUSD": 0.233420385739334,
         "_deepnote_index_column": 340
        },
        {
         "date": "2010-12-08T00:00:00.000000",
         "PriceUSD": 0.2388,
         "_deepnote_index_column": 341
        },
        {
         "date": "2010-12-09T00:00:00.000000",
         "PriceUSD": 0.199991694330801,
         "_deepnote_index_column": 342
        },
        {
         "date": "2010-12-10T00:00:00.000000",
         "PriceUSD": 0.204,
         "_deepnote_index_column": 343
        },
        {
         "date": "2010-12-11T00:00:00.000000",
         "PriceUSD": 0.228,
         "_deepnote_index_column": 344
        },
        {
         "date": "2010-12-12T00:00:00.000000",
         "PriceUSD": 0.219853611922852,
         "_deepnote_index_column": 345
        },
        {
         "date": "2010-12-13T00:00:00.000000",
         "PriceUSD": 0.227605236703682,
         "_deepnote_index_column": 346
        },
        {
         "date": "2010-12-14T00:00:00.000000",
         "PriceUSD": 0.24669,
         "_deepnote_index_column": 347
        },
        {
         "date": "2010-12-15T00:00:00.000000",
         "PriceUSD": 0.24,
         "_deepnote_index_column": 348
        },
        {
         "date": "2010-12-16T00:00:00.000000",
         "PriceUSD": 0.24996,
         "_deepnote_index_column": 349
        },
        {
         "date": "2010-12-17T00:00:00.000000",
         "PriceUSD": 0.242655815312683,
         "_deepnote_index_column": 350
        },
        {
         "date": "2010-12-18T00:00:00.000000",
         "PriceUSD": 0.241,
         "_deepnote_index_column": 351
        },
        {
         "date": "2010-12-19T00:00:00.000000",
         "PriceUSD": 0.2401,
         "_deepnote_index_column": 352
        },
        {
         "date": "2010-12-20T00:00:00.000000",
         "PriceUSD": 0.267,
         "_deepnote_index_column": 353
        },
        {
         "date": "2010-12-21T00:00:00.000000",
         "PriceUSD": 0.241436002337814,
         "_deepnote_index_column": 354
        },
        {
         "date": "2010-12-22T00:00:00.000000",
         "PriceUSD": 0.25,
         "_deepnote_index_column": 355
        },
        {
         "date": "2010-12-23T00:00:00.000000",
         "PriceUSD": 0.249970127995324,
         "_deepnote_index_column": 356
        },
        {
         "date": "2010-12-24T00:00:00.000000",
         "PriceUSD": 0.248,
         "_deepnote_index_column": 357
        },
        {
         "date": "2010-12-25T00:00:00.000000",
         "PriceUSD": 0.2499,
         "_deepnote_index_column": 358
        },
        {
         "date": "2010-12-26T00:00:00.000000",
         "PriceUSD": 0.264962127410871,
         "_deepnote_index_column": 359
        },
        {
         "date": "2010-12-27T00:00:00.000000",
         "PriceUSD": 0.264785388661601,
         "_deepnote_index_column": 360
        },
        {
         "date": "2010-12-28T00:00:00.000000",
         "PriceUSD": 0.281,
         "_deepnote_index_column": 361
        },
        {
         "date": "2010-12-29T00:00:00.000000",
         "PriceUSD": 0.3,
         "_deepnote_index_column": 362
        },
        {
         "date": "2010-12-30T00:00:00.000000",
         "PriceUSD": 0.3,
         "_deepnote_index_column": 363
        },
        {
         "date": "2010-12-31T00:00:00.000000",
         "PriceUSD": 0.3,
         "_deepnote_index_column": 364
        },
        {
         "date": "2011-01-01T00:00:00.000000",
         "PriceUSD": 0.3,
         "_deepnote_index_column": 365
        },
        {
         "date": "2011-01-02T00:00:00.000000",
         "PriceUSD": 0.29997,
         "_deepnote_index_column": 366
        },
        {
         "date": "2011-01-03T00:00:00.000000",
         "PriceUSD": 0.295,
         "_deepnote_index_column": 367
        },
        {
         "date": "2011-01-04T00:00:00.000000",
         "PriceUSD": 0.29895,
         "_deepnote_index_column": 368
        },
        {
         "date": "2011-01-05T00:00:00.000000",
         "PriceUSD": 0.298916302162478,
         "_deepnote_index_column": 369
        },
        {
         "date": "2011-01-06T00:00:00.000000",
         "PriceUSD": 0.298,
         "_deepnote_index_column": 370
        },
        {
         "date": "2011-01-07T00:00:00.000000",
         "PriceUSD": 0.32,
         "_deepnote_index_column": 371
        },
        {
         "date": "2011-01-08T00:00:00.000000",
         "PriceUSD": 0.3229,
         "_deepnote_index_column": 372
        },
        {
         "date": "2011-01-09T00:00:00.000000",
         "PriceUSD": 0.323,
         "_deepnote_index_column": 373
        },
        {
         "date": "2011-01-10T00:00:00.000000",
         "PriceUSD": 0.32659,
         "_deepnote_index_column": 374
        },
        {
         "date": "2011-01-11T00:00:00.000000",
         "PriceUSD": 0.32659,
         "_deepnote_index_column": 375
        },
        {
         "date": "2011-01-12T00:00:00.000000",
         "PriceUSD": 0.318799621274109,
         "_deepnote_index_column": 376
        },
        {
         "date": "2011-01-13T00:00:00.000000",
         "PriceUSD": 0.3176,
         "_deepnote_index_column": 377
        },
        {
         "date": "2011-01-14T00:00:00.000000",
         "PriceUSD": 0.399990005844535,
         "_deepnote_index_column": 378
        },
        {
         "date": "2011-01-15T00:00:00.000000",
         "PriceUSD": 0.386,
         "_deepnote_index_column": 379
        },
        {
         "date": "2011-01-16T00:00:00.000000",
         "PriceUSD": 0.38679,
         "_deepnote_index_column": 380
        },
        {
         "date": "2011-01-17T00:00:00.000000",
         "PriceUSD": 0.3495,
         "_deepnote_index_column": 381
        },
        {
         "date": "2011-01-18T00:00:00.000000",
         "PriceUSD": 0.31299,
         "_deepnote_index_column": 382
        },
        {
         "date": "2011-01-19T00:00:00.000000",
         "PriceUSD": 0.31299,
         "_deepnote_index_column": 383
        },
        {
         "date": "2011-01-20T00:00:00.000000",
         "PriceUSD": 0.39,
         "_deepnote_index_column": 384
        },
        {
         "date": "2011-01-21T00:00:00.000000",
         "PriceUSD": 0.41991,
         "_deepnote_index_column": 385
        },
        {
         "date": "2011-01-22T00:00:00.000000",
         "PriceUSD": 0.44003552893045,
         "_deepnote_index_column": 386
        },
        {
         "date": "2011-01-23T00:00:00.000000",
         "PriceUSD": 0.4424,
         "_deepnote_index_column": 387
        },
        {
         "date": "2011-01-24T00:00:00.000000",
         "PriceUSD": 0.4199,
         "_deepnote_index_column": 388
        },
        {
         "date": "2011-01-25T00:00:00.000000",
         "PriceUSD": 0.41,
         "_deepnote_index_column": 389
        },
        {
         "date": "2011-01-26T00:00:00.000000",
         "PriceUSD": 0.415085129748685,
         "_deepnote_index_column": 390
        },
        {
         "date": "2011-01-27T00:00:00.000000",
         "PriceUSD": 0.4212,
         "_deepnote_index_column": 391
        },
        {
         "date": "2011-01-28T00:00:00.000000",
         "PriceUSD": 0.444484044418469,
         "_deepnote_index_column": 392
        },
        {
         "date": "2011-01-29T00:00:00.000000",
         "PriceUSD": 0.439,
         "_deepnote_index_column": 393
        },
        {
         "date": "2011-01-30T00:00:00.000000",
         "PriceUSD": 0.477142033898305,
         "_deepnote_index_column": 394
        },
        {
         "date": "2011-01-31T00:00:00.000000",
         "PriceUSD": 0.525136870251315,
         "_deepnote_index_column": 395
        },
        {
         "date": "2011-02-01T00:00:00.000000",
         "PriceUSD": 0.707510116890707,
         "_deepnote_index_column": 396
        },
        {
         "date": "2011-02-02T00:00:00.000000",
         "PriceUSD": 0.725434821741671,
         "_deepnote_index_column": 397
        },
        {
         "date": "2011-02-03T00:00:00.000000",
         "PriceUSD": 0.693898367621274,
         "_deepnote_index_column": 398
        },
        {
         "date": "2011-02-04T00:00:00.000000",
         "PriceUSD": 0.810958971361777,
         "_deepnote_index_column": 399
        },
        {
         "date": "2011-02-05T00:00:00.000000",
         "PriceUSD": 0.911671477498539,
         "_deepnote_index_column": 400
        },
        {
         "date": "2011-02-06T00:00:00.000000",
         "PriceUSD": 0.898,
         "_deepnote_index_column": 401
        },
        {
         "date": "2011-02-07T00:00:00.000000",
         "PriceUSD": 0.889421369959088,
         "_deepnote_index_column": 402
        },
        {
         "date": "2011-02-08T00:00:00.000000",
         "PriceUSD": 0.918,
         "_deepnote_index_column": 403
        },
        {
         "date": "2011-02-09T00:00:00.000000",
         "PriceUSD": 1.01605024547049,
         "_deepnote_index_column": 404
        },
        {
         "date": "2011-02-10T00:00:00.000000",
         "PriceUSD": 0.979652963179427,
         "_deepnote_index_column": 405
        },
        {
         "date": "2011-02-11T00:00:00.000000",
         "PriceUSD": 1.05406945353594,
         "_deepnote_index_column": 406
        },
        {
         "date": "2011-02-12T00:00:00.000000",
         "PriceUSD": 1.07870328404442,
         "_deepnote_index_column": 407
        },
        {
         "date": "2011-02-13T00:00:00.000000",
         "PriceUSD": 1.05,
         "_deepnote_index_column": 408
        },
        {
         "date": "2011-02-14T00:00:00.000000",
         "PriceUSD": 1.07001262419638,
         "_deepnote_index_column": 409
        },
        {
         "date": "2011-02-15T00:00:00.000000",
         "PriceUSD": 1.05,
         "_deepnote_index_column": 410
        },
        {
         "date": "2011-02-16T00:00:00.000000",
         "PriceUSD": 1.031687628872,
         "_deepnote_index_column": 411
        },
        {
         "date": "2011-02-17T00:00:00.000000",
         "PriceUSD": 1.0399231975453,
         "_deepnote_index_column": 412
        },
        {
         "date": "2011-02-18T00:00:00.000000",
         "PriceUSD": 0.898955914669784,
         "_deepnote_index_column": 413
        },
        {
         "date": "2011-02-19T00:00:00.000000",
         "PriceUSD": 0.944028116890707,
         "_deepnote_index_column": 414
        },
        {
         "date": "2011-02-20T00:00:00.000000",
         "PriceUSD": 0.865,
         "_deepnote_index_column": 415
        },
        {
         "date": "2011-02-21T00:00:00.000000",
         "PriceUSD": 0.835747428404442,
         "_deepnote_index_column": 416
        },
        {
         "date": "2011-02-22T00:00:00.000000",
         "PriceUSD": 0.877041779661017,
         "_deepnote_index_column": 417
        },
        {
         "date": "2011-02-23T00:00:00.000000",
         "PriceUSD": 0.9,
         "_deepnote_index_column": 418
        },
        {
         "date": "2011-02-24T00:00:00.000000",
         "PriceUSD": 0.989095265926359,
         "_deepnote_index_column": 419
        },
        {
         "date": "2011-02-25T00:00:00.000000",
         "PriceUSD": 0.914652001753361,
         "_deepnote_index_column": 420
        },
        {
         "date": "2011-02-26T00:00:00.000000",
         "PriceUSD": 0.958,
         "_deepnote_index_column": 421
        },
        {
         "date": "2011-02-27T00:00:00.000000",
         "PriceUSD": 0.895033114552893,
         "_deepnote_index_column": 422
        },
        {
         "date": "2011-02-28T00:00:00.000000",
         "PriceUSD": 0.860220923436587,
         "_deepnote_index_column": 423
        },
        {
         "date": "2011-03-01T00:00:00.000000",
         "PriceUSD": 0.921096891876096,
         "_deepnote_index_column": 424
        },
        {
         "date": "2011-03-02T00:00:00.000000",
         "PriceUSD": 0.9399,
         "_deepnote_index_column": 425
        },
        {
         "date": "2011-03-03T00:00:00.000000",
         "PriceUSD": 0.939073383401519,
         "_deepnote_index_column": 426
        },
        {
         "date": "2011-03-04T00:00:00.000000",
         "PriceUSD": 0.9011,
         "_deepnote_index_column": 427
        },
        {
         "date": "2011-03-05T00:00:00.000000",
         "PriceUSD": 0.90784060666277,
         "_deepnote_index_column": 428
        },
        {
         "date": "2011-03-06T00:00:00.000000",
         "PriceUSD": 0.884770973115138,
         "_deepnote_index_column": 429
        },
        {
         "date": "2011-03-07T00:00:00.000000",
         "PriceUSD": 0.877583864406779,
         "_deepnote_index_column": 430
        },
        {
         "date": "2011-03-08T00:00:00.000000",
         "PriceUSD": 0.866071591466979,
         "_deepnote_index_column": 431
        },
        {
         "date": "2011-03-09T00:00:00.000000",
         "PriceUSD": 0.86,
         "_deepnote_index_column": 432
        },
        {
         "date": "2011-03-10T00:00:00.000000",
         "PriceUSD": 0.920670309760374,
         "_deepnote_index_column": 433
        },
        {
         "date": "2011-03-11T00:00:00.000000",
         "PriceUSD": 0.88,
         "_deepnote_index_column": 434
        },
        {
         "date": "2011-03-12T00:00:00.000000",
         "PriceUSD": 0.917815513150205,
         "_deepnote_index_column": 435
        },
        {
         "date": "2011-03-13T00:00:00.000000",
         "PriceUSD": 0.89249,
         "_deepnote_index_column": 436
        },
        {
         "date": "2011-03-14T00:00:00.000000",
         "PriceUSD": 0.893924922852133,
         "_deepnote_index_column": 437
        },
        {
         "date": "2011-03-15T00:00:00.000000",
         "PriceUSD": 0.87224,
         "_deepnote_index_column": 438
        },
        {
         "date": "2011-03-16T00:00:00.000000",
         "PriceUSD": 0.851211665692578,
         "_deepnote_index_column": 439
        },
        {
         "date": "2011-03-17T00:00:00.000000",
         "PriceUSD": 0.82542,
         "_deepnote_index_column": 440
        },
        {
         "date": "2011-03-18T00:00:00.000000",
         "PriceUSD": 0.801959208065459,
         "_deepnote_index_column": 441
        },
        {
         "date": "2011-03-19T00:00:00.000000",
         "PriceUSD": 0.765,
         "_deepnote_index_column": 442
        },
        {
         "date": "2011-03-20T00:00:00.000000",
         "PriceUSD": 0.7415,
         "_deepnote_index_column": 443
        },
        {
         "date": "2011-03-21T00:00:00.000000",
         "PriceUSD": 0.75897,
         "_deepnote_index_column": 444
        },
        {
         "date": "2011-03-22T00:00:00.000000",
         "PriceUSD": 0.809130292811222,
         "_deepnote_index_column": 445
        },
        {
         "date": "2011-03-23T00:00:00.000000",
         "PriceUSD": 0.84971,
         "_deepnote_index_column": 446
        },
        {
         "date": "2011-03-24T00:00:00.000000",
         "PriceUSD": 0.872374365867914,
         "_deepnote_index_column": 447
        }
       ],
       "rows_bottom": [
        {
         "date": "2021-01-15T00:00:00.000000",
         "PriceUSD": 36710.3174248977,
         "_deepnote_index_column": 4032
        },
        {
         "date": "2021-01-16T00:00:00.000000",
         "PriceUSD": 36177.2610970193,
         "_deepnote_index_column": 4033
        },
        {
         "date": "2021-01-17T00:00:00.000000",
         "PriceUSD": 36069.939466803,
         "_deepnote_index_column": 4034
        },
        {
         "date": "2021-01-18T00:00:00.000000",
         "PriceUSD": 36594.2964018118,
         "_deepnote_index_column": 4035
        },
        {
         "date": "2021-01-19T00:00:00.000000",
         "PriceUSD": 36250.1461893629,
         "_deepnote_index_column": 4036
        },
        {
         "date": "2021-01-20T00:00:00.000000",
         "PriceUSD": 35515.480012858,
         "_deepnote_index_column": 4037
        },
        {
         "date": "2021-01-21T00:00:00.000000",
         "PriceUSD": 31022.9510280538,
         "_deepnote_index_column": 4038
        },
        {
         "date": "2021-01-22T00:00:00.000000",
         "PriceUSD": 32986.4357568673,
         "_deepnote_index_column": 4039
        },
        {
         "date": "2021-01-23T00:00:00.000000",
         "PriceUSD": 32036.2822723553,
         "_deepnote_index_column": 4040
        },
        {
         "date": "2021-01-24T00:00:00.000000",
         "PriceUSD": 32216.1042904734,
         "_deepnote_index_column": 4041
        },
        {
         "date": "2021-01-25T00:00:00.000000",
         "PriceUSD": 32419.7059462303,
         "_deepnote_index_column": 4042
        },
        {
         "date": "2021-01-26T00:00:00.000000",
         "PriceUSD": 32640.6391426067,
         "_deepnote_index_column": 4043
        },
        {
         "date": "2021-01-27T00:00:00.000000",
         "PriceUSD": 30358.9347235535,
         "_deepnote_index_column": 4044
        },
        {
         "date": "2021-01-28T00:00:00.000000",
         "PriceUSD": 33511.287595149,
         "_deepnote_index_column": 4045
        },
        {
         "date": "2021-01-29T00:00:00.000000",
         "PriceUSD": 34166.1494259497,
         "_deepnote_index_column": 4046
        },
        {
         "date": "2021-01-30T00:00:00.000000",
         "PriceUSD": 34349.9170952659,
         "_deepnote_index_column": 4047
        },
        {
         "date": "2021-01-31T00:00:00.000000",
         "PriceUSD": 33157.8325745178,
         "_deepnote_index_column": 4048
        },
        {
         "date": "2021-02-01T00:00:00.000000",
         "PriceUSD": 33570.2718468732,
         "_deepnote_index_column": 4049
        },
        {
         "date": "2021-02-02T00:00:00.000000",
         "PriceUSD": 35596.1489094097,
         "_deepnote_index_column": 4050
        },
        {
         "date": "2021-02-03T00:00:00.000000",
         "PriceUSD": 37578.3732068966,
         "_deepnote_index_column": 4051
        },
        {
         "date": "2021-02-04T00:00:00.000000",
         "PriceUSD": 37129.2029376972,
         "_deepnote_index_column": 4052
        },
        {
         "date": "2021-02-05T00:00:00.000000",
         "PriceUSD": 38045.4136084161,
         "_deepnote_index_column": 4053
        },
        {
         "date": "2021-02-06T00:00:00.000000",
         "PriceUSD": 39341.727081239,
         "_deepnote_index_column": 4054
        },
        {
         "date": "2021-02-07T00:00:00.000000",
         "PriceUSD": 39003.0121817651,
         "_deepnote_index_column": 4055
        },
        {
         "date": "2021-02-08T00:00:00.000000",
         "PriceUSD": 46121.9340724722,
         "_deepnote_index_column": 4056
        },
        {
         "date": "2021-02-09T00:00:00.000000",
         "PriceUSD": 46548.1619912332,
         "_deepnote_index_column": 4057
        },
        {
         "date": "2021-02-10T00:00:00.000000",
         "PriceUSD": 45078.128350263,
         "_deepnote_index_column": 4058
        },
        {
         "date": "2021-02-11T00:00:00.000000",
         "PriceUSD": 47892.8409181765,
         "_deepnote_index_column": 4059
        },
        {
         "date": "2021-02-12T00:00:00.000000",
         "PriceUSD": 47525.2091431911,
         "_deepnote_index_column": 4060
        },
        {
         "date": "2021-02-13T00:00:00.000000",
         "PriceUSD": 47208.6250270602,
         "_deepnote_index_column": 4061
        },
        {
         "date": "2021-02-14T00:00:00.000000",
         "PriceUSD": 48829.8275096435,
         "_deepnote_index_column": 4062
        },
        {
         "date": "2021-02-15T00:00:00.000000",
         "PriceUSD": 48110.2417334892,
         "_deepnote_index_column": 4063
        },
        {
         "date": "2021-02-16T00:00:00.000000",
         "PriceUSD": 49140.3826578024,
         "_deepnote_index_column": 4064
        },
        {
         "date": "2021-02-17T00:00:00.000000",
         "PriceUSD": 52224.9391139684,
         "_deepnote_index_column": 4065
        },
        {
         "date": "2021-02-18T00:00:00.000000",
         "PriceUSD": 51650.0699485681,
         "_deepnote_index_column": 4066
        },
        {
         "date": "2021-02-19T00:00:00.000000",
         "PriceUSD": 55820.5044038574,
         "_deepnote_index_column": 4067
        },
        {
         "date": "2021-02-20T00:00:00.000000",
         "PriceUSD": 55861.8205670953,
         "_deepnote_index_column": 4068
        },
        {
         "date": "2021-02-21T00:00:00.000000",
         "PriceUSD": 57500.7161102864,
         "_deepnote_index_column": 4069
        },
        {
         "date": "2021-02-22T00:00:00.000000",
         "PriceUSD": 53952.1533386324,
         "_deepnote_index_column": 4070
        },
        {
         "date": "2021-02-23T00:00:00.000000",
         "PriceUSD": 48560.4890350672,
         "_deepnote_index_column": 4071
        },
        {
         "date": "2021-02-24T00:00:00.000000",
         "PriceUSD": 49567.3456890707,
         "_deepnote_index_column": 4072
        },
        {
         "date": "2021-02-25T00:00:00.000000",
         "PriceUSD": 47568.131170076,
         "_deepnote_index_column": 4073
        },
        {
         "date": "2021-02-26T00:00:00.000000",
         "PriceUSD": 46231.7675784921,
         "_deepnote_index_column": 4074
        },
        {
         "date": "2021-02-27T00:00:00.000000",
         "PriceUSD": 45834.5133611923,
         "_deepnote_index_column": 4075
        },
        {
         "date": "2021-02-28T00:00:00.000000",
         "PriceUSD": 45359.4641642314,
         "_deepnote_index_column": 4076
        },
        {
         "date": "2021-03-01T00:00:00.000000",
         "PriceUSD": 49634.4471092928,
         "_deepnote_index_column": 4077
        },
        {
         "date": "2021-03-02T00:00:00.000000",
         "PriceUSD": 48304.7054879018,
         "_deepnote_index_column": 4078
        },
        {
         "date": "2021-03-03T00:00:00.000000",
         "PriceUSD": 50690.4671835184,
         "_deepnote_index_column": 4079
        },
        {
         "date": "2021-03-04T00:00:00.000000",
         "PriceUSD": 48472.7954751607,
         "_deepnote_index_column": 4080
        },
        {
         "date": "2021-03-05T00:00:00.000000",
         "PriceUSD": 48800.8173594389,
         "_deepnote_index_column": 4081
        },
        {
         "date": "2021-03-06T00:00:00.000000",
         "PriceUSD": 48970.5244868498,
         "_deepnote_index_column": 4082
        },
        {
         "date": "2021-03-07T00:00:00.000000",
         "PriceUSD": 51086.4681794272,
         "_deepnote_index_column": 4083
        },
        {
         "date": "2021-03-08T00:00:00.000000",
         "PriceUSD": 52088.475131502,
         "_deepnote_index_column": 4084
        },
        {
         "date": "2021-03-09T00:00:00.000000",
         "PriceUSD": 54739.1352542373,
         "_deepnote_index_column": 4085
        },
        {
         "date": "2021-03-10T00:00:00.000000",
         "PriceUSD": 56116.040912332,
         "_deepnote_index_column": 4086
        },
        {
         "date": "2021-03-11T00:00:00.000000",
         "PriceUSD": 57847.2549357101,
         "_deepnote_index_column": 4087
        },
        {
         "date": "2021-03-12T00:00:00.000000",
         "PriceUSD": 57334.641534775,
         "_deepnote_index_column": 4088
        },
        {
         "date": "2021-03-13T00:00:00.000000",
         "PriceUSD": 61288.7941276447,
         "_deepnote_index_column": 4089
        },
        {
         "date": "2021-03-14T00:00:00.000000",
         "PriceUSD": 59905.6184704851,
         "_deepnote_index_column": 4090
        },
        {
         "date": "2021-03-15T00:00:00.000000",
         "PriceUSD": 56121.121924021,
         "_deepnote_index_column": 4091
        },
        {
         "date": "2021-03-16T00:00:00.000000",
         "PriceUSD": 56500.4460257159,
         "_deepnote_index_column": 4092
        },
        {
         "date": "2021-03-17T00:00:00.000000",
         "PriceUSD": 58683.0659824664,
         "_deepnote_index_column": 4093
        },
        {
         "date": "2021-03-18T00:00:00.000000",
         "PriceUSD": 57731.4798410871,
         "_deepnote_index_column": 4094
        },
        {
         "date": "2021-03-19T00:00:00.000000",
         "PriceUSD": 58168.1219222677,
         "_deepnote_index_column": 4095
        },
        {
         "date": "2021-03-20T00:00:00.000000",
         "PriceUSD": 58247.8847066043,
         "_deepnote_index_column": 4096
        },
        {
         "date": "2021-03-21T00:00:00.000000",
         "PriceUSD": 57447.9330198714,
         "_deepnote_index_column": 4097
        },
        {
         "date": "2021-03-22T00:00:00.000000",
         "PriceUSD": 54453.1373508475,
         "_deepnote_index_column": 4098
        },
        {
         "date": "2021-03-23T00:00:00.000000",
         "PriceUSD": 54563.6119458211,
         "_deepnote_index_column": 4099
        },
        {
         "date": "2021-03-24T00:00:00.000000",
         "PriceUSD": 52595.4113237873,
         "_deepnote_index_column": 4100
        },
        {
         "date": "2021-03-25T00:00:00.000000",
         "PriceUSD": 51547.1248953828,
         "_deepnote_index_column": 4101
        },
        {
         "date": "2021-03-26T00:00:00.000000",
         "PriceUSD": 54817.8571122151,
         "_deepnote_index_column": 4102
        },
        {
         "date": "2021-03-27T00:00:00.000000",
         "PriceUSD": 56019.8373055523,
         "_deepnote_index_column": 4103
        },
        {
         "date": "2021-03-28T00:00:00.000000",
         "PriceUSD": 55713.0381396844,
         "_deepnote_index_column": 4104
        },
        {
         "date": "2021-03-29T00:00:00.000000",
         "PriceUSD": 57571.2333477498,
         "_deepnote_index_column": 4105
        },
        {
         "date": "2021-03-30T00:00:00.000000",
         "PriceUSD": 58684.5483921683,
         "_deepnote_index_column": 4106
        },
        {
         "date": "2021-03-31T00:00:00.000000",
         "PriceUSD": 58792.1948275862,
         "_deepnote_index_column": 4107
        },
        {
         "date": "2021-04-01T00:00:00.000000",
         "PriceUSD": 58818.9770985973,
         "_deepnote_index_column": 4108
        },
        {
         "date": "2021-04-02T00:00:00.000000",
         "PriceUSD": 59031.5340192285,
         "_deepnote_index_column": 4109
        },
        {
         "date": "2021-04-03T00:00:00.000000",
         "PriceUSD": 57282.3896247808,
         "_deepnote_index_column": 4110
        },
        {
         "date": "2021-04-04T00:00:00.000000",
         "PriceUSD": 58202.199391993,
         "_deepnote_index_column": 4111
        },
        {
         "date": "2021-04-05T00:00:00.000000",
         "PriceUSD": 58755.8525295149,
         "_deepnote_index_column": 4112
        },
        {
         "date": "2021-04-06T00:00:00.000000",
         "PriceUSD": 58084.0664231444,
         "_deepnote_index_column": 4113
        },
        {
         "date": "2021-04-07T00:00:00.000000",
         "PriceUSD": 56266.8346762127,
         "_deepnote_index_column": 4114
        },
        {
         "date": "2021-04-08T00:00:00.000000",
         "PriceUSD": 57963.3445994155,
         "_deepnote_index_column": 4115
        },
        {
         "date": "2021-04-09T00:00:00.000000",
         "PriceUSD": 58051.7625563998,
         "_deepnote_index_column": 4116
        },
        {
         "date": "2021-04-10T00:00:00.000000",
         "PriceUSD": 59651.5589877265,
         "_deepnote_index_column": 4117
        },
        {
         "date": "2021-04-11T00:00:00.000000",
         "PriceUSD": 59932.9306469901,
         "_deepnote_index_column": 4118
        },
        {
         "date": "2021-04-12T00:00:00.000000",
         "PriceUSD": 59905.9363744594,
         "_deepnote_index_column": 4119
        },
        {
         "date": "2021-04-13T00:00:00.000000",
         "PriceUSD": 63445.638314436,
         "_deepnote_index_column": 4120
        },
        {
         "date": "2021-04-14T00:00:00.000000",
         "PriceUSD": 62869.4955873758,
         "_deepnote_index_column": 4121
        },
        {
         "date": "2021-04-15T00:00:00.000000",
         "PriceUSD": 63231.162987142,
         "_deepnote_index_column": 4122
        },
        {
         "date": "2021-04-16T00:00:00.000000",
         "PriceUSD": 61571.1100905903,
         "_deepnote_index_column": 4123
        },
        {
         "date": "2021-04-17T00:00:00.000000",
         "PriceUSD": 60280.8761758036,
         "_deepnote_index_column": 4124
        },
        {
         "date": "2021-04-18T00:00:00.000000",
         "PriceUSD": 56389.5579812975,
         "_deepnote_index_column": 4125
        },
        {
         "date": "2021-04-19T00:00:00.000000",
         "PriceUSD": 55798.1370771479,
         "_deepnote_index_column": 4126
        },
        {
         "date": "2021-04-20T00:00:00.000000",
         "PriceUSD": 56474.3737586207,
         "_deepnote_index_column": 4127
        },
        {
         "date": "2021-04-21T00:00:00.000000",
         "PriceUSD": 54025.7995745178,
         "_deepnote_index_column": 4128
        },
        {
         "date": "2021-04-22T00:00:00.000000",
         "PriceUSD": 51882.0598106371,
         "_deepnote_index_column": 4129
        },
        {
         "date": "2021-04-23T00:00:00.000000",
         "PriceUSD": 50954.9100607832,
         "_deepnote_index_column": 4130
        },
        {
         "date": "2021-04-24T00:00:00.000000",
         "PriceUSD": 50279.9484464056,
         "_deepnote_index_column": 4131
        },
        {
         "date": "2021-04-25T00:00:00.000000",
         "PriceUSD": 48946.9407428404,
         "_deepnote_index_column": 4132
        },
        {
         "date": "2021-04-26T00:00:00.000000",
         "PriceUSD": 53943.3499783752,
         "_deepnote_index_column": 4133
        },
        {
         "date": "2021-04-27T00:00:00.000000",
         "PriceUSD": 55027.0309848042,
         "_deepnote_index_column": 4134
        },
        {
         "date": "2021-04-28T00:00:00.000000",
         "PriceUSD": 54787.3787071888,
         "_deepnote_index_column": 4135
        },
        {
         "date": "2021-04-29T00:00:00.000000",
         "PriceUSD": 53567.0811938048,
         "_deepnote_index_column": 4136
        },
        {
         "date": "2021-04-30T00:00:00.000000",
         "PriceUSD": 57741.44441654,
         "_deepnote_index_column": 4137
        },
        {
         "date": "2021-05-01T00:00:00.000000",
         "PriceUSD": 57863.5903927528,
         "_deepnote_index_column": 4138
        },
        {
         "date": "2021-05-02T00:00:00.000000",
         "PriceUSD": 56572.5968410286,
         "_deepnote_index_column": 4139
        },
        {
         "date": "2021-05-03T00:00:00.000000",
         "PriceUSD": 57243.0416054939,
         "_deepnote_index_column": 4140
        },
        {
         "date": "2021-05-04T00:00:00.000000",
         "PriceUSD": 53724.10892519,
         "_deepnote_index_column": 4141
        },
        {
         "date": "2021-05-05T00:00:00.000000",
         "PriceUSD": 57342.0256616014,
         "_deepnote_index_column": 4142
        },
        {
         "date": "2021-05-06T00:00:00.000000",
         "PriceUSD": 56527.3529789597,
         "_deepnote_index_column": 4143
        },
        {
         "date": "2021-05-07T00:00:00.000000",
         "PriceUSD": 57341.0684549386,
         "_deepnote_index_column": 4144
        },
        {
         "date": "2021-05-08T00:00:00.000000",
         "PriceUSD": 58736.1258950906,
         "_deepnote_index_column": 4145
        },
        {
         "date": "2021-05-09T00:00:00.000000",
         "PriceUSD": 58288.4256303916,
         "_deepnote_index_column": 4146
        },
        {
         "date": "2021-05-10T00:00:00.000000",
         "PriceUSD": 55902.9277399182,
         "_deepnote_index_column": 4147
        },
        {
         "date": "2021-05-11T00:00:00.000000",
         "PriceUSD": 56612.1026487434,
         "_deepnote_index_column": 4148
        },
        {
         "date": "2021-05-12T00:00:00.000000",
         "PriceUSD": 50972.355081239,
         "_deepnote_index_column": 4149
        },
        {
         "date": "2021-05-13T00:00:00.000000",
         "PriceUSD": 49368.6144739918,
         "_deepnote_index_column": 4150
        },
        {
         "date": "2021-05-14T00:00:00.000000",
         "PriceUSD": 49997.3959011105,
         "_deepnote_index_column": 4151
        },
        {
         "date": "2021-05-15T00:00:00.000000",
         "PriceUSD": 47047.9633331385,
         "_deepnote_index_column": 4152
        },
        {
         "date": "2021-05-16T00:00:00.000000",
         "PriceUSD": 46022.5037090006,
         "_deepnote_index_column": 4153
        },
        {
         "date": "2021-05-17T00:00:00.000000",
         "PriceUSD": 43492.3954833431,
         "_deepnote_index_column": 4154
        },
        {
         "date": "2021-05-18T00:00:00.000000",
         "PriceUSD": 42789.8093921683,
         "_deepnote_index_column": 4155
        },
        {
         "date": "2021-05-19T00:00:00.000000",
         "PriceUSD": 37642.5200017534,
         "_deepnote_index_column": 4156
        },
        {
         "date": "2021-05-20T00:00:00.000000",
         "PriceUSD": 40799.4021475745,
         "_deepnote_index_column": 4157
        },
        {
         "date": "2021-05-21T00:00:00.000000",
         "PriceUSD": 37174.3311014027,
         "_deepnote_index_column": 4158
        },
        {
         "date": "2021-05-22T00:00:00.000000",
         "PriceUSD": 37643.4197983635,
         "_deepnote_index_column": 4159
        },
        {
         "date": "2021-05-23T00:00:00.000000",
         "PriceUSD": 34774.207221917,
         "_deepnote_index_column": 4160
        },
        {
         "date": "2021-05-24T00:00:00.000000",
         "PriceUSD": 38630.4091186441,
         "_deepnote_index_column": 4161
        },
        {
         "date": "2021-05-25T00:00:00.000000",
         "PriceUSD": 38269.7710747516,
         "_deepnote_index_column": 4162
        },
        {
         "date": "2021-05-26T00:00:00.000000",
         "PriceUSD": 39194.8588980129,
         "_deepnote_index_column": 4163
        },
        {
         "date": "2021-05-27T00:00:00.000000",
         "PriceUSD": 38510.8570417884,
         "_deepnote_index_column": 4164
        },
        {
         "date": "2021-05-28T00:00:00.000000",
         "PriceUSD": 35596.7179510228,
         "_deepnote_index_column": 4165
        },
        {
         "date": "2021-05-29T00:00:00.000000",
         "PriceUSD": 34681.8183670368,
         "_deepnote_index_column": 4166
        },
        {
         "date": "2021-05-30T00:00:00.000000",
         "PriceUSD": 35652.1687703098,
         "_deepnote_index_column": 4167
        },
        {
         "date": "2021-05-31T00:00:00.000000",
         "PriceUSD": 37312.9748970193,
         "_deepnote_index_column": 4168
        },
        {
         "date": "2021-06-01T00:00:00.000000",
         "PriceUSD": 36661.3781184687,
         "_deepnote_index_column": 4169
        },
        {
         "date": "2021-06-02T00:00:00.000000",
         "PriceUSD": 37639.4556732905,
         "_deepnote_index_column": 4170
        },
        {
         "date": "2021-06-03T00:00:00.000000",
         "PriceUSD": 39160.1504132086,
         "_deepnote_index_column": 4171
        },
        {
         "date": "2021-06-04T00:00:00.000000",
         "PriceUSD": 36884.3735551724,
         "_deepnote_index_column": 4172
        },
        {
         "date": "2021-06-05T00:00:00.000000",
         "PriceUSD": 35409.5672366452,
         "_deepnote_index_column": 4173
        },
        {
         "date": "2021-06-06T00:00:00.000000",
         "PriceUSD": 35720.6043546464,
         "_deepnote_index_column": 4174
        },
        {
         "date": "2021-06-07T00:00:00.000000",
         "PriceUSD": 33724.9077517826,
         "_deepnote_index_column": 4175
        },
        {
         "date": "2021-06-08T00:00:00.000000",
         "PriceUSD": 33475.0489234366,
         "_deepnote_index_column": 4176
        },
        {
         "date": "2021-06-09T00:00:00.000000",
         "PriceUSD": 37372.9888953828,
         "_deepnote_index_column": 4177
        },
        {
         "date": "2021-06-10T00:00:00.000000",
         "PriceUSD": 36826.0022185856,
         "_deepnote_index_column": 4178
        },
        {
         "date": "2021-06-11T00:00:00.000000",
         "PriceUSD": 37185.3931268264,
         "_deepnote_index_column": 4179
        },
        {
         "date": "2021-06-12T00:00:00.000000",
         "PriceUSD": 35669.1712817066,
         "_deepnote_index_column": 4180
        },
        {
         "date": "2021-06-13T00:00:00.000000",
         "PriceUSD": 38925.4194289889,
         "_deepnote_index_column": 4181
        },
        {
         "date": "2021-06-14T00:00:00.000000",
         "PriceUSD": 40455.5959833431,
         "_deepnote_index_column": 4182
        },
        {
         "date": "2021-06-15T00:00:00.000000",
         "PriceUSD": 40254.6514679135,
         "_deepnote_index_column": 4183
        },
        {
         "date": "2021-06-16T00:00:00.000000",
         "PriceUSD": 38265.5437726476,
         "_deepnote_index_column": 4184
        },
        {
         "date": "2021-06-17T00:00:00.000000",
         "PriceUSD": 38018.6432346581,
         "_deepnote_index_column": 4185
        },
        {
         "date": "2021-06-18T00:00:00.000000",
         "PriceUSD": 35714.3120787259,
         "_deepnote_index_column": 4186
        },
        {
         "date": "2021-06-19T00:00:00.000000",
         "PriceUSD": 35555.9763966686,
         "_deepnote_index_column": 4187
        },
        {
         "date": "2021-06-20T00:00:00.000000",
         "PriceUSD": 35599.9418784337,
         "_deepnote_index_column": 4188
        },
        {
         "date": "2021-06-21T00:00:00.000000",
         "PriceUSD": 31715.1598624196,
         "_deepnote_index_column": 4189
        },
        {
         "date": "2021-06-22T00:00:00.000000",
         "PriceUSD": 32394.5555949737,
         "_deepnote_index_column": 4190
        },
        {
         "date": "2021-06-23T00:00:00.000000",
         "PriceUSD": 33610.4968129749,
         "_deepnote_index_column": 4191
        },
        {
         "date": "2021-06-24T00:00:00.000000",
         "PriceUSD": 34658.972875979,
         "_deepnote_index_column": 4192
        },
        {
         "date": "2021-06-25T00:00:00.000000",
         "PriceUSD": 31683.5032004676,
         "_deepnote_index_column": 4193
        },
        {
         "date": "2021-06-26T00:00:00.000000",
         "PriceUSD": 31890.6764465225,
         "_deepnote_index_column": 4194
        },
        {
         "date": "2021-06-27T00:00:00.000000",
         "PriceUSD": 34506.4911975453,
         "_deepnote_index_column": 4195
        },
        {
         "date": "2021-06-28T00:00:00.000000",
         "PriceUSD": 34376.188538983,
         "_deepnote_index_column": 4196
        },
        {
         "date": "2021-06-29T00:00:00.000000",
         "PriceUSD": 35933.7782178843,
         "_deepnote_index_column": 4197
        },
        {
         "date": "2021-06-30T00:00:00.000000",
         "PriceUSD": 35065.4661533606,
         "_deepnote_index_column": 4198
        },
        {
         "date": "2021-07-01T00:00:00.000000",
         "PriceUSD": 33505.0804935126,
         "_deepnote_index_column": 4199
        },
        {
         "date": "2021-07-02T00:00:00.000000",
         "PriceUSD": 33782.9459464641,
         "_deepnote_index_column": 4200
        },
        {
         "date": "2021-07-03T00:00:00.000000",
         "PriceUSD": 34588.2242916423,
         "_deepnote_index_column": 4201
        },
        {
         "date": "2021-07-04T00:00:00.000000",
         "PriceUSD": 35355.6078883694,
         "_deepnote_index_column": 4202
        },
        {
         "date": "2021-07-05T00:00:00.000000",
         "PriceUSD": 33911.7538404442,
         "_deepnote_index_column": 4203
        },
        {
         "date": "2021-07-06T00:00:00.000000",
         "PriceUSD": 34123.9815680888,
         "_deepnote_index_column": 4204
        },
        {
         "date": "2021-07-07T00:00:00.000000",
         "PriceUSD": 33931.6186382233,
         "_deepnote_index_column": 4205
        },
        {
         "date": "2021-07-08T00:00:00.000000",
         "PriceUSD": 32819.6595312098,
         "_deepnote_index_column": 4206
        },
        {
         "date": "2021-07-09T00:00:00.000000",
         "PriceUSD": 33914.8810742256,
         "_deepnote_index_column": 4207
        },
        {
         "date": "2021-07-10T00:00:00.000000",
         "PriceUSD": 33610.9458386908,
         "_deepnote_index_column": 4208
        },
        {
         "date": "2021-07-11T00:00:00.000000",
         "PriceUSD": 34258.4413898305,
         "_deepnote_index_column": 4209
        },
        {
         "date": "2021-07-12T00:00:00.000000",
         "PriceUSD": 33135.2359117475,
         "_deepnote_index_column": 4210
        },
        {
         "date": "2021-07-13T00:00:00.000000",
         "PriceUSD": 32641.9759610169,
         "_deepnote_index_column": 4211
        },
        {
         "date": "2021-07-14T00:00:00.000000",
         "PriceUSD": 32798.2845189947,
         "_deepnote_index_column": 4212
        },
        {
         "date": "2021-07-15T00:00:00.000000",
         "PriceUSD": 31707.6900368206,
         "_deepnote_index_column": 4213
        },
        {
         "date": "2021-07-16T00:00:00.000000",
         "PriceUSD": 31455.7175818819,
         "_deepnote_index_column": 4214
        },
        {
         "date": "2021-07-17T00:00:00.000000",
         "PriceUSD": 31547.9511990064,
         "_deepnote_index_column": 4215
        },
        {
         "date": "2021-07-18T00:00:00.000000",
         "PriceUSD": 31707.7038527177,
         "_deepnote_index_column": 4216
        },
        {
         "date": "2021-07-19T00:00:00.000000",
         "PriceUSD": 30883.4697462303,
         "_deepnote_index_column": 4217
        },
        {
         "date": "2021-07-20T00:00:00.000000",
         "PriceUSD": 29766.6577182934,
         "_deepnote_index_column": 4218
        },
        {
         "date": "2021-07-21T00:00:00.000000",
         "PriceUSD": 32119.6572258328,
         "_deepnote_index_column": 4219
        },
        {
         "date": "2021-07-22T00:00:00.000000",
         "PriceUSD": 32306.9614285798,
         "_deepnote_index_column": 4220
        },
        {
         "date": "2021-07-23T00:00:00.000000",
         "PriceUSD": 33439.5957028638,
         "_deepnote_index_column": 4221
        },
        {
         "date": "2021-07-24T00:00:00.000000",
         "PriceUSD": 34166.914654588,
         "_deepnote_index_column": 4222
        },
        {
         "date": "2021-07-25T00:00:00.000000",
         "PriceUSD": 35119.9374360023,
         "_deepnote_index_column": 4223
        },
        {
         "date": "2021-07-26T00:00:00.000000",
         "PriceUSD": 37444.7825102279,
         "_deepnote_index_column": 4224
        },
        {
         "date": "2021-07-27T00:00:00.000000",
         "PriceUSD": 39126.5402881356,
         "_deepnote_index_column": 4225
        },
        {
         "date": "2021-07-28T00:00:00.000000",
         "PriceUSD": 39939.1940432495,
         "_deepnote_index_column": 4226
        },
        {
         "date": "2021-07-29T00:00:00.000000",
         "PriceUSD": 40086.1643950906,
         "_deepnote_index_column": 4227
        },
        {
         "date": "2021-07-30T00:00:00.000000",
         "PriceUSD": 41789.6670981882,
         "_deepnote_index_column": 4228
        },
        {
         "date": "2021-07-31T00:00:00.000000",
         "PriceUSD": 41793.3137481005,
         "_deepnote_index_column": 4229
        },
        {
         "date": "2021-08-01T00:00:00.000000",
         "PriceUSD": 39968.9689544126,
         "_deepnote_index_column": 4230
        },
        {
         "date": "2021-08-02T00:00:00.000000",
         "PriceUSD": 39304.1862835769,
         "_deepnote_index_column": 4231
        },
        {
         "date": "2021-08-03T00:00:00.000000",
         "PriceUSD": 38288.8253975453,
         "_deepnote_index_column": 4232
        },
        {
         "date": "2021-08-04T00:00:00.000000",
         "PriceUSD": 39773.9113489188,
         "_deepnote_index_column": 4233
        },
        {
         "date": "2021-08-05T00:00:00.000000",
         "PriceUSD": 40941.650434249,
         "_deepnote_index_column": 4234
        },
        {
         "date": "2021-08-06T00:00:00.000000",
         "PriceUSD": 42790.3573284629,
         "_deepnote_index_column": 4235
        },
        {
         "date": "2021-08-07T00:00:00.000000",
         "PriceUSD": 44484.9005862069,
         "_deepnote_index_column": 4236
        },
        {
         "date": "2021-08-08T00:00:00.000000",
         "PriceUSD": 43972.3010181181,
         "_deepnote_index_column": 4237
        },
        {
         "date": "2021-08-09T00:00:00.000000",
         "PriceUSD": 46265.6424564582,
         "_deepnote_index_column": 4238
        },
        {
         "date": "2021-08-10T00:00:00.000000",
         "PriceUSD": 45488.7912624196,
         "_deepnote_index_column": 4239
        },
        {
         "date": "2021-08-11T00:00:00.000000",
         "PriceUSD": 45676.3263611923,
         "_deepnote_index_column": 4240
        },
        {
         "date": "2021-08-12T00:00:00.000000",
         "PriceUSD": 44405.7483483343,
         "_deepnote_index_column": 4241
        },
        {
         "date": "2021-08-13T00:00:00.000000",
         "PriceUSD": 47717.4853559322,
         "_deepnote_index_column": 4242
        },
        {
         "date": "2021-08-14T00:00:00.000000",
         "PriceUSD": 47124.2050736411,
         "_deepnote_index_column": 4243
        },
        {
         "date": "2021-08-15T00:00:00.000000",
         "PriceUSD": 47074.370710111,
         "_deepnote_index_column": 4244
        },
        {
         "date": "2021-08-16T00:00:00.000000",
         "PriceUSD": 45984.7199070719,
         "_deepnote_index_column": 4245
        },
        {
         "date": "2021-08-17T00:00:00.000000",
         "PriceUSD": 44714.0967982466,
         "_deepnote_index_column": 4246
        },
        {
         "date": "2021-08-18T00:00:00.000000",
         "PriceUSD": 44954.3637469316,
         "_deepnote_index_column": 4247
        },
        {
         "date": "2021-08-19T00:00:00.000000",
         "PriceUSD": 46646.8615049679,
         "_deepnote_index_column": 4248
        },
        {
         "date": "2021-08-20T00:00:00.000000",
         "PriceUSD": 49240.8356049094,
         "_deepnote_index_column": 4249
        },
        {
         "date": "2021-08-21T00:00:00.000000",
         "PriceUSD": 49070.2409701929,
         "_deepnote_index_column": 4250
        },
        {
         "date": "2021-08-22T00:00:00.000000",
         "PriceUSD": 49363.3160952659,
         "_deepnote_index_column": 4251
        },
        {
         "date": "2021-08-23T00:00:00.000000",
         "PriceUSD": 49590.8763676213,
         "_deepnote_index_column": 4252
        },
        {
         "date": "2021-08-24T00:00:00.000000",
         "PriceUSD": 47925.8622127411,
         "_deepnote_index_column": 4253
        },
        {
         "date": "2021-08-25T00:00:00.000000",
         "PriceUSD": 49002.3166049094,
         "_deepnote_index_column": 4254
        },
        {
         "date": "2021-08-26T00:00:00.000000",
         "PriceUSD": 47190.3449929866,
         "_deepnote_index_column": 4255
        },
        {
         "date": "2021-08-27T00:00:00.000000",
         "PriceUSD": 49048.4755891292,
         "_deepnote_index_column": 4256
        },
        {
         "date": "2021-08-28T00:00:00.000000",
         "PriceUSD": 48852.4687995324,
         "_deepnote_index_column": 4257
        },
        {
         "date": "2021-08-29T00:00:00.000000",
         "PriceUSD": 48948.3479579193,
         "_deepnote_index_column": 4258
        },
        {
         "date": "2021-08-30T00:00:00.000000",
         "PriceUSD": 47125.7685189947,
         "_deepnote_index_column": 4259
        },
        {
         "date": "2021-08-31T00:00:00.000000",
         "PriceUSD": 47219.2443424898,
         "_deepnote_index_column": 4260
        },
        {
         "date": "2021-09-01T00:00:00.000000",
         "PriceUSD": 48688.5375572764,
         "_deepnote_index_column": 4261
        },
        {
         "date": "2021-09-02T00:00:00.000000",
         "PriceUSD": 49369.5862746932,
         "_deepnote_index_column": 4262
        },
        {
         "date": "2021-09-03T00:00:00.000000",
         "PriceUSD": 49860.5341635301,
         "_deepnote_index_column": 4263
        },
        {
         "date": "2021-09-04T00:00:00.000000",
         "PriceUSD": 49919.577563647,
         "_deepnote_index_column": 4264
        },
        {
         "date": "2021-09-05T00:00:00.000000",
         "PriceUSD": 51747.6438565167,
         "_deepnote_index_column": 4265
        },
        {
         "date": "2021-09-06T00:00:00.000000",
         "PriceUSD": 52640.5883740503,
         "_deepnote_index_column": 4266
        },
        {
         "date": "2021-09-07T00:00:00.000000",
         "PriceUSD": 46854.4006028638,
         "_deepnote_index_column": 4267
        },
        {
         "date": "2021-09-08T00:00:00.000000",
         "PriceUSD": 46187.9757306254,
         "_deepnote_index_column": 4268
        },
        {
         "date": "2021-09-09T00:00:00.000000",
         "PriceUSD": 46448.7748290473,
         "_deepnote_index_column": 4269
        },
        {
         "date": "2021-09-10T00:00:00.000000",
         "PriceUSD": 44765.2755762712,
         "_deepnote_index_column": 4270
        },
        {
         "date": "2021-09-11T00:00:00.000000",
         "PriceUSD": 45098.5916447691,
         "_deepnote_index_column": 4271
        },
        {
         "date": "2021-09-12T00:00:00.000000",
         "PriceUSD": 46180.6124563998,
         "_deepnote_index_column": 4272
        },
        {
         "date": "2021-09-13T00:00:00.000000",
         "PriceUSD": 44991.5221277031,
         "_deepnote_index_column": 4273
        },
        {
         "date": "2021-09-14T00:00:00.000000",
         "PriceUSD": 47022.6177597896,
         "_deepnote_index_column": 4274
        },
        {
         "date": "2021-09-15T00:00:00.000000",
         "PriceUSD": 48167.1893676213,
         "_deepnote_index_column": 4275
        },
        {
         "date": "2021-09-16T00:00:00.000000",
         "PriceUSD": 47797.3283237873,
         "_deepnote_index_column": 4276
        },
        {
         "date": "2021-09-17T00:00:00.000000",
         "PriceUSD": 47213.7941294565,
         "_deepnote_index_column": 4277
        },
        {
         "date": "2021-09-18T00:00:00.000000",
         "PriceUSD": 48204.0136519579,
         "_deepnote_index_column": 4278
        },
        {
         "date": "2021-09-19T00:00:00.000000",
         "PriceUSD": 47218.4739964933,
         "_deepnote_index_column": 4279
        },
        {
         "date": "2021-09-20T00:00:00.000000",
         "PriceUSD": 42855.5103448276,
         "_deepnote_index_column": 4280
        },
        {
         "date": "2021-09-21T00:00:00.000000",
         "PriceUSD": 40526.4893760958,
         "_deepnote_index_column": 4281
        }
       ]
      },
      "text/plain": "                          date      PriceUSD\n198  2010-07-18 00:00:00+00:00      0.085840\n199  2010-07-19 00:00:00+00:00      0.080800\n200  2010-07-20 00:00:00+00:00      0.074736\n201  2010-07-21 00:00:00+00:00      0.079193\n202  2010-07-22 00:00:00+00:00      0.058470\n...                        ...           ...\n4277 2021-09-17 00:00:00+00:00  47213.794129\n4278 2021-09-18 00:00:00+00:00  48204.013652\n4279 2021-09-19 00:00:00+00:00  47218.473996\n4280 2021-09-20 00:00:00+00:00  42855.510345\n4281 2021-09-21 00:00:00+00:00  40526.489376\n\n[4084 rows x 2 columns]",
      "text/html": "<div>\n<style scoped>\n    .dataframe tbody tr th:only-of-type {\n        vertical-align: middle;\n    }\n\n    .dataframe tbody tr th {\n        vertical-align: top;\n    }\n\n    .dataframe thead th {\n        text-align: right;\n    }\n</style>\n<table border=\"1\" class=\"dataframe\">\n  <thead>\n    <tr style=\"text-align: right;\">\n      <th></th>\n      <th>date</th>\n      <th>PriceUSD</th>\n    </tr>\n  </thead>\n  <tbody>\n    <tr>\n      <th>198</th>\n      <td>2010-07-18 00:00:00+00:00</td>\n      <td>0.085840</td>\n    </tr>\n    <tr>\n      <th>199</th>\n      <td>2010-07-19 00:00:00+00:00</td>\n      <td>0.080800</td>\n    </tr>\n    <tr>\n      <th>200</th>\n      <td>2010-07-20 00:00:00+00:00</td>\n      <td>0.074736</td>\n    </tr>\n    <tr>\n      <th>201</th>\n      <td>2010-07-21 00:00:00+00:00</td>\n      <td>0.079193</td>\n    </tr>\n    <tr>\n      <th>202</th>\n      <td>2010-07-22 00:00:00+00:00</td>\n      <td>0.058470</td>\n    </tr>\n    <tr>\n      <th>...</th>\n      <td>...</td>\n      <td>...</td>\n    </tr>\n    <tr>\n      <th>4277</th>\n      <td>2021-09-17 00:00:00+00:00</td>\n      <td>47213.794129</td>\n    </tr>\n    <tr>\n      <th>4278</th>\n      <td>2021-09-18 00:00:00+00:00</td>\n      <td>48204.013652</td>\n    </tr>\n    <tr>\n      <th>4279</th>\n      <td>2021-09-19 00:00:00+00:00</td>\n      <td>47218.473996</td>\n    </tr>\n    <tr>\n      <th>4280</th>\n      <td>2021-09-20 00:00:00+00:00</td>\n      <td>42855.510345</td>\n    </tr>\n    <tr>\n      <th>4281</th>\n      <td>2021-09-21 00:00:00+00:00</td>\n      <td>40526.489376</td>\n    </tr>\n  </tbody>\n</table>\n<p>4084 rows × 2 columns</p>\n</div>"
     },
     "metadata": {}
    }
   ],
   "execution_count": null
  },
  {
   "cell_type": "markdown",
   "source": "Normalization",
   "metadata": {
    "tags": [],
    "is_collapsed": false,
    "cell_id": "00023-716f41c0-a9cd-4d70-9498-1b7909200c06",
    "deepnote_cell_type": "text-cell-p"
   }
  },
  {
   "cell_type": "code",
   "metadata": {
    "tags": [],
    "deepnote_to_be_reexecuted": false,
    "source_hash": "efda84d3",
    "execution_start": 1632709668496,
    "execution_millis": 3,
    "cell_id": "00024-dc1043f9-c7f8-4bfa-b74a-8a6651e4fc7b",
    "deepnote_cell_type": "code"
   },
   "source": "scaler = MinMaxScaler()\n\n# Fit the scaler with the portion of the dataset that will go to the training set\ntrain_split_value = 0.9\nnum_train = int(np.round(train_split_value * price.shape[0]))\n\n#scaler.fit(price[:num_train][['PriceUSD']])\n#normalized_price = scaler.transform(price[['PriceUSD']])\n\n\nscaler.fit(price[:num_train][['PriceUSD']].values)\nnormalized_price = pd.DataFrame()\nnormalized_price['date'] = price['date']\nnormalized_price['Price'] = scaler.transform(price[['PriceUSD']])",
   "outputs": [],
   "execution_count": null
  },
  {
   "cell_type": "code",
   "metadata": {
    "tags": [],
    "deepnote_to_be_reexecuted": false,
    "source_hash": "c038211b",
    "execution_start": 1632709668544,
    "execution_millis": 23,
    "cell_id": "00025-96b0741a-89f6-4806-bd99-0a6ef59d514e",
    "deepnote_cell_type": "code"
   },
   "source": "normalized_price",
   "outputs": [
    {
     "output_type": "execute_result",
     "execution_count": 14,
     "data": {
      "application/vnd.deepnote.dataframe.v2+json": {
       "row_count": 4084,
       "column_count": 2,
       "columns": [
        {
         "name": "date",
         "dtype": "datetime64[ns, UTC]",
         "stats": {
          "unique_count": 4084,
          "nan_count": 0,
          "min": "2010-07-18 00:00:00+00:00",
          "max": "2021-09-21 00:00:00+00:00",
          "histogram": [
           {
            "bin_start": 1279411200000000000,
            "bin_end": 1314688320000000000,
            "count": 409
           },
           {
            "bin_start": 1314688320000000000,
            "bin_end": 1349965440000000000,
            "count": 408
           },
           {
            "bin_start": 1349965440000000000,
            "bin_end": 1385242560000000000,
            "count": 408
           },
           {
            "bin_start": 1385242560000000000,
            "bin_end": 1420519680000000000,
            "count": 409
           },
           {
            "bin_start": 1420519680000000000,
            "bin_end": 1455796800000000000,
            "count": 408
           },
           {
            "bin_start": 1455796800000000000,
            "bin_end": 1491073920000000000,
            "count": 408
           },
           {
            "bin_start": 1491073920000000000,
            "bin_end": 1526351040000000000,
            "count": 409
           },
           {
            "bin_start": 1526351040000000000,
            "bin_end": 1561628160000000000,
            "count": 408
           },
           {
            "bin_start": 1561628160000000000,
            "bin_end": 1596905280000000000,
            "count": 408
           },
           {
            "bin_start": 1596905280000000000,
            "bin_end": 1632182400000000000,
            "count": 409
           }
          ]
         }
        },
        {
         "name": "Price",
         "dtype": "float64",
         "stats": {
          "unique_count": 4061,
          "nan_count": 0,
          "min": "0.0",
          "max": "3.230350866296166",
          "histogram": [
           {
            "bin_start": 0,
            "bin_end": 0.3230350866296166,
            "count": 2895
           },
           {
            "bin_start": 0.3230350866296166,
            "bin_end": 0.6460701732592332,
            "count": 810
           },
           {
            "bin_start": 0.6460701732592332,
            "bin_end": 0.9691052598888499,
            "count": 87
           },
           {
            "bin_start": 0.9691052598888499,
            "bin_end": 1.2921403465184664,
            "count": 22
           },
           {
            "bin_start": 1.2921403465184664,
            "bin_end": 1.615175433148083,
            "count": 17
           },
           {
            "bin_start": 1.615175433148083,
            "bin_end": 1.9382105197776998,
            "count": 79
           },
           {
            "bin_start": 1.9382105197776998,
            "bin_end": 2.261245606407316,
            "count": 34
           },
           {
            "bin_start": 2.261245606407316,
            "bin_end": 2.584280693036933,
            "count": 67
           },
           {
            "bin_start": 2.584280693036933,
            "bin_end": 2.9073157796665496,
            "count": 37
           },
           {
            "bin_start": 2.9073157796665496,
            "bin_end": 3.230350866296166,
            "count": 36
           }
          ]
         }
        },
        {
         "name": "_deepnote_index_column",
         "dtype": "int64"
        }
       ],
       "rows_top": [
        {
         "date": "2010-07-18T00:00:00.000000",
         "Price": 0.0000017972784568307893,
         "_deepnote_index_column": 198
        },
        {
         "date": "2010-07-19T00:00:00.000000",
         "Price": 0.0000015406653661904442,
         "_deepnote_index_column": 199
        },
        {
         "date": "2010-07-20T00:00:00.000000",
         "Price": 0.000001231901205152003,
         "_deepnote_index_column": 200
        },
        {
         "date": "2010-07-21T00:00:00.000000",
         "Price": 0.0000014588374928591641,
         "_deepnote_index_column": 201
        },
        {
         "date": "2010-07-22T00:00:00.000000",
         "Price": 4.0371461119947775e-7,
         "_deepnote_index_column": 202
        },
        {
         "date": "2010-07-23T00:00:00.000000",
         "Price": 5.118133487779541e-7,
         "_deepnote_index_column": 203
        },
        {
         "date": "2010-07-24T00:00:00.000000",
         "Price": 2.0362969948102355e-7,
         "_deepnote_index_column": 204
        },
        {
         "date": "2010-07-25T00:00:00.000000",
         "Price": 0,
         "_deepnote_index_column": 205
        },
        {
         "date": "2010-07-26T00:00:00.000000",
         "Price": 2.779660312935048e-7,
         "_deepnote_index_column": 206
        },
        {
         "date": "2010-07-27T00:00:00.000000",
         "Price": 4.114667699948883e-7,
         "_deepnote_index_column": 207
        },
        {
         "date": "2010-07-28T00:00:00.000000",
         "Price": 4.261854862951748e-7,
         "_deepnote_index_column": 208
        },
        {
         "date": "2010-07-29T00:00:00.000000",
         "Price": 9.856886423849348e-7,
         "_deepnote_index_column": 209
        },
        {
         "date": "2010-07-30T00:00:00.000000",
         "Price": 7.187591784338005e-7,
         "_deepnote_index_column": 210
        },
        {
         "date": "2010-07-31T00:00:00.000000",
         "Price": 8.658237995383706e-7,
         "_deepnote_index_column": 211
        },
        {
         "date": "2010-08-01T00:00:00.000000",
         "Price": 5.376340396795691e-7,
         "_deepnote_index_column": 212
        },
        {
         "date": "2010-08-02T00:00:00.000000",
         "Price": 4.816272143413979e-7,
         "_deepnote_index_column": 213
        },
        {
         "date": "2010-08-03T00:00:00.000000",
         "Price": 4.822458753577006e-7,
         "_deepnote_index_column": 214
        },
        {
         "date": "2010-08-04T00:00:00.000000",
         "Price": 3.2968478292080534e-7,
         "_deepnote_index_column": 215
        },
        {
         "date": "2010-08-05T00:00:00.000000",
         "Price": 5.325425101033713e-7,
         "_deepnote_index_column": 216
        },
        {
         "date": "2010-08-06T00:00:00.000000",
         "Price": 5.667227129193389e-7,
         "_deepnote_index_column": 217
        },
        {
         "date": "2010-08-07T00:00:00.000000",
         "Price": 4.309127825457556e-7,
         "_deepnote_index_column": 218
        },
        {
         "date": "2010-08-08T00:00:00.000000",
         "Price": 5.274509805271743e-7,
         "_deepnote_index_column": 219
        },
        {
         "date": "2010-08-09T00:00:00.000000",
         "Price": 0.0000010111462902659213,
         "_deepnote_index_column": 220
        },
        {
         "date": "2010-08-10T00:00:00.000000",
         "Price": 9.571113539246327e-7,
         "_deepnote_index_column": 221
        },
        {
         "date": "2010-08-11T00:00:00.000000",
         "Price": 8.38034284675212e-7,
         "_deepnote_index_column": 222
        },
        {
         "date": "2010-08-12T00:00:00.000000",
         "Price": 9.907801719611322e-7,
         "_deepnote_index_column": 223
        },
        {
         "date": "2010-08-13T00:00:00.000000",
         "Price": 7.107460452702783e-7,
         "_deepnote_index_column": 224
        },
        {
         "date": "2010-08-14T00:00:00.000000",
         "Price": 8.37852703649649e-7,
         "_deepnote_index_column": 225
        },
        {
         "date": "2010-08-15T00:00:00.000000",
         "Price": 7.422082461667176e-7,
         "_deepnote_index_column": 226
        },
        {
         "date": "2010-08-16T00:00:00.000000",
         "Price": 7.616613410322517e-7,
         "_deepnote_index_column": 227
        },
        {
         "date": "2010-08-17T00:00:00.000000",
         "Price": 9.907801719611322e-7,
         "_deepnote_index_column": 228
        },
        {
         "date": "2010-08-18T00:00:00.000000",
         "Price": 8.889495804371854e-7,
         "_deepnote_index_column": 229
        },
        {
         "date": "2010-08-19T00:00:00.000000",
         "Price": 8.227596959466195e-7,
         "_deepnote_index_column": 230
        },
        {
         "date": "2010-08-20T00:00:00.000000",
         "Price": 7.616613410322517e-7,
         "_deepnote_index_column": 231
        },
        {
         "date": "2010-08-21T00:00:00.000000",
         "Price": 8.074851072180277e-7,
         "_deepnote_index_column": 232
        },
        {
         "date": "2010-08-22T00:00:00.000000",
         "Price": 7.835034375192692e-7,
         "_deepnote_index_column": 233
        },
        {
         "date": "2010-08-23T00:00:00.000000",
         "Price": 7.316213165326873e-7,
         "_deepnote_index_column": 234
        },
        {
         "date": "2010-08-24T00:00:00.000000",
         "Price": 7.362036931512653e-7,
         "_deepnote_index_column": 235
        },
        {
         "date": "2010-08-25T00:00:00.000000",
         "Price": 7.260206339988701e-7,
         "_deepnote_index_column": 236
        },
        {
         "date": "2010-08-26T00:00:00.000000",
         "Price": 6.891128473082442e-7,
         "_deepnote_index_column": 237
        },
        {
         "date": "2010-08-27T00:00:00.000000",
         "Price": 7.362036931512653e-7,
         "_deepnote_index_column": 238
        },
        {
         "date": "2010-08-28T00:00:00.000000",
         "Price": 7.158375748464757e-7,
         "_deepnote_index_column": 239
        },
        {
         "date": "2010-08-29T00:00:00.000000",
         "Price": 6.852883973892919e-7,
         "_deepnote_index_column": 240
        },
        {
         "date": "2010-08-30T00:00:00.000000",
         "Price": 7.346762342784057e-7,
         "_deepnote_index_column": 241
        },
        {
         "date": "2010-08-31T00:00:00.000000",
         "Price": 4.816272143413979e-7,
         "_deepnote_index_column": 242
        },
        {
         "date": "2010-09-01T00:00:00.000000",
         "Price": 5.847219097601251e-7,
         "_deepnote_index_column": 243
        },
        {
         "date": "2010-09-02T00:00:00.000000",
         "Price": 6.547392199321076e-7,
         "_deepnote_index_column": 244
        },
        {
         "date": "2010-09-03T00:00:00.000000",
         "Price": 5.249052157390754e-7,
         "_deepnote_index_column": 245
        },
        {
         "date": "2010-09-04T00:00:00.000000",
         "Price": 5.925347741098085e-7,
         "_deepnote_index_column": 246
        },
        {
         "date": "2010-09-05T00:00:00.000000",
         "Price": 5.656374523486545e-7,
         "_deepnote_index_column": 247
        },
        {
         "date": "2010-09-06T00:00:00.000000",
         "Price": 5.630916875605556e-7,
         "_deepnote_index_column": 248
        },
        {
         "date": "2010-09-07T00:00:00.000000",
         "Price": 5.447172768306577e-7,
         "_deepnote_index_column": 249
        },
        {
         "date": "2010-09-08T00:00:00.000000",
         "Price": 5.325425101033713e-7,
         "_deepnote_index_column": 250
        },
        {
         "date": "2010-09-09T00:00:00.000000",
         "Price": 5.383962812347664e-7,
         "_deepnote_index_column": 251
        },
        {
         "date": "2010-09-10T00:00:00.000000",
         "Price": 5.331292709460597e-7,
         "_deepnote_index_column": 252
        },
        {
         "date": "2010-09-11T00:00:00.000000",
         "Price": 6.659846262842117e-7,
         "_deepnote_index_column": 253
        },
        {
         "date": "2010-09-12T00:00:00.000000",
         "Price": 5.580001579843582e-7,
         "_deepnote_index_column": 254
        },
        {
         "date": "2010-09-13T00:00:00.000000",
         "Price": 5.926225591025001e-7,
         "_deepnote_index_column": 255
        },
        {
         "date": "2010-09-14T00:00:00.000000",
         "Price": 5.829486529077252e-7,
         "_deepnote_index_column": 256
        },
        {
         "date": "2010-09-15T00:00:00.000000",
         "Price": 5.019933326461879e-7,
         "_deepnote_index_column": 257
        },
        {
         "date": "2010-09-16T00:00:00.000000",
         "Price": 5.783662762891473e-7,
         "_deepnote_index_column": 258
        },
        {
         "date": "2010-09-17T00:00:00.000000",
         "Price": 4.816539962035733e-7,
         "_deepnote_index_column": 259
        },
        {
         "date": "2010-09-18T00:00:00.000000",
         "Price": 5.325425101033713e-7,
         "_deepnote_index_column": 260
        },
        {
         "date": "2010-09-19T00:00:00.000000",
         "Price": 6.190985128987263e-7,
         "_deepnote_index_column": 261
        },
        {
         "date": "2010-09-20T00:00:00.000000",
         "Price": 5.886377155867303e-7,
         "_deepnote_index_column": 262
        },
        {
         "date": "2010-09-21T00:00:00.000000",
         "Price": 6.165527481106274e-7,
         "_deepnote_index_column": 263
        },
        {
         "date": "2010-09-22T00:00:00.000000",
         "Price": 5.774431947727608e-7,
         "_deepnote_index_column": 264
        },
        {
         "date": "2010-09-23T00:00:00.000000",
         "Price": 5.912739435537365e-7,
         "_deepnote_index_column": 265
        },
        {
         "date": "2010-09-24T00:00:00.000000",
         "Price": 5.936408650177394e-7,
         "_deepnote_index_column": 266
        },
        {
         "date": "2010-09-25T00:00:00.000000",
         "Price": 5.844761117805844e-7,
         "_deepnote_index_column": 267
        },
        {
         "date": "2010-09-26T00:00:00.000000",
         "Price": 5.834578058653447e-7,
         "_deepnote_index_column": 268
        },
        {
         "date": "2010-09-27T00:00:00.000000",
         "Price": 5.936633617819701e-7,
         "_deepnote_index_column": 269
        },
        {
         "date": "2010-09-28T00:00:00.000000",
         "Price": 5.785647298878825e-7,
         "_deepnote_index_column": 270
        },
        {
         "date": "2010-09-29T00:00:00.000000",
         "Price": 5.788754292467672e-7,
         "_deepnote_index_column": 271
        },
        {
         "date": "2010-09-30T00:00:00.000000",
         "Price": 5.783662762891473e-7,
         "_deepnote_index_column": 272
        },
        {
         "date": "2010-10-01T00:00:00.000000",
         "Price": 5.820990727242042e-7,
         "_deepnote_index_column": 273
        },
        {
         "date": "2010-10-02T00:00:00.000000",
         "Price": 5.529086284081612e-7,
         "_deepnote_index_column": 274
        },
        {
         "date": "2010-10-03T00:00:00.000000",
         "Price": 5.35845308862355e-7,
         "_deepnote_index_column": 275
        },
        {
         "date": "2010-10-04T00:00:00.000000",
         "Price": 5.475358892790977e-7,
         "_deepnote_index_column": 276
        },
        {
         "date": "2010-10-05T00:00:00.000000",
         "Price": 5.529086284081612e-7,
         "_deepnote_index_column": 277
        },
        {
         "date": "2010-10-06T00:00:00.000000",
         "Price": 6.246991954325436e-7,
         "_deepnote_index_column": 278
        },
        {
         "date": "2010-10-07T00:00:00.000000",
         "Price": 8.38034284675212e-7,
         "_deepnote_index_column": 279
        },
        {
         "date": "2010-10-08T00:00:00.000000",
         "Price": 0.0000017266644467694883,
         "_deepnote_index_column": 280
        },
        {
         "date": "2010-10-09T00:00:00.000000",
         "Price": 0.000002202564211096097,
         "_deepnote_index_column": 281
        },
        {
         "date": "2010-10-10T00:00:00.000000",
         "Price": 0.0000023729370273385395,
         "_deepnote_index_column": 282
        },
        {
         "date": "2010-10-11T00:00:00.000000",
         "Price": 0.0000022636625660104655,
         "_deepnote_index_column": 283
        },
        {
         "date": "2010-10-12T00:00:00.000000",
         "Price": 0.0000022585710364342685,
         "_deepnote_index_column": 284
        },
        {
         "date": "2010-10-13T00:00:00.000000",
         "Price": 0.0000027659719543879593,
         "_deepnote_index_column": 285
        },
        {
         "date": "2010-10-14T00:00:00.000000",
         "Price": 0.0000026200696363442787,
         "_deepnote_index_column": 286
        },
        {
         "date": "2010-10-15T00:00:00.000000",
         "Price": 0.0000027728155236301985,
         "_deepnote_index_column": 287
        },
        {
         "date": "2010-10-16T00:00:00.000000",
         "Price": 0.000002569154340582306,
         "_deepnote_index_column": 288
        },
        {
         "date": "2010-10-17T00:00:00.000000",
         "Price": 0.0000026200696363442787,
         "_deepnote_index_column": 289
        },
        {
         "date": "2010-10-18T00:00:00.000000",
         "Price": 0.0000026404357546490683,
         "_deepnote_index_column": 290
        },
        {
         "date": "2010-10-19T00:00:00.000000",
         "Price": 0.0000023932364885641316,
         "_deepnote_index_column": 291
        },
        {
         "date": "2010-10-20T00:00:00.000000",
         "Price": 0.000002467323749058359,
         "_deepnote_index_column": 292
        },
        {
         "date": "2010-10-21T00:00:00.000000",
         "Price": 0.000002874646115154146,
         "_deepnote_index_column": 293
        },
        {
         "date": "2010-10-22T00:00:00.000000",
         "Price": 0.0000026455272842252652,
         "_deepnote_index_column": 294
        },
        {
         "date": "2010-10-23T00:00:00.000000",
         "Price": 0.000002750230736347368,
         "_deepnote_index_column": 295
        },
        {
         "date": "2010-10-24T00:00:00.000000",
         "Price": 0.0000032824776342075526,
         "_deepnote_index_column": 296
        },
        {
         "date": "2010-10-25T00:00:00.000000",
         "Price": 0.000004509971735150117,
         "_deepnote_index_column": 297
        },
        {
         "date": "2010-10-26T00:00:00.000000",
         "Price": 0.000005114919128680974,
         "_deepnote_index_column": 298
        },
        {
         "date": "2010-10-27T00:00:00.000000",
         "Price": 0.000006983510483145397,
         "_deepnote_index_column": 299
        },
        {
         "date": "2010-10-28T00:00:00.000000",
         "Price": 0.000006240147165020585,
         "_deepnote_index_column": 300
        },
        {
         "date": "2010-10-29T00:00:00.000000",
         "Price": 0.000007100615663397934,
         "_deepnote_index_column": 301
        },
        {
         "date": "2010-10-30T00:00:00.000000",
         "Price": 0.0000074881087387374985,
         "_deepnote_index_column": 302
        },
        {
         "date": "2010-10-31T00:00:00.000000",
         "Price": 0.000007227903902802868,
         "_deepnote_index_column": 303
        },
        {
         "date": "2010-11-01T00:00:00.000000",
         "Price": 0.000007331010501271437,
         "_deepnote_index_column": 304
        },
        {
         "date": "2010-11-02T00:00:00.000000",
         "Price": 0.000007294093787293434,
         "_deepnote_index_column": 305
        },
        {
         "date": "2010-11-03T00:00:00.000000",
         "Price": 0.000007258453080260051,
         "_deepnote_index_column": 306
        },
        {
         "date": "2010-11-04T00:00:00.000000",
         "Price": 0.000009100322087796195,
         "_deepnote_index_column": 307
        },
        {
         "date": "2010-11-05T00:00:00.000000",
         "Price": 0.000010619494652497712,
         "_deepnote_index_column": 308
        },
        {
         "date": "2010-11-06T00:00:00.000000",
         "Price": 0.00001784284200830018,
         "_deepnote_index_column": 309
        },
        {
         "date": "2010-11-07T00:00:00.000000",
         "Price": 0.00001473791002769394,
         "_deepnote_index_column": 310
        },
        {
         "date": "2010-11-08T00:00:00.000000",
         "Price": 0.000009808526772406857,
         "_deepnote_index_column": 311
        },
        {
         "date": "2010-11-09T00:00:00.000000",
         "Price": 0.000008489212961476561,
         "_deepnote_index_column": 312
        },
        {
         "date": "2010-11-10T00:00:00.000000",
         "Price": 0.000009114301922276622,
         "_deepnote_index_column": 313
        },
        {
         "date": "2010-11-11T00:00:00.000000",
         "Price": 0.000008785911953119252,
         "_deepnote_index_column": 314
        },
        {
         "date": "2010-11-12T00:00:00.000000",
         "Price": 0.00001108219179198425,
         "_deepnote_index_column": 315
        },
        {
         "date": "2010-11-13T00:00:00.000000",
         "Price": 0.000011479331098927645,
         "_deepnote_index_column": 316
        },
        {
         "date": "2010-11-14T00:00:00.000000",
         "Price": 0.000011634113598044043,
         "_deepnote_index_column": 317
        },
        {
         "date": "2010-11-15T00:00:00.000000",
         "Price": 0.000011095661729566462,
         "_deepnote_index_column": 318
        },
        {
         "date": "2010-11-16T00:00:00.000000",
         "Price": 0.000008882651015067002,
         "_deepnote_index_column": 319
        },
        {
         "date": "2010-11-17T00:00:00.000000",
         "Price": 0.000009745122201582738,
         "_deepnote_index_column": 320
        },
        {
         "date": "2010-11-18T00:00:00.000000",
         "Price": 0.000011125866462518397,
         "_deepnote_index_column": 321
        },
        {
         "date": "2010-11-19T00:00:00.000000",
         "Price": 0.00001159592712622256,
         "_deepnote_index_column": 322
        },
        {
         "date": "2010-11-20T00:00:00.000000",
         "Price": 0.000011836551028536178,
         "_deepnote_index_column": 323
        },
        {
         "date": "2010-11-21T00:00:00.000000",
         "Price": 0.000011517517570749122,
         "_deepnote_index_column": 324
        },
        {
         "date": "2010-11-22T00:00:00.000000",
         "Price": 0.000011937568760785401,
         "_deepnote_index_column": 325
        },
        {
         "date": "2010-11-23T00:00:00.000000",
         "Price": 0.000011833192404473357,
         "_deepnote_index_column": 326
        },
        {
         "date": "2010-11-24T00:00:00.000000",
         "Price": 0.000011830938710771102,
         "_deepnote_index_column": 327
        },
        {
         "date": "2010-11-25T00:00:00.000000",
         "Price": 0.000011682992281975538,
         "_deepnote_index_column": 328
        },
        {
         "date": "2010-11-26T00:00:00.000000",
         "Price": 0.000011907019583328218,
         "_deepnote_index_column": 329
        },
        {
         "date": "2010-11-27T00:00:00.000000",
         "Price": 0.000011835738169261455,
         "_deepnote_index_column": 330
        },
        {
         "date": "2010-11-28T00:00:00.000000",
         "Price": 0.000011243016874360408,
         "_deepnote_index_column": 331
        },
        {
         "date": "2010-11-29T00:00:00.000000",
         "Price": 0.000009165712384912678,
         "_deepnote_index_column": 332
        },
        {
         "date": "2010-11-30T00:00:00.000000",
         "Price": 0.00000802727404626585,
         "_deepnote_index_column": 333
        },
        {
         "date": "2010-12-01T00:00:00.000000",
         "Price": 0.000009009939254471936,
         "_deepnote_index_column": 334
        },
        {
         "date": "2010-12-02T00:00:00.000000",
         "Price": 0.000010410109887926202,
         "_deepnote_index_column": 335
        },
        {
         "date": "2010-12-03T00:00:00.000000",
         "Price": 0.00001020950787796437,
         "_deepnote_index_column": 336
        },
        {
         "date": "2010-12-04T00:00:00.000000",
         "Price": 0.000007864371881689694,
         "_deepnote_index_column": 337
        },
        {
         "date": "2010-12-05T00:00:00.000000",
         "Price": 0.000007754878106668027,
         "_deepnote_index_column": 338
        },
        {
         "date": "2010-12-06T00:00:00.000000",
         "Price": 0.000007813429804065561,
         "_deepnote_index_column": 339
        },
        {
         "date": "2010-12-07T00:00:00.000000",
         "Price": 0.000009311377445415095,
         "_deepnote_index_column": 340
        },
        {
         "date": "2010-12-08T00:00:00.000000",
         "Price": 0.000009585282096582234,
         "_deepnote_index_column": 341
        },
        {
         "date": "2010-12-09T00:00:00.000000",
         "Price": 0.0000076093457354139,
         "_deepnote_index_column": 342
        },
        {
         "date": "2010-12-10T00:00:00.000000",
         "Price": 0.000007813429804065561,
         "_deepnote_index_column": 343
        },
        {
         "date": "2010-12-11T00:00:00.000000",
         "Price": 0.000009035396902352922,
         "_deepnote_index_column": 344
        },
        {
         "date": "2010-12-12T00:00:00.000000",
         "Price": 0.000008620621144013119,
         "_deepnote_index_column": 345
        },
        {
         "date": "2010-12-13T00:00:00.000000",
         "Price": 0.000009015297412364919,
         "_deepnote_index_column": 346
        },
        {
         "date": "2010-12-14T00:00:00.000000",
         "Price": 0.000009987003780144203,
         "_deepnote_index_column": 347
        },
        {
         "date": "2010-12-15T00:00:00.000000",
         "Price": 0.000009646380451496601,
         "_deepnote_index_column": 348
        },
        {
         "date": "2010-12-16T00:00:00.000000",
         "Price": 0.000010153496797285856,
         "_deepnote_index_column": 349
        },
        {
         "date": "2010-12-17T00:00:00.000000",
         "Price": 0.000009781602073631034,
         "_deepnote_index_column": 350
        },
        {
         "date": "2010-12-18T00:00:00.000000",
         "Price": 0.000009697295747258576,
         "_deepnote_index_column": 351
        },
        {
         "date": "2010-12-19T00:00:00.000000",
         "Price": 0.0000096514719810728,
         "_deepnote_index_column": 352
        },
        {
         "date": "2010-12-20T00:00:00.000000",
         "Price": 0.000011021093437069883,
         "_deepnote_index_column": 353
        },
        {
         "date": "2010-12-21T00:00:00.000000",
         "Price": 0.000009719494935241287,
         "_deepnote_index_column": 354
        },
        {
         "date": "2010-12-22T00:00:00.000000",
         "Price": 0.000010155533409116336,
         "_deepnote_index_column": 355
        },
        {
         "date": "2010-12-23T00:00:00.000000",
         "Price": 0.000010154012467163254,
         "_deepnote_index_column": 356
        },
        {
         "date": "2010-12-24T00:00:00.000000",
         "Price": 0.000010053702817592388,
         "_deepnote_index_column": 357
        },
        {
         "date": "2010-12-25T00:00:00.000000",
         "Price": 0.00001015044187954014,
         "_deepnote_index_column": 358
        },
        {
         "date": "2010-12-26T00:00:00.000000",
         "Price": 0.000010917334551469162,
         "_deepnote_index_column": 359
        },
        {
         "date": "2010-12-27T00:00:00.000000",
         "Price": 0.000010908335845777478,
         "_deepnote_index_column": 360
        },
        {
         "date": "2010-12-28T00:00:00.000000",
         "Price": 0.000011733907577737511,
         "_deepnote_index_column": 361
        },
        {
         "date": "2010-12-29T00:00:00.000000",
         "Price": 0.000012701298197215004,
         "_deepnote_index_column": 362
        },
        {
         "date": "2010-12-30T00:00:00.000000",
         "Price": 0.000012701298197215004,
         "_deepnote_index_column": 363
        },
        {
         "date": "2010-12-31T00:00:00.000000",
         "Price": 0.000012701298197215004,
         "_deepnote_index_column": 364
        },
        {
         "date": "2011-01-01T00:00:00.000000",
         "Price": 0.000012701298197215004,
         "_deepnote_index_column": 365
        },
        {
         "date": "2011-01-02T00:00:00.000000",
         "Price": 0.000012699770738342145,
         "_deepnote_index_column": 366
        },
        {
         "date": "2011-01-03T00:00:00.000000",
         "Price": 0.000012446721718405136,
         "_deepnote_index_column": 367
        },
        {
         "date": "2011-01-04T00:00:00.000000",
         "Price": 0.000012647837136664931,
         "_deepnote_index_column": 368
        },
        {
         "date": "2011-01-05T00:00:00.000000",
         "Price": 0.00001264612140130096,
         "_deepnote_index_column": 369
        },
        {
         "date": "2011-01-06T00:00:00.000000",
         "Price": 0.000012599467605691056,
         "_deepnote_index_column": 370
        },
        {
         "date": "2011-01-07T00:00:00.000000",
         "Price": 0.00001371960411245447,
         "_deepnote_index_column": 371
        },
        {
         "date": "2011-01-08T00:00:00.000000",
         "Price": 0.000013867258470164194,
         "_deepnote_index_column": 372
        },
        {
         "date": "2011-01-09T00:00:00.000000",
         "Price": 0.00001387234999974039,
         "_deepnote_index_column": 373
        },
        {
         "date": "2011-01-10T00:00:00.000000",
         "Price": 0.000014055135911525876,
         "_deepnote_index_column": 374
        },
        {
         "date": "2011-01-11T00:00:00.000000",
         "Price": 0.000014055135911525876,
         "_deepnote_index_column": 375
        },
        {
         "date": "2011-01-12T00:00:00.000000",
         "Price": 0.00001365848647459935,
         "_deepnote_index_column": 376
        },
        {
         "date": "2011-01-13T00:00:00.000000",
         "Price": 0.000013597407402625733,
         "_deepnote_index_column": 377
        },
        {
         "date": "2011-01-14T00:00:00.000000",
         "Price": 0.000017792318918030946,
         "_deepnote_index_column": 378
        },
        {
         "date": "2011-01-15T00:00:00.000000",
         "Price": 0.000017080013632744712,
         "_deepnote_index_column": 379
        },
        {
         "date": "2011-01-16T00:00:00.000000",
         "Price": 0.000017120236716396673,
         "_deepnote_index_column": 380
        },
        {
         "date": "2011-01-17T00:00:00.000000",
         "Price": 0.000015221605337432682,
         "_deepnote_index_column": 381
        },
        {
         "date": "2011-01-18T00:00:00.000000",
         "Price": 0.000013362687889163036,
         "_deepnote_index_column": 382
        },
        {
         "date": "2011-01-19T00:00:00.000000",
         "Price": 0.000013362687889163036,
         "_deepnote_index_column": 383
        },
        {
         "date": "2011-01-20T00:00:00.000000",
         "Price": 0.000017283674815792604,
         "_deepnote_index_column": 384
        },
        {
         "date": "2011-01-21T00:00:00.000000",
         "Price": 0.00001880655131203323,
         "_deepnote_index_column": 385
        },
        {
         "date": "2011-01-22T00:00:00.000000",
         "Price": 0.000019831248569893242,
         "_deepnote_index_column": 386
        },
        {
         "date": "2011-01-23T00:00:00.000000",
         "Price": 0.00001995163631372001,
         "_deepnote_index_column": 387
        },
        {
         "date": "2011-01-24T00:00:00.000000",
         "Price": 0.000018806042159075607,
         "_deepnote_index_column": 388
        },
        {
         "date": "2011-01-25T00:00:00.000000",
         "Price": 0.00001830198073103207,
         "_deepnote_index_column": 389
        },
        {
         "date": "2011-01-26T00:00:00.000000",
         "Price": 0.000018560891616174378,
         "_deepnote_index_column": 390
        },
        {
         "date": "2011-01-27T00:00:00.000000",
         "Price": 0.000018872232043566174,
         "_deepnote_index_column": 391
        },
        {
         "date": "2011-01-28T00:00:00.000000",
         "Price": 0.000020057746051667446,
         "_deepnote_index_column": 392
        },
        {
         "date": "2011-01-29T00:00:00.000000",
         "Price": 0.000019778524308129298,
         "_deepnote_index_column": 393
        },
        {
         "date": "2011-01-30T00:00:00.000000",
         "Price": 0.00002172053724502471,
         "_deepnote_index_column": 394
        },
        {
         "date": "2011-01-31T00:00:00.000000",
         "Price": 0.000024164208532985724,
         "_deepnote_index_column": 395
        },
        {
         "date": "2011-02-01T00:00:00.000000",
         "Price": 0.00003344979632470168,
         "_deepnote_index_column": 396
        },
        {
         "date": "2011-02-02T00:00:00.000000",
         "Price": 0.000034362437973634594,
         "_deepnote_index_column": 397
        },
        {
         "date": "2011-02-03T00:00:00.000000",
         "Price": 0.00003275675008481068,
         "_deepnote_index_column": 398
        },
        {
         "date": "2011-02-04T00:00:00.000000",
         "Price": 0.00003871692534633355,
         "_deepnote_index_column": 399
        },
        {
         "date": "2011-02-05T00:00:00.000000",
         "Price": 0.000043844732383216345,
         "_deepnote_index_column": 400
        },
        {
         "date": "2011-02-06T00:00:00.000000",
         "Price": 0.00004314864506287507,
         "_deepnote_index_column": 401
        },
        {
         "date": "2011-02-07T00:00:00.000000",
         "Price": 0.000042711861577109487,
         "_deepnote_index_column": 402
        },
        {
         "date": "2011-02-08T00:00:00.000000",
         "Price": 0.00004416695097811454,
         "_deepnote_index_column": 403
        },
        {
         "date": "2011-02-09T00:00:00.000000",
         "Price": 0.00004915920822577863,
         "_deepnote_index_column": 404
        },
        {
         "date": "2011-02-10T00:00:00.000000",
         "Price": 0.00004730602983299711,
         "_deepnote_index_column": 405
        },
        {
         "date": "2011-02-11T00:00:00.000000",
         "Price": 0.00005109496744906701,
         "_deepnote_index_column": 406
        },
        {
         "date": "2011-02-12T00:00:00.000000",
         "Price": 0.000052349206215156594,
         "_deepnote_index_column": 407
        },
        {
         "date": "2011-02-13T00:00:00.000000",
         "Price": 0.00005088777001869502,
         "_deepnote_index_column": 408
        },
        {
         "date": "2011-02-14T00:00:00.000000",
         "Price": 0.00005190671869862694,
         "_deepnote_index_column": 409
        },
        {
         "date": "2011-02-15T00:00:00.000000",
         "Price": 0.00005088777001869502,
         "_deepnote_index_column": 410
        },
        {
         "date": "2011-02-16T00:00:00.000000",
         "Price": 0.00004995539022660988,
         "_deepnote_index_column": 411
        },
        {
         "date": "2011-02-17T00:00:00.000000",
         "Price": 0.00005037470664137899,
         "_deepnote_index_column": 412
        },
        {
         "date": "2011-02-18T00:00:00.000000",
         "Price": 0.00004319731574101033,
         "_deepnote_index_column": 413
        },
        {
         "date": "2011-02-19T00:00:00.000000",
         "Price": 0.000045492180247732095,
         "_deepnote_index_column": 414
        },
        {
         "date": "2011-02-20T00:00:00.000000",
         "Price": 0.00004146844030272995,
         "_deepnote_index_column": 415
        },
        {
         "date": "2011-02-21T00:00:00.000000",
         "Price": 0.000039979036968143815,
         "_deepnote_index_column": 416
        },
        {
         "date": "2011-02-22T00:00:00.000000",
         "Price": 0.000042081551075671145,
         "_deepnote_index_column": 417
        },
        {
         "date": "2011-02-23T00:00:00.000000",
         "Price": 0.000043250475654399014,
         "_deepnote_index_column": 418
        },
        {
         "date": "2011-02-24T00:00:00.000000",
         "Price": 0.00004778678747003125,
         "_deepnote_index_column": 419
        },
        {
         "date": "2011-02-25T00:00:00.000000",
         "Price": 0.000043996486657176346,
         "_deepnote_index_column": 420
        },
        {
         "date": "2011-02-26T00:00:00.000000",
         "Price": 0.00004620356280859347,
         "_deepnote_index_column": 421
        },
        {
         "date": "2011-02-27T00:00:00.000000",
         "Price": 0.00004299758521284372,
         "_deepnote_index_column": 422
        },
        {
         "date": "2011-02-28T00:00:00.000000",
         "Price": 0.00004122511220603466,
         "_deepnote_index_column": 423
        },
        {
         "date": "2011-03-01T00:00:00.000000",
         "Price": 0.000044324630143928815,
         "_deepnote_index_column": 424
        },
        {
         "date": "2011-03-02T00:00:00.000000",
         "Price": 0.00004528199595530175,
         "_deepnote_index_column": 425
        },
        {
         "date": "2011-03-03T00:00:00.000000",
         "Price": 0.00004523990852670834,
         "_deepnote_index_column": 426
        },
        {
         "date": "2011-03-04T00:00:00.000000",
         "Price": 0.00004330648247973719,
         "_deepnote_index_column": 427
        },
        {
         "date": "2011-03-05T00:00:00.000000",
         "Price": 0.00004364968246158725,
         "_deepnote_index_column": 428
        },
        {
         "date": "2011-03-06T00:00:00.000000",
         "Price": 0.00004247508524638922,
         "_deepnote_index_column": 429
        },
        {
         "date": "2011-03-07T00:00:00.000000",
         "Price": 0.00004210915148082967,
         "_deepnote_index_column": 430
        },
        {
         "date": "2011-03-08T00:00:00.000000",
         "Price": 0.00004152300069920719,
         "_deepnote_index_column": 431
        },
        {
         "date": "2011-03-09T00:00:00.000000",
         "Price": 0.00004121386382392008,
         "_deepnote_index_column": 432
        },
        {
         "date": "2011-03-10T00:00:00.000000",
         "Price": 0.00004430291058934006,
         "_deepnote_index_column": 433
        },
        {
         "date": "2011-03-11T00:00:00.000000",
         "Price": 0.00004223216973915955,
         "_deepnote_index_column": 434
        },
        {
         "date": "2011-03-12T00:00:00.000000",
         "Price": 0.00004415755777559303,
         "_deepnote_index_column": 435
        },
        {
         "date": "2011-03-13T00:00:00.000000",
         "Price": 0.0000428681017832266,
         "_deepnote_index_column": 436
        },
        {
         "date": "2011-03-14T00:00:00.000000",
         "Price": 0.00004294116130463856,
         "_deepnote_index_column": 437
        },
        {
         "date": "2011-03-15T00:00:00.000000",
         "Price": 0.00004183706704404664,
         "_deepnote_index_column": 438
        },
        {
         "date": "2011-03-16T00:00:00.000000",
         "Price": 0.000040766403183402594,
         "_deepnote_index_column": 439
        },
        {
         "date": "2011-03-17T00:00:00.000000",
         "Price": 0.000039453212896471045,
         "_deepnote_index_column": 440
        },
        {
         "date": "2011-03-18T00:00:00.000000",
         "Price": 0.000038258699736313765,
         "_deepnote_index_column": 441
        },
        {
         "date": "2011-03-19T00:00:00.000000",
         "Price": 0.00003637691072653261,
         "_deepnote_index_column": 442
        },
        {
         "date": "2011-03-20T00:00:00.000000",
         "Price": 0.00003518040127612624,
         "_deepnote_index_column": 443
        },
        {
         "date": "2011-03-21T00:00:00.000000",
         "Price": 0.00003606989149308792,
         "_deepnote_index_column": 444
        },
        {
         "date": "2011-03-22T00:00:00.000000",
         "Price": 0.000038623817637078465,
         "_deepnote_index_column": 445
        },
        {
         "date": "2011-03-23T00:00:00.000000",
         "Price": 0.00004068994543052937,
         "_deepnote_index_column": 446
        },
        {
         "date": "2011-03-24T00:00:00.000000",
         "Price": 0.000041843908321951785,
         "_deepnote_index_column": 447
        }
       ],
       "rows_bottom": [
        {
         "date": "2021-01-15T00:00:00.000000",
         "Price": 1.869114095914059,
         "_deepnote_index_column": 4032
        },
        {
         "date": "2021-01-16T00:00:00.000000",
         "Price": 1.8419733753223388,
         "_deepnote_index_column": 4033
        },
        {
         "date": "2021-01-17T00:00:00.000000",
         "Price": 1.8365090627782188,
         "_deepnote_index_column": 4034
        },
        {
         "date": "2021-01-18T00:00:00.000000",
         "Price": 1.8632068512090338,
         "_deepnote_index_column": 4035
        },
        {
         "date": "2021-01-19T00:00:00.000000",
         "Price": 1.845684341355652,
         "_deepnote_index_column": 4036
        },
        {
         "date": "2021-01-20T00:00:00.000000",
         "Price": 1.808278595692587,
         "_deepnote_index_column": 4037
        },
        {
         "date": "2021-01-21T00:00:00.000000",
         "Price": 1.5795401537120433,
         "_deepnote_index_column": 4038
        },
        {
         "date": "2021-01-22T00:00:00.000000",
         "Price": 1.6795115594037007,
         "_deepnote_index_column": 4039
        },
        {
         "date": "2021-01-23T00:00:00.000000",
         "Price": 1.6311342137205025,
         "_deepnote_index_column": 4040
        },
        {
         "date": "2021-01-24T00:00:00.000000",
         "Price": 1.6402899049575004,
         "_deepnote_index_column": 4041
        },
        {
         "date": "2021-01-25T00:00:00.000000",
         "Price": 1.6506563434779906,
         "_deepnote_index_column": 4042
        },
        {
         "date": "2021-01-26T00:00:00.000000",
         "Price": 1.661905222515133,
         "_deepnote_index_column": 4043
        },
        {
         "date": "2021-01-27T00:00:00.000000",
         "Price": 1.5457315671776377,
         "_deepnote_index_column": 4044
        },
        {
         "date": "2021-01-28T00:00:00.000000",
         "Price": 1.7062345459810286,
         "_deepnote_index_column": 4045
        },
        {
         "date": "2021-01-29T00:00:00.000000",
         "Price": 1.7395770297794737,
         "_deepnote_index_column": 4046
        },
        {
         "date": "2021-01-30T00:00:00.000000",
         "Price": 1.7489336150141965,
         "_deepnote_index_column": 4047
        },
        {
         "date": "2021-01-31T00:00:00.000000",
         "Price": 1.688238279067037,
         "_deepnote_index_column": 4048
        },
        {
         "date": "2021-02-01T00:00:00.000000",
         "Price": 1.709237746602865,
         "_deepnote_index_column": 4049
        },
        {
         "date": "2021-02-02T00:00:00.000000",
         "Price": 1.8123858764193086,
         "_deepnote_index_column": 4050
        },
        {
         "date": "2021-02-03T00:00:00.000000",
         "Price": 1.913311412792424,
         "_deepnote_index_column": 4051
        },
        {
         "date": "2021-02-04T00:00:00.000000",
         "Price": 1.8904417756886513,
         "_deepnote_index_column": 4052
        },
        {
         "date": "2021-02-05T00:00:00.000000",
         "Price": 1.9370909129685803,
         "_deepnote_index_column": 4053
        },
        {
         "date": "2021-02-06T00:00:00.000000",
         "Price": 2.003093096837589,
         "_deepnote_index_column": 4054
        },
        {
         "date": "2021-02-07T00:00:00.000000",
         "Price": 1.9858473275518884,
         "_deepnote_index_column": 4055
        },
        {
         "date": "2021-02-08T00:00:00.000000",
         "Price": 2.3483093411236267,
         "_deepnote_index_column": 4056
        },
        {
         "date": "2021-02-09T00:00:00.000000",
         "Price": 2.370010861669354,
         "_deepnote_index_column": 4057
        },
        {
         "date": "2021-02-10T00:00:00.000000",
         "Price": 2.2951636640593054,
         "_deepnote_index_column": 4058
        },
        {
         "date": "2021-02-11T00:00:00.000000",
         "Price": 2.438475586939565,
         "_deepnote_index_column": 4059
        },
        {
         "date": "2021-02-12T00:00:00.000000",
         "Price": 2.4197575063846837,
         "_deepnote_index_column": 4060
        },
        {
         "date": "2021-02-13T00:00:00.000000",
         "Price": 2.403638532478336,
         "_deepnote_index_column": 4061
        },
        {
         "date": "2021-02-14T00:00:00.000000",
         "Price": 2.4861825363691104,
         "_deepnote_index_column": 4062
        },
        {
         "date": "2021-02-15T00:00:00.000000",
         "Price": 2.449544613750105,
         "_deepnote_index_column": 4063
        },
        {
         "date": "2021-02-16T00:00:00.000000",
         "Price": 2.501994543588024,
         "_deepnote_index_column": 4064
        },
        {
         "date": "2021-02-17T00:00:00.000000",
         "Price": 2.6590456478482203,
         "_deepnote_index_column": 4065
        },
        {
         "date": "2021-02-18T00:00:00.000000",
         "Price": 2.6297760142674256,
         "_deepnote_index_column": 4066
        },
        {
         "date": "2021-02-19T00:00:00.000000",
         "Price": 2.842114918014404,
         "_deepnote_index_column": 4067
        },
        {
         "date": "2021-02-20T00:00:00.000000",
         "Price": 2.844218542685412,
         "_deepnote_index_column": 4068
        },
        {
         "date": "2021-02-21T00:00:00.000000",
         "Price": 2.927663393989967,
         "_deepnote_index_column": 4069
        },
        {
         "date": "2021-02-22T00:00:00.000000",
         "Price": 2.7469872709412755,
         "_deepnote_index_column": 4070
        },
        {
         "date": "2021-02-23T00:00:00.000000",
         "Price": 2.472469088275979,
         "_deepnote_index_column": 4071
        },
        {
         "date": "2021-02-24T00:00:00.000000",
         "Price": 2.5237334926044785,
         "_deepnote_index_column": 4072
        },
        {
         "date": "2021-02-25T00:00:00.000000",
         "Price": 2.4219428940782315,
         "_deepnote_index_column": 4073
        },
        {
         "date": "2021-02-26T00:00:00.000000",
         "Price": 2.3539015465672044,
         "_deepnote_index_column": 4074
        },
        {
         "date": "2021-02-27T00:00:00.000000",
         "Price": 2.333675230600694,
         "_deepnote_index_column": 4075
        },
        {
         "date": "2021-02-28T00:00:00.000000",
         "Price": 2.309487960235942,
         "_deepnote_index_column": 4076
        },
        {
         "date": "2021-03-01T00:00:00.000000",
         "Price": 2.527149981261135,
         "_deepnote_index_column": 4077
        },
        {
         "date": "2021-03-02T00:00:00.000000",
         "Price": 2.4594457933210063,
         "_deepnote_index_column": 4078
        },
        {
         "date": "2021-03-03T00:00:00.000000",
         "Price": 2.5809175556709123,
         "_deepnote_index_column": 4079
        },
        {
         "date": "2021-03-04T00:00:00.000000",
         "Price": 2.4680041447369194,
         "_deepnote_index_column": 4080
        },
        {
         "date": "2021-03-05T00:00:00.000000",
         "Price": 2.4847054759913436,
         "_deepnote_index_column": 4081
        },
        {
         "date": "2021-03-06T00:00:00.000000",
         "Price": 2.4933461645763844,
         "_deepnote_index_column": 4082
        },
        {
         "date": "2021-03-07T00:00:00.000000",
         "Price": 2.6010800634996447,
         "_deepnote_index_column": 4083
        },
        {
         "date": "2021-03-08T00:00:00.000000",
         "Price": 2.6520975438200867,
         "_deepnote_index_column": 4084
        },
        {
         "date": "2021-03-09T00:00:00.000000",
         "Price": 2.787056687933623,
         "_deepnote_index_column": 4085
        },
        {
         "date": "2021-03-10T00:00:00.000000",
         "Price": 2.8571622467518494,
         "_deepnote_index_column": 4086
        },
        {
         "date": "2021-03-11T00:00:00.000000",
         "Price": 2.9453075207794215,
         "_deepnote_index_column": 4087
        },
        {
         "date": "2021-03-12T00:00:00.000000",
         "Price": 2.9192076578592596,
         "_deepnote_index_column": 4088
        },
        {
         "date": "2021-03-13T00:00:00.000000",
         "Price": 3.120534506613194,
         "_deepnote_index_column": 4089
        },
        {
         "date": "2021-03-14T00:00:00.000000",
         "Price": 3.0501097089381513,
         "_deepnote_index_column": 4090
        },
        {
         "date": "2021-03-15T00:00:00.000000",
         "Price": 2.8574209479647648,
         "_deepnote_index_column": 4091
        },
        {
         "date": "2021-03-16T00:00:00.000000",
         "Price": 2.8767343467922055,
         "_deepnote_index_column": 4092
        },
        {
         "date": "2021-03-17T00:00:00.000000",
         "Price": 2.987863087426143,
         "_deepnote_index_column": 4093
        },
        {
         "date": "2021-03-18T00:00:00.000000",
         "Price": 2.9394127975948208,
         "_deepnote_index_column": 4094
        },
        {
         "date": "2021-03-19T00:00:00.000000",
         "Price": 2.9616445583002546,
         "_deepnote_index_column": 4095
        },
        {
         "date": "2021-03-20T00:00:00.000000",
         "Price": 2.965705704055551,
         "_deepnote_index_column": 4096
        },
        {
         "date": "2021-03-21T00:00:00.000000",
         "Price": 2.924975927330256,
         "_deepnote_index_column": 4097
        },
        {
         "date": "2021-03-22T00:00:00.000000",
         "Price": 2.7724950200952274,
         "_deepnote_index_column": 4098
        },
        {
         "date": "2021-03-23T00:00:00.000000",
         "Price": 2.7781198667724927,
         "_deepnote_index_column": 4099
        },
        {
         "date": "2021-03-24T00:00:00.000000",
         "Price": 2.6779083499827414,
         "_deepnote_index_column": 4100
        },
        {
         "date": "2021-03-25T00:00:00.000000",
         "Price": 2.6245345364372636,
         "_deepnote_index_column": 4101
        },
        {
         "date": "2021-03-26T00:00:00.000000",
         "Price": 2.791064834615495,
         "_deepnote_index_column": 4102
        },
        {
         "date": "2021-03-27T00:00:00.000000",
         "Price": 2.852264011659292,
         "_deepnote_index_column": 4103
        },
        {
         "date": "2021-03-28T00:00:00.000000",
         "Price": 2.8366432413896017,
         "_deepnote_index_column": 4104
        },
        {
         "date": "2021-03-29T00:00:00.000000",
         "Price": 2.931253799991733,
         "_deepnote_index_column": 4105
        },
        {
         "date": "2021-03-30T00:00:00.000000",
         "Price": 2.9879385647545553,
         "_deepnote_index_column": 4106
        },
        {
         "date": "2021-03-31T00:00:00.000000",
         "Price": 2.99341941485158,
         "_deepnote_index_column": 4107
        },
        {
         "date": "2021-04-01T00:00:00.000000",
         "Price": 2.9947830421012878,
         "_deepnote_index_column": 4108
        },
        {
         "date": "2021-04-02T00:00:00.000000",
         "Price": 3.0056054405814794,
         "_deepnote_index_column": 4109
        },
        {
         "date": "2021-04-03T00:00:00.000000",
         "Price": 2.916547236407777,
         "_deepnote_index_column": 4110
        },
        {
         "date": "2021-04-04T00:00:00.000000",
         "Price": 2.963379622750138,
         "_deepnote_index_column": 4111
        },
        {
         "date": "2021-04-05T00:00:00.000000",
         "Price": 2.99156903599661,
         "_deepnote_index_column": 4112
        },
        {
         "date": "2021-04-06T00:00:00.000000",
         "Price": 2.9573648477019714,
         "_deepnote_index_column": 4113
        },
        {
         "date": "2021-04-07T00:00:00.000000",
         "Price": 2.8648399558388964,
         "_deepnote_index_column": 4114
        },
        {
         "date": "2021-04-08T00:00:00.000000",
         "Price": 2.9512182603418897,
         "_deepnote_index_column": 4115
        },
        {
         "date": "2021-04-09T00:00:00.000000",
         "Price": 2.955720086772415,
         "_deepnote_index_column": 4116
        },
        {
         "date": "2021-04-10T00:00:00.000000",
         "Price": 3.0371741952323634,
         "_deepnote_index_column": 4117
        },
        {
         "date": "2021-04-11T00:00:00.000000",
         "Price": 3.0515003164828065,
         "_deepnote_index_column": 4118
        },
        {
         "date": "2021-04-12T00:00:00.000000",
         "Price": 3.050125895113027,
         "_deepnote_index_column": 4119
        },
        {
         "date": "2021-04-13T00:00:00.000000",
         "Price": 3.230350866296166,
         "_deepnote_index_column": 4120
        },
        {
         "date": "2021-04-14T00:00:00.000000",
         "Price": 3.2010163889467864,
         "_deepnote_index_column": 4121
        },
        {
         "date": "2021-04-15T00:00:00.000000",
         "Price": 3.219430791573346,
         "_deepnote_index_column": 4122
        },
        {
         "date": "2021-04-16T00:00:00.000000",
         "Price": 3.134908707364896,
         "_deepnote_index_column": 4123
        },
        {
         "date": "2021-04-17T00:00:00.000000",
         "Price": 3.069216065991402,
         "_deepnote_index_column": 4124
        },
        {
         "date": "2021-04-18T00:00:00.000000",
         "Price": 2.871088449214176,
         "_deepnote_index_column": 4125
        },
        {
         "date": "2021-04-19T00:00:00.000000",
         "Price": 2.840976078959585,
         "_deepnote_index_column": 4126
        },
        {
         "date": "2021-04-20T00:00:00.000000",
         "Price": 2.875406869601868,
         "_deepnote_index_column": 4127
        },
        {
         "date": "2021-04-21T00:00:00.000000",
         "Price": 2.7507369908231363,
         "_deepnote_index_column": 4128
        },
        {
         "date": "2021-04-22T00:00:00.000000",
         "Price": 2.641587846708448,
         "_deepnote_index_column": 4129
        },
        {
         "date": "2021-04-23T00:00:00.000000",
         "Price": 2.594381742978997,
         "_deepnote_index_column": 4130
        },
        {
         "date": "2021-04-24T00:00:00.000000",
         "Price": 2.5600158727549824,
         "_deepnote_index_column": 4131
        },
        {
         "date": "2021-04-25T00:00:00.000000",
         "Price": 2.4921453912749714,
         "_deepnote_index_column": 4132
        },
        {
         "date": "2021-04-26T00:00:00.000000",
         "Price": 2.746539045250081,
         "_deepnote_index_column": 4133
        },
        {
         "date": "2021-04-27T00:00:00.000000",
         "Price": 2.8017149842040463,
         "_deepnote_index_column": 4134
        },
        {
         "date": "2021-04-28T00:00:00.000000",
         "Price": 2.7895130176092278,
         "_deepnote_index_column": 4135
        },
        {
         "date": "2021-04-29T00:00:00.000000",
         "Price": 2.7273812087976808,
         "_deepnote_index_column": 4136
        },
        {
         "date": "2021-04-30T00:00:00.000000",
         "Price": 2.9399201469011476,
         "_deepnote_index_column": 4137
        },
        {
         "date": "2021-05-01T00:00:00.000000",
         "Price": 2.9461392454061572,
         "_deepnote_index_column": 4138
        },
        {
         "date": "2021-05-02T00:00:00.000000",
         "Price": 2.8804079268933194,
         "_deepnote_index_column": 4139
        },
        {
         "date": "2021-05-03T00:00:00.000000",
         "Price": 2.9145438203681366,
         "_deepnote_index_column": 4140
        },
        {
         "date": "2021-05-04T00:00:00.000000",
         "Price": 2.7353763221839897,
         "_deepnote_index_column": 4141
        },
        {
         "date": "2021-05-05T00:00:00.000000",
         "Price": 2.9195836228605696,
         "_deepnote_index_column": 4142
        },
        {
         "date": "2021-05-06T00:00:00.000000",
         "Price": 2.8781043222746674,
         "_deepnote_index_column": 4143
        },
        {
         "date": "2021-05-07T00:00:00.000000",
         "Price": 2.919534886400228,
         "_deepnote_index_column": 4144
        },
        {
         "date": "2021-05-08T00:00:00.000000",
         "Price": 2.9905646485705084,
         "_deepnote_index_column": 4145
        },
        {
         "date": "2021-05-09T00:00:00.000000",
         "Price": 2.967769857180645,
         "_deepnote_index_column": 4146
        },
        {
         "date": "2021-05-10T00:00:00.000000",
         "Price": 2.8463115265476286,
         "_deepnote_index_column": 4147
        },
        {
         "date": "2021-05-11T00:00:00.000000",
         "Price": 2.8824193767774338,
         "_deepnote_index_column": 4148
        },
        {
         "date": "2021-05-12T00:00:00.000000",
         "Price": 2.595269961355078,
         "_deepnote_index_column": 4149
        },
        {
         "date": "2021-05-13T00:00:00.000000",
         "Price": 2.5136150340116,
         "_deepnote_index_column": 4150
        },
        {
         "date": "2021-05-14T00:00:00.000000",
         "Price": 2.545629626342984,
         "_deepnote_index_column": 4151
        },
        {
         "date": "2021-05-15T00:00:00.000000",
         "Price": 2.395458394814693,
         "_deepnote_index_column": 4152
        },
        {
         "date": "2021-05-16T00:00:00.000000",
         "Price": 2.34324681475975,
         "_deepnote_index_column": 4153
        },
        {
         "date": "2021-05-17T00:00:00.000000",
         "Price": 2.2144256061405967,
         "_deepnote_index_column": 4154
        },
        {
         "date": "2021-05-18T00:00:00.000000",
         "Price": 2.178653227510183,
         "_deepnote_index_column": 4155
        },
        {
         "date": "2021-05-19T00:00:00.000000",
         "Price": 1.9165774658247408,
         "_deepnote_index_column": 4156
        },
        {
         "date": "2021-05-20T00:00:00.000000",
         "Price": 2.077311053964915,
         "_deepnote_index_column": 4157
        },
        {
         "date": "2021-05-21T00:00:00.000000",
         "Price": 1.8927394894909118,
         "_deepnote_index_column": 4158
        },
        {
         "date": "2021-05-22T00:00:00.000000",
         "Price": 1.9166232792352698,
         "_deepnote_index_column": 4159
        },
        {
         "date": "2021-05-23T00:00:00.000000",
         "Price": 1.7705364723015224,
         "_deepnote_index_column": 4160
        },
        {
         "date": "2021-05-24T00:00:00.000000",
         "Price": 1.9668761323912654,
         "_deepnote_index_column": 4161
        },
        {
         "date": "2021-05-25T00:00:00.000000",
         "Price": 1.9485141397234593,
         "_deepnote_index_column": 4162
        },
        {
         "date": "2021-05-26T00:00:00.000000",
         "Price": 1.9956152598506083,
         "_deepnote_index_column": 4163
        },
        {
         "date": "2021-05-27T00:00:00.000000",
         "Price": 1.960789103039199,
         "_deepnote_index_column": 4164
        },
        {
         "date": "2021-05-28T00:00:00.000000",
         "Price": 1.8124148493413408,
         "_deepnote_index_column": 4165
        },
        {
         "date": "2021-05-29T00:00:00.000000",
         "Price": 1.7658324664301872,
         "_deepnote_index_column": 4166
        },
        {
         "date": "2021-05-30T00:00:00.000000",
         "Price": 1.815238144205582,
         "_deepnote_index_column": 4167
        },
        {
         "date": "2021-05-31T00:00:00.000000",
         "Price": 1.8997985793502936,
         "_deepnote_index_column": 4168
        },
        {
         "date": "2021-06-01T00:00:00.000000",
         "Price": 1.866622336652841,
         "_deepnote_index_column": 4169
        },
        {
         "date": "2021-06-02T00:00:00.000000",
         "Price": 1.91642144463474,
         "_deepnote_index_column": 4170
        },
        {
         "date": "2021-06-03T00:00:00.000000",
         "Price": 1.9938480670813474,
         "_deepnote_index_column": 4171
        },
        {
         "date": "2021-06-04T00:00:00.000000",
         "Price": 1.87797621526618,
         "_deepnote_index_column": 4172
        },
        {
         "date": "2021-06-05T00:00:00.000000",
         "Price": 1.8028860153667405,
         "_deepnote_index_column": 4173
        },
        {
         "date": "2021-06-06T00:00:00.000000",
         "Price": 1.8187225622227234,
         "_deepnote_index_column": 4174
        },
        {
         "date": "2021-06-07T00:00:00.000000",
         "Price": 1.7171110794367477,
         "_deepnote_index_column": 4175
        },
        {
         "date": "2021-06-08T00:00:00.000000",
         "Price": 1.704389443292771,
         "_deepnote_index_column": 4176
        },
        {
         "date": "2021-06-09T00:00:00.000000",
         "Price": 1.9028542098268295,
         "_deepnote_index_column": 4177
        },
        {
         "date": "2021-06-10T00:00:00.000000",
         "Price": 1.8750042213998412,
         "_deepnote_index_column": 4178
        },
        {
         "date": "2021-06-11T00:00:00.000000",
         "Price": 1.8933027157870859,
         "_deepnote_index_column": 4179
        },
        {
         "date": "2021-06-12T00:00:00.000000",
         "Price": 1.8161038321020464,
         "_deepnote_index_column": 4180
        },
        {
         "date": "2021-06-13T00:00:00.000000",
         "Price": 1.9818966695953024,
         "_deepnote_index_column": 4181
        },
        {
         "date": "2021-06-14T00:00:00.000000",
         "Price": 2.059806061428284,
         "_deepnote_index_column": 4182
        },
        {
         "date": "2021-06-15T00:00:00.000000",
         "Price": 2.049574911993439,
         "_deepnote_index_column": 4183
        },
        {
         "date": "2021-06-16T00:00:00.000000",
         "Price": 1.948298905386559,
         "_deepnote_index_column": 4184
        },
        {
         "date": "2021-06-17T00:00:00.000000",
         "Price": 1.935727891471033,
         "_deepnote_index_column": 4185
        },
        {
         "date": "2021-06-18T00:00:00.000000",
         "Price": 1.8184021891332154,
         "_deepnote_index_column": 4186
        },
        {
         "date": "2021-06-19T00:00:00.000000",
         "Price": 1.810340481051594,
         "_deepnote_index_column": 4187
        },
        {
         "date": "2021-06-20T00:00:00.000000",
         "Price": 1.8125789965589818,
         "_deepnote_index_column": 4188
        },
        {
         "date": "2021-06-21T00:00:00.000000",
         "Price": 1.6147841712428288,
         "_deepnote_index_column": 4189
        },
        {
         "date": "2021-06-22T00:00:00.000000",
         "Price": 1.6493758059052432,
         "_deepnote_index_column": 4190
        },
        {
         "date": "2021-06-23T00:00:00.000000",
         "Price": 1.7112858126489487,
         "_deepnote_index_column": 4191
        },
        {
         "date": "2021-06-24T00:00:00.000000",
         "Price": 1.7646692814961518,
         "_deepnote_index_column": 4192
        },
        {
         "date": "2021-06-25T00:00:00.000000",
         "Price": 1.6131723629367059,
         "_deepnote_index_column": 4193
        },
        {
         "date": "2021-06-26T00:00:00.000000",
         "Price": 1.623720650033559,
         "_deepnote_index_column": 4194
        },
        {
         "date": "2021-06-27T00:00:00.000000",
         "Price": 1.7569056317404177,
         "_deepnote_index_column": 4195
        },
        {
         "date": "2021-06-28T00:00:00.000000",
         "Price": 1.7502712333411468,
         "_deepnote_index_column": 4196
        },
        {
         "date": "2021-06-29T00:00:00.000000",
         "Price": 1.8295763725182035,
         "_deepnote_index_column": 4197
        },
        {
         "date": "2021-06-30T00:00:00.000000",
         "Price": 1.7853660069392896,
         "_deepnote_index_column": 4198
        },
        {
         "date": "2021-07-01T00:00:00.000000",
         "Price": 1.7059185095653868,
         "_deepnote_index_column": 4199
        },
        {
         "date": "2021-07-02T00:00:00.000000",
         "Price": 1.7200661112844469,
         "_deepnote_index_column": 4200
        },
        {
         "date": "2021-07-03T00:00:00.000000",
         "Price": 1.7610670963999076,
         "_deepnote_index_column": 4201
        },
        {
         "date": "2021-07-04T00:00:00.000000",
         "Price": 1.8001386591901547,
         "_deepnote_index_column": 4202
        },
        {
         "date": "2021-07-05T00:00:00.000000",
         "Price": 1.726624403302921,
         "_deepnote_index_column": 4203
        },
        {
         "date": "2021-07-06T00:00:00.000000",
         "Price": 1.737430040824837,
         "_deepnote_index_column": 4204
        },
        {
         "date": "2021-07-07T00:00:00.000000",
         "Price": 1.7276358253570954,
         "_deepnote_index_column": 4205
        },
        {
         "date": "2021-07-08T00:00:00.000000",
         "Price": 1.6710200985482833,
         "_deepnote_index_column": 4206
        },
        {
         "date": "2021-07-09T00:00:00.000000",
         "Price": 1.7267836273358177,
         "_deepnote_index_column": 4207
        },
        {
         "date": "2021-07-10T00:00:00.000000",
         "Price": 1.7113086749260784,
         "_deepnote_index_column": 4208
        },
        {
         "date": "2021-07-11T00:00:00.000000",
         "Price": 1.744276102416918,
         "_deepnote_index_column": 4209
        },
        {
         "date": "2021-07-12T00:00:00.000000",
         "Price": 1.6870877632988535,
         "_deepnote_index_column": 4210
        },
        {
         "date": "2021-07-13T00:00:00.000000",
         "Price": 1.6619732870198685,
         "_deepnote_index_column": 4211
        },
        {
         "date": "2021-07-14T00:00:00.000000",
         "Price": 1.6699317834794356,
         "_deepnote_index_column": 4212
        },
        {
         "date": "2021-07-15T00:00:00.000000",
         "Price": 1.6144038428631653,
         "_deepnote_index_column": 4213
        },
        {
         "date": "2021-07-16T00:00:00.000000",
         "Price": 1.601574590796091,
         "_deepnote_index_column": 4214
        },
        {
         "date": "2021-07-17T00:00:00.000000",
         "Price": 1.6062706926911814,
         "_deepnote_index_column": 4215
        },
        {
         "date": "2021-07-18T00:00:00.000000",
         "Price": 1.6144045463036523,
         "_deepnote_index_column": 4216
        },
        {
         "date": "2021-07-19T00:00:00.000000",
         "Price": 1.5724384229947406,
         "_deepnote_index_column": 4217
        },
        {
         "date": "2021-07-20T00:00:00.000000",
         "Price": 1.5155756082818042,
         "_deepnote_index_column": 4218
        },
        {
         "date": "2021-07-21T00:00:00.000000",
         "Price": 1.6353792741359503,
         "_deepnote_index_column": 4219
        },
        {
         "date": "2021-07-22T00:00:00.000000",
         "Price": 1.6449159230162744,
         "_deepnote_index_column": 4220
        },
        {
         "date": "2021-07-23T00:00:00.000000",
         "Price": 1.7025843320815923,
         "_deepnote_index_column": 4221
        },
        {
         "date": "2021-07-24T00:00:00.000000",
         "Price": 1.7396159916219183,
         "_deepnote_index_column": 4222
        },
        {
         "date": "2021-07-25T00:00:00.000000",
         "Price": 1.7881394284055259,
         "_deepnote_index_column": 4223
        },
        {
         "date": "2021-07-26T00:00:00.000000",
         "Price": 1.9065096029604893,
         "_deepnote_index_column": 4224
        },
        {
         "date": "2021-07-27T00:00:00.000000",
         "Price": 1.9921367976226587,
         "_deepnote_index_column": 4225
        },
        {
         "date": "2021-07-28T00:00:00.000000",
         "Price": 2.0335133039163615,
         "_deepnote_index_column": 4226
        },
        {
         "date": "2021-07-29T00:00:00.000000",
         "Price": 2.0409963428485924,
         "_deepnote_index_column": 4227
        },
        {
         "date": "2021-07-30T00:00:00.000000",
         "Price": 2.1277306868081274,
         "_deepnote_index_column": 4228
        },
        {
         "date": "2021-07-31T00:00:00.000000",
         "Price": 2.127916357066953,
         "_deepnote_index_column": 4229
        },
        {
         "date": "2021-08-01T00:00:00.000000",
         "Price": 2.035029302324517,
         "_deepnote_index_column": 4230
        },
        {
         "date": "2021-08-02T00:00:00.000000",
         "Price": 2.0011816960214825,
         "_deepnote_index_column": 4231
        },
        {
         "date": "2021-08-03T00:00:00.000000",
         "Price": 1.9494842962040444,
         "_deepnote_index_column": 4232
        },
        {
         "date": "2021-08-04T00:00:00.000000",
         "Price": 2.025097886650178,
         "_deepnote_index_column": 4233
        },
        {
         "date": "2021-08-05T00:00:00.000000",
         "Price": 2.0845536675525813,
         "_deepnote_index_column": 4234
        },
        {
         "date": "2021-08-06T00:00:00.000000",
         "Price": 2.1786811258486813,
         "_deepnote_index_column": 4235
        },
        {
         "date": "2021-08-07T00:00:00.000000",
         "Price": 2.264959296998175,
         "_deepnote_index_column": 4236
        },
        {
         "date": "2021-08-08T00:00:00.000000",
         "Price": 2.2388601383814737,
         "_deepnote_index_column": 4237
        },
        {
         "date": "2021-08-09T00:00:00.000000",
         "Price": 2.355626295997749,
         "_deepnote_index_column": 4238
        },
        {
         "date": "2021-08-10T00:00:00.000000",
         "Price": 2.316072687690232,
         "_deepnote_index_column": 4239
        },
        {
         "date": "2021-08-11T00:00:00.000000",
         "Price": 2.3256210927099947,
         "_deepnote_index_column": 4240
        },
        {
         "date": "2021-08-12T00:00:00.000000",
         "Price": 2.2609292373966694,
         "_deepnote_index_column": 4241
        },
        {
         "date": "2021-08-13T00:00:00.000000",
         "Price": 2.429547306624389,
         "_deepnote_index_column": 4242
        },
        {
         "date": "2021-08-14T00:00:00.000000",
         "Price": 2.3993402655817904,
         "_deepnote_index_column": 4243
        },
        {
         "date": "2021-08-15T00:00:00.000000",
         "Price": 2.3968029342235457,
         "_deepnote_index_column": 4244
        },
        {
         "date": "2021-08-16T00:00:00.000000",
         "Price": 2.341323041309538,
         "_deepnote_index_column": 4245
        },
        {
         "date": "2021-08-17T00:00:00.000000",
         "Price": 2.2766288899217,
         "_deepnote_index_column": 4246
        },
        {
         "date": "2021-08-18T00:00:00.000000",
         "Price": 2.288862152675824,
         "_deepnote_index_column": 4247
        },
        {
         "date": "2021-08-19T00:00:00.000000",
         "Price": 2.375036176602719,
         "_deepnote_index_column": 4248
        },
        {
         "date": "2021-08-20T00:00:00.000000",
         "Price": 2.507109135100139,
         "_deepnote_index_column": 4249
        },
        {
         "date": "2021-08-21T00:00:00.000000",
         "Price": 2.4984232588181423,
         "_deepnote_index_column": 4250
        },
        {
         "date": "2021-08-22T00:00:00.000000",
         "Price": 2.5133452654917114,
         "_deepnote_index_column": 4251
        },
        {
         "date": "2021-08-23T00:00:00.000000",
         "Price": 2.5249315640623617,
         "_deepnote_index_column": 4252
        },
        {
         "date": "2021-08-24T00:00:00.000000",
         "Price": 2.4401568759187646,
         "_deepnote_index_column": 4253
        },
        {
         "date": "2021-08-25T00:00:00.000000",
         "Price": 2.4949648696702886,
         "_deepnote_index_column": 4254
        },
        {
         "date": "2021-08-26T00:00:00.000000",
         "Price": 2.4027077991369397,
         "_deepnote_index_column": 4255
        },
        {
         "date": "2021-08-27T00:00:00.000000",
         "Price": 2.4973150680039122,
         "_deepnote_index_column": 4256
        },
        {
         "date": "2021-08-28T00:00:00.000000",
         "Price": 2.487335324340236,
         "_deepnote_index_column": 4257
        },
        {
         "date": "2021-08-29T00:00:00.000000",
         "Price": 2.4922170400469144,
         "_deepnote_index_column": 4258
        },
        {
         "date": "2021-08-30T00:00:00.000000",
         "Price": 2.399419868864377,
         "_deepnote_index_column": 4259
        },
        {
         "date": "2021-08-31T00:00:00.000000",
         "Price": 2.404179218064224,
         "_deepnote_index_column": 4260
        },
        {
         "date": "2021-09-01T00:00:00.000000",
         "Price": 2.4789887166561444,
         "_deepnote_index_column": 4261
        },
        {
         "date": "2021-09-02T00:00:00.000000",
         "Price": 2.5136645135317335,
         "_deepnote_index_column": 4262
        },
        {
         "date": "2021-09-03T00:00:00.000000",
         "Price": 2.5386612704955804,
         "_deepnote_index_column": 4263
        },
        {
         "date": "2021-09-04T00:00:00.000000",
         "Price": 2.541667482675325,
         "_deepnote_index_column": 4264
        },
        {
         "date": "2021-09-05T00:00:00.000000",
         "Price": 2.63474401864928,
         "_deepnote_index_column": 4265
        },
        {
         "date": "2021-09-06T00:00:00.000000",
         "Price": 2.6802085528585358,
         "_deepnote_index_column": 4266
        },
        {
         "date": "2021-09-07T00:00:00.000000",
         "Price": 2.3856030911542616,
         "_deepnote_index_column": 4267
        },
        {
         "date": "2021-09-08T00:00:00.000000",
         "Price": 2.3516718716811083,
         "_deepnote_index_column": 4268
        },
        {
         "date": "2021-09-09T00:00:00.000000",
         "Price": 2.3649505349117153,
         "_deepnote_index_column": 4269
        },
        {
         "date": "2021-09-10T00:00:00.000000",
         "Price": 2.2792346725415586,
         "_deepnote_index_column": 4270
        },
        {
         "date": "2021-09-11T00:00:00.000000",
         "Price": 2.2962055587513475,
         "_deepnote_index_column": 4271
        },
        {
         "date": "2021-09-12T00:00:00.000000",
         "Price": 2.3512969683961353,
         "_deepnote_index_column": 4272
        },
        {
         "date": "2021-09-13T00:00:00.000000",
         "Price": 2.2907540826228407,
         "_deepnote_index_column": 4273
        },
        {
         "date": "2021-09-14T00:00:00.000000",
         "Price": 2.394167917451377,
         "_deepnote_index_column": 4274
        },
        {
         "date": "2021-09-15T00:00:00.000000",
         "Price": 2.4524441193848854,
         "_deepnote_index_column": 4275
        },
        {
         "date": "2021-09-16T00:00:00.000000",
         "Price": 2.433612534947245,
         "_deepnote_index_column": 4276
        },
        {
         "date": "2021-09-17T00:00:00.000000",
         "Price": 2.4039017188556677,
         "_deepnote_index_column": 4277
        },
        {
         "date": "2021-09-18T00:00:00.000000",
         "Price": 2.4543190387131064,
         "_deepnote_index_column": 4278
        },
        {
         "date": "2021-09-19T00:00:00.000000",
         "Price": 2.404139995669973,
         "_deepnote_index_column": 4279
        },
        {
         "date": "2021-09-20T00:00:00.000000",
         "Price": 2.1819984109466746,
         "_deepnote_index_column": 4280
        },
        {
         "date": "2021-09-21T00:00:00.000000",
         "Price": 2.0634156194878575,
         "_deepnote_index_column": 4281
        }
       ]
      },
      "text/plain": "                          date         Price\n198  2010-07-18 00:00:00+00:00  1.797278e-06\n199  2010-07-19 00:00:00+00:00  1.540665e-06\n200  2010-07-20 00:00:00+00:00  1.231901e-06\n201  2010-07-21 00:00:00+00:00  1.458837e-06\n202  2010-07-22 00:00:00+00:00  4.037146e-07\n...                        ...           ...\n4277 2021-09-17 00:00:00+00:00  2.403902e+00\n4278 2021-09-18 00:00:00+00:00  2.454319e+00\n4279 2021-09-19 00:00:00+00:00  2.404140e+00\n4280 2021-09-20 00:00:00+00:00  2.181998e+00\n4281 2021-09-21 00:00:00+00:00  2.063416e+00\n\n[4084 rows x 2 columns]",
      "text/html": "<div>\n<style scoped>\n    .dataframe tbody tr th:only-of-type {\n        vertical-align: middle;\n    }\n\n    .dataframe tbody tr th {\n        vertical-align: top;\n    }\n\n    .dataframe thead th {\n        text-align: right;\n    }\n</style>\n<table border=\"1\" class=\"dataframe\">\n  <thead>\n    <tr style=\"text-align: right;\">\n      <th></th>\n      <th>date</th>\n      <th>Price</th>\n    </tr>\n  </thead>\n  <tbody>\n    <tr>\n      <th>198</th>\n      <td>2010-07-18 00:00:00+00:00</td>\n      <td>1.797278e-06</td>\n    </tr>\n    <tr>\n      <th>199</th>\n      <td>2010-07-19 00:00:00+00:00</td>\n      <td>1.540665e-06</td>\n    </tr>\n    <tr>\n      <th>200</th>\n      <td>2010-07-20 00:00:00+00:00</td>\n      <td>1.231901e-06</td>\n    </tr>\n    <tr>\n      <th>201</th>\n      <td>2010-07-21 00:00:00+00:00</td>\n      <td>1.458837e-06</td>\n    </tr>\n    <tr>\n      <th>202</th>\n      <td>2010-07-22 00:00:00+00:00</td>\n      <td>4.037146e-07</td>\n    </tr>\n    <tr>\n      <th>...</th>\n      <td>...</td>\n      <td>...</td>\n    </tr>\n    <tr>\n      <th>4277</th>\n      <td>2021-09-17 00:00:00+00:00</td>\n      <td>2.403902e+00</td>\n    </tr>\n    <tr>\n      <th>4278</th>\n      <td>2021-09-18 00:00:00+00:00</td>\n      <td>2.454319e+00</td>\n    </tr>\n    <tr>\n      <th>4279</th>\n      <td>2021-09-19 00:00:00+00:00</td>\n      <td>2.404140e+00</td>\n    </tr>\n    <tr>\n      <th>4280</th>\n      <td>2021-09-20 00:00:00+00:00</td>\n      <td>2.181998e+00</td>\n    </tr>\n    <tr>\n      <th>4281</th>\n      <td>2021-09-21 00:00:00+00:00</td>\n      <td>2.063416e+00</td>\n    </tr>\n  </tbody>\n</table>\n<p>4084 rows × 2 columns</p>\n</div>"
     },
     "metadata": {}
    }
   ],
   "execution_count": null
  },
  {
   "cell_type": "code",
   "metadata": {
    "tags": [],
    "deepnote_to_be_reexecuted": false,
    "source_hash": "ab1c9e5c",
    "execution_start": 1632709668608,
    "execution_millis": 548,
    "cell_id": "00026-1139e1e6-9167-4ed0-ab9f-8f0eb1d39566",
    "deepnote_cell_type": "code"
   },
   "source": "plt.plot(normalized_price['date'], normalized_price['Price'])",
   "outputs": [
    {
     "output_type": "execute_result",
     "execution_count": 15,
     "data": {
      "text/plain": "[<matplotlib.lines.Line2D at 0x7fd9a66c9dd0>]"
     },
     "metadata": {}
    },
    {
     "data": {
      "text/plain": "<Figure size 432x288 with 1 Axes>",
      "image/png": "[encoded data removed]"
     },
     "metadata": {
      "needs_background": "light",
      "image/png": {
       "width": 377,
       "height": 248
      }
     },
     "output_type": "display_data"
    }
   ],
   "execution_count": null
  },
  {
   "cell_type": "markdown",
   "source": "Split data for training and testing",
   "metadata": {
    "tags": [],
    "is_collapsed": false,
    "cell_id": "00027-b43953ab-0c06-4839-b469-c9df6aed213b",
    "deepnote_cell_type": "text-cell-p"
   }
  },
  {
   "cell_type": "code",
   "metadata": {
    "tags": [],
    "deepnote_to_be_reexecuted": false,
    "source_hash": "df1f30be",
    "execution_start": 1632709669133,
    "execution_millis": 7,
    "cell_id": "00028-bacf240b-4302-4403-9062-ddfebd17765f",
    "deepnote_cell_type": "code"
   },
   "source": "def data_sequences(dataset, dates, target_size):\n    d = []\n    dt = []\n\n    for idx in range(len(dataset) - target_size):\n        d.append(dataset[idx : idx+target_size])\n        dt.append(dates[idx : idx+target_size])\n\n    return np.array(d), np.array(dt)\n\n\ndef split_dataset(dataset, dates, target_size, train_split=0.9):\n\n    data, dt = data_sequences(dataset, dates, target_size)\n    print(data.shape)\n\n    num_train = int(np.round(train_split_value * price.shape[0]))\n\n    window_size_adj_split_index = num_train - target_size\n\n    X_train = data[:window_size_adj_split_index, :-1, :]\n    y_train = data[:window_size_adj_split_index, -1, :]\n    print(X_train.shape)\n\n    X_test = data[window_size_adj_split_index:, :-1, :]\n    y_test = data[window_size_adj_split_index:, -1, :]\n    print(X_test.shape)\n\n    dt = dt[window_size_adj_split_index:, -1, :]\n    print(dt.shape)\n\n    return X_train, y_train, X_test, y_test, dt\n",
   "outputs": [],
   "execution_count": null
  },
  {
   "cell_type": "markdown",
   "source": "# Model",
   "metadata": {
    "tags": [],
    "is_collapsed": false,
    "cell_id": "00029-e951c5fe-3100-4e50-89c0-b1267c2efabd",
    "deepnote_cell_type": "text-cell-h1"
   }
  },
  {
   "cell_type": "markdown",
   "source": "### Build the model",
   "metadata": {
    "tags": [],
    "is_collapsed": false,
    "cell_id": "00030-242d86e8-656e-4181-bde9-5eb2c2574393",
    "deepnote_cell_type": "text-cell-h3"
   }
  },
  {
   "cell_type": "code",
   "metadata": {
    "tags": [],
    "cell_id": "00029-d7e5c1bf-32d7-42f9-b137-9e624ab620a3",
    "deepnote_to_be_reexecuted": false,
    "source_hash": "5d60f940",
    "execution_start": 1632709669149,
    "execution_millis": 1,
    "deepnote_cell_type": "code"
   },
   "source": "def build_model(X_train, window, num_neurons = 128, activation_function = 'linear'):\n    \n    model = Sequential([\n        LSTM(units=num_neurons, input_shape=(window, X_train.shape[-1]), return_sequences=True),\n        LeakyReLU(alpha=0.8),\n        LSTM(units=num_neurons, return_sequences=True),\n        LeakyReLU(alpha=0.8),\n        Dropout(0.2), \n        LSTM(units=int(num_neurons/2), return_sequences=False),\n        Dropout(0.2), \n        Dense(units=1, activation=activation_function)\n    ])\n\n    return model\n\n\ndef epochs_loss(model, loss_function = 'mean_squared_error', optimizer='adam'):\n     #'mean_absolute_error'\n    model.compile(\n        loss=loss_function, \n        optimizer='adam'\n    )\n\n    return model",
   "outputs": [],
   "execution_count": null
  },
  {
   "cell_type": "markdown",
   "source": "### Prediction",
   "metadata": {
    "tags": [],
    "is_collapsed": false,
    "cell_id": "00032-7fa24245-8783-4e75-8939-608607c75ad9",
    "deepnote_cell_type": "text-cell-h3"
   }
  },
  {
   "cell_type": "code",
   "metadata": {
    "tags": [],
    "cell_id": "00030-ed292d7a-30c6-4cfc-88aa-debde46641fb",
    "deepnote_to_be_reexecuted": false,
    "source_hash": "5ff4f117",
    "execution_start": 1632709669170,
    "execution_millis": 1078935,
    "deepnote_cell_type": "code"
   },
   "source": "windows = [1, 7, 30, 90] #, 200] #, 365]\n\nmae = []\nlosses = []\npredictions = []\ntest_dates = []\n\nfor wd in windows:\n    #X_train, y_train, X_test, y_test = split_dataset(normalized_price, target_size = wd + 1, train_split=train_split_value)\n\n    X_train, y_train, X_test, y_test, date_test = split_dataset(normalized_price[['Price']], \n                                                                normalized_price[['date']], \n                                                                target_size = wd + 1, \n                                                                train_split=train_split_value)\n    \n    model = build_model(X_train, wd, num_neurons = 128, activation_function = 'linear')\n    model = epochs_loss(model, loss_function = 'mean_squared_error', optimizer='adam')\n    print(model.summary())\n\n    history = model.fit(\n        X_train, \n        y_train, \n        epochs=25, \n        batch_size=64, \n        shuffle=False,\n        validation_split=0.1\n    )\n\n    y_pred = model.predict(X_test)\n    y_pred_inverse = scaler.inverse_transform(y_pred)\n    y_test_inverse = scaler.inverse_transform(y_test)\n    #scaler.inverse_transform(y_pred)\n\n    test_dates.append(date_test)\n    predictions.append(y_pred_inverse)\n    #predictions.append(list(itertools.chain(*y_pred_inverse)))\n    mae.append(tf.keras.metrics.mean_absolute_error(y_pred_inverse.T, y_test_inverse.T).numpy())\n    losses.append((history.history['loss'], history.history['val_loss']))",
   "outputs": [
    {
     "name": "stdout",
     "text": "(4082, 2, 1)\n(3674, 1, 1)\n(408, 1, 1)\n(408, 1)\n2021-09-27 02:27:50.397182: I tensorflow/compiler/jit/xla_cpu_device.cc:41] Not creating XLA devices, tf_xla_enable_xla_devices not set\n2021-09-27 02:27:50.397419: W tensorflow/stream_executor/platform/default/dso_loader.cc:60] Could not load dynamic library 'libcuda.so.1'; dlerror: libcuda.so.1: cannot open shared object file: No such file or directory\n2021-09-27 02:27:50.397443: W tensorflow/stream_executor/cuda/cuda_driver.cc:326] failed call to cuInit: UNKNOWN ERROR (303)\n2021-09-27 02:27:50.397462: I tensorflow/stream_executor/cuda/cuda_diagnostics.cc:156] kernel driver does not appear to be running on this host (p-465bb6a2-b771-4fe2-b2d2-aed723f7eb7d): /proc/driver/nvidia/version does not exist\n2021-09-27 02:27:50.397675: I tensorflow/core/platform/cpu_feature_guard.cc:142] This TensorFlow binary is optimized with oneAPI Deep Neural Network Library (oneDNN) to use the following CPU instructions in performance-critical operations:  AVX2 AVX512F FMA\nTo enable them in other operations, rebuild TensorFlow with the appropriate compiler flags.\n2021-09-27 02:27:50.397902: I tensorflow/compiler/jit/xla_gpu_device.cc:99] Not creating XLA devices, tf_xla_enable_xla_devices not set\nModel: \"sequential\"\n_________________________________________________________________\nLayer (type)                 Output Shape              Param #   \n=================================================================\nlstm (LSTM)                  (None, 1, 128)            66560     \n_________________________________________________________________\nleaky_re_lu (LeakyReLU)      (None, 1, 128)            0         \n_________________________________________________________________\nlstm_1 (LSTM)                (None, 1, 128)            131584    \n_________________________________________________________________\nleaky_re_lu_1 (LeakyReLU)    (None, 1, 128)            0         \n_________________________________________________________________\ndropout (Dropout)            (None, 1, 128)            0         \n_________________________________________________________________\nlstm_2 (LSTM)                (None, 64)                49408     \n_________________________________________________________________\ndropout_1 (Dropout)          (None, 64)                0         \n_________________________________________________________________\ndense (Dense)                (None, 1)                 65        \n=================================================================\nTotal params: 247,617\nTrainable params: 247,617\nNon-trainable params: 0\n_________________________________________________________________\nNone\nEpoch 1/25\n2021-09-27 02:27:51.399568: I tensorflow/compiler/mlir/mlir_graph_optimization_pass.cc:116] None of the MLIR optimization passes are enabled (registered 2)\n2021-09-27 02:27:51.420150: I tensorflow/core/platform/profile_utils/cpu_utils.cc:112] CPU Frequency: 2499995000 Hz\n52/52 [==============================] - 7s 49ms/step - loss: 0.0047 - val_loss: 0.0995\nEpoch 2/25\n52/52 [==============================] - 1s 14ms/step - loss: 0.0179 - val_loss: 0.1117\nEpoch 3/25\n52/52 [==============================] - 1s 13ms/step - loss: 0.0111 - val_loss: 0.0338\nEpoch 4/25\n52/52 [==============================] - 1s 14ms/step - loss: 0.0087 - val_loss: 0.0032\nEpoch 5/25\n52/52 [==============================] - 1s 13ms/step - loss: 0.0014 - val_loss: 0.0028\nEpoch 6/25\n52/52 [==============================] - 1s 14ms/step - loss: 6.6610e-04 - val_loss: 8.5096e-04\nEpoch 7/25\n52/52 [==============================] - 1s 15ms/step - loss: 4.0487e-04 - val_loss: 3.2753e-04\nEpoch 8/25\n52/52 [==============================] - 1s 14ms/step - loss: 3.1833e-04 - val_loss: 3.4660e-04\nEpoch 9/25\n52/52 [==============================] - 1s 14ms/step - loss: 2.6074e-04 - val_loss: 0.0013\nEpoch 10/25\n52/52 [==============================] - 1s 13ms/step - loss: 2.2062e-04 - val_loss: 0.0014\nEpoch 11/25\n52/52 [==============================] - 1s 13ms/step - loss: 1.0191e-04 - val_loss: 3.9435e-04\nEpoch 12/25\n52/52 [==============================] - 1s 14ms/step - loss: 8.4067e-05 - val_loss: 3.0863e-04\nEpoch 13/25\n52/52 [==============================] - 1s 14ms/step - loss: 9.1494e-05 - val_loss: 2.6479e-04\nEpoch 14/25\n52/52 [==============================] - 1s 14ms/step - loss: 8.6499e-05 - val_loss: 2.6837e-04\nEpoch 15/25\n52/52 [==============================] - 1s 14ms/step - loss: 8.0163e-05 - val_loss: 2.8247e-04\nEpoch 16/25\n52/52 [==============================] - 1s 13ms/step - loss: 1.4132e-04 - val_loss: 7.2476e-04\nEpoch 17/25\n52/52 [==============================] - 1s 14ms/step - loss: 2.0364e-04 - val_loss: 0.0019\nEpoch 18/25\n52/52 [==============================] - 1s 15ms/step - loss: 2.9725e-04 - val_loss: 0.0042\nEpoch 19/25\n52/52 [==============================] - 1s 14ms/step - loss: 4.2195e-04 - val_loss: 0.0017\nEpoch 20/25\n52/52 [==============================] - 1s 14ms/step - loss: 8.8382e-04 - val_loss: 8.7310e-04\nEpoch 21/25\n52/52 [==============================] - 1s 14ms/step - loss: 0.0010 - val_loss: 7.2718e-04\nEpoch 22/25\n52/52 [==============================] - 1s 15ms/step - loss: 6.5301e-04 - val_loss: 8.4509e-04\nEpoch 23/25\n52/52 [==============================] - 1s 13ms/step - loss: 6.2303e-04 - val_loss: 9.0399e-04\nEpoch 24/25\n52/52 [==============================] - 1s 14ms/step - loss: 5.7362e-04 - val_loss: 0.0013\nEpoch 25/25\n52/52 [==============================] - 1s 13ms/step - loss: 5.3640e-04 - val_loss: 9.2271e-04\n(4076, 8, 1)\n(3668, 7, 1)\n(408, 7, 1)\n(408, 1)\nModel: \"sequential_1\"\n_________________________________________________________________\nLayer (type)                 Output Shape              Param #   \n=================================================================\nlstm_3 (LSTM)                (None, 7, 128)            66560     \n_________________________________________________________________\nleaky_re_lu_2 (LeakyReLU)    (None, 7, 128)            0         \n_________________________________________________________________\nlstm_4 (LSTM)                (None, 7, 128)            131584    \n_________________________________________________________________\nleaky_re_lu_3 (LeakyReLU)    (None, 7, 128)            0         \n_________________________________________________________________\ndropout_2 (Dropout)          (None, 7, 128)            0         \n_________________________________________________________________\nlstm_5 (LSTM)                (None, 64)                49408     \n_________________________________________________________________\ndropout_3 (Dropout)          (None, 64)                0         \n_________________________________________________________________\ndense_1 (Dense)              (None, 1)                 65        \n=================================================================\nTotal params: 247,617\nTrainable params: 247,617\nNon-trainable params: 0\n_________________________________________________________________\nNone\nEpoch 1/25\n52/52 [==============================] - 9s 75ms/step - loss: 0.0025 - val_loss: 0.0109\nEpoch 2/25\n52/52 [==============================] - 3s 53ms/step - loss: 0.0121 - val_loss: 0.0021\nEpoch 3/25\n52/52 [==============================] - 3s 50ms/step - loss: 0.0198 - val_loss: 0.0021\nEpoch 4/25\n52/52 [==============================] - 3s 51ms/step - loss: 0.0043 - val_loss: 0.0685\nEpoch 5/25\n52/52 [==============================] - 3s 51ms/step - loss: 0.0101 - val_loss: 0.0099\nEpoch 6/25\n52/52 [==============================] - 3s 50ms/step - loss: 0.0026 - val_loss: 0.0074\nEpoch 7/25\n52/52 [==============================] - 3s 50ms/step - loss: 5.6141e-04 - val_loss: 0.0062\nEpoch 8/25\n52/52 [==============================] - 3s 50ms/step - loss: 4.0349e-04 - val_loss: 9.7216e-04\nEpoch 9/25\n52/52 [==============================] - 3s 51ms/step - loss: 3.4923e-04 - val_loss: 0.0015\nEpoch 10/25\n52/52 [==============================] - 3s 52ms/step - loss: 4.0372e-04 - val_loss: 0.0017\nEpoch 11/25\n52/52 [==============================] - 3s 51ms/step - loss: 2.8954e-04 - val_loss: 0.0010\nEpoch 12/25\n52/52 [==============================] - 3s 50ms/step - loss: 2.2694e-04 - val_loss: 0.0012\nEpoch 13/25\n52/52 [==============================] - 3s 50ms/step - loss: 2.3240e-04 - val_loss: 0.0014\nEpoch 14/25\n52/52 [==============================] - 3s 50ms/step - loss: 2.4113e-04 - val_loss: 0.0029\nEpoch 15/25\n52/52 [==============================] - 3s 51ms/step - loss: 2.9087e-04 - val_loss: 0.0041\nEpoch 16/25\n52/52 [==============================] - 3s 51ms/step - loss: 2.3264e-04 - val_loss: 0.0051\nEpoch 17/25\n52/52 [==============================] - 3s 51ms/step - loss: 3.0972e-04 - val_loss: 0.0029\nEpoch 18/25\n52/52 [==============================] - 3s 51ms/step - loss: 4.7419e-04 - val_loss: 0.0017\nEpoch 19/25\n52/52 [==============================] - 3s 51ms/step - loss: 5.6212e-04 - val_loss: 0.0013\nEpoch 20/25\n52/52 [==============================] - 3s 51ms/step - loss: 2.8318e-04 - val_loss: 0.0036\nEpoch 21/25\n52/52 [==============================] - 3s 50ms/step - loss: 3.2383e-04 - val_loss: 0.0092\nEpoch 22/25\n52/52 [==============================] - 3s 50ms/step - loss: 3.0766e-04 - val_loss: 0.0031\nEpoch 23/25\n52/52 [==============================] - 3s 50ms/step - loss: 0.0014 - val_loss: 0.0010\nEpoch 24/25\n52/52 [==============================] - 3s 50ms/step - loss: 3.8360e-04 - val_loss: 9.0751e-04\nEpoch 25/25\n52/52 [==============================] - 3s 51ms/step - loss: 2.5023e-04 - val_loss: 8.9149e-04\n(4053, 31, 1)\n(3645, 30, 1)\n(408, 30, 1)\n(408, 1)\nModel: \"sequential_2\"\n_________________________________________________________________\nLayer (type)                 Output Shape              Param #   \n=================================================================\nlstm_6 (LSTM)                (None, 30, 128)           66560     \n_________________________________________________________________\nleaky_re_lu_4 (LeakyReLU)    (None, 30, 128)           0         \n_________________________________________________________________\nlstm_7 (LSTM)                (None, 30, 128)           131584    \n_________________________________________________________________\nleaky_re_lu_5 (LeakyReLU)    (None, 30, 128)           0         \n_________________________________________________________________\ndropout_4 (Dropout)          (None, 30, 128)           0         \n_________________________________________________________________\nlstm_8 (LSTM)                (None, 64)                49408     \n_________________________________________________________________\ndropout_5 (Dropout)          (None, 64)                0         \n_________________________________________________________________\ndense_2 (Dense)              (None, 1)                 65        \n=================================================================\nTotal params: 247,617\nTrainable params: 247,617\nNon-trainable params: 0\n_________________________________________________________________\nNone\nEpoch 1/25\n52/52 [==============================] - 14s 206ms/step - loss: 0.0017 - val_loss: 0.0814\nEpoch 2/25\n52/52 [==============================] - 10s 190ms/step - loss: 0.0082 - val_loss: 0.0038\nEpoch 3/25\n52/52 [==============================] - 10s 190ms/step - loss: 0.0047 - val_loss: 0.0034\nEpoch 4/25\n52/52 [==============================] - 10s 189ms/step - loss: 0.0051 - val_loss: 0.0031\nEpoch 5/25\n52/52 [==============================] - 10s 188ms/step - loss: 0.0030 - val_loss: 0.0079\nEpoch 6/25\n52/52 [==============================] - 10s 188ms/step - loss: 0.0033 - val_loss: 0.0042\nEpoch 7/25\n52/52 [==============================] - 10s 185ms/step - loss: 6.2018e-04 - val_loss: 0.0065\nEpoch 8/25\n52/52 [==============================] - 10s 189ms/step - loss: 3.9948e-04 - val_loss: 0.0024\nEpoch 9/25\n52/52 [==============================] - 10s 186ms/step - loss: 2.5694e-04 - val_loss: 0.0013\nEpoch 10/25\n52/52 [==============================] - 10s 189ms/step - loss: 2.4095e-04 - val_loss: 0.0012\nEpoch 11/25\n52/52 [==============================] - 10s 189ms/step - loss: 2.8144e-04 - val_loss: 0.0040\nEpoch 12/25\n52/52 [==============================] - 10s 185ms/step - loss: 9.6930e-04 - val_loss: 0.0183\nEpoch 13/25\n52/52 [==============================] - 10s 187ms/step - loss: 0.0011 - val_loss: 0.0013\nEpoch 14/25\n52/52 [==============================] - 10s 185ms/step - loss: 0.0013 - val_loss: 0.0011\nEpoch 15/25\n52/52 [==============================] - 9s 183ms/step - loss: 2.0246e-04 - val_loss: 0.0013\nEpoch 16/25\n52/52 [==============================] - 10s 190ms/step - loss: 2.3131e-04 - val_loss: 0.0036\nEpoch 17/25\n52/52 [==============================] - 10s 190ms/step - loss: 4.4157e-04 - val_loss: 0.0169\nEpoch 18/25\n52/52 [==============================] - 10s 184ms/step - loss: 7.6047e-04 - val_loss: 0.0010\nEpoch 19/25\n52/52 [==============================] - 10s 183ms/step - loss: 0.0020 - val_loss: 0.0010\nEpoch 20/25\n52/52 [==============================] - 10s 184ms/step - loss: 2.8013e-04 - val_loss: 9.6350e-04\nEpoch 21/25\n52/52 [==============================] - 10s 185ms/step - loss: 2.4165e-04 - val_loss: 0.0014\nEpoch 22/25\n52/52 [==============================] - 10s 186ms/step - loss: 2.3678e-04 - val_loss: 0.0053\nEpoch 23/25\n52/52 [==============================] - 10s 187ms/step - loss: 5.6268e-04 - val_loss: 0.0136\nEpoch 24/25\n52/52 [==============================] - 10s 190ms/step - loss: 5.7105e-04 - val_loss: 0.0014\nEpoch 25/25\n52/52 [==============================] - 10s 188ms/step - loss: 0.0017 - val_loss: 8.4095e-04\n(3993, 91, 1)\n(3585, 90, 1)\n(408, 90, 1)\n(408, 1)\nModel: \"sequential_3\"\n_________________________________________________________________\nLayer (type)                 Output Shape              Param #   \n=================================================================\nlstm_9 (LSTM)                (None, 90, 128)           66560     \n_________________________________________________________________\nleaky_re_lu_6 (LeakyReLU)    (None, 90, 128)           0         \n_________________________________________________________________\nlstm_10 (LSTM)               (None, 90, 128)           131584    \n_________________________________________________________________\nleaky_re_lu_7 (LeakyReLU)    (None, 90, 128)           0         \n_________________________________________________________________\ndropout_6 (Dropout)          (None, 90, 128)           0         \n_________________________________________________________________\nlstm_11 (LSTM)               (None, 64)                49408     \n_________________________________________________________________\ndropout_7 (Dropout)          (None, 64)                0         \n_________________________________________________________________\ndense_3 (Dense)              (None, 1)                 65        \n=================================================================\nTotal params: 247,617\nTrainable params: 247,617\nNon-trainable params: 0\n_________________________________________________________________\nNone\nEpoch 1/25\n51/51 [==============================] - 34s 584ms/step - loss: 8.9791e-04 - val_loss: 0.0079\nEpoch 2/25\n51/51 [==============================] - 29s 562ms/step - loss: 0.0168 - val_loss: 0.0055\nEpoch 3/25\n51/51 [==============================] - 28s 556ms/step - loss: 0.0022 - val_loss: 0.0067\nEpoch 4/25\n51/51 [==============================] - 28s 556ms/step - loss: 0.0016 - val_loss: 0.0014\nEpoch 5/25\n51/51 [==============================] - 28s 556ms/step - loss: 0.0023 - val_loss: 0.0100\nEpoch 6/25\n51/51 [==============================] - 28s 556ms/step - loss: 0.0030 - val_loss: 0.0022\nEpoch 7/25\n51/51 [==============================] - 28s 550ms/step - loss: 0.0010 - val_loss: 0.0050\nEpoch 8/25\n51/51 [==============================] - 28s 552ms/step - loss: 0.0013 - val_loss: 0.0101\nEpoch 9/25\n51/51 [==============================] - 28s 546ms/step - loss: 0.0014 - val_loss: 0.0030\nEpoch 10/25\n51/51 [==============================] - 28s 559ms/step - loss: 2.2320e-04 - val_loss: 0.0043\nEpoch 11/25\n51/51 [==============================] - 30s 580ms/step - loss: 2.1576e-04 - val_loss: 0.0023\nEpoch 12/25\n51/51 [==============================] - 31s 609ms/step - loss: 3.2272e-04 - val_loss: 0.0028\nEpoch 13/25\n51/51 [==============================] - 29s 562ms/step - loss: 2.4459e-04 - val_loss: 0.0040\nEpoch 14/25\n51/51 [==============================] - 28s 549ms/step - loss: 2.3581e-04 - val_loss: 0.0034\nEpoch 15/25\n51/51 [==============================] - 28s 554ms/step - loss: 3.5951e-04 - val_loss: 0.0043\nEpoch 16/25\n51/51 [==============================] - 28s 552ms/step - loss: 2.8993e-04 - val_loss: 0.0056\nEpoch 17/25\n51/51 [==============================] - 28s 553ms/step - loss: 3.0913e-04 - val_loss: 0.0044\nEpoch 18/25\n51/51 [==============================] - 28s 555ms/step - loss: 6.0772e-04 - val_loss: 0.0029\nEpoch 19/25\n51/51 [==============================] - 28s 550ms/step - loss: 8.4417e-04 - val_loss: 0.0016\nEpoch 20/25\n51/51 [==============================] - 28s 553ms/step - loss: 7.3560e-04 - val_loss: 0.0020\nEpoch 21/25\n51/51 [==============================] - 28s 556ms/step - loss: 2.6292e-04 - val_loss: 0.0038\nEpoch 22/25\n51/51 [==============================] - 28s 550ms/step - loss: 3.0255e-04 - val_loss: 0.0091\nEpoch 23/25\n51/51 [==============================] - 28s 557ms/step - loss: 3.4543e-04 - val_loss: 0.0051\nEpoch 24/25\n51/51 [==============================] - 29s 572ms/step - loss: 6.6100e-04 - val_loss: 0.0021\nEpoch 25/25\n51/51 [==============================] - 29s 558ms/step - loss: 0.0011 - val_loss: 0.0018\n",
     "output_type": "stream"
    }
   ],
   "execution_count": null
  },
  {
   "cell_type": "code",
   "metadata": {
    "tags": [],
    "cell_id": "00034-de61f2d1-7870-4ddf-8002-6f7f8ca5f0a3",
    "deepnote_to_be_reexecuted": false,
    "source_hash": "7e94d9f5",
    "execution_start": 1632710748107,
    "execution_millis": 5,
    "deepnote_cell_type": "code"
   },
   "source": "#len(predictions[0])",
   "outputs": [],
   "execution_count": null
  },
  {
   "cell_type": "code",
   "metadata": {
    "tags": [],
    "cell_id": "00035-1eba6083-febc-41a8-9b78-ddbee1a2515d",
    "deepnote_to_be_reexecuted": false,
    "source_hash": "25eb2b9b",
    "execution_start": 1632710748115,
    "execution_millis": 0,
    "deepnote_cell_type": "code"
   },
   "source": "#np.concatenate((a, b)).T[0]",
   "outputs": [],
   "execution_count": null
  },
  {
   "cell_type": "code",
   "metadata": {
    "tags": [],
    "cell_id": "00029-a358c761-8a85-4721-942c-ec88a0eb2fcb",
    "deepnote_to_be_reexecuted": false,
    "source_hash": "4411cfd4",
    "execution_start": 1632710748125,
    "execution_millis": 730,
    "deepnote_cell_type": "code"
   },
   "source": "plt.figure(figsize = (15,8))\n\na = scaler.inverse_transform(y_train)[-1].reshape(-1,1)\nb = y_test_inverse[:-1]\n\nnaive_mae = round(tf.keras.metrics.mean_absolute_error(np.concatenate((a, b)).T, y_test_inverse.T).numpy()[0])\n\n\nplt.plot(df['date'][-len(y_test_inverse):], y_test_inverse, color='green') #, label=\"Actual Price\"\n\nplt.plot(df['date'][-len(y_test_inverse):], np.concatenate((a, b)).T[0], color='pink') #, label=\"Naive Prediction\"\n\n##plt.plot(list(itertools.chain(*y_test_inverse)), color='green') #, label=\"Actual Price\"\n##plt.plot(test, list(itertools.chain(*y_test_inverse)), color='green') #, label=\"Actual Price\"\n##print(price.index)\n\ncolors = ['blue', 'red', 'orange', 'purple', 'gray', 'black']\nleg = []\nfor idx, pred in enumerate(predictions):\n    plt.plot(df['date'][-len(y_test_inverse):], pred, color=colors[idx])\n    leg.append('prediction: window = {} days, MAE = ${}'.format(windows[idx], round(np.float_(mae[idx]))))\n\n#dates = pd.DataFrame(list(itertools.chain(*price[num_train+1:-1][['date']].values)))\n#plt.xticks(range(0, dates.shape[0], 30), dates[0].loc[::30], rotation=45)\n##plt.xticks(range(0, price.shape[0], 180), price['date'].loc[::180], rotation=45)\n\nplt.title('{} Price Prediction'.format(coin_name), fontsize=14, fontweight='bold')\nplt.xlabel('Days')\nplt.ylabel('Price (USD)')\n#plt.legend(leg, loc='best')\nplt.legend([\"Actual Price\", \"Naive Prediction: MAE = ${}\".format(naive_mae)] + leg, loc='best')\n\nplt.grid() \nplt.show()\n\n# 13486, 10276, 10762",
   "outputs": [
    {
     "data": {
      "text/plain": "<Figure size 1080x576 with 1 Axes>",
      "image/png": "[encoded data removed]"
     },
     "metadata": {
      "needs_background": "light",
      "image/png": {
       "width": 903,
       "height": 497
      }
     },
     "output_type": "display_data"
    }
   ],
   "execution_count": null
  },
  {
   "cell_type": "markdown",
   "source": "<a style='text-decoration:none;line-height:16px;display:flex;color:#5B5B62;padding:10px;justify-content:end;' href='https://deepnote.com?utm_source=created-in-deepnote-cell&projectId=465bb6a2-b771-4fe2-b2d2-aed723f7eb7d' target=\"_blank\">\n<img alt='Created in deepnote.com' style='display:inline;max-height:16px;margin:0px;margin-right:7.5px;' src='data:image/svg+xml;base64,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' > </img>\nCreated in <span style='font-weight:600;margin-left:4px;'>Deepnote</span></a>",
   "metadata": {
    "tags": [],
    "created_in_deepnote_cell": true,
    "deepnote_cell_type": "markdown"
   }
  }
 ],
 "nbformat": 4,
 "nbformat_minor": 2,
 "metadata": {
  "orig_nbformat": 2,
  "deepnote": {
   "is_reactive": false
  },
  "deepnote_notebook_id": "357765f5-7e40-4d2d-bd45-61f81b7fc75f",
  "deepnote_execution_queue": []
 }
}