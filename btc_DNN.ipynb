{
 "cells": [
  {
   "cell_type": "code",
   "metadata": {
    "tags": [],
    "cell_id": "00000-32a2b887-bda5-4798-8c51-f652911bb7d0",
    "deepnote_to_be_reexecuted": false,
    "source_hash": "d443251a",
    "execution_start": 1632687288448,
    "execution_millis": 17,
    "deepnote_cell_type": "code"
   },
   "source": "# https://colab.research.google.com/github/https-deeplearning-ai/tensorflow-1-public/blob/adding_C4/C4/W4/ungraded_labs/C4_W4_Lab_3_DNN_only.ipynb#scrollTo=13XrorC5wQoE\n",
   "outputs": [],
   "execution_count": null
  },
  {
   "cell_type": "code",
   "metadata": {
    "tags": [],
    "deepnote_to_be_reexecuted": false,
    "source_hash": "d33466cc",
    "execution_start": 1632687288475,
    "execution_millis": 11457,
    "cell_id": "00001-770dd50b-63e9-4cb2-820c-d2f2e5e7f9dc",
    "deepnote_cell_type": "code"
   },
   "source": "import tensorflow as tf\nprint(tf.__version__)\n\nimport os\nimport random as rn\nimport numpy as np\nimport matplotlib.pyplot as plt\nimport pandas as pd\n\nos.environ['PYTHONHASHSEED'] = '0'\nos.environ['CUDA_VISIBLE_DEVICES'] = ''\n\nnp.random.seed(42)\nrn.seed(42)\ntf.random.set_seed(42)",
   "outputs": [
    {
     "name": "stderr",
     "text": "2021-09-26 20:14:48.920678: W tensorflow/stream_executor/platform/default/dso_loader.cc:60] Could not load dynamic library 'libcudart.so.11.0'; dlerror: libcudart.so.11.0: cannot open shared object file: No such file or directory\n2021-09-26 20:14:48.920723: I tensorflow/stream_executor/cuda/cudart_stub.cc:29] Ignore above cudart dlerror if you do not have a GPU set up on your machine.\n2.4.1\n",
     "output_type": "stream"
    }
   ],
   "execution_count": null
  },
  {
   "cell_type": "code",
   "metadata": {
    "tags": [],
    "deepnote_to_be_reexecuted": false,
    "source_hash": "9baa8117",
    "execution_start": 1632687299953,
    "execution_millis": 9,
    "cell_id": "00002-214b5772-88e4-4755-95bc-8caee69195b7",
    "deepnote_cell_type": "code"
   },
   "source": "\ndef plot_series(time, series, format=\"-\", start=0, end=None):\n    plt.plot(time[start:end], series[start:end], format)\n    plt.xlabel(\"Time\")\n    plt.ylabel(\"Value\")\n    plt.grid(True)\n\n# https://stackoverflow.com/questions/30399534/shift-elements-in-a-numpy-array/30401705#30401705\ndef shift2(arr,num):\n    arr=np.roll(arr,num)\n    if num<0:\n         np.put(arr,range(len(arr)+num,len(arr)),np.nan)\n    elif num > 0:\n         np.put(arr,range(num),np.nan)\n    return arr",
   "outputs": [],
   "execution_count": null
  },
  {
   "cell_type": "code",
   "metadata": {
    "tags": [],
    "cell_id": "00003-75567db5-9292-4a07-9f01-bd6334490f95",
    "deepnote_to_be_reexecuted": false,
    "source_hash": "2d3dc53a",
    "execution_start": 1632687299974,
    "execution_millis": 1251,
    "deepnote_cell_type": "code"
   },
   "source": "df_cm = pd.read_csv('btc_cm_metrics_final.csv')\n\ndf_cm = df_cm[df_cm['PriceUSD'].notna()]\ndf_cm = df_cm.reset_index(drop=True)\n#df_cm.index = pd.to_datetime(df_cm.date)\ndf_cm = df_cm.drop('date', 1)\ndf_cm",
   "outputs": [
    {
     "output_type": "execute_result",
     "execution_count": 4,
     "data": {
      "application/vnd.deepnote.dataframe.v2+json": {
       "row_count": 4084,
       "column_count": 139,
       "columns": [
        {
         "name": "AdrActCnt",
         "dtype": "float64",
         "stats": {
          "unique_count": 4058,
          "nan_count": 0,
          "min": "408.0",
          "max": "1366494.0",
          "histogram": [
           {
            "bin_start": 408,
            "bin_end": 137016.6,
            "count": 1255
           },
           {
            "bin_start": 137016.6,
            "bin_end": 273625.2,
            "count": 527
           },
           {
            "bin_start": 273625.2,
            "bin_end": 410233.80000000005,
            "count": 188
           },
           {
            "bin_start": 410233.80000000005,
            "bin_end": 546842.4,
            "count": 379
           },
           {
            "bin_start": 546842.4,
            "bin_end": 683451,
            "count": 529
           },
           {
            "bin_start": 683451,
            "bin_end": 820059.6000000001,
            "count": 549
           },
           {
            "bin_start": 820059.6000000001,
            "bin_end": 956668.2000000001,
            "count": 309
           },
           {
            "bin_start": 956668.2000000001,
            "bin_end": 1093276.8,
            "count": 195
           },
           {
            "bin_start": 1093276.8,
            "bin_end": 1229885.4000000001,
            "count": 130
           },
           {
            "bin_start": 1229885.4000000001,
            "bin_end": 1366494,
            "count": 23
           }
          ]
         }
        },
        {
         "name": "AdrBal1in100KCnt",
         "dtype": "float64",
         "stats": {
          "unique_count": 1607,
          "nan_count": 0,
          "min": "1544.0",
          "max": "54047.0",
          "histogram": [
           {
            "bin_start": 1544,
            "bin_end": 6794.3,
            "count": 343
           },
           {
            "bin_start": 6794.3,
            "bin_end": 12044.6,
            "count": 3577
           },
           {
            "bin_start": 12044.6,
            "bin_end": 17294.9,
            "count": 0
           },
           {
            "bin_start": 17294.9,
            "bin_end": 22545.2,
            "count": 0
           },
           {
            "bin_start": 22545.2,
            "bin_end": 27795.5,
            "count": 0
           },
           {
            "bin_start": 27795.5,
            "bin_end": 33045.8,
            "count": 0
           },
           {
            "bin_start": 33045.8,
            "bin_end": 38296.1,
            "count": 0
           },
           {
            "bin_start": 38296.1,
            "bin_end": 43546.4,
            "count": 0
           },
           {
            "bin_start": 43546.4,
            "bin_end": 48796.700000000004,
            "count": 0
           },
           {
            "bin_start": 48796.700000000004,
            "bin_end": 54047,
            "count": 164
           }
          ]
         }
        },
        {
         "name": "AdrBal1in100MCnt",
         "dtype": "float64",
         "stats": {
          "unique_count": 4070,
          "nan_count": 0,
          "min": "52093.0",
          "max": "2273859.0",
          "histogram": [
           {
            "bin_start": 52093,
            "bin_end": 274269.6,
            "count": 1009
           },
           {
            "bin_start": 274269.6,
            "bin_end": 496446.2,
            "count": 318
           },
           {
            "bin_start": 496446.2,
            "bin_end": 718622.8,
            "count": 530
           },
           {
            "bin_start": 718622.8,
            "bin_end": 940799.4,
            "count": 167
           },
           {
            "bin_start": 940799.4,
            "bin_end": 1162976,
            "count": 277
           },
           {
            "bin_start": 1162976,
            "bin_end": 1385152.6,
            "count": 188
           },
           {
            "bin_start": 1385152.6,
            "bin_end": 1607329.2,
            "count": 174
           },
           {
            "bin_start": 1607329.2,
            "bin_end": 1829505.8,
            "count": 140
           },
           {
            "bin_start": 1829505.8,
            "bin_end": 2051682.4000000001,
            "count": 646
           },
           {
            "bin_start": 2051682.4000000001,
            "bin_end": 2273859,
            "count": 635
           }
          ]
         }
        },
        {
         "name": "AdrBal1in10BCnt",
         "dtype": "float64",
         "stats": {
          "unique_count": 4084,
          "nan_count": 0,
          "min": "52190.0",
          "max": "16070586.0",
          "histogram": [
           {
            "bin_start": 52190,
            "bin_end": 1654029.6,
            "count": 1531
           },
           {
            "bin_start": 1654029.6,
            "bin_end": 3255869.2,
            "count": 496
           },
           {
            "bin_start": 3255869.2,
            "bin_end": 4857708.800000001,
            "count": 281
           },
           {
            "bin_start": 4857708.800000001,
            "bin_end": 6459548.4,
            "count": 177
           },
           {
            "bin_start": 6459548.4,
            "bin_end": 8061388,
            "count": 179
           },
           {
            "bin_start": 8061388,
            "bin_end": 9663227.600000001,
            "count": 35
           },
           {
            "bin_start": 9663227.600000001,
            "bin_end": 11265067.200000001,
            "count": 495
           },
           {
            "bin_start": 11265067.200000001,
            "bin_end": 12866906.8,
            "count": 265
           },
           {
            "bin_start": 12866906.8,
            "bin_end": 14468746.4,
            "count": 294
           },
           {
            "bin_start": 14468746.4,
            "bin_end": 16070586,
            "count": 331
           }
          ]
         }
        },
        {
         "name": "AdrBal1in10KCnt",
         "dtype": "float64",
         "stats": {
          "unique_count": 624,
          "nan_count": 0,
          "min": "199.0",
          "max": "1243.0",
          "histogram": [
           {
            "bin_start": 199,
            "bin_end": 303.4,
            "count": 37
           },
           {
            "bin_start": 303.4,
            "bin_end": 407.8,
            "count": 71
           },
           {
            "bin_start": 407.8,
            "bin_end": 512.2,
            "count": 107
           },
           {
            "bin_start": 512.2,
            "bin_end": 616.6,
            "count": 34
           },
           {
            "bin_start": 616.6,
            "bin_end": 721,
            "count": 78
           },
           {
            "bin_start": 721,
            "bin_end": 825.4000000000001,
            "count": 159
           },
           {
            "bin_start": 825.4000000000001,
            "bin_end": 929.8000000000001,
            "count": 1410
           },
           {
            "bin_start": 929.8000000000001,
            "bin_end": 1034.2,
            "count": 1639
           },
           {
            "bin_start": 1034.2,
            "bin_end": 1138.6,
            "count": 481
           },
           {
            "bin_start": 1138.6,
            "bin_end": 1243,
            "count": 68
           }
          ]
         }
        },
        {
         "name": "AdrBal1in10MCnt",
         "dtype": "float64",
         "stats": {
          "unique_count": 4024,
          "nan_count": 0,
          "min": "51245.0",
          "max": "494343.0",
          "histogram": [
           {
            "bin_start": 51245,
            "bin_end": 95554.8,
            "count": 351
           },
           {
            "bin_start": 95554.8,
            "bin_end": 139864.6,
            "count": 582
           },
           {
            "bin_start": 139864.6,
            "bin_end": 184174.40000000002,
            "count": 282
           },
           {
            "bin_start": 184174.40000000002,
            "bin_end": 228484.2,
            "count": 119
           },
           {
            "bin_start": 228484.2,
            "bin_end": 272794,
            "count": 335
           },
           {
            "bin_start": 272794,
            "bin_end": 317103.80000000005,
            "count": 257
           },
           {
            "bin_start": 317103.80000000005,
            "bin_end": 361413.60000000003,
            "count": 307
           },
           {
            "bin_start": 361413.60000000003,
            "bin_end": 405723.4,
            "count": 280
           },
           {
            "bin_start": 405723.4,
            "bin_end": 450033.2,
            "count": 386
           },
           {
            "bin_start": 450033.2,
            "bin_end": 494343,
            "count": 1185
           }
          ]
         }
        },
        {
         "name": "AdrBal1in1BCnt",
         "dtype": "float64",
         "stats": {
          "unique_count": 4077,
          "nan_count": 0,
          "min": "52190.0",
          "max": "6812889.0",
          "histogram": [
           {
            "bin_start": 52190,
            "bin_end": 728259.9,
            "count": 1270
           },
           {
            "bin_start": 728259.9,
            "bin_end": 1404329.8,
            "count": 566
           },
           {
            "bin_start": 1404329.8,
            "bin_end": 2080399.7000000002,
            "count": 298
           },
           {
            "bin_start": 2080399.7000000002,
            "bin_end": 2756469.6,
            "count": 206
           },
           {
            "bin_start": 2756469.6,
            "bin_end": 3432539.5,
            "count": 195
           },
           {
            "bin_start": 3432539.5,
            "bin_end": 4108609.4000000004,
            "count": 138
           },
           {
            "bin_start": 4108609.4000000004,
            "bin_end": 4784679.3,
            "count": 67
           },
           {
            "bin_start": 4784679.3,
            "bin_end": 5460749.2,
            "count": 483
           },
           {
            "bin_start": 5460749.2,
            "bin_end": 6136819.100000001,
            "count": 321
           },
           {
            "bin_start": 6136819.100000001,
            "bin_end": 6812889,
            "count": 540
           }
          ]
         }
        },
        {
         "name": "AdrBal1in1KCnt",
         "dtype": "float64",
         "stats": {
          "unique_count": 75,
          "nan_count": 0,
          "min": "37.0",
          "max": "111.0",
          "histogram": [
           {
            "bin_start": 37,
            "bin_end": 44.4,
            "count": 611
           },
           {
            "bin_start": 44.4,
            "bin_end": 51.8,
            "count": 442
           },
           {
            "bin_start": 51.8,
            "bin_end": 59.2,
            "count": 523
           },
           {
            "bin_start": 59.2,
            "bin_end": 66.6,
            "count": 1314
           },
           {
            "bin_start": 66.6,
            "bin_end": 74,
            "count": 463
           },
           {
            "bin_start": 74,
            "bin_end": 81.4,
            "count": 183
           },
           {
            "bin_start": 81.4,
            "bin_end": 88.80000000000001,
            "count": 176
           },
           {
            "bin_start": 88.80000000000001,
            "bin_end": 96.2,
            "count": 145
           },
           {
            "bin_start": 96.2,
            "bin_end": 103.60000000000001,
            "count": 182
           },
           {
            "bin_start": 103.60000000000001,
            "bin_end": 111,
            "count": 45
           }
          ]
         }
        },
        {
         "name": "AdrBal1in1MCnt",
         "dtype": "float64",
         "stats": {
          "unique_count": 3671,
          "nan_count": 0,
          "min": "51064.0",
          "max": "112006.0",
          "histogram": [
           {
            "bin_start": 51064,
            "bin_end": 57158.2,
            "count": 229
           },
           {
            "bin_start": 57158.2,
            "bin_end": 63252.4,
            "count": 109
           },
           {
            "bin_start": 63252.4,
            "bin_end": 69346.6,
            "count": 61
           },
           {
            "bin_start": 69346.6,
            "bin_end": 75440.8,
            "count": 157
           },
           {
            "bin_start": 75440.8,
            "bin_end": 81535,
            "count": 271
           },
           {
            "bin_start": 81535,
            "bin_end": 87629.2,
            "count": 386
           },
           {
            "bin_start": 87629.2,
            "bin_end": 93723.4,
            "count": 133
           },
           {
            "bin_start": 93723.4,
            "bin_end": 99817.6,
            "count": 471
           },
           {
            "bin_start": 99817.6,
            "bin_end": 105911.79999999999,
            "count": 1071
           },
           {
            "bin_start": 105911.79999999999,
            "bin_end": 112006,
            "count": 1196
           }
          ]
         }
        },
        {
         "name": "AdrBalCnt",
         "dtype": "float64",
         "stats": {
          "unique_count": 4084,
          "nan_count": 0,
          "min": "52190.0",
          "max": "38884876.0",
          "histogram": [
           {
            "bin_start": 52190,
            "bin_end": 3935458.6,
            "count": 1627
           },
           {
            "bin_start": 3935458.6,
            "bin_end": 7818727.2,
            "count": 460
           },
           {
            "bin_start": 7818727.2,
            "bin_end": 11701995.8,
            "count": 221
           },
           {
            "bin_start": 11701995.8,
            "bin_end": 15585264.4,
            "count": 152
           },
           {
            "bin_start": 15585264.4,
            "bin_end": 19468533,
            "count": 154
           },
           {
            "bin_start": 19468533,
            "bin_end": 23351801.6,
            "count": 452
           },
           {
            "bin_start": 23351801.6,
            "bin_end": 27235070.2,
            "count": 273
           },
           {
            "bin_start": 27235070.2,
            "bin_end": 31118338.8,
            "count": 350
           },
           {
            "bin_start": 31118338.8,
            "bin_end": 35001607.4,
            "count": 172
           },
           {
            "bin_start": 35001607.4,
            "bin_end": 38884876,
            "count": 223
           }
          ]
         }
        },
        {
         "name": "AdrBalNtv0.001Cnt",
         "dtype": "float64",
         "stats": {
          "unique_count": 4083,
          "nan_count": 0,
          "min": "52190.0",
          "max": "19059798.0",
          "histogram": [
           {
            "bin_start": 52190,
            "bin_end": 1952950.8,
            "count": 1611
           },
           {
            "bin_start": 1952950.8,
            "bin_end": 3853711.6,
            "count": 484
           },
           {
            "bin_start": 3853711.6,
            "bin_end": 5754472.4,
            "count": 243
           },
           {
            "bin_start": 5754472.4,
            "bin_end": 7655233.2,
            "count": 191
           },
           {
            "bin_start": 7655233.2,
            "bin_end": 9555994,
            "count": 146
           },
           {
            "bin_start": 9555994,
            "bin_end": 11456754.8,
            "count": 264
           },
           {
            "bin_start": 11456754.8,
            "bin_end": 13357515.6,
            "count": 334
           },
           {
            "bin_start": 13357515.6,
            "bin_end": 15258276.4,
            "count": 247
           },
           {
            "bin_start": 15258276.4,
            "bin_end": 17159037.2,
            "count": 331
           },
           {
            "bin_start": 17159037.2,
            "bin_end": 19059798,
            "count": 233
           }
          ]
         }
        },
        {
         "name": "AdrBalNtv0.01Cnt",
         "dtype": "float64",
         "stats": {
          "unique_count": 4077,
          "nan_count": 0,
          "min": "52190.0",
          "max": "9161280.0",
          "histogram": [
           {
            "bin_start": 52190,
            "bin_end": 963099,
            "count": 1327
           },
           {
            "bin_start": 963099,
            "bin_end": 1874008,
            "count": 611
           },
           {
            "bin_start": 1874008,
            "bin_end": 2784917,
            "count": 257
           },
           {
            "bin_start": 2784917,
            "bin_end": 3695826,
            "count": 152
           },
           {
            "bin_start": 3695826,
            "bin_end": 4606735,
            "count": 268
           },
           {
            "bin_start": 4606735,
            "bin_end": 5517644,
            "count": 69
           },
           {
            "bin_start": 5517644,
            "bin_end": 6428553,
            "count": 330
           },
           {
            "bin_start": 6428553,
            "bin_end": 7339462,
            "count": 248
           },
           {
            "bin_start": 7339462,
            "bin_end": 8250371,
            "count": 294
           },
           {
            "bin_start": 8250371,
            "bin_end": 9161280,
            "count": 528
           }
          ]
         }
        },
        {
         "name": "AdrBalNtv0.1Cnt",
         "dtype": "float64",
         "stats": {
          "unique_count": 4075,
          "nan_count": 0,
          "min": "51318.0",
          "max": "3256639.0",
          "histogram": [
           {
            "bin_start": 51318,
            "bin_end": 371850.1,
            "count": 1166
           },
           {
            "bin_start": 371850.1,
            "bin_end": 692382.2,
            "count": 468
           },
           {
            "bin_start": 692382.2,
            "bin_end": 1012914.2999999999,
            "count": 340
           },
           {
            "bin_start": 1012914.2999999999,
            "bin_end": 1333446.4,
            "count": 277
           },
           {
            "bin_start": 1333446.4,
            "bin_end": 1653978.5,
            "count": 208
           },
           {
            "bin_start": 1653978.5,
            "bin_end": 1974510.5999999999,
            "count": 189
           },
           {
            "bin_start": 1974510.5999999999,
            "bin_end": 2295042.6999999997,
            "count": 49
           },
           {
            "bin_start": 2295042.6999999997,
            "bin_end": 2615574.8,
            "count": 508
           },
           {
            "bin_start": 2615574.8,
            "bin_end": 2936106.9,
            "count": 334
           },
           {
            "bin_start": 2936106.9,
            "bin_end": 3256639,
            "count": 545
           }
          ]
         }
        },
        {
         "name": "AdrBalNtv100Cnt",
         "dtype": "float64",
         "stats": {
          "unique_count": 2729,
          "nan_count": 0,
          "min": "472.0",
          "max": "18541.0",
          "histogram": [
           {
            "bin_start": 472,
            "bin_end": 2278.9,
            "count": 288
           },
           {
            "bin_start": 2278.9,
            "bin_end": 4085.8,
            "count": 104
           },
           {
            "bin_start": 4085.8,
            "bin_end": 5892.700000000001,
            "count": 117
           },
           {
            "bin_start": 5892.700000000001,
            "bin_end": 7699.6,
            "count": 72
           },
           {
            "bin_start": 7699.6,
            "bin_end": 9506.5,
            "count": 196
           },
           {
            "bin_start": 9506.5,
            "bin_end": 11313.400000000001,
            "count": 162
           },
           {
            "bin_start": 11313.400000000001,
            "bin_end": 13120.300000000001,
            "count": 361
           },
           {
            "bin_start": 13120.300000000001,
            "bin_end": 14927.2,
            "count": 161
           },
           {
            "bin_start": 14927.2,
            "bin_end": 16734.1,
            "count": 1594
           },
           {
            "bin_start": 16734.1,
            "bin_end": 18541,
            "count": 1029
           }
          ]
         }
        },
        {
         "name": "AdrBalNtv100KCnt",
         "dtype": "float64",
         "stats": {
          "unique_count": 7,
          "nan_count": 0,
          "min": "0.0",
          "max": "6.0",
          "histogram": [
           {
            "bin_start": 0,
            "bin_end": 0.6,
            "count": 192
           },
           {
            "bin_start": 0.6,
            "bin_end": 1.2,
            "count": 1021
           },
           {
            "bin_start": 1.2,
            "bin_end": 1.7999999999999998,
            "count": 0
           },
           {
            "bin_start": 1.7999999999999998,
            "bin_end": 2.4,
            "count": 1281
           },
           {
            "bin_start": 2.4,
            "bin_end": 3,
            "count": 0
           },
           {
            "bin_start": 3,
            "bin_end": 3.5999999999999996,
            "count": 1109
           },
           {
            "bin_start": 3.5999999999999996,
            "bin_end": 4.2,
            "count": 324
           },
           {
            "bin_start": 4.2,
            "bin_end": 4.8,
            "count": 0
           },
           {
            "bin_start": 4.8,
            "bin_end": 5.3999999999999995,
            "count": 151
           },
           {
            "bin_start": 5.3999999999999995,
            "bin_end": 6,
            "count": 6
           }
          ]
         }
        },
        {
         "name": "AdrBalNtv10Cnt",
         "dtype": "float64",
         "stats": {
          "unique_count": 3852,
          "nan_count": 0,
          "min": "49487.0",
          "max": "157273.0",
          "histogram": [
           {
            "bin_start": 49487,
            "bin_end": 60265.6,
            "count": 325
           },
           {
            "bin_start": 60265.6,
            "bin_end": 71044.2,
            "count": 201
           },
           {
            "bin_start": 71044.2,
            "bin_end": 81822.8,
            "count": 251
           },
           {
            "bin_start": 81822.8,
            "bin_end": 92601.4,
            "count": 301
           },
           {
            "bin_start": 92601.4,
            "bin_end": 103380,
            "count": 217
           },
           {
            "bin_start": 103380,
            "bin_end": 114158.6,
            "count": 149
           },
           {
            "bin_start": 114158.6,
            "bin_end": 124937.2,
            "count": 317
           },
           {
            "bin_start": 124937.2,
            "bin_end": 135715.8,
            "count": 223
           },
           {
            "bin_start": 135715.8,
            "bin_end": 146494.40000000002,
            "count": 382
           },
           {
            "bin_start": 146494.40000000002,
            "bin_end": 157273,
            "count": 1718
           }
          ]
         }
        },
        {
         "name": "AdrBalNtv10KCnt",
         "dtype": "float64",
         "stats": {
          "unique_count": 102,
          "nan_count": 0,
          "min": "23.0",
          "max": "126.0",
          "histogram": [
           {
            "bin_start": 23,
            "bin_end": 33.3,
            "count": 70
           },
           {
            "bin_start": 33.3,
            "bin_end": 43.6,
            "count": 55
           },
           {
            "bin_start": 43.6,
            "bin_end": 53.900000000000006,
            "count": 48
           },
           {
            "bin_start": 53.900000000000006,
            "bin_end": 64.2,
            "count": 197
           },
           {
            "bin_start": 64.2,
            "bin_end": 74.5,
            "count": 295
           },
           {
            "bin_start": 74.5,
            "bin_end": 84.80000000000001,
            "count": 237
           },
           {
            "bin_start": 84.80000000000001,
            "bin_end": 95.10000000000001,
            "count": 459
           },
           {
            "bin_start": 95.10000000000001,
            "bin_end": 105.4,
            "count": 1012
           },
           {
            "bin_start": 105.4,
            "bin_end": 115.7,
            "count": 1147
           },
           {
            "bin_start": 115.7,
            "bin_end": 126,
            "count": 564
           }
          ]
         }
        },
        {
         "name": "AdrBalNtv1Cnt",
         "dtype": "float64",
         "stats": {
          "unique_count": 4057,
          "nan_count": 0,
          "min": "51215.0",
          "max": "830451.0",
          "histogram": [
           {
            "bin_start": 51215,
            "bin_end": 129138.6,
            "count": 605
           },
           {
            "bin_start": 129138.6,
            "bin_end": 207062.2,
            "count": 489
           },
           {
            "bin_start": 207062.2,
            "bin_end": 284985.80000000005,
            "count": 225
           },
           {
            "bin_start": 284985.80000000005,
            "bin_end": 362909.4,
            "count": 371
           },
           {
            "bin_start": 362909.4,
            "bin_end": 440833,
            "count": 276
           },
           {
            "bin_start": 440833,
            "bin_end": 518756.60000000003,
            "count": 289
           },
           {
            "bin_start": 518756.60000000003,
            "bin_end": 596680.2000000001,
            "count": 245
           },
           {
            "bin_start": 596680.2000000001,
            "bin_end": 674603.8,
            "count": 184
           },
           {
            "bin_start": 674603.8,
            "bin_end": 752527.4,
            "count": 622
           },
           {
            "bin_start": 752527.4,
            "bin_end": 830451,
            "count": 778
           }
          ]
         }
        },
        {
         "name": "AdrBalNtv1KCnt",
         "dtype": "float64",
         "stats": {
          "unique_count": 1324,
          "nan_count": 0,
          "min": "117.0",
          "max": "2490.0",
          "histogram": [
           {
            "bin_start": 117,
            "bin_end": 354.3,
            "count": 180
           },
           {
            "bin_start": 354.3,
            "bin_end": 591.6,
            "count": 162
           },
           {
            "bin_start": 591.6,
            "bin_end": 828.9000000000001,
            "count": 233
           },
           {
            "bin_start": 828.9000000000001,
            "bin_end": 1066.2,
            "count": 177
           },
           {
            "bin_start": 1066.2,
            "bin_end": 1303.5,
            "count": 174
           },
           {
            "bin_start": 1303.5,
            "bin_end": 1540.8000000000002,
            "count": 569
           },
           {
            "bin_start": 1540.8000000000002,
            "bin_end": 1778.1000000000001,
            "count": 1135
           },
           {
            "bin_start": 1778.1000000000001,
            "bin_end": 2015.4,
            "count": 675
           },
           {
            "bin_start": 2015.4,
            "bin_end": 2252.7000000000003,
            "count": 660
           },
           {
            "bin_start": 2252.7000000000003,
            "bin_end": 2490,
            "count": 119
           }
          ]
         }
        },
        {
         "name": "AdrBalNtv1MCnt",
         "dtype": "float64",
         "stats": {
          "unique_count": 1,
          "nan_count": 0,
          "min": "0.0",
          "max": "0.0",
          "histogram": [
           {
            "bin_start": -0.5,
            "bin_end": -0.4,
            "count": 0
           },
           {
            "bin_start": -0.4,
            "bin_end": -0.3,
            "count": 0
           },
           {
            "bin_start": -0.3,
            "bin_end": -0.19999999999999996,
            "count": 0
           },
           {
            "bin_start": -0.19999999999999996,
            "bin_end": -0.09999999999999998,
            "count": 0
           },
           {
            "bin_start": -0.09999999999999998,
            "bin_end": 0,
            "count": 0
           },
           {
            "bin_start": 0,
            "bin_end": 0.10000000000000009,
            "count": 4084
           },
           {
            "bin_start": 0.10000000000000009,
            "bin_end": 0.20000000000000007,
            "count": 0
           },
           {
            "bin_start": 0.20000000000000007,
            "bin_end": 0.30000000000000004,
            "count": 0
           },
           {
            "bin_start": 0.30000000000000004,
            "bin_end": 0.4,
            "count": 0
           },
           {
            "bin_start": 0.4,
            "bin_end": 0.5,
            "count": 0
           }
          ]
         }
        },
        {
         "name": "AdrBalUSD100Cnt",
         "dtype": "float64",
         "stats": {
          "unique_count": 4017,
          "nan_count": 0,
          "min": "90.0",
          "max": "16433183.0",
          "histogram": [
           {
            "bin_start": 90,
            "bin_end": 1643399.3,
            "count": 2410
           },
           {
            "bin_start": 1643399.3,
            "bin_end": 3286708.6,
            "count": 222
           },
           {
            "bin_start": 3286708.6,
            "bin_end": 4930017.9,
            "count": 205
           },
           {
            "bin_start": 4930017.9,
            "bin_end": 6573327.2,
            "count": 426
           },
           {
            "bin_start": 6573327.2,
            "bin_end": 8216636.5,
            "count": 386
           },
           {
            "bin_start": 8216636.5,
            "bin_end": 9859945.8,
            "count": 106
           },
           {
            "bin_start": 9859945.8,
            "bin_end": 11503255.1,
            "count": 50
           },
           {
            "bin_start": 11503255.1,
            "bin_end": 13146564.4,
            "count": 31
           },
           {
            "bin_start": 13146564.4,
            "bin_end": 14789873.700000001,
            "count": 116
           },
           {
            "bin_start": 14789873.700000001,
            "bin_end": 16433183,
            "count": 132
           }
          ]
         }
        },
        {
         "name": "AdrBalUSD100KCnt",
         "dtype": "float64",
         "stats": {
          "unique_count": 3117,
          "nan_count": 0,
          "min": "0.0",
          "max": "522240.0",
          "histogram": [
           {
            "bin_start": 0,
            "bin_end": 52224,
            "count": 2500
           },
           {
            "bin_start": 52224,
            "bin_end": 104448,
            "count": 313
           },
           {
            "bin_start": 104448,
            "bin_end": 156672,
            "count": 698
           },
           {
            "bin_start": 156672,
            "bin_end": 208896,
            "count": 260
           },
           {
            "bin_start": 208896,
            "bin_end": 261120,
            "count": 34
           },
           {
            "bin_start": 261120,
            "bin_end": 313344,
            "count": 29
           },
           {
            "bin_start": 313344,
            "bin_end": 365568,
            "count": 86
           },
           {
            "bin_start": 365568,
            "bin_end": 417792,
            "count": 77
           },
           {
            "bin_start": 417792,
            "bin_end": 470016,
            "count": 21
           },
           {
            "bin_start": 470016,
            "bin_end": 522240,
            "count": 66
           }
          ]
         }
        },
        {
         "name": "AdrBalUSD10Cnt",
         "dtype": "float64",
         "stats": {
          "unique_count": 4067,
          "nan_count": 0,
          "min": "356.0",
          "max": "26370336.0",
          "histogram": [
           {
            "bin_start": 356,
            "bin_end": 2637354,
            "count": 2305
           },
           {
            "bin_start": 2637354,
            "bin_end": 5274352,
            "count": 192
           },
           {
            "bin_start": 5274352,
            "bin_end": 7911350,
            "count": 162
           },
           {
            "bin_start": 7911350,
            "bin_end": 10548348,
            "count": 382
           },
           {
            "bin_start": 10548348,
            "bin_end": 13185346,
            "count": 199
           },
           {
            "bin_start": 13185346,
            "bin_end": 15822344,
            "count": 422
           },
           {
            "bin_start": 15822344,
            "bin_end": 18459342,
            "count": 110
           },
           {
            "bin_start": 18459342,
            "bin_end": 21096340,
            "count": 59
           },
           {
            "bin_start": 21096340,
            "bin_end": 23733338,
            "count": 78
           },
           {
            "bin_start": 23733338,
            "bin_end": 26370336,
            "count": 175
           }
          ]
         }
        },
        {
         "name": "AdrBalUSD10KCnt",
         "dtype": "float64",
         "stats": {
          "unique_count": 3639,
          "nan_count": 0,
          "min": "0.0",
          "max": "2455268.0",
          "histogram": [
           {
            "bin_start": 0,
            "bin_end": 245526.8,
            "count": 2529
           },
           {
            "bin_start": 245526.8,
            "bin_end": 491053.6,
            "count": 460
           },
           {
            "bin_start": 491053.6,
            "bin_end": 736580.3999999999,
            "count": 520
           },
           {
            "bin_start": 736580.3999999999,
            "bin_end": 982107.2,
            "count": 238
           },
           {
            "bin_start": 982107.2,
            "bin_end": 1227634,
            "count": 57
           },
           {
            "bin_start": 1227634,
            "bin_end": 1473160.7999999998,
            "count": 10
           },
           {
            "bin_start": 1473160.7999999998,
            "bin_end": 1718687.5999999999,
            "count": 53
           },
           {
            "bin_start": 1718687.5999999999,
            "bin_end": 1964214.4,
            "count": 72
           },
           {
            "bin_start": 1964214.4,
            "bin_end": 2209741.1999999997,
            "count": 74
           },
           {
            "bin_start": 2209741.1999999997,
            "bin_end": 2455268,
            "count": 71
           }
          ]
         }
        },
        {
         "name": "AdrBalUSD10MCnt",
         "dtype": "float64"
        },
        {
         "name": "AdrBalUSD1Cnt",
         "dtype": "float64"
        },
        {
         "name": "AdrBalUSD1KCnt",
         "dtype": "float64"
        },
        {
         "name": "AdrBalUSD1MCnt",
         "dtype": "float64"
        },
        {
         "name": "AssetEODCompletionTime",
         "dtype": "float64"
        },
        {
         "name": "BlkCnt",
         "dtype": "float64"
        },
        {
         "name": "BlkSizeMeanByte",
         "dtype": "float64"
        },
        {
         "name": "BlkWghtMean",
         "dtype": "float64"
        },
        {
         "name": "BlkWghtTot",
         "dtype": "float64"
        },
        {
         "name": "CapAct1yrUSD",
         "dtype": "float64"
        },
        {
         "name": "CapMVRVCur",
         "dtype": "float64"
        },
        {
         "name": "CapMVRVFF",
         "dtype": "float64"
        },
        {
         "name": "CapMrktCurUSD",
         "dtype": "float64"
        },
        {
         "name": "CapMrktFFUSD",
         "dtype": "float64"
        },
        {
         "name": "CapRealUSD",
         "dtype": "float64"
        },
        {
         "name": "DiffLast",
         "dtype": "float64"
        },
        {
         "name": "DiffMean",
         "dtype": "float64"
        },
        {
         "name": "FeeByteMeanNtv",
         "dtype": "float64"
        },
        {
         "name": "FeeMeanNtv",
         "dtype": "float64"
        },
        {
         "name": "FeeMeanUSD",
         "dtype": "float64"
        },
        {
         "name": "FeeMedNtv",
         "dtype": "float64"
        },
        {
         "name": "FeeMedUSD",
         "dtype": "float64"
        },
        {
         "name": "FeeTotNtv",
         "dtype": "float64"
        },
        {
         "name": "FeeTotUSD",
         "dtype": "float64"
        },
        {
         "name": "FlowInExNtv",
         "dtype": "float64"
        },
        {
         "name": "FlowInExUSD",
         "dtype": "float64"
        },
        {
         "name": "FlowOutExNtv",
         "dtype": "float64"
        },
        {
         "name": "FlowOutExUSD",
         "dtype": "float64"
        },
        {
         "name": "FlowTfrFromExCnt",
         "dtype": "float64"
        },
        {
         "name": "HashRate",
         "dtype": "float64"
        },
        {
         "name": "HashRate30d",
         "dtype": "float64"
        },
        {
         "name": "IssContNtv",
         "dtype": "float64"
        },
        {
         "name": "IssContPctAnn",
         "dtype": "float64"
        },
        {
         "name": "IssContPctDay",
         "dtype": "float64"
        },
        {
         "name": "IssContUSD",
         "dtype": "float64"
        },
        {
         "name": "IssTotNtv",
         "dtype": "float64"
        },
        {
         "name": "IssTotUSD",
         "dtype": "float64"
        },
        {
         "name": "NDF",
         "dtype": "float64"
        },
        {
         "name": "NVTAdj",
         "dtype": "float64"
        },
        {
         "name": "NVTAdj90",
         "dtype": "float64"
        },
        {
         "name": "NVTAdjFF",
         "dtype": "float64"
        },
        {
         "name": "NVTAdjFF90",
         "dtype": "float64"
        },
        {
         "name": "PriceBTC",
         "dtype": "float64"
        },
        {
         "name": "PriceUSD",
         "dtype": "float64"
        },
        {
         "name": "ROI1yr",
         "dtype": "float64"
        },
        {
         "name": "ROI30d",
         "dtype": "float64"
        },
        {
         "name": "RevAllTimeUSD",
         "dtype": "float64"
        },
        {
         "name": "RevHashNtv",
         "dtype": "float64"
        },
        {
         "name": "RevHashRateNtv",
         "dtype": "float64"
        },
        {
         "name": "RevHashRateUSD",
         "dtype": "float64"
        },
        {
         "name": "RevHashUSD",
         "dtype": "float64"
        },
        {
         "name": "RevNtv",
         "dtype": "float64"
        },
        {
         "name": "RevUSD",
         "dtype": "float64"
        },
        {
         "name": "SER",
         "dtype": "float64"
        },
        {
         "name": "SplyAct10yr",
         "dtype": "float64"
        },
        {
         "name": "SplyAct180d",
         "dtype": "float64"
        },
        {
         "name": "SplyAct1d",
         "dtype": "float64"
        },
        {
         "name": "SplyAct1yr",
         "dtype": "float64"
        },
        {
         "name": "SplyAct2yr",
         "dtype": "float64"
        },
        {
         "name": "SplyAct30d",
         "dtype": "float64"
        },
        {
         "name": "SplyAct3yr",
         "dtype": "float64"
        },
        {
         "name": "SplyAct4yr",
         "dtype": "float64"
        },
        {
         "name": "SplyAct5yr",
         "dtype": "float64"
        },
        {
         "name": "SplyAct7d",
         "dtype": "float64"
        },
        {
         "name": "SplyAct90d",
         "dtype": "float64"
        },
        {
         "name": "SplyActEver",
         "dtype": "float64"
        },
        {
         "name": "SplyActPct1yr",
         "dtype": "float64"
        },
        {
         "name": "SplyAdrBal1in100K",
         "dtype": "float64"
        },
        {
         "name": "SplyAdrBal1in100M",
         "dtype": "float64"
        },
        {
         "name": "SplyAdrBal1in10B",
         "dtype": "float64"
        },
        {
         "name": "SplyAdrBal1in10K",
         "dtype": "float64"
        },
        {
         "name": "SplyAdrBal1in10M",
         "dtype": "float64"
        },
        {
         "name": "SplyAdrBal1in1B",
         "dtype": "float64"
        },
        {
         "name": "SplyAdrBal1in1K",
         "dtype": "float64"
        },
        {
         "name": "SplyAdrBal1in1M",
         "dtype": "float64"
        },
        {
         "name": "SplyAdrBalNtv0.001",
         "dtype": "float64"
        },
        {
         "name": "SplyAdrBalNtv0.01",
         "dtype": "float64"
        },
        {
         "name": "SplyAdrBalNtv0.1",
         "dtype": "float64"
        },
        {
         "name": "SplyAdrBalNtv1",
         "dtype": "float64"
        },
        {
         "name": "SplyAdrBalNtv10",
         "dtype": "float64"
        },
        {
         "name": "SplyAdrBalNtv100",
         "dtype": "float64"
        },
        {
         "name": "SplyAdrBalNtv100K",
         "dtype": "float64"
        },
        {
         "name": "SplyAdrBalNtv10K",
         "dtype": "float64"
        },
        {
         "name": "SplyAdrBalNtv1K",
         "dtype": "float64"
        },
        {
         "name": "SplyAdrBalNtv1M",
         "dtype": "float64"
        },
        {
         "name": "SplyAdrBalUSD1",
         "dtype": "float64"
        },
        {
         "name": "SplyAdrBalUSD10",
         "dtype": "float64"
        },
        {
         "name": "SplyAdrBalUSD100",
         "dtype": "float64"
        },
        {
         "name": "SplyAdrBalUSD100K",
         "dtype": "float64"
        },
        {
         "name": "SplyAdrBalUSD10K",
         "dtype": "float64"
        },
        {
         "name": "SplyAdrBalUSD10M",
         "dtype": "float64"
        },
        {
         "name": "SplyAdrBalUSD1K",
         "dtype": "float64"
        },
        {
         "name": "SplyAdrBalUSD1M",
         "dtype": "float64"
        },
        {
         "name": "SplyAdrTop100",
         "dtype": "float64"
        },
        {
         "name": "SplyAdrTop10Pct",
         "dtype": "float64"
        },
        {
         "name": "SplyAdrTop1Pct",
         "dtype": "float64"
        },
        {
         "name": "SplyCur",
         "dtype": "float64"
        },
        {
         "name": "SplyExpFut10yr",
         "dtype": "float64"
        },
        {
         "name": "SplyFF",
         "dtype": "float64"
        },
        {
         "name": "SplyMiner0HopAllNtv",
         "dtype": "float64"
        },
        {
         "name": "SplyMiner0HopAllUSD",
         "dtype": "float64"
        },
        {
         "name": "SplyMiner1HopAllNtv",
         "dtype": "float64"
        },
        {
         "name": "SplyMiner1HopAllUSD",
         "dtype": "float64"
        },
        {
         "name": "TxCnt",
         "dtype": "float64"
        },
        {
         "name": "TxCntSec",
         "dtype": "float64"
        },
        {
         "name": "TxTfrCnt",
         "dtype": "float64"
        },
        {
         "name": "TxTfrValAdjNtv",
         "dtype": "float64"
        },
        {
         "name": "TxTfrValAdjUSD",
         "dtype": "float64"
        },
        {
         "name": "TxTfrValMeanNtv",
         "dtype": "float64"
        },
        {
         "name": "TxTfrValMeanUSD",
         "dtype": "float64"
        },
        {
         "name": "TxTfrValMedNtv",
         "dtype": "float64"
        },
        {
         "name": "TxTfrValMedUSD",
         "dtype": "float64"
        },
        {
         "name": "VelCur1yr",
         "dtype": "float64"
        },
        {
         "name": "VtyDayRet180d",
         "dtype": "float64"
        },
        {
         "name": "VtyDayRet30d",
         "dtype": "float64"
        },
        {
         "name": "_deepnote_index_column",
         "dtype": "int64"
        }
       ],
       "rows_top": [
        {
         "AdrActCnt": 860,
         "AdrBal1in100KCnt": 49287,
         "AdrBal1in100MCnt": 52093,
         "AdrBal1in10BCnt": 52190,
         "AdrBal1in10KCnt": 199,
         "AdrBal1in10MCnt": 51245,
         "AdrBal1in1BCnt": 52190,
         "AdrBal1in1KCnt": 54,
         "AdrBal1in1MCnt": 51064,
         "AdrBalCnt": 52190,
         "AdrBalNtv0.001Cnt": 52190,
         "AdrBalNtv0.01Cnt": 52190,
         "AdrBalNtv0.1Cnt": 51318,
         "AdrBalNtv100Cnt": 472,
         "AdrBalNtv100KCnt": 0,
         "AdrBalNtv10Cnt": 49487,
         "AdrBalNtv10KCnt": 23,
         "AdrBalNtv1Cnt": 51215,
         "AdrBalNtv1KCnt": 117,
         "AdrBalNtv1MCnt": 0,
         "AdrBalUSD100Cnt": 102,
         "AdrBalUSD100KCnt": 0,
         "AdrBalUSD10Cnt": 382,
         "AdrBalUSD10KCnt": 0,
         "AdrBalUSD10MCnt": 0,
         "AdrBalUSD1Cnt": 49401,
         "AdrBalUSD1KCnt": 18,
         "AdrBalUSD1MCnt": 0,
         "AssetEODCompletionTime": 1614335314,
         "BlkCnt": 172,
         "BlkSizeMeanByte": 795.866279069767,
         "BlkWghtMean": 3183.4651162790697,
         "BlkWghtTot": 547556,
         "CapAct1yrUSD": 87374.77628,
         "CapMVRVCur": 146.0383322,
         "CapMVRVFF": 146.0383322,
         "CapMrktCurUSD": 295959.152,
         "CapMrktFFUSD": 295959.152,
         "CapRealUSD": 2026.5854008,
         "DiffLast": 181.5432893640505,
         "DiffMean": 181.54328936405,
         "FeeByteMeanNtv": 0.00000577,
         "FeeMeanNtv": 0.0031854838709677,
         "FeeMeanUSD": 0.0002734419354838,
         "FeeMedNtv": 0,
         "FeeMedUSD": 0,
         "FeeTotNtv": 0.79,
         "FeeTotUSD": 0.0678136,
         "FlowInExNtv": 0,
         "FlowInExUSD": 0,
         "FlowOutExNtv": 0,
         "FlowOutExUSD": 0,
         "FlowTfrFromExCnt": 0,
         "HashRate": 0.0015522253285627,
         "HashRate30d": 0.0004456770402775,
         "IssContNtv": 8600,
         "IssContPctAnn": 91.0435640118336,
         "IssContPctDay": 0.249434421950229,
         "IssContUSD": 738.224,
         "IssTotNtv": 8600,
         "IssTotUSD": 738.224,
         "NDF": 0.275588482511,
         "NVTAdj": 200.68042059,
         "NVTAdj90": "nan",
         "NVTAdjFF": 200.68042059,
         "NVTAdjFF90": "nan",
         "PriceBTC": 1,
         "PriceUSD": 0.08584,
         "ROI1yr": "nan",
         "ROI30d": "nan",
         "RevAllTimeUSD": 738.2918136000001,
         "RevHashNtv": 64.1312693,
         "RevHashRateNtv": 5540941.667253831,
         "RevHashRateUSD": 475634.43271706894,
         "RevHashUSD": 5.50502816,
         "RevNtv": 8600.79,
         "RevUSD": 738.2918136,
         "SER": 0.000049524007,
         "SplyAct10yr": 1066342.69,
         "SplyAct180d": 945678.82,
         "SplyAct1d": 45202.34,
         "SplyAct1yr": 1017879.5,
         "SplyAct2yr": 1066342.69,
         "SplyAct30d": 469147.65,
         "SplyAct3yr": 1066342.69,
         "SplyAct4yr": 1066342.69,
         "SplyAct5yr": 1066342.69,
         "SplyAct7d": 284797.68,
         "SplyAct90d": 705161.46,
         "SplyActEver": 1066342.69,
         "SplyActPct1yr": 29.52258,
         "SplyAdrBal1in100K": 3436310.71,
         "SplyAdrBal1in100M": 3447798.78,
         "SplyAdrBal1in10B": 3447800,
         "SplyAdrBal1in10K": 950173.97,
         "SplyAdrBal1in10M": 3447750.55,
         "SplyAdrBal1in1B": 3447800,
         "SplyAdrBal1in1K": 790573.72,
         "SplyAdrBal1in1M": 3447473.87,
         "SplyAdrBalNtv0.001": 3447799.99999984,
         "SplyAdrBalNtv0.01": 3447799.99999984,
         "SplyAdrBalNtv0.1": 3447760.24999999,
         "SplyAdrBalNtv1": 3447731.77999998,
         "SplyAdrBalNtv10": 3439570.98999998,
         "SplyAdrBalNtv100": 995176.110000001,
         "SplyAdrBalNtv100K": 0,
         "SplyAdrBalNtv10K": 607128.71,
         "SplyAdrBalNtv1K": 906519.38,
         "SplyAdrBalNtv1M": 0,
         "SplyAdrBalUSD1": 3438708.71,
         "SplyAdrBalUSD10": 986092.2,
         "SplyAdrBalUSD100": 891263.91,
         "SplyAdrBalUSD100K": 0,
         "SplyAdrBalUSD10K": 0,
         "SplyAdrBalUSD10M": 0,
         "SplyAdrBalUSD1K": 554356.78,
         "SplyAdrBalUSD1M": 0,
         "SplyAdrTop100": 888829.91,
         "SplyAdrTop10Pct": 1233408.23,
         "SplyAdrTop1Pct": 998505.63,
         "SplyCur": 3447800,
         "SplyExpFut10yr": 17931962.5,
         "SplyFF": 3447800,
         "SplyMiner0HopAllNtv": 2382085.55,
         "SplyMiner0HopAllUSD": 204478.223612,
         "SplyMiner1HopAllNtv": 3119011.46,
         "SplyMiner1HopAllUSD": 267735.9437264,
         "TxCnt": 248,
         "TxCntSec": 0.0028703703703703,
         "TxTfrCnt": 396,
         "TxTfrValAdjNtv": 17180.55,
         "TxTfrValAdjUSD": 1474.778412,
         "TxTfrValMeanNtv": 48.7837373737374,
         "TxTfrValMeanUSD": 4.187596016161619,
         "TxTfrValMedNtv": 1.85,
         "TxTfrValMedUSD": 0.158804,
         "VelCur1yr": 1.82056545333256,
         "VtyDayRet180d": "nan",
         "VtyDayRet30d": "nan",
         "_deepnote_index_column": 0
        },
        {
         "AdrActCnt": 929,
         "AdrBal1in100KCnt": 49297,
         "AdrBal1in100MCnt": 52208,
         "AdrBal1in10BCnt": 52311,
         "AdrBal1in10KCnt": 207,
         "AdrBal1in10MCnt": 51276,
         "AdrBal1in1BCnt": 52311,
         "AdrBal1in1KCnt": 54,
         "AdrBal1in1MCnt": 51085,
         "AdrBalCnt": 52311,
         "AdrBalNtv0.001Cnt": 52311,
         "AdrBalNtv0.01Cnt": 52311,
         "AdrBalNtv0.1Cnt": 51351,
         "AdrBalNtv100Cnt": 503,
         "AdrBalNtv100KCnt": 0,
         "AdrBalNtv10Cnt": 49503,
         "AdrBalNtv10KCnt": 23,
         "AdrBalNtv1Cnt": 51248,
         "AdrBalNtv1KCnt": 119,
         "AdrBalNtv1MCnt": 0,
         "AdrBalUSD100Cnt": 103,
         "AdrBalUSD100KCnt": 0,
         "AdrBalUSD10Cnt": 400,
         "AdrBalUSD10KCnt": 0,
         "AdrBalUSD10MCnt": 0,
         "AdrBalUSD1Cnt": 49409,
         "AdrBalUSD1KCnt": 19,
         "AdrBalUSD1MCnt": 0,
         "AssetEODCompletionTime": 1614335314,
         "BlkCnt": 174,
         "BlkSizeMeanByte": 800.310344827586,
         "BlkWghtMean": 3201.2413793103447,
         "BlkWghtTot": 557016,
         "CapAct1yrUSD": 83085.000568,
         "CapMVRVCur": 62.56512971,
         "CapMVRVFF": 62.56512971,
         "CapMrktCurUSD": 279285.2,
         "CapMrktFFUSD": 279285.2,
         "CapRealUSD": 4463.911468,
         "DiffLast": 181.5432893640505,
         "DiffMean": 181.54328936405,
         "FeeByteMeanNtv": 3.6e-7,
         "FeeMeanNtv": 0.0001497005988023,
         "FeeMeanUSD": 0.000012095808383233517,
         "FeeMedNtv": 0,
         "FeeMedUSD": 0,
         "FeeTotNtv": 0.05,
         "FeeTotUSD": 0.00404,
         "FlowInExNtv": 0,
         "FlowInExUSD": 0,
         "FlowOutExNtv": 0,
         "FlowOutExUSD": 0,
         "FlowTfrFromExCnt": 0,
         "HashRate": 0.0015702744602902,
         "HashRate30d": 0.0004936993299727,
         "IssContNtv": 8700,
         "IssContPctAnn": 91.8703891219442,
         "IssContPctDay": 0.251699696224505,
         "IssContUSD": 702.96,
         "IssTotNtv": 8700,
         "IssTotUSD": 702.96,
         "NDF": 0.276687539418,
         "NVTAdj": 85.8891559,
         "NVTAdj90": "nan",
         "NVTAdjFF": 85.8891559,
         "NVTAdjFF90": "nan",
         "PriceBTC": 1,
         "PriceUSD": 0.0808,
         "ROI1yr": "nan",
         "ROI30d": "nan",
         "RevAllTimeUSD": 1441.2558536,
         "RevHashNtv": 64.12574725,
         "RevHashRateNtv": 5540464.562094551,
         "RevHashRateUSD": 447669.5366172397,
         "RevHashUSD": 5.18136038,
         "RevNtv": 8700.05,
         "RevUSD": 702.96404,
         "SER": 0.000053910839,
         "SplyAct10yr": 1076742.9,
         "SplyAct180d": 956079.03,
         "SplyAct1d": 39959.37,
         "SplyAct1yr": 1028279.71,
         "SplyAct2yr": 1076742.9,
         "SplyAct30d": 478922.86,
         "SplyAct3yr": 1076742.9,
         "SplyAct4yr": 1076742.9,
         "SplyAct5yr": 1076742.9,
         "SplyAct7d": 288640.7,
         "SplyAct90d": 714807.07,
         "SplyActEver": 1076742.9,
         "SplyActPct1yr": 29.74916,
         "SplyAdrBal1in100K": 3444906.71,
         "SplyAdrBal1in100M": 3456498.74,
         "SplyAdrBal1in10B": 3456500,
         "SplyAdrBal1in10K": 956370.48,
         "SplyAdrBal1in10M": 3456445.74,
         "SplyAdrBal1in1B": 3456500,
         "SplyAdrBal1in1K": 787563.72,
         "SplyAdrBal1in1M": 3456147.86,
         "SplyAdrBalNtv0.001": 3456499.99999982,
         "SplyAdrBalNtv0.01": 3456499.99999982,
         "SplyAdrBalNtv0.1": 3456456.08999999,
         "SplyAdrBalNtv1": 3456427.71999998,
         "SplyAdrBalNtv10": 3448219.00999999,
         "SplyAdrBalNtv100": 1004792.01,
         "SplyAdrBalNtv100K": 0,
         "SplyAdrBalNtv10K": 600278.71,
         "SplyAdrBalNtv1K": 908421.45,
         "SplyAdrBalNtv1M": 0,
         "SplyAdrBalUSD1": 3447271.73,
         "SplyAdrBalUSD10": 994389.08,
         "SplyAdrBalUSD100": 891732.43,
         "SplyAdrBalUSD100K": 0,
         "SplyAdrBalUSD10K": 0,
         "SplyAdrBalUSD10M": 0,
         "SplyAdrBalUSD1K": 559006.78,
         "SplyAdrBalUSD1M": 0,
         "SplyAdrTop100": 887733.04,
         "SplyAdrTop10Pct": 1242146.56,
         "SplyAdrTop1Pct": 1006476.63,
         "SplyCur": 3456500,
         "SplyExpFut10yr": 17934137.5,
         "SplyFF": 3456500,
         "SplyMiner0HopAllNtv": 2380385.34,
         "SplyMiner0HopAllUSD": 192335.135472,
         "SplyMiner1HopAllNtv": 3124984.49,
         "SplyMiner1HopAllUSD": 252498.746792,
         "TxCnt": 334,
         "TxCntSec": 0.0038657407407407,
         "TxTfrCnt": 512,
         "TxTfrValAdjNtv": 40243.73,
         "TxTfrValAdjUSD": 3251.693384,
         "TxTfrValMeanNtv": 86.95115234375,
         "TxTfrValMeanUSD": 7.025653109375,
         "TxTfrValMedNtv": 2.625,
         "TxTfrValMedUSD": 0.2121,
         "VelCur1yr": 1.82886288442066,
         "VtyDayRet180d": "nan",
         "VtyDayRet30d": "nan",
         "_deepnote_index_column": 1
        },
        {
         "AdrActCnt": 936,
         "AdrBal1in100KCnt": 49367,
         "AdrBal1in100MCnt": 52344,
         "AdrBal1in10BCnt": 52456,
         "AdrBal1in10KCnt": 213,
         "AdrBal1in10MCnt": 51353,
         "AdrBal1in1BCnt": 52456,
         "AdrBal1in1KCnt": 54,
         "AdrBal1in1MCnt": 51157,
         "AdrBalCnt": 52456,
         "AdrBalNtv0.001Cnt": 52456,
         "AdrBalNtv0.01Cnt": 52456,
         "AdrBalNtv0.1Cnt": 51434,
         "AdrBalNtv100Cnt": 515,
         "AdrBalNtv100KCnt": 0,
         "AdrBalNtv10Cnt": 49582,
         "AdrBalNtv10KCnt": 23,
         "AdrBalNtv1Cnt": 51325,
         "AdrBalNtv1KCnt": 122,
         "AdrBalNtv1MCnt": 0,
         "AdrBalUSD100Cnt": 101,
         "AdrBalUSD100KCnt": 0,
         "AdrBalUSD10Cnt": 412,
         "AdrBalUSD10KCnt": 0,
         "AdrBalUSD10MCnt": 0,
         "AdrBalUSD1Cnt": 49480,
         "AdrBalUSD1KCnt": 17,
         "AdrBalUSD1MCnt": 0,
         "AssetEODCompletionTime": 1614335315,
         "BlkCnt": 181,
         "BlkSizeMeanByte": 1090.74585635359,
         "BlkWghtMean": 4362.983425414364,
         "BlkWghtTot": 789700,
         "CapAct1yrUSD": 77335.02400926371,
         "CapMVRVCur": 45.10663005,
         "CapMVRVFF": 45.10663005,
         "CapMrktCurUSD": 259000.4049898304,
         "CapMrktFFUSD": 259000.4049898304,
         "CapRealUSD": 5741.958659503728,
         "DiffLast": 181.5432893640505,
         "DiffMean": 181.54328936405,
         "FeeByteMeanNtv": 0,
         "FeeMeanNtv": 0,
         "FeeMeanUSD": 0,
         "FeeMedNtv": 0,
         "FeeMedUSD": 0,
         "FeeTotNtv": 0,
         "FeeTotUSD": 0,
         "FlowInExNtv": 0,
         "FlowInExUSD": 0,
         "FlowOutExNtv": 0,
         "FlowOutExUSD": 0,
         "FlowTfrFromExCnt": 0,
         "HashRate": 0.0016334464213363,
         "HashRate30d": 0.0005428193068293,
         "IssContNtv": 9050,
         "IssContPctAnn": 95.3167606873368,
         "IssContPctDay": 0.261141810102293,
         "IssContUSD": 676.3583457627117,
         "IssTotNtv": 9050,
         "IssTotUSD": 676.3583457627117,
         "NDF": 0.277178081401,
         "NVTAdj": 215.74428057,
         "NVTAdj90": "nan",
         "NVTAdjFF": 215.74428057,
         "NVTAdjFF90": "nan",
         "PriceBTC": 1,
         "PriceUSD": 0.0747357288135593,
         "ROI1yr": "nan",
         "ROI30d": "nan",
         "RevAllTimeUSD": 2117.614199362712,
         "RevHashNtv": 64.12537871,
         "RevHashRateNtv": 5540432.720527183,
         "RevHashRateUSD": 414068.2773110903,
         "RevHashUSD": 4.79245691,
         "RevNtv": 9050,
         "RevUSD": 676.3583457627117,
         "SER": 0.000057269173,
         "SplyAct10yr": 1083243.01,
         "SplyAct180d": 962579.14,
         "SplyAct1d": 40439.91,
         "SplyAct1yr": 1034779.82,
         "SplyAct2yr": 1083243.01,
         "SplyAct30d": 445805.2,
         "SplyAct3yr": 1083243.01,
         "SplyAct4yr": 1083243.01,
         "SplyAct5yr": 1083243.01,
         "SplyAct7d": 216957.73,
         "SplyAct90d": 716407.18,
         "SplyActEver": 1083243.01,
         "SplyActPct1yr": 29.859036,
         "SplyAdrBal1in100K": 3453853.08,
         "SplyAdrBal1in100M": 3465548.64,
         "SplyAdrBal1in10B": 3465550,
         "SplyAdrBal1in10K": 960574.5,
         "SplyAdrBal1in10M": 3465492.06,
         "SplyAdrBal1in1B": 3465550,
         "SplyAdrBal1in1K": 787513.72,
         "SplyAdrBal1in1M": 3465189.86,
         "SplyAdrBalNtv0.001": 3465549.99999981,
         "SplyAdrBalNtv0.01": 3465549.99999981,
         "SplyAdrBalNtv0.1": 3465503.35999999,
         "SplyAdrBalNtv1": 3465473.53999998,
         "SplyAdrBalNtv10": 3457301.59999999,
         "SplyAdrBalNtv100": 1010874.95,
         "SplyAdrBalNtv100K": 0,
         "SplyAdrBalNtv10K": 600528.71,
         "SplyAdrBalNtv1K": 910722.43,
         "SplyAdrBalNtv1M": 0,
         "SplyAdrBalUSD1": 3456259.58,
         "SplyAdrBalUSD10": 1000396.17,
         "SplyAdrBalUSD100": 888532.43,
         "SplyAdrBalUSD100K": 0,
         "SplyAdrBalUSD10K": 0,
         "SplyAdrBalUSD10M": 0,
         "SplyAdrBalUSD1K": 533953.38,
         "SplyAdrBalUSD1M": 0,
         "SplyAdrTop100": 887183.04,
         "SplyAdrTop10Pct": 1248322.86,
         "SplyAdrTop1Pct": 1011713.58,
         "SplyCur": 3465550,
         "SplyExpFut10yr": 17936400,
         "SplyFF": 3465550,
         "SplyMiner0HopAllNtv": 2382935.23,
         "SplyMiner0HopAllUSD": 178090.40112955656,
         "SplyMiner1HopAllNtv": 3132645.14,
         "SplyMiner1HopAllUSD": 234120.5176521545,
         "TxCnt": 423,
         "TxCntSec": 0.0048958333333333,
         "TxTfrCnt": 738,
         "TxTfrValAdjNtv": 16063.23,
         "TxTfrValAdjUSD": 1200.49720114983,
         "TxTfrValMeanNtv": 42.5288346883469,
         "TxTfrValMeanUSD": 3.1784234560249875,
         "TxTfrValMedNtv": 1.375,
         "TxTfrValMedUSD": 0.102761627118644,
         "VelCur1yr": 1.83141228376448,
         "VtyDayRet180d": "nan",
         "VtyDayRet30d": "nan",
         "_deepnote_index_column": 2
        }
       ],
       "rows_bottom": [
        {
         "AdrActCnt": 819880,
         "AdrBal1in100KCnt": 9338,
         "AdrBal1in100MCnt": 2247669,
         "AdrBal1in10BCnt": 15911798,
         "AdrBal1in10KCnt": 1063,
         "AdrBal1in10MCnt": 471889,
         "AdrBal1in1BCnt": 6802337,
         "AdrBal1in1KCnt": 44,
         "AdrBal1in1MCnt": 99364,
         "AdrBalCnt": 38416290,
         "AdrBalNtv0.001Cnt": 18790582,
         "AdrBalNtv0.01Cnt": 9129920,
         "AdrBalNtv0.1Cnt": 3236574,
         "AdrBalNtv100Cnt": 15929,
         "AdrBalNtv100KCnt": 3,
         "AdrBalNtv10Cnt": 146937,
         "AdrBalNtv10KCnt": 83,
         "AdrBalNtv1Cnt": 808788,
         "AdrBalNtv1KCnt": 2142,
         "AdrBalNtv1MCnt": 0,
         "AdrBalUSD100Cnt": 15434272,
         "AdrBalUSD100KCnt": 407606,
         "AdrBalUSD10Cnt": 25120028,
         "AdrBalUSD10KCnt": 2094071,
         "AdrBalUSD10MCnt": 8219,
         "AdrBalUSD1Cnt": 33585208,
         "AdrBalUSD1KCnt": 6471645,
         "AdrBalUSD1MCnt": 91821,
         "AssetEODCompletionTime": 1632026632,
         "BlkCnt": 155,
         "BlkSizeMeanByte": 951148.2064516128,
         "BlkWghtMean": 2633539.4,
         "BlkWghtTot": 408198607,
         "CapAct1yrUSD": 415244472502.234,
         "CapMVRVCur": 2.290426705637,
         "CapMVRVFF": 1.76657328241,
         "CapMrktCurUSD": 907181161197.6664,
         "CapMrktFFUSD": 699695824246.5549,
         "CapRealUSD": 396075176282.6403,
         "DiffLast": 18415156832118.24,
         "DiffMean": 18415156832118.24,
         "FeeByteMeanNtv": 7.8436e-8,
         "FeeMeanNtv": 0.00005074,
         "FeeMeanUSD": 2.445871652700344,
         "FeeMedNtv": 0.00001184,
         "FeeMedUSD": 0.5707355216391815,
         "FeeTotNtv": 11.56360522,
         "FeeTotUSD": 557412.1838907317,
         "FlowInExNtv": 9209.67256611,
         "FlowInExUSD": 443943182.1068286,
         "FlowOutExNtv": 10201.98221354,
         "FlowOutExUSD": 491776489.89851385,
         "FlowTfrFromExCnt": 19315,
         "HashRate": 141890473.9129272,
         "HashRate30d": 132300137.79978076,
         "IssContNtv": 968.75,
         "IssContPctAnn": 1.878857137,
         "IssContPctDay": 0.0051475538,
         "IssContUSD": 46697638.22533421,
         "IssTotNtv": 968.75,
         "IssTotUSD": 46697638.22533421,
         "NDF": 0.352744031895,
         "NVTAdj": 112.784175278721,
         "NVTAdj90": 104.90536304813357,
         "NVTAdjFF": 86.988817514055,
         "NVTAdjFF90": 80.91200259156871,
         "PriceBTC": 1,
         "PriceUSD": 48204.0136519579,
         "ROI1yr": 341.4241349040646,
         "ROI30d": 3.3381713083187097,
         "RevAllTimeUSD": 32499413214.3683,
         "RevHashNtv": 8e-11,
         "RevHashRateNtv": 0.000006908946,
         "RevHashRateUSD": 0.333038921543,
         "RevHashUSD": 0.000003854617,
         "RevNtv": 980.31360522,
         "RevUSD": 47255050.40922495,
         "SER": 0.081449489387,
         "SplyAct10yr": 16446246.99033001,
         "SplyAct180d": 5107601.5843834,
         "SplyAct1d": 237957.93720987,
         "SplyAct1yr": 8614313.22919244,
         "SplyAct2yr": 10245216.70517817,
         "SplyAct30d": 1314703.51653843,
         "SplyAct3yr": 12188119.05817377,
         "SplyAct4yr": 13734562.91901642,
         "SplyAct5yr": 14499052.57891092,
         "SplyAct7d": 589784.38127262,
         "SplyAct90d": 2986850.20125385,
         "SplyActEver": 17044733.5883474,
         "SplyActPct1yr": 45.7730484564,
         "SplyAdrBal1in100K": 11063712.73190908,
         "SplyAdrBal1in100M": 18455675.29812294,
         "SplyAdrBal1in10B": 18809061.46722854,
         "SplyAdrBal1in10K": 6638508.21158821,
         "SplyAdrBal1in10M": 17415701.20298945,
         "SplyAdrBal1in1B": 18746389.37957949,
         "SplyAdrBal1in1K": 2213137.66083632,
         "SplyAdrBal1in1M": 15526128.77769599,
         "SplyAdrBalNtv0.001": 18812931.99273093,
         "SplyAdrBalNtv0.01": 18776176.3921225,
         "SplyAdrBalNtv0.1": 18584895.48203212,
         "SplyAdrBalNtv1": 17827501.33169423,
         "SplyAdrBalNtv10": 16132900.70412668,
         "SplyAdrBalNtv100": 11881430.58212922,
         "SplyAdrBalNtv100K": 577610.78662216,
         "SplyAdrBalNtv10K": 2689191.7790307,
         "SplyAdrBalNtv1K": 7949360.47647731,
         "SplyAdrBalNtv1M": 0,
         "SplyAdrBalUSD1": 18816957.98854529,
         "SplyAdrBalUSD10": 18816213.2884422,
         "SplyAdrBalUSD100": 18808114.99631075,
         "SplyAdrBalUSD100K": 17287771.40315917,
         "SplyAdrBalUSD10K": 18425219.36014804,
         "SplyAdrBalUSD10M": 10841212.1641614,
         "SplyAdrBalUSD1K": 18739835.76471186,
         "SplyAdrBalUSD1M": 15376440.61642257,
         "SplyAdrTop100": 2857562.842585,
         "SplyAdrTop10Pct": 18637110.13475066,
         "SplyAdrTop1Pct": 17236665.32558172,
         "SplyCur": 18819618.79248658,
         "SplyExpFut10yr": 20619956.25,
         "SplyFF": 14515302.17584144,
         "SplyMiner0HopAllNtv": 1797441.83775088,
         "SplyMiner0HopAllUSD": 86643910885.54372,
         "SplyMiner1HopAllNtv": 2690384.59728972,
         "SplyMiner1HopAllUSD": 129687335856.77092,
         "TxCnt": 227894,
         "TxCntSec": 2.637662037037,
         "TxTfrCnt": 670401,
         "TxTfrValAdjNtv": 166864.00149647,
         "TxTfrValAdjUSD": 8043514606.156163,
         "TxTfrValMeanNtv": 0.610503033899,
         "TxTfrValMeanUSD": 29428.696580629112,
         "TxTfrValMedNtv": 0.00258,
         "TxTfrValMedUSD": 124.36635522205138,
         "VelCur1yr": 13.203983605615,
         "VtyDayRet180d": 0.0401045953802875,
         "VtyDayRet30d": 0.0329256447767092,
         "_deepnote_index_column": 4080
        },
        {
         "AdrActCnt": 714326,
         "AdrBal1in100KCnt": 9336,
         "AdrBal1in100MCnt": 2248051,
         "AdrBal1in10BCnt": 15932651,
         "AdrBal1in10KCnt": 1063,
         "AdrBal1in10MCnt": 472008,
         "AdrBal1in1BCnt": 6804772,
         "AdrBal1in1KCnt": 44,
         "AdrBal1in1MCnt": 99370,
         "AdrBalCnt": 38437441,
         "AdrBalNtv0.001Cnt": 18816254,
         "AdrBalNtv0.01Cnt": 9135378,
         "AdrBalNtv0.1Cnt": 3237334,
         "AdrBalNtv100Cnt": 15925,
         "AdrBalNtv100KCnt": 3,
         "AdrBalNtv10Cnt": 146966,
         "AdrBalNtv10KCnt": 83,
         "AdrBalNtv1Cnt": 808984,
         "AdrBalNtv1KCnt": 2142,
         "AdrBalNtv1MCnt": 0,
         "AdrBalUSD100Cnt": 15351619,
         "AdrBalUSD100KCnt": 401866,
         "AdrBalUSD10Cnt": 25048257,
         "AdrBalUSD10KCnt": 2068845,
         "AdrBalUSD10MCnt": 8119,
         "AdrBalUSD1Cnt": 33565612,
         "AdrBalUSD1KCnt": 6416533,
         "AdrBalUSD1MCnt": 90677,
         "AssetEODCompletionTime": 1632113746,
         "BlkCnt": 160,
         "BlkSizeMeanByte": 777341.09375,
         "BlkWghtMean": 2185420.30625,
         "BlkWghtTot": 349667249,
         "CapAct1yrUSD": 406708550944.3637,
         "CapMVRVCur": 2.242941684172,
         "CapMVRVFF": 1.729997591435,
         "CapMrktCurUSD": 888680899050.9407,
         "CapMrktFFUSD": 685446182467.4161,
         "CapRealUSD": 396212217786.2665,
         "DiffLast": 18415156832118.24,
         "DiffMean": 18415156832118.24,
         "FeeByteMeanNtv": 6.6395e-8,
         "FeeMeanNtv": 0.00004137,
         "FeeMeanUSD": 1.953428269234928,
         "FeeMedNtv": 0.0000098,
         "FeeMedUSD": 0.4627410451656343,
         "FeeTotNtv": 8.25785104,
         "FeeTotUSD": 389923.1245991552,
         "FlowInExNtv": 8733.31941377,
         "FlowInExUSD": 412374015.6421689,
         "FlowOutExNtv": 9664.05774311,
         "FlowOutExUSD": 456322059.2436493,
         "FlowTfrFromExCnt": 17895,
         "HashRate": 146467585.67697462,
         "HashRate30d": 133058136.72332,
         "IssContNtv": 1000,
         "IssContPctAnn": 1.939362384,
         "IssContPctDay": 0.0053133216,
         "IssContUSD": 47218473.9964933,
         "IssTotNtv": 1000,
         "IssTotUSD": 47218473.9964933,
         "NDF": 0.352768571351,
         "NVTAdj": 199.141284450597,
         "NVTAdj90": 103.89660665723108,
         "NVTAdjFF": 153.59915279387,
         "NVTAdjFF90": 80.13622491557071,
         "PriceBTC": 1,
         "PriceUSD": 47218.4739964933,
         "ROI1yr": 326.39889834034744,
         "ROI30d": -4.107082228747685,
         "RevAllTimeUSD": 32546668264.777527,
         "RevHashNtv": 8e-11,
         "RevHashRateNtv": 0.000006883829,
         "RevHashRateUSD": 0.325043912624,
         "RevHashUSD": 0.000003762082,
         "RevNtv": 1008.25785104,
         "RevUSD": 47608397.12109245,
         "SER": 0.081468274995,
         "SplyAct10yr": 16446663.22445223,
         "SplyAct180d": 5099419.80112465,
         "SplyAct1d": 176061.74138093,
         "SplyAct1yr": 8613335.34358963,
         "SplyAct2yr": 10245311.97238835,
         "SplyAct30d": 1308157.01395057,
         "SplyAct3yr": 12188594.19910676,
         "SplyAct4yr": 13733201.2276784,
         "SplyAct5yr": 14499500.86038569,
         "SplyAct7d": 592751.53929447,
         "SplyAct90d": 2987809.36940484,
         "SplyActEver": 17045567.94453058,
         "SplyActPct1yr": 45.7654205664,
         "SplyAdrBal1in100K": 11063573.5205817,
         "SplyAdrBal1in100M": 18456488.52933487,
         "SplyAdrBal1in10B": 18810066.43490007,
         "SplyAdrBal1in10K": 6639322.80337403,
         "SplyAdrBal1in10M": 17416310.53915815,
         "SplyAdrBal1in1B": 18747295.01005639,
         "SplyAdrBal1in1K": 2214866.63087018,
         "SplyAdrBal1in1M": 15526240.45476324,
         "SplyAdrBalNtv0.001": 18813942.68649704,
         "SplyAdrBalNtv0.01": 18777120.3378769,
         "SplyAdrBalNtv0.1": 18585749.54541049,
         "SplyAdrBalNtv1": 17828216.84117319,
         "SplyAdrBalNtv10": 16133206.32566745,
         "SplyAdrBalNtv100": 11881087.63701279,
         "SplyAdrBalNtv100K": 577610.78662216,
         "SplyAdrBalNtv10K": 2690920.74906456,
         "SplyAdrBalNtv1K": 7950466.56276054,
         "SplyAdrBalNtv1M": 0,
         "SplyAdrBalUSD1": 18817957.15534991,
         "SplyAdrBalUSD10": 18817194.88901821,
         "SplyAdrBalUSD100": 18808903.1287493,
         "SplyAdrBalUSD100K": 17276094.83145439,
         "SplyAdrBalUSD10K": 18420662.94614187,
         "SplyAdrBalUSD10M": 10820490.55912655,
         "SplyAdrBalUSD1K": 18739535.13836571,
         "SplyAdrBalUSD1M": 15352424.83896796,
         "SplyAdrTop100": 2859291.81261886,
         "SplyAdrTop10Pct": 18638059.53949906,
         "SplyAdrTop1Pct": 17237486.04491525,
         "SplyCur": 18820618.79248658,
         "SplyExpFut10yr": 20620206.25,
         "SplyFF": 14516483.15695931,
         "SplyMiner0HopAllNtv": 1797657.24112905,
         "SplyMiner0HopAllUSD": 84882631694.85994,
         "SplyMiner1HopAllNtv": 2691193.74599387,
         "SplyMiner1HopAllUSD": 127074061914.73694,
         "TxCnt": 199632,
         "TxCntSec": 2.310555555556,
         "TxTfrCnt": 589280,
         "TxTfrValAdjNtv": 94508.87516574,
         "TxTfrValAdjUSD": 4462564864.451325,
         "TxTfrValMeanNtv": 0.46009172708,
         "TxTfrValMeanUSD": 21724.82925112867,
         "TxTfrValMedNtv": 0.00238991,
         "TxTfrValMedUSD": 112.84790318895932,
         "VelCur1yr": 13.206156514769,
         "VtyDayRet180d": 0.0401316819212072,
         "VtyDayRet30d": 0.0315759384418523,
         "_deepnote_index_column": 4081
        },
        {
         "AdrActCnt": 1014971,
         "AdrBal1in100KCnt": 9323,
         "AdrBal1in100MCnt": 2249147,
         "AdrBal1in10BCnt": 15916017,
         "AdrBal1in10KCnt": 1063,
         "AdrBal1in10MCnt": 471974,
         "AdrBal1in1BCnt": 6807912,
         "AdrBal1in1KCnt": 44,
         "AdrBal1in1MCnt": 99365,
         "AdrBalCnt": 38355678,
         "AdrBalNtv0.001Cnt": 18784844,
         "AdrBalNtv0.01Cnt": 9135770,
         "AdrBalNtv0.1Cnt": 3239395,
         "AdrBalNtv100Cnt": 15914,
         "AdrBalNtv100KCnt": 3,
         "AdrBalNtv10Cnt": 147015,
         "AdrBalNtv10KCnt": 83,
         "AdrBalNtv1Cnt": 809119,
         "AdrBalNtv1KCnt": 2140,
         "AdrBalNtv1MCnt": 0,
         "AdrBalUSD100Cnt": 14953888,
         "AdrBalUSD100KCnt": 381622,
         "AdrBalUSD10Cnt": 24617974,
         "AdrBalUSD10KCnt": 1971731,
         "AdrBalUSD10MCnt": 7646,
         "AdrBalUSD1Cnt": 33287311,
         "AdrBalUSD1KCnt": 6196018,
         "AdrBalUSD1MCnt": 87307,
         "AssetEODCompletionTime": 1632198587,
         "BlkCnt": 164,
         "BlkSizeMeanByte": 1224374.530487805,
         "BlkWghtMean": 3283710.35365854,
         "BlkWghtTot": 538528498,
         "CapAct1yrUSD": 369058449170.8229,
         "CapMVRVCur": 2.040586287582,
         "CapMVRVFF": 1.573904692001,
         "CapMrktCurUSD": 806611150255.1008,
         "CapMrktFFUSD": 622139373244.1906,
         "CapRealUSD": 395284019677.9331,
         "DiffLast": 18415156832118.24,
         "DiffMean": 18415156832118.24,
         "FeeByteMeanNtv": 7.0512e-8,
         "FeeMeanNtv": 0.00005179,
         "FeeMeanUSD": 2.219486880758621,
         "FeeMedNtv": 0.00001309,
         "FeeMedUSD": 0.5609786304137933,
         "FeeTotNtv": 14.15860665,
         "FeeTotUSD": 606774.3137574198,
         "FlowInExNtv": 28511.99767844,
         "FlowInExUSD": 1221896211.460086,
         "FlowOutExNtv": 21087.38716269,
         "FlowOutExUSD": 2219092527.80144,
         "FlowTfrFromExCnt": 29043,
         "HashRate": 150129275.61549583,
         "HashRate30d": 133680426.08649176,
         "IssContNtv": 1025,
         "IssContPctAnn": 1.98773817,
         "IssContPctDay": 0.005445858,
         "IssContUSD": 43926898.10344829,
         "IssTotNtv": 1025,
         "IssTotUSD": 43926898.10344829,
         "NDF": 0.352921841195,
         "NVTAdj": 43.654033174034,
         "NVTAdj90": 93.44362066579788,
         "NVTAdjFF": 33.670366235187,
         "NVTAdjFF90": 72.07308698410812,
         "PriceBTC": 1,
         "PriceUSD": 42855.5103448276,
         "ROI1yr": 292.40595648864013,
         "ROI30d": -12.664968629643292,
         "RevAllTimeUSD": 32594276661.89862,
         "RevHashNtv": 8e-11,
         "RevHashRateNtv": 0.000006921759,
         "RevHashRateUSD": 0.296635497871,
         "RevHashUSD": 0.000003433281,
         "RevNtv": 1039.15860665,
         "RevUSD": 44533672.417205706,
         "SER": 0.081521715216,
         "SplyAct10yr": 16447399.07422662,
         "SplyAct180d": 5081419.72710755,
         "SplyAct1d": 300638.10296769,
         "SplyAct1yr": 8611691.85015588,
         "SplyAct2yr": 10245261.30534349,
         "SplyAct30d": 1316614.42334708,
         "SplyAct3yr": 12189725.31229063,
         "SplyAct4yr": 13731526.58625946,
         "SplyAct5yr": 14500039.47839064,
         "SplyAct7d": 627921.60512491,
         "SplyAct90d": 2984371.20417396,
         "SplyActEver": 17046565.12003177,
         "SplyActPct1yr": 45.7541963131,
         "SplyAdrBal1in100K": 11063579.40163536,
         "SplyAdrBal1in100M": 18457416.49079327,
         "SplyAdrBal1in10B": 18811142.88728464,
         "SplyAdrBal1in10K": 6642569.18154839,
         "SplyAdrBal1in10M": 17416543.71756421,
         "SplyAdrBal1in1B": 18748454.04938048,
         "SplyAdrBal1in1K": 2212652.15827047,
         "SplyAdrBal1in1M": 15526149.13766922,
         "SplyAdrBalNtv0.001": 18815000.17103634,
         "SplyAdrBalNtv0.01": 18778251.75964708,
         "SplyAdrBalNtv0.1": 18586804.61982349,
         "SplyAdrBalNtv1": 17828688.40568848,
         "SplyAdrBalNtv10": 16133545.73423005,
         "SplyAdrBalNtv100": 11881518.43505547,
         "SplyAdrBalNtv100K": 577610.78662216,
         "SplyAdrBalNtv10K": 2689534.05796139,
         "SplyAdrBalNtv1K": 7952664.22291421,
         "SplyAdrBalNtv1M": 0,
         "SplyAdrBalUSD1": 18818977.80194146,
         "SplyAdrBalUSD10": 18818142.30388125,
         "SplyAdrBalUSD100": 18809131.14750656,
         "SplyAdrBalUSD100K": 17231410.59024353,
         "SplyAdrBalUSD10K": 18399762.86711552,
         "SplyAdrBalUSD10M": 10718168.12572011,
         "SplyAdrBalUSD1K": 18735720.60816218,
         "SplyAdrBalUSD1M": 15277372.01576862,
         "SplyAdrTop100": 2857905.12151569,
         "SplyAdrTop10Pct": 18638396.56584695,
         "SplyAdrTop1Pct": 17235899.30830718,
         "SplyCur": 18821643.79247566,
         "SplyExpFut10yr": 20620462.5,
         "SplyFF": 14517138.3618648,
         "SplyMiner0HopAllNtv": 1797753.64501015,
         "SplyMiner0HopAllUSD": 77043649931.184,
         "SplyMiner1HopAllNtv": 2692456.23524592,
         "SplyMiner1HopAllUSD": 115386586042.5771,
         "TxCnt": 273371,
         "TxCntSec": 3.164016203704,
         "TxTfrCnt": 776709,
         "TxTfrValAdjNtv": 431154.75075213,
         "TxTfrValAdjUSD": 18477356881.07947,
         "TxTfrValMeanNtv": 1.667029603111,
         "TxTfrValMeanUSD": 71441.40440125731,
         "TxTfrValMedNtv": 0.00352086,
         "TxTfrValMedUSD": 150.88825215268972,
         "VelCur1yr": 13.203028334813,
         "VtyDayRet180d": 0.0406800916930066,
         "VtyDayRet30d": 0.0360789169502925,
         "_deepnote_index_column": 4082
        },
        {
         "AdrActCnt": 844883,
         "AdrBal1in100KCnt": 9330,
         "AdrBal1in100MCnt": 2250262,
         "AdrBal1in10BCnt": 15922863,
         "AdrBal1in10KCnt": 1063,
         "AdrBal1in10MCnt": 472333,
         "AdrBal1in1BCnt": 6811336,
         "AdrBal1in1KCnt": 44,
         "AdrBal1in1MCnt": 99366,
         "AdrBalCnt": 38369405,
         "AdrBalNtv0.001Cnt": 18792888,
         "AdrBalNtv0.01Cnt": 9141321,
         "AdrBalNtv0.1Cnt": 3241354,
         "AdrBalNtv100Cnt": 15906,
         "AdrBalNtv100KCnt": 3,
         "AdrBalNtv10Cnt": 147066,
         "AdrBalNtv10KCnt": 83,
         "AdrBalNtv1Cnt": 809676,
         "AdrBalNtv1KCnt": 2138,
         "AdrBalNtv1MCnt": 0,
         "AdrBalUSD100Cnt": 14756105,
         "AdrBalUSD100KCnt": 371679,
         "AdrBalUSD10Cnt": 24441717,
         "AdrBalUSD10KCnt": 1919579,
         "AdrBalUSD10MCnt": 7434,
         "AdrBalUSD1Cnt": 33208452,
         "AdrBalUSD1KCnt": 6072883,
         "AdrBalUSD1MCnt": 85422,
         "AssetEODCompletionTime": 1632281054,
         "BlkCnt": 123,
         "BlkSizeMeanByte": 1218667.4552845529,
         "BlkWghtMean": 3374234.2601626,
         "BlkWghtTot": 415030814,
         "CapAct1yrUSD": 348952649130.3794,
         "CapMVRVCur": 1.933233183973,
         "CapMVRVFF": 1.491091132977,
         "CapMrktCurUSD": 762806301935.1322,
         "CapMrktFFUSD": 588347914997.61,
         "CapRealUSD": 394575423316.2143,
         "DiffLast": 18997641161758.95,
         "DiffMean": 18656674724896.094,
         "FeeByteMeanNtv": 9.8085e-8,
         "FeeMeanNtv": 0.00005977,
         "FeeMeanUSD": 2.422268270009246,
         "FeeMedNtv": 0.00001494,
         "FeeMedUSD": 0.6054657512788713,
         "FeeTotNtv": 14.70251214,
         "FeeTotUSD": 595841.2020436295,
         "FlowInExNtv": 23739.2913868,
         "FlowInExUSD": 962070140.1831928,
         "FlowOutExNtv": 21273.99024835,
         "FlowOutExUSD": 862160139.786922,
         "FlowTfrFromExCnt": 26196,
         "HashRate": 114073685.15409195,
         "HashRate30d": 133255521.96927428,
         "IssContNtv": 768.75,
         "IssContPctAnn": 1.4907427455,
         "IssContPctDay": 0.0040842267,
         "IssContUSD": 31154738.707873646,
         "IssTotNtv": 768.75,
         "IssTotUSD": 31154738.707873646,
         "NDF": 0.352977104338,
         "NVTAdj": 52.473381658036,
         "NVTAdj90": 88.04062895512332,
         "NVTAdjFF": 40.472403823959,
         "NVTAdjFF90": 67.90520784820401,
         "PriceBTC": 1,
         "PriceUSD": 40526.4893760958,
         "ROI1yr": 287.61374069824063,
         "ROI30d": -17.90160673589265,
         "RevAllTimeUSD": 32638810334.315823,
         "RevHashNtv": 7.9e-11,
         "RevHashRateNtv": 0.000006867951,
         "RevHashRateUSD": 0.278333954645,
         "RevHashUSD": 0.000003221458,
         "RevNtv": 783.45251214,
         "RevUSD": 31750579.90991728,
         "SER": 0.081566052336,
         "SplyAct10yr": 16447940.3265743,
         "SplyAct180d": 5069573.368674,
         "SplyAct1d": 342454.67501099,
         "SplyAct1yr": 8610483.03227089,
         "SplyAct2yr": 10245825.48316679,
         "SplyAct30d": 1319942.99815126,
         "SplyAct3yr": 12190680.97491803,
         "SplyAct4yr": 13726347.85797881,
         "SplyAct5yr": 14500721.82196948,
         "SplyAct7d": 620420.88876763,
         "SplyAct90d": 2972295.34578551,
         "SplyActEver": 17047582.39716395,
         "SplyActPct1yr": 45.7459053819,
         "SplyAdrBal1in100K": 11063331.27982503,
         "SplyAdrBal1in100M": 18457965.456229,
         "SplyAdrBal1in10B": 18811906.99766092,
         "SplyAdrBal1in10K": 6643880.67589399,
         "SplyAdrBal1in10M": 17416583.05690223,
         "SplyAdrBal1in1B": 18749178.7244238,
         "SplyAdrBal1in1K": 2212703.00981773,
         "SplyAdrBal1in1M": 15524113.34033281,
         "SplyAdrBalNtv0.001": 18815766.37968149,
         "SplyAdrBalNtv0.01": 18779007.75330865,
         "SplyAdrBalNtv0.1": 18587469.94912087,
         "SplyAdrBalNtv1": 17829012.58725902,
         "SplyAdrBalNtv10": 16132654.77060863,
         "SplyAdrBalNtv100": 11878975.92356234,
         "SplyAdrBalNtv100K": 577931.78662216,
         "SplyAdrBalNtv10K": 2689661.1471615,
         "SplyAdrBalNtv1K": 7950368.37712285,
         "SplyAdrBalNtv1M": 0,
         "SplyAdrBalUSD1": 18819744.30297061,
         "SplyAdrBalUSD10": 18818865.23215254,
         "SplyAdrBalUSD100": 18809402.82470044,
         "SplyAdrBalUSD100K": 17206787.21924716,
         "SplyAdrBalUSD10K": 18387527.16407186,
         "SplyAdrBalUSD10M": 10665415.16735838,
         "SplyAdrBalUSD1K": 18733404.69614489,
         "SplyAdrBalUSD1M": 15230033.56639925,
         "SplyAdrTop100": 2858032.2107158,
         "SplyAdrTop10Pct": 18639016.02827849,
         "SplyAdrTop1Pct": 17235472.91206804,
         "SplyCur": 18822412.54247566,
         "SplyExpFut10yr": 20620654.6875,
         "SplyFF": 14517613.64123096,
         "SplyMiner0HopAllNtv": 1797729.01730632,
         "SplyMiner0HopAllUSD": 72855645920.96371,
         "SplyMiner1HopAllNtv": 2688687.2920547,
         "SplyMiner1HopAllUSD": 108963056977.0986,
         "TxCnt": 245996,
         "TxCntSec": 2.847175925926,
         "TxTfrCnt": 699377,
         "TxTfrValAdjNtv": 358704.01235315,
         "TxTfrValAdjUSD": 14537014345.79287,
         "TxTfrValMeanNtv": 1.612642522142,
         "TxTfrValMeanUSD": 65354.7400410281,
         "TxTfrValMedNtv": 0.00378359,
         "TxTfrValMedUSD": 153.3356199385023,
         "VelCur1yr": 13.302867923965,
         "VtyDayRet180d": 0.0408601886727646,
         "VtyDayRet30d": 0.037208743725278,
         "_deepnote_index_column": 4083
        }
       ]
      },
      "text/plain": "      AdrActCnt  AdrBal1in100KCnt  AdrBal1in100MCnt  AdrBal1in10BCnt  \\\n0         860.0           49287.0           52093.0          52190.0   \n1         929.0           49297.0           52208.0          52311.0   \n2         936.0           49367.0           52344.0          52456.0   \n3         784.0           49382.0           52397.0          52521.0   \n4         594.0           49504.0           52577.0          52715.0   \n...         ...               ...               ...              ...   \n4079   943981.0            9336.0         2246927.0       15899233.0   \n4080   819880.0            9338.0         2247669.0       15911798.0   \n4081   714326.0            9336.0         2248051.0       15932651.0   \n4082  1014971.0            9323.0         2249147.0       15916017.0   \n4083   844883.0            9330.0         2250262.0       15922863.0   \n\n      AdrBal1in10KCnt  AdrBal1in10MCnt  AdrBal1in1BCnt  AdrBal1in1KCnt  \\\n0               199.0          51245.0         52190.0            54.0   \n1               207.0          51276.0         52311.0            54.0   \n2               213.0          51353.0         52456.0            54.0   \n3               220.0          51380.0         52521.0            54.0   \n4               222.0          51508.0         52715.0            57.0   \n...               ...              ...             ...             ...   \n4079           1065.0         471724.0       6797743.0            44.0   \n4080           1063.0         471889.0       6802337.0            44.0   \n4081           1063.0         472008.0       6804772.0            44.0   \n4082           1063.0         471974.0       6807912.0            44.0   \n4083           1063.0         472333.0       6811336.0            44.0   \n\n      AdrBal1in1MCnt   AdrBalCnt  ...  TxTfrCnt  TxTfrValAdjNtv  \\\n0            51064.0     52190.0  ...     396.0    17180.550000   \n1            51085.0     52311.0  ...     512.0    40243.730000   \n2            51157.0     52456.0  ...     738.0    16063.230000   \n3            51179.0     52521.0  ...     377.0    20834.150000   \n4            51304.0     52715.0  ...     344.0    33049.030000   \n...              ...         ...  ...       ...             ...   \n4079         99326.0  38417526.0  ...  784062.0   263865.756580   \n4080         99364.0  38416290.0  ...  670401.0   166864.001496   \n4081         99370.0  38437441.0  ...  589280.0    94508.875166   \n4082         99365.0  38355678.0  ...  776709.0   431154.750752   \n4083         99366.0  38369405.0  ...  699377.0   358704.012353   \n\n      TxTfrValAdjUSD  TxTfrValMeanNtv  TxTfrValMeanUSD  TxTfrValMedNtv  \\\n0       1.474778e+03        48.783737         4.187596        1.850000   \n1       3.251693e+03        86.951152         7.025653        2.625000   \n2       1.200497e+03        42.528835         3.178423        1.375000   \n3       1.649916e+03        71.822334         5.687816       18.500000   \n4       1.932369e+03       112.714622         6.590397        1.010000   \n...              ...              ...              ...             ...   \n4079    1.245810e+10         0.799209     37733.696252        0.003150   \n4080    8.043515e+09         0.610503     29428.696581        0.002580   \n4081    4.462565e+09         0.460092     21724.829251        0.002390   \n4082    1.847736e+10         1.667030     71441.404401        0.003521   \n4083    1.453701e+10         1.612643     65354.740041        0.003784   \n\n      TxTfrValMedUSD  VelCur1yr  VtyDayRet180d  VtyDayRet30d  \n0           0.158804   1.820565            NaN           NaN  \n1           0.212100   1.828863            NaN           NaN  \n2           0.102762   1.831412            NaN           NaN  \n3           1.465068   1.833749            NaN           NaN  \n4           0.059054   1.840245            NaN           NaN  \n...              ...        ...            ...           ...  \n4079      148.725340  13.201068       0.040265      0.033389  \n4080      124.366355  13.203984       0.040105      0.032926  \n4081      112.847903  13.206157       0.040132      0.031576  \n4082      150.888252  13.203028       0.040680      0.036079  \n4083      153.335620  13.302868       0.040860      0.037209  \n\n[4084 rows x 139 columns]",
      "text/html": "<div>\n<style scoped>\n    .dataframe tbody tr th:only-of-type {\n        vertical-align: middle;\n    }\n\n    .dataframe tbody tr th {\n        vertical-align: top;\n    }\n\n    .dataframe thead th {\n        text-align: right;\n    }\n</style>\n<table border=\"1\" class=\"dataframe\">\n  <thead>\n    <tr style=\"text-align: right;\">\n      <th></th>\n      <th>AdrActCnt</th>\n      <th>AdrBal1in100KCnt</th>\n      <th>AdrBal1in100MCnt</th>\n      <th>AdrBal1in10BCnt</th>\n      <th>AdrBal1in10KCnt</th>\n      <th>AdrBal1in10MCnt</th>\n      <th>AdrBal1in1BCnt</th>\n      <th>AdrBal1in1KCnt</th>\n      <th>AdrBal1in1MCnt</th>\n      <th>AdrBalCnt</th>\n      <th>...</th>\n      <th>TxTfrCnt</th>\n      <th>TxTfrValAdjNtv</th>\n      <th>TxTfrValAdjUSD</th>\n      <th>TxTfrValMeanNtv</th>\n      <th>TxTfrValMeanUSD</th>\n      <th>TxTfrValMedNtv</th>\n      <th>TxTfrValMedUSD</th>\n      <th>VelCur1yr</th>\n      <th>VtyDayRet180d</th>\n      <th>VtyDayRet30d</th>\n    </tr>\n  </thead>\n  <tbody>\n    <tr>\n      <th>0</th>\n      <td>860.0</td>\n      <td>49287.0</td>\n      <td>52093.0</td>\n      <td>52190.0</td>\n      <td>199.0</td>\n      <td>51245.0</td>\n      <td>52190.0</td>\n      <td>54.0</td>\n      <td>51064.0</td>\n      <td>52190.0</td>\n      <td>...</td>\n      <td>396.0</td>\n      <td>17180.550000</td>\n      <td>1.474778e+03</td>\n      <td>48.783737</td>\n      <td>4.187596</td>\n      <td>1.850000</td>\n      <td>0.158804</td>\n      <td>1.820565</td>\n      <td>NaN</td>\n      <td>NaN</td>\n    </tr>\n    <tr>\n      <th>1</th>\n      <td>929.0</td>\n      <td>49297.0</td>\n      <td>52208.0</td>\n      <td>52311.0</td>\n      <td>207.0</td>\n      <td>51276.0</td>\n      <td>52311.0</td>\n      <td>54.0</td>\n      <td>51085.0</td>\n      <td>52311.0</td>\n      <td>...</td>\n      <td>512.0</td>\n      <td>40243.730000</td>\n      <td>3.251693e+03</td>\n      <td>86.951152</td>\n      <td>7.025653</td>\n      <td>2.625000</td>\n      <td>0.212100</td>\n      <td>1.828863</td>\n      <td>NaN</td>\n      <td>NaN</td>\n    </tr>\n    <tr>\n      <th>2</th>\n      <td>936.0</td>\n      <td>49367.0</td>\n      <td>52344.0</td>\n      <td>52456.0</td>\n      <td>213.0</td>\n      <td>51353.0</td>\n      <td>52456.0</td>\n      <td>54.0</td>\n      <td>51157.0</td>\n      <td>52456.0</td>\n      <td>...</td>\n      <td>738.0</td>\n      <td>16063.230000</td>\n      <td>1.200497e+03</td>\n      <td>42.528835</td>\n      <td>3.178423</td>\n      <td>1.375000</td>\n      <td>0.102762</td>\n      <td>1.831412</td>\n      <td>NaN</td>\n      <td>NaN</td>\n    </tr>\n    <tr>\n      <th>3</th>\n      <td>784.0</td>\n      <td>49382.0</td>\n      <td>52397.0</td>\n      <td>52521.0</td>\n      <td>220.0</td>\n      <td>51380.0</td>\n      <td>52521.0</td>\n      <td>54.0</td>\n      <td>51179.0</td>\n      <td>52521.0</td>\n      <td>...</td>\n      <td>377.0</td>\n      <td>20834.150000</td>\n      <td>1.649916e+03</td>\n      <td>71.822334</td>\n      <td>5.687816</td>\n      <td>18.500000</td>\n      <td>1.465068</td>\n      <td>1.833749</td>\n      <td>NaN</td>\n      <td>NaN</td>\n    </tr>\n    <tr>\n      <th>4</th>\n      <td>594.0</td>\n      <td>49504.0</td>\n      <td>52577.0</td>\n      <td>52715.0</td>\n      <td>222.0</td>\n      <td>51508.0</td>\n      <td>52715.0</td>\n      <td>57.0</td>\n      <td>51304.0</td>\n      <td>52715.0</td>\n      <td>...</td>\n      <td>344.0</td>\n      <td>33049.030000</td>\n      <td>1.932369e+03</td>\n      <td>112.714622</td>\n      <td>6.590397</td>\n      <td>1.010000</td>\n      <td>0.059054</td>\n      <td>1.840245</td>\n      <td>NaN</td>\n      <td>NaN</td>\n    </tr>\n    <tr>\n      <th>...</th>\n      <td>...</td>\n      <td>...</td>\n      <td>...</td>\n      <td>...</td>\n      <td>...</td>\n      <td>...</td>\n      <td>...</td>\n      <td>...</td>\n      <td>...</td>\n      <td>...</td>\n      <td>...</td>\n      <td>...</td>\n      <td>...</td>\n      <td>...</td>\n      <td>...</td>\n      <td>...</td>\n      <td>...</td>\n      <td>...</td>\n      <td>...</td>\n      <td>...</td>\n      <td>...</td>\n    </tr>\n    <tr>\n      <th>4079</th>\n      <td>943981.0</td>\n      <td>9336.0</td>\n      <td>2246927.0</td>\n      <td>15899233.0</td>\n      <td>1065.0</td>\n      <td>471724.0</td>\n      <td>6797743.0</td>\n      <td>44.0</td>\n      <td>99326.0</td>\n      <td>38417526.0</td>\n      <td>...</td>\n      <td>784062.0</td>\n      <td>263865.756580</td>\n      <td>1.245810e+10</td>\n      <td>0.799209</td>\n      <td>37733.696252</td>\n      <td>0.003150</td>\n      <td>148.725340</td>\n      <td>13.201068</td>\n      <td>0.040265</td>\n      <td>0.033389</td>\n    </tr>\n    <tr>\n      <th>4080</th>\n      <td>819880.0</td>\n      <td>9338.0</td>\n      <td>2247669.0</td>\n      <td>15911798.0</td>\n      <td>1063.0</td>\n      <td>471889.0</td>\n      <td>6802337.0</td>\n      <td>44.0</td>\n      <td>99364.0</td>\n      <td>38416290.0</td>\n      <td>...</td>\n      <td>670401.0</td>\n      <td>166864.001496</td>\n      <td>8.043515e+09</td>\n      <td>0.610503</td>\n      <td>29428.696581</td>\n      <td>0.002580</td>\n      <td>124.366355</td>\n      <td>13.203984</td>\n      <td>0.040105</td>\n      <td>0.032926</td>\n    </tr>\n    <tr>\n      <th>4081</th>\n      <td>714326.0</td>\n      <td>9336.0</td>\n      <td>2248051.0</td>\n      <td>15932651.0</td>\n      <td>1063.0</td>\n      <td>472008.0</td>\n      <td>6804772.0</td>\n      <td>44.0</td>\n      <td>99370.0</td>\n      <td>38437441.0</td>\n      <td>...</td>\n      <td>589280.0</td>\n      <td>94508.875166</td>\n      <td>4.462565e+09</td>\n      <td>0.460092</td>\n      <td>21724.829251</td>\n      <td>0.002390</td>\n      <td>112.847903</td>\n      <td>13.206157</td>\n      <td>0.040132</td>\n      <td>0.031576</td>\n    </tr>\n    <tr>\n      <th>4082</th>\n      <td>1014971.0</td>\n      <td>9323.0</td>\n      <td>2249147.0</td>\n      <td>15916017.0</td>\n      <td>1063.0</td>\n      <td>471974.0</td>\n      <td>6807912.0</td>\n      <td>44.0</td>\n      <td>99365.0</td>\n      <td>38355678.0</td>\n      <td>...</td>\n      <td>776709.0</td>\n      <td>431154.750752</td>\n      <td>1.847736e+10</td>\n      <td>1.667030</td>\n      <td>71441.404401</td>\n      <td>0.003521</td>\n      <td>150.888252</td>\n      <td>13.203028</td>\n      <td>0.040680</td>\n      <td>0.036079</td>\n    </tr>\n    <tr>\n      <th>4083</th>\n      <td>844883.0</td>\n      <td>9330.0</td>\n      <td>2250262.0</td>\n      <td>15922863.0</td>\n      <td>1063.0</td>\n      <td>472333.0</td>\n      <td>6811336.0</td>\n      <td>44.0</td>\n      <td>99366.0</td>\n      <td>38369405.0</td>\n      <td>...</td>\n      <td>699377.0</td>\n      <td>358704.012353</td>\n      <td>1.453701e+10</td>\n      <td>1.612643</td>\n      <td>65354.740041</td>\n      <td>0.003784</td>\n      <td>153.335620</td>\n      <td>13.302868</td>\n      <td>0.040860</td>\n      <td>0.037209</td>\n    </tr>\n  </tbody>\n</table>\n<p>4084 rows × 139 columns</p>\n</div>"
     },
     "metadata": {}
    }
   ],
   "execution_count": null
  },
  {
   "cell_type": "code",
   "metadata": {
    "tags": [],
    "cell_id": "00004-d79a0d0b-4e76-44ac-a6ad-eef218ed716e",
    "deepnote_to_be_reexecuted": false,
    "source_hash": "56eb99ad",
    "execution_start": 1632687301217,
    "execution_millis": 1458200,
    "deepnote_cell_type": "code"
   },
   "source": "time_index_split = int(np.round((len(df_cm)*.90)))                 # index of where to split train/test, 90%\ntime_index_split",
   "outputs": [
    {
     "output_type": "execute_result",
     "execution_count": 5,
     "data": {
      "text/plain": "3676"
     },
     "metadata": {}
    }
   ],
   "execution_count": null
  },
  {
   "cell_type": "code",
   "metadata": {
    "tags": [],
    "deepnote_to_be_reexecuted": false,
    "source_hash": "42681e9",
    "execution_start": 1632687301280,
    "execution_millis": 650,
    "cell_id": "00003-9beba994-7b8f-4ee8-8148-b80d3fc44363",
    "deepnote_cell_type": "code"
   },
   "source": "\nprice_series = np.array(df_cm['PriceUSD'])\ntime_index_series = np.array(df_cm.index)\n\nplt.figure(figsize=(10, 6))\nplot_series(time_index_series, price_series)\nplt.axvline(x=time_index_split, color='r', label='axvline - full height')\n\n",
   "outputs": [
    {
     "output_type": "execute_result",
     "execution_count": 6,
     "data": {
      "text/plain": "<matplotlib.lines.Line2D at 0x7f18ca847e50>"
     },
     "metadata": {}
    },
    {
     "data": {
      "text/plain": "<Figure size 720x432 with 1 Axes>",
      "image/png": "[encoded data removed]"
     },
     "metadata": {
      "needs_background": "light",
      "image/png": {
       "width": 624,
       "height": 371
      }
     },
     "output_type": "display_data"
    }
   ],
   "execution_count": null
  },
  {
   "cell_type": "code",
   "metadata": {
    "tags": [],
    "deepnote_to_be_reexecuted": false,
    "source_hash": "531694b3",
    "execution_start": 1632687301876,
    "execution_millis": 9,
    "cell_id": "00004-97640ce4-fb66-4cbe-b1bf-668a1c57e398",
    "deepnote_cell_type": "code"
   },
   "source": "#time_index_split = 3750                 # index of where to split train/test\ntime_train = time_index_series[:time_index_split]    # \nprice_train = price_series[:time_index_split]\ntime_test = time_index_series[time_index_split:]\nprice_test = price_series[time_index_split:]\n\n# window, batch, shuff, lr, epochs, mae\n# 80, 200, 700, 1e-10, 100, 2658.229\n# 80, 200, 1000, 1e-10, 100, 2249.0\n# 60, 200, 1000, 1e-10, 100, 2196.6887\n# 50, 200, 1000, 1e-10, 100, 1954.4086\n# 40, 200, 1000, 1e-10, 100, 1907.042\n# 30, 200, 1000, 1e-10, 100, 2234.8728\n\n# 40, 200, 1500, 1e-10, 100, 1916.3392\n# 40, 200, 900, 1e-10, 100, 2171.6875\n# 40, 200, 1100, 1e-10, 100, 1952.641\n\n# 40, 250, 1000, 1e-10, 100, 9979.537\n# 40, 100, 1000, 1e-10, 100, 1743.6237\n# 40, 80, 1000, 1e-10, 100, 1566.0966\n# 40, 60, 1000, 1e-10, 100, 1559.5983\n# 40, 30, 1000, 1e-10, 100, 1584.3143\n\n# 40, 50, 1000, 1e-10, 100, 1494.6829 ** 1655.6729, 1798.231, 1509.8649\n# 40, 40, 1000, 1e-10, 100, 1675.0016\n\n# 40, 55, 1000, 1e-10, 100, 1699.6995\n\n# 40, 50, 1000, 2e-10, 100, 1610.3257\n# 40, 50, 1000, 3e-10, 100, 1374.5299 ****\n# 40, 50, 1000, 4e-10, 100, 1714.0444\n\n# 2nd layer:\n# 60, 1428.4601, 1425.0819\n# 70, 1537.3285\n# 40, 1444.577\n# 50, 1696.2174, 1517.4219, 1467.785, 1434.8826\n# 65, 1458.0967\n\n# 50 2nd, 200 epochs, random seed 42 set\n# 40, 50, 1000, 3e-10, 200, 1410.8774 **\n# 40, 50, 2000, 3e-10, 200, 1725.5352\n# 40, 50, 700, 3e-10, 200, 1462.0631\n# 40, 50, 1100, 3e-10, 200, 1496.3527\n# 40, 50, 100, 3e-10, 200, 2101.5652\n# 40, 50, 900, 3e-10, 200, 1507.1869\n\n\nwindow_size = 40 # 40\nbatch_size =  50 # \nshuffle_buffer_size = 1000",
   "outputs": [],
   "execution_count": null
  },
  {
   "cell_type": "code",
   "metadata": {
    "tags": [],
    "cell_id": "00007-cdbcedba-3bc4-41e6-9a42-69ec396e5e51",
    "deepnote_to_be_reexecuted": false,
    "source_hash": "ee51cc3c",
    "execution_start": 1632687301915,
    "execution_millis": 852,
    "deepnote_cell_type": "code"
   },
   "source": "days_ahead_to_predict = 1\nnaive_pred = price_series[time_index_split-days_ahead_to_predict:-days_ahead_to_predict]\n\nplt.figure(figsize=(10, 6))\nplot_series(time_test, price_test)\nplot_series(time_test, naive_pred)\n\ntf.keras.metrics.mean_absolute_error(naive_pred, price_test).numpy()",
   "outputs": [
    {
     "name": "stderr",
     "text": "2021-09-26 20:15:02.040984: I tensorflow/compiler/jit/xla_cpu_device.cc:41] Not creating XLA devices, tf_xla_enable_xla_devices not set\n2021-09-26 20:15:02.041289: W tensorflow/stream_executor/platform/default/dso_loader.cc:60] Could not load dynamic library 'libcuda.so.1'; dlerror: libcuda.so.1: cannot open shared object file: No such file or directory\n2021-09-26 20:15:02.041317: W tensorflow/stream_executor/cuda/cuda_driver.cc:326] failed call to cuInit: UNKNOWN ERROR (303)\n2021-09-26 20:15:02.041408: I tensorflow/stream_executor/cuda/cuda_diagnostics.cc:156] kernel driver does not appear to be running on this host (p-465bb6a2-b771-4fe2-b2d2-aed723f7eb7d): /proc/driver/nvidia/version does not exist\n2021-09-26 20:15:02.041830: I tensorflow/core/platform/cpu_feature_guard.cc:142] This TensorFlow binary is optimized with oneAPI Deep Neural Network Library (oneDNN) to use the following CPU instructions in performance-critical operations:  AVX2 AVX512F FMA\nTo enable them in other operations, rebuild TensorFlow with the appropriate compiler flags.\n2021-09-26 20:15:02.042015: I tensorflow/compiler/jit/xla_gpu_device.cc:99] Not creating XLA devices, tf_xla_enable_xla_devices not set\n",
     "output_type": "stream"
    },
    {
     "output_type": "execute_result",
     "execution_count": 8,
     "data": {
      "text/plain": "1030.0814543647814"
     },
     "metadata": {}
    },
    {
     "data": {
      "text/plain": "<Figure size 720x432 with 1 Axes>",
      "image/png": "[encoded data removed]"
     },
     "metadata": {
      "needs_background": "light",
      "image/png": {
       "width": 633,
       "height": 371
      }
     },
     "output_type": "display_data"
    }
   ],
   "execution_count": null
  },
  {
   "cell_type": "code",
   "metadata": {
    "tags": [],
    "deepnote_to_be_reexecuted": false,
    "source_hash": "fabde66f",
    "execution_start": 1632687302781,
    "execution_millis": 219,
    "cell_id": "00005-39154d1a-fa03-4890-8811-a0b23017adc7",
    "deepnote_cell_type": "code"
   },
   "source": "# # https://stackoverflow.com/questions/55429307/how-to-use-windows-created-by-the-dataset-window-method-in-tensorflow-2-0\n\ndef make_windowed_training_set(series, window_size, batch_size, shuffle_buffer, days_ahead_to_predict):\n  dataset = tf.data.Dataset.from_tensor_slices(series)\n  \n  new_window_size = window_size + days_ahead_to_predict\n\n  dataset = dataset.window(new_window_size, shift=1, drop_remainder=True)\n\n  dataset = dataset.flat_map(lambda window: window.batch(new_window_size))\n  dataset = dataset.shuffle(shuffle_buffer).map(lambda window: (window[:-days_ahead_to_predict], window[-1:]))\n  dataset = dataset.batch(batch_size).prefetch(1)\n  \n  return dataset\n\ndataset = make_windowed_training_set(price_train, window_size, batch_size, shuffle_buffer_size, days_ahead_to_predict)",
   "outputs": [],
   "execution_count": null
  },
  {
   "cell_type": "code",
   "metadata": {
    "tags": [],
    "cell_id": "00009-35ee7547-c16d-4536-88aa-e2a61ffd5a49",
    "deepnote_to_be_reexecuted": false,
    "source_hash": "d2956e68",
    "execution_start": 1632687303021,
    "execution_millis": 387069,
    "deepnote_cell_type": "code"
   },
   "source": "model = tf.keras.models.Sequential([\n    tf.keras.layers.Dense(40, input_shape=[window_size], activation=\"relu\"), \n    tf.keras.layers.Dense(50, activation=\"relu\"),\n    tf.keras.layers.Dense(50, activation=\"relu\"),\n    tf.keras.layers.Dense(1)\n])\n\nlr_schedule = tf.keras.callbacks.LearningRateScheduler(\n    lambda epoch: 1e-12 * 10**(epoch / 20))\noptimizer = tf.keras.optimizers.SGD(learning_rate=1e-12, momentum=0.9)\nmodel.compile(loss=tf.keras.losses.Huber(),\n              optimizer=optimizer,\n              metrics=[\"mae\"])\nhistory = model.fit(dataset, epochs=100, callbacks=[lr_schedule])",
   "outputs": [
    {
     "name": "stderr",
     "text": "2021-09-26 20:15:03.356382: I tensorflow/compiler/mlir/mlir_graph_optimization_pass.cc:116] None of the MLIR optimization passes are enabled (registered 2)\n2021-09-26 20:15:03.377008: I tensorflow/core/platform/profile_utils/cpu_utils.cc:112] CPU Frequency: 2499995000 Hz\nEpoch 1/100\n73/73 [==============================] - 5s 39ms/step - loss: 667.9312 - mae: 668.3975\nEpoch 2/100\n73/73 [==============================] - 5s 66ms/step - loss: 642.1175 - mae: 642.5866\nEpoch 3/100\n73/73 [==============================] - 7s 77ms/step - loss: 650.7765 - mae: 651.2456\nEpoch 4/100\n73/73 [==============================] - 5s 67ms/step - loss: 640.2461 - mae: 640.7143\nEpoch 5/100\n73/73 [==============================] - 4s 46ms/step - loss: 658.4466 - mae: 658.9140\nEpoch 6/100\n73/73 [==============================] - 6s 70ms/step - loss: 654.2519 - mae: 654.7202\nEpoch 7/100\n73/73 [==============================] - 5s 55ms/step - loss: 661.5541 - mae: 662.0199\nEpoch 8/100\n73/73 [==============================] - 4s 40ms/step - loss: 648.4769 - mae: 648.9442\nEpoch 9/100\n73/73 [==============================] - 6s 71ms/step - loss: 643.5806 - mae: 644.0477\nEpoch 10/100\n73/73 [==============================] - 4s 43ms/step - loss: 650.1255 - mae: 650.5910\nEpoch 11/100\n73/73 [==============================] - 6s 58ms/step - loss: 647.2264 - mae: 647.6927\nEpoch 12/100\n73/73 [==============================] - 5s 43ms/step - loss: 640.1799 - mae: 640.6464\nEpoch 13/100\n73/73 [==============================] - 8s 97ms/step - loss: 648.2859 - mae: 648.7521\nEpoch 14/100\n73/73 [==============================] - 7s 75ms/step - loss: 646.4018 - mae: 646.8665\nEpoch 15/100\n73/73 [==============================] - 7s 76ms/step - loss: 648.3368 - mae: 648.8019\nEpoch 16/100\n73/73 [==============================] - 5s 56ms/step - loss: 648.0678 - mae: 648.5342\nEpoch 17/100\n73/73 [==============================] - 4s 54ms/step - loss: 647.5373 - mae: 648.0063\nEpoch 18/100\n73/73 [==============================] - 8s 99ms/step - loss: 648.7803 - mae: 649.2500\nEpoch 19/100\n73/73 [==============================] - 5s 61ms/step - loss: 649.2242 - mae: 649.6895\nEpoch 20/100\n73/73 [==============================] - 4s 47ms/step - loss: 635.5333 - mae: 636.0022\nEpoch 21/100\n73/73 [==============================] - 8s 90ms/step - loss: 637.4899 - mae: 637.9560\nEpoch 22/100\n73/73 [==============================] - 5s 58ms/step - loss: 633.4135 - mae: 633.8807\nEpoch 23/100\n73/73 [==============================] - 6s 69ms/step - loss: 656.2793 - mae: 656.7467\nEpoch 24/100\n73/73 [==============================] - 6s 66ms/step - loss: 638.0224 - mae: 638.4885\nEpoch 25/100\n73/73 [==============================] - 3s 26ms/step - loss: 641.8758 - mae: 642.3434\nEpoch 26/100\n73/73 [==============================] - 3s 26ms/step - loss: 637.7227 - mae: 638.1873\nEpoch 27/100\n73/73 [==============================] - 3s 39ms/step - loss: 638.5152 - mae: 638.9829\nEpoch 28/100\n73/73 [==============================] - 5s 35ms/step - loss: 620.7292 - mae: 621.1951\nEpoch 29/100\n73/73 [==============================] - 4s 46ms/step - loss: 627.4440 - mae: 627.9112\nEpoch 30/100\n73/73 [==============================] - 3s 34ms/step - loss: 621.4894 - mae: 621.9539\nEpoch 31/100\n73/73 [==============================] - 5s 55ms/step - loss: 623.7023 - mae: 624.1691\nEpoch 32/100\n73/73 [==============================] - 5s 49ms/step - loss: 616.3346 - mae: 616.8017\nEpoch 33/100\n73/73 [==============================] - 4s 50ms/step - loss: 619.9973 - mae: 620.4636\nEpoch 34/100\n73/73 [==============================] - 4s 47ms/step - loss: 605.6837 - mae: 606.1503\nEpoch 35/100\n73/73 [==============================] - 5s 56ms/step - loss: 610.1432 - mae: 610.6086\nEpoch 36/100\n73/73 [==============================] - 4s 42ms/step - loss: 593.4051 - mae: 593.8717\nEpoch 37/100\n73/73 [==============================] - 5s 52ms/step - loss: 584.2279 - mae: 584.6927\nEpoch 38/100\n73/73 [==============================] - 5s 58ms/step - loss: 582.8460 - mae: 583.3107\nEpoch 39/100\n73/73 [==============================] - 4s 42ms/step - loss: 578.8635 - mae: 579.3285\nEpoch 40/100\n73/73 [==============================] - 4s 52ms/step - loss: 570.7054 - mae: 571.1718\nEpoch 41/100\n73/73 [==============================] - 8s 81ms/step - loss: 537.9622 - mae: 538.4274\nEpoch 42/100\n73/73 [==============================] - 5s 50ms/step - loss: 532.7086 - mae: 533.1703\nEpoch 43/100\n73/73 [==============================] - 3s 36ms/step - loss: 519.7102 - mae: 520.1743\nEpoch 44/100\n73/73 [==============================] - 4s 45ms/step - loss: 504.6268 - mae: 505.0909\nEpoch 45/100\n73/73 [==============================] - 3s 35ms/step - loss: 485.2854 - mae: 485.7470\nEpoch 46/100\n73/73 [==============================] - 5s 60ms/step - loss: 460.9784 - mae: 461.4407\nEpoch 47/100\n73/73 [==============================] - 6s 64ms/step - loss: 453.2597 - mae: 453.7200\nEpoch 48/100\n73/73 [==============================] - 6s 70ms/step - loss: 419.7295 - mae: 420.1899\nEpoch 49/100\n73/73 [==============================] - 6s 66ms/step - loss: 389.3953 - mae: 389.8532\nEpoch 50/100\n73/73 [==============================] - 3s 35ms/step - loss: 362.4371 - mae: 362.8922\nEpoch 51/100\n73/73 [==============================] - 4s 44ms/step - loss: 327.4053 - mae: 327.8596\nEpoch 52/100\n73/73 [==============================] - 6s 77ms/step - loss: 279.3048 - mae: 279.7564\nEpoch 53/100\n73/73 [==============================] - 4s 45ms/step - loss: 248.9620 - mae: 249.4107\nEpoch 54/100\n73/73 [==============================] - 6s 73ms/step - loss: 201.7944 - mae: 202.2373\nEpoch 55/100\n73/73 [==============================] - 5s 61ms/step - loss: 169.5310 - mae: 169.9707\nEpoch 56/100\n73/73 [==============================] - 4s 48ms/step - loss: 133.7876 - mae: 134.2150\nEpoch 57/100\n73/73 [==============================] - 3s 39ms/step - loss: 114.1053 - mae: 114.5272\nEpoch 58/100\n73/73 [==============================] - 5s 51ms/step - loss: 108.6730 - mae: 109.0799\nEpoch 59/100\n73/73 [==============================] - 3s 30ms/step - loss: 105.5544 - mae: 105.9589\nEpoch 60/100\n73/73 [==============================] - 6s 68ms/step - loss: 104.6379 - mae: 105.0425\nEpoch 61/100\n73/73 [==============================] - 6s 62ms/step - loss: 105.7001 - mae: 106.1014\nEpoch 62/100\n73/73 [==============================] - 3s 31ms/step - loss: 103.8707 - mae: 104.2732\nEpoch 63/100\n73/73 [==============================] - 3s 39ms/step - loss: 101.7670 - mae: 102.1677\nEpoch 64/100\n73/73 [==============================] - 6s 67ms/step - loss: 106.1233 - mae: 106.5245\nEpoch 65/100\n73/73 [==============================] - 4s 50ms/step - loss: 104.0798 - mae: 104.4798\nEpoch 66/100\n73/73 [==============================] - 6s 65ms/step - loss: 103.5084 - mae: 103.9127\nEpoch 67/100\n73/73 [==============================] - 6s 69ms/step - loss: 101.8610 - mae: 102.2628\nEpoch 68/100\n73/73 [==============================] - 7s 84ms/step - loss: 100.7677 - mae: 101.1684\nEpoch 69/100\n73/73 [==============================] - 5s 65ms/step - loss: 101.9099 - mae: 102.3136\nEpoch 70/100\n73/73 [==============================] - 4s 38ms/step - loss: 99.0328 - mae: 99.4332\nEpoch 71/100\n73/73 [==============================] - 5s 48ms/step - loss: 98.3263 - mae: 98.7267\nEpoch 72/100\n73/73 [==============================] - 2s 19ms/step - loss: 98.5716 - mae: 98.9737\nEpoch 73/100\n73/73 [==============================] - 1s 14ms/step - loss: 98.5474 - mae: 98.9497\nEpoch 74/100\n73/73 [==============================] - 1s 12ms/step - loss: 95.8845 - mae: 96.2859\nEpoch 75/100\n73/73 [==============================] - 1s 14ms/step - loss: 101.4515 - mae: 101.8569\nEpoch 76/100\n73/73 [==============================] - 1s 11ms/step - loss: 101.3835 - mae: 101.7819\nEpoch 77/100\n73/73 [==============================] - 1s 14ms/step - loss: 94.3717 - mae: 94.7743\nEpoch 78/100\n73/73 [==============================] - 1s 15ms/step - loss: 95.0694 - mae: 95.4681\nEpoch 79/100\n73/73 [==============================] - 2s 15ms/step - loss: 95.0557 - mae: 95.4553\nEpoch 80/100\n73/73 [==============================] - 1s 17ms/step - loss: 94.1604 - mae: 94.5600\nEpoch 81/100\n73/73 [==============================] - 1s 14ms/step - loss: 89.7356 - mae: 90.1310\nEpoch 82/100\n73/73 [==============================] - 1s 11ms/step - loss: 90.3032 - mae: 90.7010\nEpoch 83/100\n73/73 [==============================] - 1s 11ms/step - loss: 87.8763 - mae: 88.2769\nEpoch 84/100\n73/73 [==============================] - 1s 11ms/step - loss: 88.6435 - mae: 89.0371\nEpoch 85/100\n73/73 [==============================] - 1s 11ms/step - loss: 83.3757 - mae: 83.7700\nEpoch 86/100\n73/73 [==============================] - 1s 10ms/step - loss: 83.5280 - mae: 83.9213\nEpoch 87/100\n73/73 [==============================] - 1s 14ms/step - loss: 80.0882 - mae: 80.4839\nEpoch 88/100\n73/73 [==============================] - 1s 10ms/step - loss: 80.1391 - mae: 80.5298\nEpoch 89/100\n73/73 [==============================] - 1s 11ms/step - loss: 75.5003 - mae: 75.8922\nEpoch 90/100\n73/73 [==============================] - 1s 11ms/step - loss: 75.8617 - mae: 76.2475\nEpoch 91/100\n73/73 [==============================] - 1s 11ms/step - loss: 74.7211 - mae: 75.1050\nEpoch 92/100\n73/73 [==============================] - 1s 11ms/step - loss: 73.8308 - mae: 74.2170\nEpoch 93/100\n73/73 [==============================] - 1s 11ms/step - loss: 70.2196 - mae: 70.6035\nEpoch 94/100\n73/73 [==============================] - 1s 12ms/step - loss: 68.4947 - mae: 68.8752\nEpoch 95/100\n73/73 [==============================] - 1s 10ms/step - loss: 69.5297 - mae: 69.9294\nEpoch 96/100\n73/73 [==============================] - 1s 14ms/step - loss: 66.8248 - mae: 67.2109\nEpoch 97/100\n73/73 [==============================] - 1s 15ms/step - loss: 66.2192 - mae: 66.6002\nEpoch 98/100\n73/73 [==============================] - 1s 10ms/step - loss: 62.3000 - mae: 62.6769\nEpoch 99/100\n73/73 [==============================] - 1s 12ms/step - loss: 61.8863 - mae: 62.2651\nEpoch 100/100\n73/73 [==============================] - 1s 11ms/step - loss: 65.0888 - mae: 65.4771\n",
     "output_type": "stream"
    }
   ],
   "execution_count": null
  },
  {
   "cell_type": "code",
   "metadata": {
    "tags": [],
    "cell_id": "00010-cc5019c9-9d49-4c15-87ec-0359e8294b16",
    "deepnote_to_be_reexecuted": false,
    "source_hash": "2592138f",
    "execution_start": 1632687690089,
    "execution_millis": 1309,
    "deepnote_cell_type": "code"
   },
   "source": "plt.semilogx(history.history[\"lr\"], history.history[\"loss\"])\nplt.axis() # [1e-8, 1e-6, 0, 3000]",
   "outputs": [
    {
     "output_type": "execute_result",
     "execution_count": 11,
     "data": {
      "text/plain": "(5.655877543841433e-13,\n 1.5757960424855714e-07,\n 83.50715789794921,\n 1943.3453506469727)"
     },
     "metadata": {}
    },
    {
     "data": {
      "text/plain": "<Figure size 432x288 with 1 Axes>",
      "image/png": "[encoded data removed]"
     },
     "metadata": {
      "needs_background": "light",
      "image/png": {
       "width": 381,
       "height": 252
      }
     },
     "output_type": "display_data"
    }
   ],
   "execution_count": null
  },
  {
   "cell_type": "code",
   "metadata": {
    "tags": [],
    "deepnote_to_be_reexecuted": false,
    "source_hash": "c6f70eb2",
    "execution_start": 1632687691392,
    "execution_millis": 220382,
    "cell_id": "00006-95ebb60f-fb05-4b27-9d51-60d8443fc569",
    "deepnote_cell_type": "code"
   },
   "source": "\n\n\n\nmodel = tf.keras.models.Sequential([\n    tf.keras.layers.Dense(40, input_shape=[window_size], activation=\"relu\"), \n    tf.keras.layers.Dense(50, activation=\"relu\"),\n    tf.keras.layers.Dense(50, activation=\"relu\"),\n    tf.keras.layers.Dense(1)\n])\n\nmodel.compile(loss=\"mse\", optimizer=tf.keras.optimizers.SGD(learning_rate=8e-10, momentum=0.9)) # was 3e-10\nmodel.fit(dataset,epochs=200,verbose=0)\n",
   "outputs": [
    {
     "output_type": "execute_result",
     "execution_count": 12,
     "data": {
      "text/plain": "<tensorflow.python.keras.callbacks.History at 0x7f189fe6fad0>"
     },
     "metadata": {}
    }
   ],
   "execution_count": null
  },
  {
   "cell_type": "code",
   "metadata": {
    "tags": [],
    "cell_id": "00009-8d22fe9d-0440-4aab-9adf-b6e0e6a2bf95",
    "deepnote_to_be_reexecuted": false,
    "source_hash": "3edf7aca",
    "execution_start": 1632687911774,
    "execution_millis": 225707,
    "deepnote_cell_type": "code"
   },
   "source": "forecast=[]\nfor time in range(len(price_series) - window_size):\n  forecast.append(model.predict(price_series[time:time + window_size][np.newaxis]))\n\nforecast = forecast[time_index_split-window_size:]\nresults = np.array(forecast)[:, 0, 0]\n\n\nplt.figure(figsize=(10, 6))\n\nplot_series(time_test, price_test)\nplot_series(time_test, results)\n\ntf.keras.metrics.mean_absolute_error(price_test, results).numpy()\n\n# first: 1272.0206, \n# 1233.9647 - with 2 50 layers, lr: 3e-10\n# 1530.4454 -  bad params, 1 50 layer, lr: 3e-10\n# 1958.0427 - with 2 50 layers, lr: 1e-9\n# 1334.721 - with 2 50 layers, lr: 1e-10\n# 1388.0386 - with 2 50 layers, lr: 1e-11\n# 1236.3889 - with 2 50 layers, lr: 5e-10\n# 1210.836 - with 2 50 layers, lr: 7e-10 \n# - with 2 50 layers, lr: 9e-10\n#  - with 2 50 layers, lr: 8e-10\n#  - with 2 50 layers, lr: 6e-10\n\n# overfitting - low bias, high varaince",
   "outputs": [
    {
     "output_type": "execute_result",
     "execution_count": 13,
     "data": {
      "text/plain": "1168.2238"
     },
     "metadata": {}
    },
    {
     "data": {
      "text/plain": "<Figure size 720x432 with 1 Axes>",
      "image/png": "[encoded data removed]"
     },
     "metadata": {
      "needs_background": "light",
      "image/png": {
       "width": 633,
       "height": 371
      }
     },
     "output_type": "display_data"
    }
   ],
   "execution_count": null
  },
  {
   "cell_type": "code",
   "metadata": {
    "tags": [],
    "cell_id": "00008-47202147-1214-4848-9367-b1be47b5f476",
    "deepnote_to_be_reexecuted": false,
    "source_hash": "9cb7ced6",
    "execution_start": 1632688137475,
    "execution_millis": 22926,
    "deepnote_cell_type": "code"
   },
   "source": "fore=[]\n\nserN = price_series[time_index_split-window_size:time_index_split] # last N(windows size) values from before the split\n\nnum_after_split = len(price_series) - time_index_split\n\nfor i in range(num_after_split):\n    pred = model.predict(serN[np.newaxis])\n    serN = np.append(serN[1:], [pred[0][0]])\n    fore.append(pred)\n    \nprint(fore)",
   "outputs": [
    {
     "name": "stdout",
     "text": "[array([[11784.217]], dtype=float32), array([[11796.8955]], dtype=float32), array([[11842.414]], dtype=float32), array([[11916.396]], dtype=float32), array([[11999.919]], dtype=float32), array([[12076.241]], dtype=float32), array([[12191.005]], dtype=float32), array([[12224.103]], dtype=float32), array([[12260.357]], dtype=float32), array([[12259.641]], dtype=float32), array([[12259.519]], dtype=float32), array([[12343.824]], dtype=float32), array([[12281.783]], dtype=float32), array([[12344.973]], dtype=float32), array([[12363.559]], dtype=float32), array([[12481.89]], dtype=float32), array([[12537.956]], dtype=float32), array([[12555.467]], dtype=float32), array([[12601.015]], dtype=float32), array([[12670.975]], dtype=float32), array([[12769.176]], dtype=float32), array([[12792.684]], dtype=float32), array([[12869.228]], dtype=float32), array([[12986.108]], dtype=float32), array([[13173.98]], dtype=float32), array([[13268.594]], dtype=float32), array([[13391.745]], dtype=float32), array([[13517.295]], dtype=float32), array([[13675.98]], dtype=float32), array([[13805.622]], dtype=float32), array([[13888.098]], dtype=float32), array([[14031.134]], dtype=float32), array([[14167.235]], dtype=float32), array([[14334.107]], dtype=float32), array([[14464.38]], dtype=float32), array([[14609.939]], dtype=float32), array([[14754.052]], dtype=float32), array([[14883.731]], dtype=float32), array([[15014.559]], dtype=float32), array([[15133.49]], dtype=float32), array([[15263.67]], dtype=float32), array([[15381.635]], dtype=float32), array([[15506.889]], dtype=float32), array([[15625.012]], dtype=float32), array([[15758.807]], dtype=float32), array([[15873.147]], dtype=float32), array([[15983.021]], dtype=float32), array([[16081.855]], dtype=float32), array([[16182.1455]], dtype=float32), array([[16283.372]], dtype=float32), array([[16363.249]], dtype=float32), array([[16450.834]], dtype=float32), array([[16536.707]], dtype=float32), array([[16636.182]], dtype=float32), array([[16719.514]], dtype=float32), array([[16799.484]], dtype=float32), array([[16881.041]], dtype=float32), array([[16968.414]], dtype=float32), array([[17051.049]], dtype=float32), array([[17125.643]], dtype=float32), array([[17209.74]], dtype=float32), array([[17301.697]], dtype=float32), array([[17400.697]], dtype=float32), array([[17494.611]], dtype=float32), array([[17596.926]], dtype=float32), array([[17703.97]], dtype=float32), array([[17816.037]], dtype=float32), array([[17926.969]], dtype=float32), array([[18040.588]], dtype=float32), array([[18163.537]], dtype=float32), array([[18289.463]], dtype=float32), array([[18422.398]], dtype=float32), array([[18557.406]], dtype=float32), array([[18700.814]], dtype=float32), array([[18846.396]], dtype=float32), array([[18994.79]], dtype=float32), array([[19144.77]], dtype=float32), array([[19298.236]], dtype=float32), array([[19455.086]], dtype=float32), array([[19612.152]], dtype=float32), array([[19771.902]], dtype=float32), array([[19933.738]], dtype=float32), array([[20099.727]], dtype=float32), array([[20263.988]], dtype=float32), array([[20427.928]], dtype=float32), array([[20591.027]], dtype=float32), array([[20755.059]], dtype=float32), array([[20917.027]], dtype=float32), array([[21075.705]], dtype=float32), array([[21233.904]], dtype=float32), array([[21391.594]], dtype=float32), array([[21548.818]], dtype=float32), array([[21702.186]], dtype=float32), array([[21854.018]], dtype=float32), array([[22004.395]], dtype=float32), array([[22153.232]], dtype=float32), array([[22298.8]], dtype=float32), array([[22442.012]], dtype=float32), array([[22584.74]], dtype=float32), array([[22726.652]], dtype=float32), array([[22867.803]], dtype=float32), array([[23007.771]], dtype=float32), array([[23148.479]], dtype=float32), array([[23289.209]], dtype=float32), array([[23430.215]], dtype=float32), array([[23571.2]], dtype=float32), array([[23713.414]], dtype=float32), array([[23857.297]], dtype=float32), array([[24002.705]], dtype=float32), array([[24150.283]], dtype=float32), array([[24300.316]], dtype=float32), array([[24453.715]], dtype=float32), array([[24609.732]], dtype=float32), array([[24768.691]], dtype=float32), array([[24930.676]], dtype=float32), array([[25096.295]], dtype=float32), array([[25265.23]], dtype=float32), array([[25437.307]], dtype=float32), array([[25612.953]], dtype=float32), array([[25792.404]], dtype=float32), array([[25975.64]], dtype=float32), array([[26161.879]], dtype=float32), array([[26351.314]], dtype=float32), array([[26543.85]], dtype=float32), array([[26739.38]], dtype=float32), array([[26937.19]], dtype=float32), array([[27137.145]], dtype=float32), array([[27339.373]], dtype=float32), array([[27543.646]], dtype=float32), array([[27749.57]], dtype=float32), array([[27956.674]], dtype=float32), array([[28165.055]], dtype=float32), array([[28374.355]], dtype=float32), array([[28584.256]], dtype=float32), array([[28794.314]], dtype=float32), array([[29004.559]], dtype=float32), array([[29214.902]], dtype=float32), array([[29425.113]], dtype=float32), array([[29635.062]], dtype=float32), array([[29844.7]], dtype=float32), array([[30054.133]], dtype=float32), array([[30263.156]], dtype=float32), array([[30471.754]], dtype=float32), array([[30679.916]], dtype=float32), array([[30887.842]], dtype=float32), array([[31095.566]], dtype=float32), array([[31303.15]], dtype=float32), array([[31510.795]], dtype=float32), array([[31718.75]], dtype=float32), array([[31927.225]], dtype=float32), array([[32136.29]], dtype=float32), array([[32346.174]], dtype=float32), array([[32557.123]], dtype=float32), array([[32769.39]], dtype=float32), array([[32983.094]], dtype=float32), array([[33198.453]], dtype=float32), array([[33415.75]], dtype=float32), array([[33635.227]], dtype=float32), array([[33857.043]], dtype=float32), array([[34081.312]], dtype=float32), array([[34308.25]], dtype=float32), array([[34537.996]], dtype=float32), array([[34770.64]], dtype=float32), array([[35006.207]], dtype=float32), array([[35244.8]], dtype=float32), array([[35486.492]], dtype=float32), array([[35731.297]], dtype=float32), array([[35979.188]], dtype=float32), array([[36230.133]], dtype=float32), array([[36484.125]], dtype=float32), array([[36741.066]], dtype=float32), array([[37000.844]], dtype=float32), array([[37263.324]], dtype=float32), array([[37528.434]], dtype=float32), array([[37796.016]], dtype=float32), array([[38065.926]], dtype=float32), array([[38338.008]], dtype=float32), array([[38612.13]], dtype=float32), array([[38888.156]], dtype=float32), array([[39165.918]], dtype=float32), array([[39445.258]], dtype=float32), array([[39726.043]], dtype=float32), array([[40008.164]], dtype=float32), array([[40291.49]], dtype=float32), array([[40575.9]], dtype=float32), array([[40861.332]], dtype=float32), array([[41147.727]], dtype=float32), array([[41435.04]], dtype=float32), array([[41723.22]], dtype=float32), array([[42012.26]], dtype=float32), array([[42302.184]], dtype=float32), array([[42593.008]], dtype=float32), array([[42884.76]], dtype=float32), array([[43177.52]], dtype=float32), array([[43471.363]], dtype=float32), array([[43766.39]], dtype=float32), array([[44062.703]], dtype=float32), array([[44360.418]], dtype=float32), array([[44659.676]], dtype=float32), array([[44960.605]], dtype=float32), array([[45263.336]], dtype=float32), array([[45568.016]], dtype=float32), array([[45874.793]], dtype=float32), array([[46183.81]], dtype=float32), array([[46495.195]], dtype=float32), array([[46809.094]], dtype=float32), array([[47125.62]], dtype=float32), array([[47444.914]], dtype=float32), array([[47767.06]], dtype=float32), array([[48092.152]], dtype=float32), array([[48420.27]], dtype=float32), array([[48751.492]], dtype=float32), array([[49085.86]], dtype=float32), array([[49423.41]], dtype=float32), array([[49764.164]], dtype=float32), array([[50108.13]], dtype=float32), array([[50455.31]], dtype=float32), array([[50805.676]], dtype=float32), array([[51159.19]], dtype=float32), array([[51515.824]], dtype=float32), array([[51875.496]], dtype=float32), array([[52238.176]], dtype=float32), array([[52603.766]], dtype=float32), array([[52972.203]], dtype=float32), array([[53343.395]], dtype=float32), array([[53717.27]], dtype=float32), array([[54093.746]], dtype=float32), array([[54472.723]], dtype=float32), array([[54854.145]], dtype=float32), array([[55237.914]], dtype=float32), array([[55623.973]], dtype=float32), array([[56012.266]], dtype=float32), array([[56402.727]], dtype=float32), array([[56795.316]], dtype=float32), array([[57190.004]], dtype=float32), array([[57586.77]], dtype=float32), array([[57985.605]], dtype=float32), array([[58386.496]], dtype=float32), array([[58789.473]], dtype=float32), array([[59194.547]], dtype=float32), array([[59601.76]], dtype=float32), array([[60011.164]], dtype=float32), array([[60422.805]], dtype=float32), array([[60836.76]], dtype=float32), array([[61253.094]], dtype=float32), array([[61671.902]], dtype=float32), array([[62093.258]], dtype=float32), array([[62517.26]], dtype=float32), array([[62944.023]], dtype=float32), array([[63373.61]], dtype=float32), array([[63806.137]], dtype=float32), array([[64241.715]], dtype=float32), array([[64680.426]], dtype=float32), array([[65122.37]], dtype=float32), array([[65567.64]], dtype=float32), array([[66016.32]], dtype=float32), array([[66468.484]], dtype=float32), array([[66924.19]], dtype=float32), array([[67383.516]], dtype=float32), array([[67846.516]], dtype=float32), array([[68313.234]], dtype=float32), array([[68783.71]], dtype=float32), array([[69257.98]], dtype=float32), array([[69736.04]], dtype=float32), array([[70217.92]], dtype=float32), array([[70703.61]], dtype=float32), array([[71193.11]], dtype=float32), array([[71686.4]], dtype=float32), array([[72183.47]], dtype=float32), array([[72684.3]], dtype=float32), array([[73188.836]], dtype=float32), array([[73697.06]], dtype=float32), array([[74208.95]], dtype=float32), array([[74724.45]], dtype=float32), array([[75243.54]], dtype=float32), array([[75766.164]], dtype=float32), array([[76292.3]], dtype=float32), array([[76821.89]], dtype=float32), array([[77354.945]], dtype=float32), array([[77891.414]], dtype=float32), array([[78431.28]], dtype=float32), array([[78974.55]], dtype=float32), array([[79521.19]], dtype=float32), array([[80071.2]], dtype=float32), array([[80624.6]], dtype=float32), array([[81181.414]], dtype=float32), array([[81741.65]], dtype=float32), array([[82305.31]], dtype=float32), array([[82872.47]], dtype=float32), array([[83443.16]], dtype=float32), array([[84017.414]], dtype=float32), array([[84595.31]], dtype=float32), array([[85176.89]], dtype=float32), array([[85762.23]], dtype=float32), array([[86351.39]], dtype=float32), array([[86944.45]], dtype=float32), array([[87541.48]], dtype=float32), array([[88142.54]], dtype=float32), array([[88747.734]], dtype=float32), array([[89357.12]], dtype=float32), array([[89970.8]], dtype=float32), array([[90588.805]], dtype=float32), array([[91211.266]], dtype=float32), array([[91838.195]], dtype=float32), array([[92469.67]], dtype=float32), array([[93105.77]], dtype=float32), array([[93746.55]], dtype=float32), array([[94392.05]], dtype=float32), array([[95042.32]], dtype=float32), array([[95697.4]], dtype=float32), array([[96357.336]], dtype=float32), array([[97022.14]], dtype=float32), array([[97691.86]], dtype=float32), array([[98366.49]], dtype=float32), array([[99046.06]], dtype=float32), array([[99730.586]], dtype=float32), array([[100420.07]], dtype=float32), array([[101114.5]], dtype=float32), array([[101813.91]], dtype=float32), array([[102518.26]], dtype=float32), array([[103227.58]], dtype=float32), array([[103941.84]], dtype=float32), array([[104661.08]], dtype=float32), array([[105385.25]], dtype=float32), array([[106114.36]], dtype=float32), array([[106848.41]], dtype=float32), array([[107587.41]], dtype=float32), array([[108331.34]], dtype=float32), array([[109080.24]], dtype=float32), array([[109834.12]], dtype=float32), array([[110592.95]], dtype=float32), array([[111356.8]], dtype=float32), array([[112125.664]], dtype=float32), array([[112899.56]], dtype=float32), array([[113678.58]], dtype=float32), array([[114462.69]], dtype=float32), array([[115251.98]], dtype=float32), array([[116046.46]], dtype=float32), array([[116846.195]], dtype=float32), array([[117651.234]], dtype=float32), array([[118461.66]], dtype=float32), array([[119277.49]], dtype=float32), array([[120098.82]], dtype=float32), array([[120925.7]], dtype=float32), array([[121758.2]], dtype=float32), array([[122596.39]], dtype=float32), array([[123440.35]], dtype=float32), array([[124290.15]], dtype=float32), array([[125145.84]], dtype=float32), array([[126007.5]], dtype=float32), array([[126875.2]], dtype=float32), array([[127749.]], dtype=float32), array([[128628.97]], dtype=float32), array([[129515.15]], dtype=float32), array([[130407.61]], dtype=float32), array([[131306.42]], dtype=float32), array([[132211.64]], dtype=float32), array([[133123.28]], dtype=float32), array([[134041.4]], dtype=float32), array([[134966.06]], dtype=float32), array([[135897.31]], dtype=float32), array([[136835.17]], dtype=float32), array([[137779.69]], dtype=float32), array([[138730.86]], dtype=float32), array([[139688.77]], dtype=float32), array([[140653.38]], dtype=float32), array([[141624.78]], dtype=float32), array([[142602.95]], dtype=float32), array([[143587.92]], dtype=float32), array([[144579.77]], dtype=float32), array([[145578.44]], dtype=float32), array([[146584.02]], dtype=float32), array([[147596.5]], dtype=float32), array([[148615.92]], dtype=float32), array([[149642.3]], dtype=float32), array([[150675.69]], dtype=float32), array([[151716.08]], dtype=float32), array([[152763.53]], dtype=float32), array([[153818.06]], dtype=float32), array([[154879.75]], dtype=float32), array([[155948.6]], dtype=float32), array([[157024.67]], dtype=float32), array([[158108.]], dtype=float32), array([[159198.67]], dtype=float32), array([[160296.69]], dtype=float32), array([[161402.12]], dtype=float32), array([[162515.08]], dtype=float32), array([[163635.56]], dtype=float32), array([[164763.66]], dtype=float32), array([[165899.44]], dtype=float32), array([[167042.95]], dtype=float32), array([[168194.28]], dtype=float32), array([[169353.5]], dtype=float32), array([[170520.7]], dtype=float32), array([[171695.92]], dtype=float32), array([[172879.28]], dtype=float32), array([[174070.8]], dtype=float32), array([[175270.56]], dtype=float32), array([[176478.67]], dtype=float32), array([[177695.16]], dtype=float32), array([[178920.17]], dtype=float32), array([[180153.67]], dtype=float32), array([[181395.8]], dtype=float32), array([[182646.6]], dtype=float32), array([[183906.16]], dtype=float32), array([[185174.55]], dtype=float32), array([[186451.78]], dtype=float32), array([[187737.95]], dtype=float32)]\n",
     "output_type": "stream"
    }
   ],
   "execution_count": null
  },
  {
   "cell_type": "code",
   "metadata": {
    "tags": [],
    "cell_id": "00010-eddb8db6-d92f-4caf-bfa1-15ffcb497046",
    "deepnote_to_be_reexecuted": false,
    "source_hash": "afbc1cc8",
    "execution_start": 1632688160324,
    "execution_millis": 438,
    "deepnote_cell_type": "code"
   },
   "source": "# Attempt to use only new predicted values in the 40 day time window, instead of actual values.\n\nresults = np.array(fore)[:, 0, 0]\n\nplt.figure(figsize=(10, 6))\n\ndays_to_show = 281\n\nplot_series(time_test[:days_to_show], price_test[:days_to_show])\nplot_series(time_test[:days_to_show], results[:days_to_show])\n\ntf.keras.metrics.mean_absolute_error(price_test, results).numpy()",
   "outputs": [
    {
     "output_type": "execute_result",
     "execution_count": 15,
     "data": {
      "text/plain": "30579.895"
     },
     "metadata": {}
    },
    {
     "data": {
      "text/plain": "<Figure size 720x432 with 1 Axes>",
      "image/png": "[encoded data removed]"
     },
     "metadata": {
      "needs_background": "light",
      "image/png": {
       "width": 624,
       "height": 371
      }
     },
     "output_type": "display_data"
    }
   ],
   "execution_count": null
  },
  {
   "cell_type": "code",
   "metadata": {
    "tags": [],
    "cell_id": "00009-ccbe00c0-7390-4534-8ae5-60ddd762f361",
    "deepnote_to_be_reexecuted": false,
    "source_hash": "100100d9",
    "execution_start": 1632688160765,
    "execution_millis": 132,
    "deepnote_cell_type": "code"
   },
   "source": "l = [1,2,3,4,5]\nl[2]",
   "outputs": [
    {
     "output_type": "execute_result",
     "execution_count": 16,
     "data": {
      "text/plain": "3"
     },
     "metadata": {}
    }
   ],
   "execution_count": null
  },
  {
   "cell_type": "markdown",
   "source": "<a style='text-decoration:none;line-height:16px;display:flex;color:#5B5B62;padding:10px;justify-content:end;' href='https://deepnote.com?utm_source=created-in-deepnote-cell&projectId=465bb6a2-b771-4fe2-b2d2-aed723f7eb7d' target=\"_blank\">\n<img alt='Created in deepnote.com' style='display:inline;max-height:16px;margin:0px;margin-right:7.5px;' src='data:image/svg+xml;base64,PD94bWwgdmVyc2lvbj0iMS4wIiBlbmNvZGluZz0iVVRGLTgiPz4KPHN2ZyB3aWR0aD0iODBweCIgaGVpZ2h0PSI4MHB4IiB2aWV3Qm94PSIwIDAgODAgODAiIHZlcnNpb249IjEuMSIgeG1sbnM9Imh0dHA6Ly93d3cudzMub3JnLzIwMDAvc3ZnIiB4bWxuczp4bGluaz0iaHR0cDovL3d3dy53My5vcmcvMTk5OS94bGluayI+CiAgICA8IS0tIEdlbmVyYXRvcjogU2tldGNoIDU0LjEgKDc2NDkwKSAtIGh0dHBzOi8vc2tldGNoYXBwLmNvbSAtLT4KICAgIDx0aXRsZT5Hcm91cCAzPC90aXRsZT4KICAgIDxkZXNjPkNyZWF0ZWQgd2l0aCBTa2V0Y2guPC9kZXNjPgogICAgPGcgaWQ9IkxhbmRpbmciIHN0cm9rZT0ibm9uZSIgc3Ryb2tlLXdpZHRoPSIxIiBmaWxsPSJub25lIiBmaWxsLXJ1bGU9ImV2ZW5vZGQiPgogICAgICAgIDxnIGlkPSJBcnRib2FyZCIgdHJhbnNmb3JtPSJ0cmFuc2xhdGUoLTEyMzUuMDAwMDAwLCAtNzkuMDAwMDAwKSI+CiAgICAgICAgICAgIDxnIGlkPSJHcm91cC0zIiB0cmFuc2Zvcm09InRyYW5zbGF0ZSgxMjM1LjAwMDAwMCwgNzkuMDAwMDAwKSI+CiAgICAgICAgICAgICAgICA8cG9seWdvbiBpZD0iUGF0aC0yMCIgZmlsbD0iIzAyNjVCNCIgcG9pbnRzPSIyLjM3NjIzNzYyIDgwIDM4LjA0NzY2NjcgODAgNTcuODIxNzgyMiA3My44MDU3NTkyIDU3LjgyMTc4MjIgMzIuNzU5MjczOSAzOS4xNDAyMjc4IDMxLjY4MzE2ODMiPjwvcG9seWdvbj4KICAgICAgICAgICAgICAgIDxwYXRoIGQ9Ik0zNS4wMDc3MTgsODAgQzQyLjkwNjIwMDcsNzYuNDU0OTM1OCA0Ny41NjQ5MTY3LDcxLjU0MjI2NzEgNDguOTgzODY2LDY1LjI2MTk5MzkgQzUxLjExMjI4OTksNTUuODQxNTg0MiA0MS42NzcxNzk1LDQ5LjIxMjIyODQgMjUuNjIzOTg0Niw0OS4yMTIyMjg0IEMyNS40ODQ5Mjg5LDQ5LjEyNjg0NDggMjkuODI2MTI5Niw0My4yODM4MjQ4IDM4LjY0NzU4NjksMzEuNjgzMTY4MyBMNzIuODcxMjg3MSwzMi41NTQ0MjUgTDY1LjI4MDk3Myw2Ny42NzYzNDIxIEw1MS4xMTIyODk5LDc3LjM3NjE0NCBMMzUuMDA3NzE4LDgwIFoiIGlkPSJQYXRoLTIyIiBmaWxsPSIjMDAyODY4Ij48L3BhdGg+CiAgICAgICAgICAgICAgICA8cGF0aCBkPSJNMCwzNy43MzA0NDA1IEwyNy4xMTQ1MzcsMC4yNTcxMTE0MzYgQzYyLjM3MTUxMjMsLTEuOTkwNzE3MDEgODAsMTAuNTAwMzkyNyA4MCwzNy43MzA0NDA1IEM4MCw2NC45NjA0ODgyIDY0Ljc3NjUwMzgsNzkuMDUwMzQxNCAzNC4zMjk1MTEzLDgwIEM0Ny4wNTUzNDg5LDc3LjU2NzA4MDggNTMuNDE4MjY3Nyw3MC4zMTM2MTAzIDUzLjQxODI2NzcsNTguMjM5NTg4NSBDNTMuNDE4MjY3Nyw0MC4xMjg1NTU3IDM2LjMwMzk1NDQsMzcuNzMwNDQwNSAyNS4yMjc0MTcsMzcuNzMwNDQwNSBDMTcuODQzMDU4NiwzNy43MzA0NDA1IDkuNDMzOTE5NjYsMzcuNzMwNDQwNSAwLDM3LjczMDQ0MDUgWiIgaWQ9IlBhdGgtMTkiIGZpbGw9IiMzNzkzRUYiPjwvcGF0aD4KICAgICAgICAgICAgPC9nPgogICAgICAgIDwvZz4KICAgIDwvZz4KPC9zdmc+' > </img>\nCreated in <span style='font-weight:600;margin-left:4px;'>Deepnote</span></a>",
   "metadata": {
    "tags": [],
    "created_in_deepnote_cell": true,
    "deepnote_cell_type": "markdown"
   }
  }
 ],
 "nbformat": 4,
 "nbformat_minor": 2,
 "metadata": {
  "orig_nbformat": 2,
  "deepnote": {
   "is_reactive": false
  },
  "deepnote_notebook_id": "338b02c1-cb72-4ae0-bb77-896af0655617",
  "deepnote_execution_queue": []
 }
}